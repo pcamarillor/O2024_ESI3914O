{
  "nbformat": 4,
  "nbformat_minor": 0,
  "metadata": {
    "colab": {
      "provenance": []
    },
    "kernelspec": {
      "name": "python3",
      "display_name": "Python 3"
    },
    "language_info": {
      "name": "python"
    }
  },
  "cells": [
    {
      "cell_type": "code",
      "execution_count": null,
      "metadata": {
        "id": "1c4B7_iq8Kyf",
        "colab": {
          "base_uri": "https://localhost:8080/"
        },
        "outputId": "51fc4eb1-ad81-49d6-8b92-2a9d17ba01e7"
      },
      "outputs": [
        {
          "output_type": "stream",
          "name": "stdout",
          "text": [
            "Hit:1 http://archive.ubuntu.com/ubuntu jammy InRelease\n",
            "Get:2 http://archive.ubuntu.com/ubuntu jammy-updates InRelease [128 kB]\n",
            "Get:3 http://archive.ubuntu.com/ubuntu jammy-backports InRelease [127 kB]\n",
            "Get:4 http://security.ubuntu.com/ubuntu jammy-security InRelease [129 kB]\n",
            "Get:5 https://cloud.r-project.org/bin/linux/ubuntu jammy-cran40/ InRelease [3,626 B]\n",
            "Hit:6 https://developer.download.nvidia.com/compute/cuda/repos/ubuntu2204/x86_64  InRelease\n",
            "Ign:7 https://r2u.stat.illinois.edu/ubuntu jammy InRelease\n",
            "Get:8 https://r2u.stat.illinois.edu/ubuntu jammy Release [5,713 B]\n",
            "Get:9 https://r2u.stat.illinois.edu/ubuntu jammy Release.gpg [793 B]\n",
            "Hit:10 https://ppa.launchpadcontent.net/deadsnakes/ppa/ubuntu jammy InRelease\n",
            "Hit:11 https://ppa.launchpadcontent.net/graphics-drivers/ppa/ubuntu jammy InRelease\n",
            "Hit:12 https://ppa.launchpadcontent.net/ubuntugis/ppa/ubuntu jammy InRelease\n",
            "Get:13 http://archive.ubuntu.com/ubuntu jammy-updates/main amd64 Packages [2,541 kB]\n",
            "Get:14 http://archive.ubuntu.com/ubuntu jammy-updates/restricted amd64 Packages [3,108 kB]\n",
            "Get:15 http://archive.ubuntu.com/ubuntu jammy-updates/universe amd64 Packages [1,439 kB]\n",
            "Get:16 http://archive.ubuntu.com/ubuntu jammy-backports/universe amd64 Packages [33.7 kB]\n",
            "Get:17 https://r2u.stat.illinois.edu/ubuntu jammy/main all Packages [8,311 kB]\n",
            "Get:18 http://security.ubuntu.com/ubuntu jammy-security/main amd64 Packages [2,267 kB]\n",
            "Get:19 https://r2u.stat.illinois.edu/ubuntu jammy/main amd64 Packages [2,576 kB]\n",
            "Get:20 http://security.ubuntu.com/ubuntu jammy-security/universe amd64 Packages [1,150 kB]\n",
            "Get:21 http://security.ubuntu.com/ubuntu jammy-security/restricted amd64 Packages [3,030 kB]\n",
            "Fetched 24.9 MB in 5s (4,587 kB/s)\n",
            "Reading package lists... Done\n",
            "Building dependency tree... Done\n",
            "Reading state information... Done\n",
            "51 packages can be upgraded. Run 'apt list --upgradable' to see them.\n",
            "\u001b[1;33mW: \u001b[0mSkipping acquire of configured file 'main/source/Sources' as repository 'https://r2u.stat.illinois.edu/ubuntu jammy InRelease' does not seem to provide it (sources.list entry misspelt?)\u001b[0m\n",
            "Collecting pyspark\n",
            "  Downloading pyspark-3.5.2.tar.gz (317.3 MB)\n",
            "\u001b[2K     \u001b[90m━━━━━━━━━━━━━━━━━━━━━━━━━━━━━━━━━━━━━━━━\u001b[0m \u001b[32m317.3/317.3 MB\u001b[0m \u001b[31m2.3 MB/s\u001b[0m eta \u001b[36m0:00:00\u001b[0m\n",
            "\u001b[?25h  Preparing metadata (setup.py) ... \u001b[?25l\u001b[?25hdone\n",
            "Requirement already satisfied: py4j==0.10.9.7 in /usr/local/lib/python3.10/dist-packages (from pyspark) (0.10.9.7)\n",
            "Building wheels for collected packages: pyspark\n",
            "  Building wheel for pyspark (setup.py) ... \u001b[?25l\u001b[?25hdone\n",
            "  Created wheel for pyspark: filename=pyspark-3.5.2-py2.py3-none-any.whl size=317812365 sha256=5606b449606f3f4034025eddf2f8576604b4384c361f3631cb8d96788ffc2f65\n",
            "  Stored in directory: /root/.cache/pip/wheels/34/34/bd/03944534c44b677cd5859f248090daa9fb27b3c8f8e5f49574\n",
            "Successfully built pyspark\n",
            "Installing collected packages: pyspark\n",
            "Successfully installed pyspark-3.5.2\n",
            "Requirement already satisfied: py4j in /usr/local/lib/python3.10/dist-packages (0.10.9.7)\n"
          ]
        }
      ],
      "source": [
        "!sudo apt update\n",
        "!apt-get install openjdk-8-jdk-headless -qq > /dev/null\n",
        "# Check this site for the latest download link\n",
        "# https://www.apache.org/dyn/closer.lua/spark\n",
        "!wget -q https://dlcdn.apache.org/spark/spark-3.5.2/spark-3.5.2-bin-hadoop3.tgz\n",
        "!tar xf spark-3.5.2-bin-hadoop3.tgz\n",
        "!pip install -q findspark\n",
        "!pip install pyspark\n",
        "!pip install py4j"
      ]
    },
    {
      "cell_type": "code",
      "source": [
        "from google.colab import drive\n",
        "drive.mount('/content/drive')"
      ],
      "metadata": {
        "colab": {
          "base_uri": "https://localhost:8080/"
        },
        "id": "1hJX-QHV_7-_",
        "outputId": "bcb032f3-d3f4-4e1e-c6a9-50ff88b2a911"
      },
      "execution_count": null,
      "outputs": [
        {
          "output_type": "stream",
          "name": "stdout",
          "text": [
            "Mounted at /content/drive\n"
          ]
        }
      ]
    },
    {
      "cell_type": "code",
      "source": [
        "# Spark context\n",
        "from pyspark.sql import SparkSession\n",
        "from pyspark.sql.types import StructType, StructField, IntegerType, StringType, FloatType\n",
        "from pyspark.sql import Row\n",
        "from pyspark.sql.functions import to_date, when, col, lit, concat, year, month, when, avg\n",
        "\n",
        "\n",
        "spark = SparkSession.builder.appName(\"Lab 04; Movies\").getOrCreate()\n",
        "\n",
        "# Initialize Spark session\n",
        "df = spark.read \\\n",
        "    .option(\"inferSchema\", \"true\") \\\n",
        "    .json(\"/content/drive/MyDrive/movies.json\") \\\n",
        "\n",
        "# Show the updated DataFrame with the correct 'order_date' column\n",
        "#df.show()\n",
        "\n",
        "# Print the schema to verify the new 'order_date' column is of DateType\n",
        "df.printSchema()\n"
      ],
      "metadata": {
        "id": "netmwgUn9FSJ",
        "outputId": "43fae9e6-e8ef-4016-d68a-a87a77bc2983",
        "colab": {
          "base_uri": "https://localhost:8080/"
        }
      },
      "execution_count": 65,
      "outputs": [
        {
          "output_type": "stream",
          "name": "stdout",
          "text": [
            "root\n",
            " |-- Creative_Type: string (nullable = true)\n",
            " |-- Director: string (nullable = true)\n",
            " |-- Distributor: string (nullable = true)\n",
            " |-- IMDB_Rating: double (nullable = true)\n",
            " |-- IMDB_Votes: long (nullable = true)\n",
            " |-- MPAA_Rating: string (nullable = true)\n",
            " |-- Major_Genre: string (nullable = true)\n",
            " |-- Production_Budget: long (nullable = true)\n",
            " |-- Release_Date: string (nullable = true)\n",
            " |-- Rotten_Tomatoes_Rating: long (nullable = true)\n",
            " |-- Running_Time_min: long (nullable = true)\n",
            " |-- Source: string (nullable = true)\n",
            " |-- Title: string (nullable = true)\n",
            " |-- US_DVD_Sales: long (nullable = true)\n",
            " |-- US_Gross: long (nullable = true)\n",
            " |-- Worldwide_Gross: long (nullable = true)\n",
            "\n"
          ]
        }
      ]
    },
    {
      "cell_type": "code",
      "source": [
        "\"\"\"\n",
        "Calculate Profit Margin: Compute the profit margin for each movie\n",
        "by subtracting the Production Budget from the Worldwide Gross\n",
        "and then dividing by the Production Budget\n",
        "\"\"\"\n",
        "\n",
        "df_movies_1 = df.withColumn('profit_margin', \\\n",
        "                    (df['Production_Budget'] - df[\"Worldwide_Gross\"]) / df['Production_Budget'] ) \\\n",
        "                    .select(df['Title'], df['Production_Budget'], df[\"Worldwide_Gross\"], 'profit_margin')\n",
        "\n",
        "df_movies_1.show()"
      ],
      "metadata": {
        "id": "653Ea44M8jaY",
        "colab": {
          "base_uri": "https://localhost:8080/"
        },
        "outputId": "8e67182a-521b-4b24-e691-d87dbd57d1fe"
      },
      "execution_count": 66,
      "outputs": [
        {
          "output_type": "stream",
          "name": "stdout",
          "text": [
            "+--------------------+-----------------+---------------+--------------------+\n",
            "|               Title|Production_Budget|Worldwide_Gross|       profit_margin|\n",
            "+--------------------+-----------------+---------------+--------------------+\n",
            "|      The Land Girls|          8000000|         146083|         0.981739625|\n",
            "|First Love, Last ...|           300000|          10876|  0.9637466666666666|\n",
            "|I Married a Stran...|           250000|         203134|            0.187464|\n",
            "|Let's Talk About Sex|           300000|         373615|-0.24538333333333334|\n",
            "|                Slam|          1000000|        1087521|           -0.087521|\n",
            "| Mississippi Mermaid|          1600000|        2624551|        -0.640344375|\n",
            "|           Following|             6000|          44705|  -6.450833333333334|\n",
            "|             Foolish|          1600000|        6026908|          -2.7668175|\n",
            "|             Pirates|         40000000|        6341825|         0.841454375|\n",
            "|     Duel in the Sun|          6000000|       20400000|                -2.4|\n",
            "|           Tom Jones|          1000000|       37600000|               -36.6|\n",
            "|             Oliver!|         10000000|       37402877|          -2.7402877|\n",
            "|To Kill A Mocking...|          2000000|       13129846|           -5.564923|\n",
            "|    Tora, Tora, Tora|         25000000|       29548291|         -0.18193164|\n",
            "|   Hollywood Shuffle|           100000|        5228617|           -51.28617|\n",
            "|Over the Hill to ...|           100000|        3000000|               -29.0|\n",
            "|              Wilson|          5200000|        2000000|  0.6153846153846154|\n",
            "|        Darling Lili|         22000000|        5000000|  0.7727272727272727|\n",
            "|The Ten Commandments|         13500000|       80000000|  -4.925925925925926|\n",
            "|        12 Angry Men|           340000|              0|                 1.0|\n",
            "+--------------------+-----------------+---------------+--------------------+\n",
            "only showing top 20 rows\n",
            "\n"
          ]
        }
      ]
    },
    {
      "cell_type": "code",
      "source": [
        "\"\"\"\n",
        "Determine if a Movie is a Box Office Hit: Create a column\n",
        "Box Office Hit that categorizes movies as ”Hit” if\n",
        "Worldwide Gross is greater than twice the Production Budget,\n",
        "and ”Flop” otherwise.\n",
        "\"\"\"\n",
        "\n",
        "movies_df = df.withColumn(\n",
        "    \"Box Office Hit\",\n",
        "    when(col(\"Worldwide_Gross\") > (2 * col(\"Production_Budget\")), \"Hit\").otherwise(\"Flop\")\n",
        ")\n",
        "\n",
        "movies_df.select(\"Title\", \"Worldwide_Gross\", \"Production_Budget\", \"Box Office Hit\").show()"
      ],
      "metadata": {
        "id": "1cWkZJ8g81kt",
        "colab": {
          "base_uri": "https://localhost:8080/"
        },
        "outputId": "0702c01b-bd29-4372-d9f5-392e1f05a5c4"
      },
      "execution_count": 67,
      "outputs": [
        {
          "output_type": "stream",
          "name": "stdout",
          "text": [
            "+--------------------+---------------+-----------------+--------------+\n",
            "|               Title|Worldwide_Gross|Production_Budget|Box Office Hit|\n",
            "+--------------------+---------------+-----------------+--------------+\n",
            "|      The Land Girls|         146083|          8000000|          Flop|\n",
            "|First Love, Last ...|          10876|           300000|          Flop|\n",
            "|I Married a Stran...|         203134|           250000|          Flop|\n",
            "|Let's Talk About Sex|         373615|           300000|          Flop|\n",
            "|                Slam|        1087521|          1000000|          Flop|\n",
            "| Mississippi Mermaid|        2624551|          1600000|          Flop|\n",
            "|           Following|          44705|             6000|           Hit|\n",
            "|             Foolish|        6026908|          1600000|           Hit|\n",
            "|             Pirates|        6341825|         40000000|          Flop|\n",
            "|     Duel in the Sun|       20400000|          6000000|           Hit|\n",
            "|           Tom Jones|       37600000|          1000000|           Hit|\n",
            "|             Oliver!|       37402877|         10000000|           Hit|\n",
            "|To Kill A Mocking...|       13129846|          2000000|           Hit|\n",
            "|    Tora, Tora, Tora|       29548291|         25000000|          Flop|\n",
            "|   Hollywood Shuffle|        5228617|           100000|           Hit|\n",
            "|Over the Hill to ...|        3000000|           100000|           Hit|\n",
            "|              Wilson|        2000000|          5200000|          Flop|\n",
            "|        Darling Lili|        5000000|         22000000|          Flop|\n",
            "|The Ten Commandments|       80000000|         13500000|           Hit|\n",
            "|        12 Angry Men|              0|           340000|          Flop|\n",
            "+--------------------+---------------+-----------------+--------------+\n",
            "only showing top 20 rows\n",
            "\n"
          ]
        }
      ]
    },
    {
      "cell_type": "code",
      "source": [
        "\"\"\"\n",
        "Convert Release Date to a Standard Format: Convert the\n",
        "Release Date from DD-MMM-YY to a DateType column and\n",
        "extract the year in a new column.\n",
        "\"\"\"\n",
        "\n",
        "## We format the release date\n",
        "df = df.withColumn('Release_Date_Format',\n",
        "          when(col('Release_Date').rlike(\"^\\d{4}-\\d{2}-\\d{2}$\"), to_date(col('Release_Date'), 'yyyy-MM-dd'))\n",
        "          .when(col('Release_Date').rlike(\"^\\d{2}/\\d{2}/\\d{4}$\"), to_date(col('Release_Date'), 'MM/dd/yyyy)'))\n",
        "          .when(col(\"Release_Date\").rlike(r'^[0-9]{2}-[A-Za-z]{3}-[0-9]{2}$'), to_date(col(\"Release_Date\"), \"dd-MMM-yy\"))\n",
        "          .when(col(\"Release_Date\").rlike(r'^[0-9]{1}-[A-Za-z]{3}-[0-9]{2}$'), to_date(col(\"Release_Date\"), \"d-MMM-yy\"))\n",
        "          .otherwise(None) # Handle unexpected formats with None\n",
        "      )\n",
        "\n",
        "## We extract the year from the release year\n",
        "df = df.withColumn('Release_Year',\n",
        "                   when(year(df['Release_Date_Format']) > 2000, year(df['Release_Date_Format']) - 100)\n",
        "                  .otherwise(year(df['Release_Date_Format']))\n",
        "          )\n",
        "\n",
        "\n",
        "df.select('Title', 'Release_Date', 'Release_Date_Format', 'Release_Year').show()\n"
      ],
      "metadata": {
        "id": "ME91dEpO84D1",
        "colab": {
          "base_uri": "https://localhost:8080/"
        },
        "outputId": "e898ccda-b251-4577-e2a3-7780c273bb41"
      },
      "execution_count": 68,
      "outputs": [
        {
          "output_type": "stream",
          "name": "stdout",
          "text": [
            "+--------------------+------------+-------------------+------------+\n",
            "|               Title|Release_Date|Release_Date_Format|Release_Year|\n",
            "+--------------------+------------+-------------------+------------+\n",
            "|      The Land Girls|   12-Jun-98|         2098-06-12|        1998|\n",
            "|First Love, Last ...|    7-Aug-98|         2098-08-07|        1998|\n",
            "|I Married a Stran...|   28-Aug-98|         2098-08-28|        1998|\n",
            "|Let's Talk About Sex|   11-Sep-98|         2098-09-11|        1998|\n",
            "|                Slam|    9-Oct-98|         2098-10-09|        1998|\n",
            "| Mississippi Mermaid|   15-Jan-99|         2099-01-15|        1999|\n",
            "|           Following|    4-Apr-99|         2099-04-04|        1999|\n",
            "|             Foolish|    9-Apr-99|         2099-04-09|        1999|\n",
            "|             Pirates|    1-Jul-86|         2086-07-01|        1986|\n",
            "|     Duel in the Sun|   31-Dec-46|         2046-12-31|        1946|\n",
            "|           Tom Jones|    7-Oct-63|         2063-10-07|        1963|\n",
            "|             Oliver!|   11-Dec-68|         2068-12-11|        1968|\n",
            "|To Kill A Mocking...|   25-Dec-62|         2062-12-25|        1962|\n",
            "|    Tora, Tora, Tora|   23-Sep-70|         2070-09-23|        1970|\n",
            "|   Hollywood Shuffle|    1-Mar-87|         2087-03-01|        1987|\n",
            "|Over the Hill to ...|   17-Sep-20|         2020-09-17|        1920|\n",
            "|              Wilson|    1-Aug-44|         2044-08-01|        1944|\n",
            "|        Darling Lili|    1-Jan-70|         2070-01-01|        1970|\n",
            "|The Ten Commandments|    5-Oct-56|         2056-10-05|        1956|\n",
            "|        12 Angry Men|   13-Apr-57|         2057-04-13|        1957|\n",
            "+--------------------+------------+-------------------+------------+\n",
            "only showing top 20 rows\n",
            "\n"
          ]
        }
      ]
    },
    {
      "cell_type": "code",
      "source": [
        "#Create a new column: IMDB Rating Category to categorize movies\n",
        "#based on their IMDB Rating: ”High” if the rating is 7.0 or above,\n",
        "#\"Medium” if between 5.0 and 6.9, and ”Low” if below 5.0.\n",
        "\n",
        "df_movies = df.withColumn(\n",
        "    \"IMDB_Rating_Category\",\n",
        "    when(df.IMDB_Rating >= 7.0, \"High\")\n",
        "    .when((df.IMDB_Rating >= 5.0) & (df.IMDB_Rating < 7.0), \"Medium\")\n",
        "    .otherwise(\"Low\")\n",
        ")\n",
        "\n",
        "df_selected = df_movies.select(\"IMDB_Rating_Category\")\n",
        "df_selected.show()\n"
      ],
      "metadata": {
        "id": "EvK_KzTs88m7",
        "colab": {
          "base_uri": "https://localhost:8080/"
        },
        "outputId": "ab6bd47e-fac2-42cf-ebe8-7018a55d6b1e"
      },
      "execution_count": 69,
      "outputs": [
        {
          "output_type": "stream",
          "name": "stdout",
          "text": [
            "+--------------------+\n",
            "|IMDB_Rating_Category|\n",
            "+--------------------+\n",
            "|              Medium|\n",
            "|              Medium|\n",
            "|              Medium|\n",
            "|                 Low|\n",
            "|                 Low|\n",
            "|                 Low|\n",
            "|                High|\n",
            "|                 Low|\n",
            "|              Medium|\n",
            "|                High|\n",
            "|                High|\n",
            "|                High|\n",
            "|                High|\n",
            "|                 Low|\n",
            "|              Medium|\n",
            "|                 Low|\n",
            "|                High|\n",
            "|              Medium|\n",
            "|                 Low|\n",
            "|                High|\n",
            "+--------------------+\n",
            "only showing top 20 rows\n",
            "\n"
          ]
        }
      ]
    },
    {
      "cell_type": "code",
      "source": [
        "\n",
        "\"\"\"\n",
        "Calculate Average IMDB Rating for Each Distributor: Calculate the\n",
        "average IMDB Rating for each Distributor and create a new\n",
        "DataFrame with this information.\n",
        "\"\"\"\n",
        "\n",
        "average_imbd_rating = df \\\n",
        "                      .groupBy('Distributor') \\\n",
        "                      .agg(avg('IMDB_Rating')) \\\n",
        "                      .withColumnRenamed('avg(IMDB_Rating)', 'Average_IMDB_Rating') \\\n",
        "\n",
        "average_imbd_rating.show()\n"
      ],
      "metadata": {
        "id": "T_OnV1R08-a_",
        "colab": {
          "base_uri": "https://localhost:8080/"
        },
        "outputId": "dbca7fd9-f705-49db-e8c8-0388cbb47601"
      },
      "execution_count": 70,
      "outputs": [
        {
          "output_type": "stream",
          "name": "stdout",
          "text": [
            "+--------------------+-------------------+\n",
            "|         Distributor|Average_IMDB_Rating|\n",
            "+--------------------+-------------------+\n",
            "|Oscilloscope Pict...|                6.2|\n",
            "|               Savoy|  6.533333333333334|\n",
            "|             Embassy|               NULL|\n",
            "|         Fader Films|                6.5|\n",
            "|       October Films|                6.4|\n",
            "|              Strand|  6.322222222222223|\n",
            "|             Trimark|  5.085714285714286|\n",
            "|              Matson|                7.3|\n",
            "|      Cinema Service|                7.1|\n",
            "| Weinstein/Dimension| 5.7250000000000005|\n",
            "|Providence Entert...|                3.3|\n",
            "|      Big Fat Movies|                3.2|\n",
            "|     Newmarket Films| 7.4142857142857155|\n",
            "|    First Run/Icarus|               NULL|\n",
            "|  Cloud Ten Pictures|                5.0|\n",
            "|   Outrider Pictures|                7.0|\n",
            "|     Slowhand Cinema|                5.3|\n",
            "|   Paramount Vantage|                7.2|\n",
            "|   Magnolia Pictures|             6.4625|\n",
            "|  Kino International| 6.0200000000000005|\n",
            "+--------------------+-------------------+\n",
            "only showing top 20 rows\n",
            "\n"
          ]
        }
      ]
    }
  ]
}