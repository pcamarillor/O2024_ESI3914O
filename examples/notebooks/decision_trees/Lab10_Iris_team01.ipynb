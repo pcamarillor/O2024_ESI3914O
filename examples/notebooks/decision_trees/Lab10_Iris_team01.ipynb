{
  "nbformat": 4,
  "nbformat_minor": 0,
  "metadata": {
    "colab": {
      "provenance": []
    },
    "kernelspec": {
      "name": "python3",
      "display_name": "Python 3"
    },
    "language_info": {
      "name": "python"
    }
  },
  "cells": [
    {
      "cell_type": "code",
      "execution_count": 1,
      "metadata": {
        "colab": {
          "base_uri": "https://localhost:8080/"
        },
        "id": "0EME6dNdReUO",
        "outputId": "c1503357-ae77-45ae-98ed-e9269fea889d"
      },
      "outputs": [
        {
          "output_type": "stream",
          "name": "stdout",
          "text": [
            "Hit:1 http://archive.ubuntu.com/ubuntu jammy InRelease\n",
            "Get:2 http://archive.ubuntu.com/ubuntu jammy-updates InRelease [128 kB]\n",
            "Get:3 http://security.ubuntu.com/ubuntu jammy-security InRelease [129 kB]\n",
            "Get:4 https://cloud.r-project.org/bin/linux/ubuntu jammy-cran40/ InRelease [3,626 B]\n",
            "Get:5 http://archive.ubuntu.com/ubuntu jammy-backports InRelease [127 kB]\n",
            "Get:6 https://developer.download.nvidia.com/compute/cuda/repos/ubuntu2204/x86_64  InRelease [1,581 B]\n",
            "Ign:7 https://r2u.stat.illinois.edu/ubuntu jammy InRelease\n",
            "Get:8 https://r2u.stat.illinois.edu/ubuntu jammy Release [5,713 B]\n",
            "Get:9 https://r2u.stat.illinois.edu/ubuntu jammy Release.gpg [793 B]\n",
            "Hit:10 https://ppa.launchpadcontent.net/deadsnakes/ppa/ubuntu jammy InRelease\n",
            "Hit:11 https://ppa.launchpadcontent.net/graphics-drivers/ppa/ubuntu jammy InRelease\n",
            "Hit:12 https://ppa.launchpadcontent.net/ubuntugis/ppa/ubuntu jammy InRelease\n",
            "Get:13 http://archive.ubuntu.com/ubuntu jammy-updates/universe amd64 Packages [1,450 kB]\n",
            "Get:14 http://archive.ubuntu.com/ubuntu jammy-updates/main amd64 Packages [2,665 kB]\n",
            "Get:15 http://archive.ubuntu.com/ubuntu jammy-updates/restricted amd64 Packages [3,305 kB]\n",
            "Get:16 https://developer.download.nvidia.com/compute/cuda/repos/ubuntu2204/x86_64  Packages [1,103 kB]\n",
            "Get:17 https://r2u.stat.illinois.edu/ubuntu jammy/main amd64 Packages [2,606 kB]\n",
            "Get:18 https://r2u.stat.illinois.edu/ubuntu jammy/main all Packages [8,430 kB]\n",
            "Get:19 http://security.ubuntu.com/ubuntu jammy-security/main amd64 Packages [2,389 kB]\n",
            "Get:20 http://security.ubuntu.com/ubuntu jammy-security/universe amd64 Packages [1,162 kB]\n",
            "Get:21 http://security.ubuntu.com/ubuntu jammy-security/restricted amd64 Packages [3,227 kB]\n",
            "Fetched 26.7 MB in 7s (3,708 kB/s)\n",
            "Reading package lists... Done\n",
            "Building dependency tree... Done\n",
            "Reading state information... Done\n",
            "51 packages can be upgraded. Run 'apt list --upgradable' to see them.\n",
            "\u001b[1;33mW: \u001b[0mSkipping acquire of configured file 'main/source/Sources' as repository 'https://r2u.stat.illinois.edu/ubuntu jammy InRelease' does not seem to provide it (sources.list entry misspelt?)\u001b[0m\n",
            "tar: spark-3.5.2-bin-hadoop3.tgz: Cannot open: No such file or directory\n",
            "tar: Error is not recoverable: exiting now\n",
            "Requirement already satisfied: pyspark in /usr/local/lib/python3.10/dist-packages (3.5.3)\n",
            "Requirement already satisfied: py4j==0.10.9.7 in /usr/local/lib/python3.10/dist-packages (from pyspark) (0.10.9.7)\n",
            "Requirement already satisfied: py4j in /usr/local/lib/python3.10/dist-packages (0.10.9.7)\n"
          ]
        }
      ],
      "source": [
        "!sudo apt update\n",
        "!apt-get install openjdk-8-jdk-headless -qq > /dev/null\n",
        "# Check this site for the latest download link\n",
        "# https://www.apache.org/dyn/closer.lua/spark\n",
        "!wget -q https://dlcdn.apache.org/spark/spark-3.5.2/spark-3.5.2-bin-hadoop3.tgz\n",
        "!tar xf spark-3.5.2-bin-hadoop3.tgz\n",
        "!pip install -q findspark\n",
        "!pip install pyspark\n",
        "!pip install py4j"
      ]
    },
    {
      "cell_type": "code",
      "source": [
        "from pyspark.sql import SparkSession\n",
        "from pyspark.sql.types import StructField, StructType, FloatType, IntegerType, StringType\n",
        "\n",
        "# Create Spark Session in localhost\n",
        "spark = SparkSession.builder.master(\"local\").\\\n",
        "    appName(\"ITESO-LogisticRegression\").\\\n",
        "    getOrCreate()\n",
        "\n",
        "# Set spark context\n",
        "sc = spark.sparkContext\n",
        "sc.setLogLevel(\"ERROR\")\n",
        "\n",
        "\n",
        "iris_prediction_schema = StructType([\n",
        "    StructField(\"Id\", IntegerType(), True),\n",
        "    StructField(\"SepalLengthCm\", FloatType(), True),\n",
        "    StructField(\"SepalWidthCm\", FloatType(), True),\n",
        "    StructField(\"PetalLengthCm\", FloatType(), True),\n",
        "    StructField(\"PetalWidthCm\", FloatType(), True),\n",
        "    StructField(\"Species\", StringType(), True)\n",
        "])\n",
        "\n",
        "\n",
        "iris_df = spark.read.format(\"csv\").\\\n",
        "    option(\"header\", \"true\").\\\n",
        "    option(\"mode\", \"permissive\").\\\n",
        "    option(\"path\", \"/content/sample_data/iris.csv\").\\\n",
        "    schema(iris_prediction_schema).\\\n",
        "    load()\n",
        "iris_df.printSchema()\n",
        "iris_df.show(n=10, truncate=False)\n",
        "\n",
        "# Add a categorical numerical column for Species\n",
        "iris_df = iris_df.withColumn(\n",
        "    \"SpeciesCode\",\n",
        "    when(iris_df[\"Species\"] == \"Iris-setosa\", 1)\n",
        "    .when(iris_df[\"Species\"] == \"Iris-versicolor\", 2)\n",
        "    .when(iris_df[\"Species\"] == \"Iris-virginica\", 3)\n",
        "    .otherwise(None)\n",
        ")\n",
        "\n",
        "iris_df.show()"
      ],
      "metadata": {
        "colab": {
          "base_uri": "https://localhost:8080/"
        },
        "id": "-xd4bThtR657",
        "outputId": "d1d285dc-cf20-4fea-c6e2-f9572830891c"
      },
      "execution_count": 24,
      "outputs": [
        {
          "output_type": "stream",
          "name": "stdout",
          "text": [
            "root\n",
            " |-- Id: integer (nullable = true)\n",
            " |-- SepalLengthCm: float (nullable = true)\n",
            " |-- SepalWidthCm: float (nullable = true)\n",
            " |-- PetalLengthCm: float (nullable = true)\n",
            " |-- PetalWidthCm: float (nullable = true)\n",
            " |-- Species: string (nullable = true)\n",
            "\n",
            "+---+-------------+------------+-------------+------------+-----------+\n",
            "|Id |SepalLengthCm|SepalWidthCm|PetalLengthCm|PetalWidthCm|Species    |\n",
            "+---+-------------+------------+-------------+------------+-----------+\n",
            "|1  |5.1          |3.5         |1.4          |0.2         |Iris-setosa|\n",
            "|2  |4.9          |3.0         |1.4          |0.2         |Iris-setosa|\n",
            "|3  |4.7          |3.2         |1.3          |0.2         |Iris-setosa|\n",
            "|4  |4.6          |3.1         |1.5          |0.2         |Iris-setosa|\n",
            "|5  |5.0          |3.6         |1.4          |0.2         |Iris-setosa|\n",
            "|6  |5.4          |3.9         |1.7          |0.4         |Iris-setosa|\n",
            "|7  |4.6          |3.4         |1.4          |0.3         |Iris-setosa|\n",
            "|8  |5.0          |3.4         |1.5          |0.2         |Iris-setosa|\n",
            "|9  |4.4          |2.9         |1.4          |0.2         |Iris-setosa|\n",
            "|10 |4.9          |3.1         |1.5          |0.1         |Iris-setosa|\n",
            "+---+-------------+------------+-------------+------------+-----------+\n",
            "only showing top 10 rows\n",
            "\n",
            "+---+-------------+------------+-------------+------------+-----------+-----------+\n",
            "| Id|SepalLengthCm|SepalWidthCm|PetalLengthCm|PetalWidthCm|    Species|SpeciesCode|\n",
            "+---+-------------+------------+-------------+------------+-----------+-----------+\n",
            "|  1|          5.1|         3.5|          1.4|         0.2|Iris-setosa|          1|\n",
            "|  2|          4.9|         3.0|          1.4|         0.2|Iris-setosa|          1|\n",
            "|  3|          4.7|         3.2|          1.3|         0.2|Iris-setosa|          1|\n",
            "|  4|          4.6|         3.1|          1.5|         0.2|Iris-setosa|          1|\n",
            "|  5|          5.0|         3.6|          1.4|         0.2|Iris-setosa|          1|\n",
            "|  6|          5.4|         3.9|          1.7|         0.4|Iris-setosa|          1|\n",
            "|  7|          4.6|         3.4|          1.4|         0.3|Iris-setosa|          1|\n",
            "|  8|          5.0|         3.4|          1.5|         0.2|Iris-setosa|          1|\n",
            "|  9|          4.4|         2.9|          1.4|         0.2|Iris-setosa|          1|\n",
            "| 10|          4.9|         3.1|          1.5|         0.1|Iris-setosa|          1|\n",
            "| 11|          5.4|         3.7|          1.5|         0.2|Iris-setosa|          1|\n",
            "| 12|          4.8|         3.4|          1.6|         0.2|Iris-setosa|          1|\n",
            "| 13|          4.8|         3.0|          1.4|         0.1|Iris-setosa|          1|\n",
            "| 14|          4.3|         3.0|          1.1|         0.1|Iris-setosa|          1|\n",
            "| 15|          5.8|         4.0|          1.2|         0.2|Iris-setosa|          1|\n",
            "| 16|          5.7|         4.4|          1.5|         0.4|Iris-setosa|          1|\n",
            "| 17|          5.4|         3.9|          1.3|         0.4|Iris-setosa|          1|\n",
            "| 18|          5.1|         3.5|          1.4|         0.3|Iris-setosa|          1|\n",
            "| 19|          5.7|         3.8|          1.7|         0.3|Iris-setosa|          1|\n",
            "| 20|          5.1|         3.8|          1.5|         0.3|Iris-setosa|          1|\n",
            "+---+-------------+------------+-------------+------------+-----------+-----------+\n",
            "only showing top 20 rows\n",
            "\n"
          ]
        }
      ]
    },
    {
      "cell_type": "code",
      "source": [
        "# Find Count of Null, None, NaN of All DataFrame Columns\n",
        "from pyspark.sql.functions import col,isnan, when, count\n",
        "iris_df.select([count(when(isnan(c) | col(c).isNull(), c)).alias(c) for c in iris_df.columns]).show()"
      ],
      "metadata": {
        "colab": {
          "base_uri": "https://localhost:8080/"
        },
        "id": "aY3ByYDCR-iW",
        "outputId": "5fb4064e-d52d-4283-aa86-3af78a4d90d1"
      },
      "execution_count": 25,
      "outputs": [
        {
          "output_type": "stream",
          "name": "stdout",
          "text": [
            "+---+-------------+------------+-------------+------------+-------+-----------+\n",
            "| Id|SepalLengthCm|SepalWidthCm|PetalLengthCm|PetalWidthCm|Species|SpeciesCode|\n",
            "+---+-------------+------------+-------------+------------+-------+-----------+\n",
            "|  0|            0|           0|            0|           0|      0|          0|\n",
            "+---+-------------+------------+-------------+------------+-------+-----------+\n",
            "\n"
          ]
        }
      ]
    },
    {
      "cell_type": "code",
      "source": [
        "from pyspark.ml.feature import VectorAssembler\n",
        "from pyspark.ml.classification import DecisionTreeClassifier\n",
        "\n",
        "# Rename the label column to \"label\"\n",
        "iris_df = iris_df.withColumnRenamed(\"SpeciesCode\", \"label\")\n",
        "\n",
        "# Assemble the features into a single vector column\n",
        "assembler = VectorAssembler(inputCols=[\"SepalLengthCm\" ,\"SepalWidthCm\" ,\"PetalLengthCm\" ,\"PetalWidthCm\"\n",
        "], outputCol=\"features\")\n",
        "\n",
        "# Transform the data to include the features column\n",
        "data_with_features = assembler.transform(iris_df).select(\"label\", \"features\")\n",
        "\n",
        "# Split the data into training and test sets\n",
        "train_data, test_data = data_with_features.randomSplit([0.8, 0.2], seed=29)\n",
        "\n",
        "# Create and fit the logistic regression model\n",
        "dtc = DecisionTreeClassifier()\n",
        "dtc_model = dtc.fit(train_data)\n",
        "\n",
        "# Make predictions on the test data\n",
        "predictions = dtc_model.transform(test_data)\n"
      ],
      "metadata": {
        "colab": {
          "base_uri": "https://localhost:8080/"
        },
        "id": "IhCtV2k-TmSb",
        "outputId": "abfd82f4-90fc-436b-f66f-34825a1ee9ec"
      },
      "execution_count": 26,
      "outputs": [
        {
          "output_type": "stream",
          "name": "stderr",
          "text": [
            "Exception ignored in: <function JavaWrapper.__del__ at 0x7852f7683b50>\n",
            "Traceback (most recent call last):\n",
            "  File \"/usr/local/lib/python3.10/dist-packages/pyspark/ml/wrapper.py\", line 53, in __del__\n",
            "    if SparkContext._active_spark_context and self._java_obj is not None:\n",
            "AttributeError: 'DecisionTreeClassifier' object has no attribute '_java_obj'\n"
          ]
        }
      ]
    },
    {
      "cell_type": "code",
      "source": [
        "\n",
        "# Show predictions with label, prediction, and probability\n",
        "predictions.select(\"label\", \"prediction\", \"probability\").show(20, truncate=False)\n"
      ],
      "metadata": {
        "colab": {
          "base_uri": "https://localhost:8080/"
        },
        "id": "aGMLBboDUVHD",
        "outputId": "7d5c4b50-3cc4-4e55-b37a-33da83f2291b"
      },
      "execution_count": 28,
      "outputs": [
        {
          "output_type": "stream",
          "name": "stdout",
          "text": [
            "+-----+----------+-----------------+\n",
            "|label|prediction|probability      |\n",
            "+-----+----------+-----------------+\n",
            "|1    |1.0       |[0.0,1.0,0.0,0.0]|\n",
            "|1    |1.0       |[0.0,1.0,0.0,0.0]|\n",
            "|1    |1.0       |[0.0,1.0,0.0,0.0]|\n",
            "|1    |1.0       |[0.0,1.0,0.0,0.0]|\n",
            "|1    |1.0       |[0.0,1.0,0.0,0.0]|\n",
            "|1    |1.0       |[0.0,1.0,0.0,0.0]|\n",
            "|1    |1.0       |[0.0,1.0,0.0,0.0]|\n",
            "|1    |1.0       |[0.0,1.0,0.0,0.0]|\n",
            "|1    |1.0       |[0.0,1.0,0.0,0.0]|\n",
            "|2    |2.0       |[0.0,0.0,1.0,0.0]|\n",
            "|2    |2.0       |[0.0,0.0,1.0,0.0]|\n",
            "|2    |2.0       |[0.0,0.0,1.0,0.0]|\n",
            "|2    |2.0       |[0.0,0.0,1.0,0.0]|\n",
            "|2    |2.0       |[0.0,0.0,1.0,0.0]|\n",
            "|2    |2.0       |[0.0,0.0,1.0,0.0]|\n",
            "|2    |2.0       |[0.0,0.0,1.0,0.0]|\n",
            "|2    |2.0       |[0.0,0.0,1.0,0.0]|\n",
            "|2    |2.0       |[0.0,0.0,1.0,0.0]|\n",
            "|2    |2.0       |[0.0,0.0,1.0,0.0]|\n",
            "|2    |2.0       |[0.0,0.0,1.0,0.0]|\n",
            "+-----+----------+-----------------+\n",
            "only showing top 20 rows\n",
            "\n"
          ]
        }
      ]
    },
    {
      "cell_type": "code",
      "source": [
        "print(dtc_model.toDebugString)"
      ],
      "metadata": {
        "colab": {
          "base_uri": "https://localhost:8080/"
        },
        "id": "Yp-IMJoSZKiw",
        "outputId": "785369cb-00dd-4b5a-8ca8-50626526bf7a"
      },
      "execution_count": 30,
      "outputs": [
        {
          "output_type": "stream",
          "name": "stdout",
          "text": [
            "DecisionTreeClassificationModel: uid=DecisionTreeClassifier_1114f601b0ae, depth=5, numNodes=17, numClasses=4, numFeatures=4\n",
            "  If (feature 2 <= 2.449999988079071)\n",
            "   Predict: 1.0\n",
            "  Else (feature 2 > 2.449999988079071)\n",
            "   If (feature 3 <= 1.75)\n",
            "    If (feature 2 <= 4.950000047683716)\n",
            "     If (feature 3 <= 1.6500000357627869)\n",
            "      Predict: 2.0\n",
            "     Else (feature 3 > 1.6500000357627869)\n",
            "      Predict: 3.0\n",
            "    Else (feature 2 > 4.950000047683716)\n",
            "     If (feature 3 <= 1.550000011920929)\n",
            "      Predict: 3.0\n",
            "     Else (feature 3 > 1.550000011920929)\n",
            "      If (feature 0 <= 6.75)\n",
            "       Predict: 2.0\n",
            "      Else (feature 0 > 6.75)\n",
            "       Predict: 3.0\n",
            "   Else (feature 3 > 1.75)\n",
            "    If (feature 2 <= 4.8500001430511475)\n",
            "     If (feature 0 <= 5.950000047683716)\n",
            "      Predict: 2.0\n",
            "     Else (feature 0 > 5.950000047683716)\n",
            "      Predict: 3.0\n",
            "    Else (feature 2 > 4.8500001430511475)\n",
            "     Predict: 3.0\n",
            "\n"
          ]
        }
      ]
    },
    {
      "cell_type": "code",
      "source": [
        "from pyspark.ml.evaluation import MulticlassClassificationEvaluator\n",
        "\n",
        "evaluator = MulticlassClassificationEvaluator(labelCol=\"label\", predictionCol=\"prediction\")\n",
        "\n",
        "accuracy = evaluator.evaluate(predictions, {evaluator.metricName: \"accuracy\"})\n",
        "\n",
        "precision = evaluator.evaluate(predictions, {evaluator.metricName: \"weightedPrecision\"})\n",
        "\n",
        "recall = evaluator.evaluate(predictions, {evaluator.metricName: \"weightedRecall\"})\n",
        "\n",
        "f1 = evaluator.evaluate(predictions, {evaluator.metricName: \"f1\"})\n",
        "\n",
        "print(f'Accuracy: {accuracy}, Precision: {precision}, Recall: {recall}, F1: {f1}')"
      ],
      "metadata": {
        "colab": {
          "base_uri": "https://localhost:8080/"
        },
        "id": "sXd8s5Q1WwV9",
        "outputId": "a152a2d0-27af-4b3c-a92f-2f4a979435a4"
      },
      "execution_count": 29,
      "outputs": [
        {
          "output_type": "stream",
          "name": "stdout",
          "text": [
            "Accuracy: 1.0, Precision: 1.0, Recall: 1.0, F1: 1.0\n"
          ]
        }
      ]
    },
    {
      "cell_type": "code",
      "source": [],
      "metadata": {
        "id": "2qo74hN7XOTE"
      },
      "execution_count": null,
      "outputs": []
    }
  ]
}