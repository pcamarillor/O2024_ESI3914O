{
  "nbformat": 4,
  "nbformat_minor": 0,
  "metadata": {
    "colab": {
      "provenance": []
    },
    "kernelspec": {
      "name": "python3",
      "display_name": "Python 3"
    },
    "language_info": {
      "name": "python"
    }
  },
  "cells": [
    {
      "cell_type": "code",
      "execution_count": 1,
      "metadata": {
        "id": "juTf1fBhRrS6"
      },
      "outputs": [],
      "source": [
        "# Import necessary modules\n",
        "from pyspark.sql import SparkSession\n",
        "from pyspark.ml.classification import DecisionTreeClassifier\n",
        "from pyspark.ml.evaluation import MulticlassClassificationEvaluator\n",
        "from pyspark.ml.feature import VectorAssembler\n",
        "from pyspark.sql.types import StructType, StructField, FloatType"
      ]
    },
    {
      "cell_type": "code",
      "source": [
        "!sudo apt update\n",
        "!apt-get install openjdk-8-jdk-headless -qq > /dev/null\n",
        "# Check this site for the latest download link\n",
        "# https://www.apache.org/dyn/closer.lua/spark\n",
        "!wget -q https://dlcdn.apache.org/spark/spark-3.5.2/spark-3.5.2-bin-hadoop3.tgz\n",
        "!tar xf spark-3.5.2-bin-hadoop3.tgz\n",
        "!pip install -q findspark\n",
        "!pip install pyspark\n",
        "!pip install py4j"
      ],
      "metadata": {
        "colab": {
          "base_uri": "https://localhost:8080/"
        },
        "id": "IvnbDGRjSIr-",
        "outputId": "7cc4e365-a320-4cad-8208-2edf68fe40f8"
      },
      "execution_count": 2,
      "outputs": [
        {
          "output_type": "stream",
          "name": "stdout",
          "text": [
            "\u001b[33m\r0% [Working]\u001b[0m\r            \rGet:1 https://cloud.r-project.org/bin/linux/ubuntu jammy-cran40/ InRelease [3,626 B]\n",
            "Get:2 https://developer.download.nvidia.com/compute/cuda/repos/ubuntu2204/x86_64  InRelease [1,581 B]\n",
            "Get:3 https://developer.download.nvidia.com/compute/cuda/repos/ubuntu2204/x86_64  Packages [1,103 kB]\n",
            "Get:4 http://security.ubuntu.com/ubuntu jammy-security InRelease [129 kB]\n",
            "Hit:5 http://archive.ubuntu.com/ubuntu jammy InRelease\n",
            "Get:6 http://archive.ubuntu.com/ubuntu jammy-updates InRelease [128 kB]\n",
            "Ign:7 https://r2u.stat.illinois.edu/ubuntu jammy InRelease\n",
            "Hit:8 https://ppa.launchpadcontent.net/deadsnakes/ppa/ubuntu jammy InRelease\n",
            "Get:9 https://r2u.stat.illinois.edu/ubuntu jammy Release [5,713 B]\n",
            "Hit:10 https://ppa.launchpadcontent.net/graphics-drivers/ppa/ubuntu jammy InRelease\n",
            "Get:11 https://r2u.stat.illinois.edu/ubuntu jammy Release.gpg [793 B]\n",
            "Hit:12 https://ppa.launchpadcontent.net/ubuntugis/ppa/ubuntu jammy InRelease\n",
            "Get:13 http://security.ubuntu.com/ubuntu jammy-security/main amd64 Packages [2,389 kB]\n",
            "Get:14 http://archive.ubuntu.com/ubuntu jammy-backports InRelease [127 kB]\n",
            "Get:15 https://r2u.stat.illinois.edu/ubuntu jammy/main all Packages [8,430 kB]\n",
            "Get:16 http://archive.ubuntu.com/ubuntu jammy-updates/universe amd64 Packages [1,450 kB]\n",
            "Get:17 http://security.ubuntu.com/ubuntu jammy-security/universe amd64 Packages [1,162 kB]\n",
            "Get:18 http://security.ubuntu.com/ubuntu jammy-security/restricted amd64 Packages [3,227 kB]\n",
            "Get:19 http://archive.ubuntu.com/ubuntu jammy-updates/main amd64 Packages [2,665 kB]\n",
            "Get:20 http://archive.ubuntu.com/ubuntu jammy-updates/restricted amd64 Packages [3,305 kB]\n",
            "Get:21 https://r2u.stat.illinois.edu/ubuntu jammy/main amd64 Packages [2,606 kB]\n",
            "Fetched 26.7 MB in 4s (6,053 kB/s)\n",
            "Reading package lists... Done\n",
            "Building dependency tree... Done\n",
            "Reading state information... Done\n",
            "51 packages can be upgraded. Run 'apt list --upgradable' to see them.\n",
            "\u001b[1;33mW: \u001b[0mSkipping acquire of configured file 'main/source/Sources' as repository 'https://r2u.stat.illinois.edu/ubuntu jammy InRelease' does not seem to provide it (sources.list entry misspelt?)\u001b[0m\n",
            "tar: spark-3.5.2-bin-hadoop3.tgz: Cannot open: No such file or directory\n",
            "tar: Error is not recoverable: exiting now\n",
            "Requirement already satisfied: pyspark in /usr/local/lib/python3.10/dist-packages (3.5.3)\n",
            "Requirement already satisfied: py4j==0.10.9.7 in /usr/local/lib/python3.10/dist-packages (from pyspark) (0.10.9.7)\n",
            "Requirement already satisfied: py4j in /usr/local/lib/python3.10/dist-packages (0.10.9.7)\n"
          ]
        }
      ]
    },
    {
      "cell_type": "code",
      "source": [
        "# Initialize SparkSession\n",
        "spark = SparkSession.builder \\\n",
        "            .appName(\"Decision-Trees-Example\") \\\n",
        "            .config(\"spark.ui.port\",\"4040\") \\\n",
        "            .getOrCreate()\n",
        "\n",
        "spark.sparkContext.setLogLevel(\"ERROR\")"
      ],
      "metadata": {
        "id": "EbzEqHVkR5U4"
      },
      "execution_count": 3,
      "outputs": []
    },
    {
      "cell_type": "code",
      "source": [
        "from pyspark.sql.types import StructField, StructType, FloatType, IntegerType, StringType\n",
        "\n",
        "iris_prediction_schema = StructType([\n",
        "    StructField(\"Id\", IntegerType(), True),\n",
        "    StructField(\"SepalLengthCm\", FloatType(), True),\n",
        "    StructField(\"SepalWidthCm\", FloatType(), True),\n",
        "    StructField(\"PetalLengthCm\", FloatType(), True),\n",
        "    StructField(\"PetalWidthCm\", FloatType(), True),\n",
        "    StructField(\"Species\", StringType(), True)\n",
        "])"
      ],
      "metadata": {
        "id": "pi-HiW70Ts96"
      },
      "execution_count": 20,
      "outputs": []
    },
    {
      "cell_type": "code",
      "source": [
        "iris_df = spark.read.format(\"csv\").\\\n",
        "    option(\"header\", \"true\").\\\n",
        "    option(\"mode\", \"permissive\").\\\n",
        "    option(\"path\", \"/content/Iris.csv\").\\\n",
        "    schema(iris_prediction_schema).\\\n",
        "    load()\n",
        "iris_df.printSchema()\n",
        "iris_df.show(n=10, truncate=False)"
      ],
      "metadata": {
        "colab": {
          "base_uri": "https://localhost:8080/"
        },
        "id": "tTEagJCLSG0E",
        "outputId": "ece48f23-52bc-4670-8f69-9b9d51dbb9e4"
      },
      "execution_count": 21,
      "outputs": [
        {
          "output_type": "stream",
          "name": "stdout",
          "text": [
            "root\n",
            " |-- Id: integer (nullable = true)\n",
            " |-- SepalLengthCm: float (nullable = true)\n",
            " |-- SepalWidthCm: float (nullable = true)\n",
            " |-- PetalLengthCm: float (nullable = true)\n",
            " |-- PetalWidthCm: float (nullable = true)\n",
            " |-- Species: string (nullable = true)\n",
            "\n",
            "+---+-------------+------------+-------------+------------+-----------+\n",
            "|Id |SepalLengthCm|SepalWidthCm|PetalLengthCm|PetalWidthCm|Species    |\n",
            "+---+-------------+------------+-------------+------------+-----------+\n",
            "|1  |5.1          |3.5         |1.4          |0.2         |Iris-setosa|\n",
            "|2  |4.9          |3.0         |1.4          |0.2         |Iris-setosa|\n",
            "|3  |4.7          |3.2         |1.3          |0.2         |Iris-setosa|\n",
            "|4  |4.6          |3.1         |1.5          |0.2         |Iris-setosa|\n",
            "|5  |5.0          |3.6         |1.4          |0.2         |Iris-setosa|\n",
            "|6  |5.4          |3.9         |1.7          |0.4         |Iris-setosa|\n",
            "|7  |4.6          |3.4         |1.4          |0.3         |Iris-setosa|\n",
            "|8  |5.0          |3.4         |1.5          |0.2         |Iris-setosa|\n",
            "|9  |4.4          |2.9         |1.4          |0.2         |Iris-setosa|\n",
            "|10 |4.9          |3.1         |1.5          |0.1         |Iris-setosa|\n",
            "+---+-------------+------------+-------------+------------+-----------+\n",
            "only showing top 10 rows\n",
            "\n"
          ]
        }
      ]
    },
    {
      "cell_type": "code",
      "source": [
        "from pyspark.ml.feature import StringIndexer\n",
        "\n",
        "# Preprocessing 1: StringIndexer for categorical labels\n",
        "label_indexer = StringIndexer(inputCol=\"Species\", outputCol=\"label\")\n",
        "data = label_indexer.fit(iris_df).transform(iris_df)"
      ],
      "metadata": {
        "id": "MxzMvO-8V6SH"
      },
      "execution_count": 22,
      "outputs": []
    },
    {
      "cell_type": "code",
      "source": [
        "data.show(n=10)"
      ],
      "metadata": {
        "colab": {
          "base_uri": "https://localhost:8080/"
        },
        "id": "fhCNUAUfWzUm",
        "outputId": "c652b4c8-c1dd-4265-c977-046dc3ccb495"
      },
      "execution_count": 23,
      "outputs": [
        {
          "output_type": "stream",
          "name": "stdout",
          "text": [
            "+---+-------------+------------+-------------+------------+-----------+-----+\n",
            "| Id|SepalLengthCm|SepalWidthCm|PetalLengthCm|PetalWidthCm|    Species|label|\n",
            "+---+-------------+------------+-------------+------------+-----------+-----+\n",
            "|  1|          5.1|         3.5|          1.4|         0.2|Iris-setosa|  0.0|\n",
            "|  2|          4.9|         3.0|          1.4|         0.2|Iris-setosa|  0.0|\n",
            "|  3|          4.7|         3.2|          1.3|         0.2|Iris-setosa|  0.0|\n",
            "|  4|          4.6|         3.1|          1.5|         0.2|Iris-setosa|  0.0|\n",
            "|  5|          5.0|         3.6|          1.4|         0.2|Iris-setosa|  0.0|\n",
            "|  6|          5.4|         3.9|          1.7|         0.4|Iris-setosa|  0.0|\n",
            "|  7|          4.6|         3.4|          1.4|         0.3|Iris-setosa|  0.0|\n",
            "|  8|          5.0|         3.4|          1.5|         0.2|Iris-setosa|  0.0|\n",
            "|  9|          4.4|         2.9|          1.4|         0.2|Iris-setosa|  0.0|\n",
            "| 10|          4.9|         3.1|          1.5|         0.1|Iris-setosa|  0.0|\n",
            "+---+-------------+------------+-------------+------------+-----------+-----+\n",
            "only showing top 10 rows\n",
            "\n"
          ]
        }
      ]
    },
    {
      "cell_type": "code",
      "source": [
        "# Assemble the features into a single vector column\n",
        "assembler = VectorAssembler(inputCols=[\"SepalLengthCm\", \"SepalWidthCm\", \"PetalLengthCm\", \"PetalWidthCm\"], outputCol=\"features\")\n",
        "data_with_features = assembler.transform(data).select(\"label\", \"features\")"
      ],
      "metadata": {
        "id": "zTV86ByyUaZJ"
      },
      "execution_count": 25,
      "outputs": []
    },
    {
      "cell_type": "code",
      "source": [
        "# Split the data into training and test sets 80% training data and 20% testing data\n",
        "train, test = data_with_features.randomSplit([0.8, 0.2], seed=13)"
      ],
      "metadata": {
        "id": "qo1qsbc_U0tS"
      },
      "execution_count": 26,
      "outputs": []
    },
    {
      "cell_type": "code",
      "source": [
        "# Initialize and train the Decision Tree model\n",
        "dt = DecisionTreeClassifier(labelCol=\"label\", featuresCol=\"features\")"
      ],
      "metadata": {
        "id": "oc9Hv1mRU-9D"
      },
      "execution_count": 27,
      "outputs": []
    },
    {
      "cell_type": "code",
      "source": [
        "# ============================\n",
        "# TRAIN\n",
        "# ============================\n",
        "\n",
        "# Train to get the model\n",
        "dt_model = dt.fit(train)\n",
        "\n",
        "# Display model summary\n",
        "print(\"Decision Tree model summary:{0}\".format(dt_model.toDebugString))"
      ],
      "metadata": {
        "colab": {
          "base_uri": "https://localhost:8080/"
        },
        "id": "RjmaCvuRVQAp",
        "outputId": "d51afd5c-5393-4708-be77-faa316aa8b64"
      },
      "execution_count": 28,
      "outputs": [
        {
          "output_type": "stream",
          "name": "stdout",
          "text": [
            "Decision Tree model summary:DecisionTreeClassificationModel: uid=DecisionTreeClassifier_487cb66de046, depth=5, numNodes=15, numClasses=3, numFeatures=4\n",
            "  If (feature 2 <= 2.449999988079071)\n",
            "   Predict: 0.0\n",
            "  Else (feature 2 > 2.449999988079071)\n",
            "   If (feature 3 <= 1.75)\n",
            "    If (feature 2 <= 5.1499998569488525)\n",
            "     If (feature 3 <= 1.6500000357627869)\n",
            "      Predict: 1.0\n",
            "     Else (feature 3 > 1.6500000357627869)\n",
            "      If (feature 0 <= 4.950000047683716)\n",
            "       Predict: 2.0\n",
            "      Else (feature 0 > 4.950000047683716)\n",
            "       Predict: 1.0\n",
            "    Else (feature 2 > 5.1499998569488525)\n",
            "     Predict: 2.0\n",
            "   Else (feature 3 > 1.75)\n",
            "    If (feature 2 <= 4.8500001430511475)\n",
            "     If (feature 0 <= 5.950000047683716)\n",
            "      Predict: 1.0\n",
            "     Else (feature 0 > 5.950000047683716)\n",
            "      Predict: 2.0\n",
            "    Else (feature 2 > 4.8500001430511475)\n",
            "     Predict: 2.0\n",
            "\n"
          ]
        }
      ]
    },
    {
      "cell_type": "code",
      "source": [
        "# ============================\n",
        "# PREDICTIONS\n",
        "# ============================\n",
        "\n",
        "# Use the trained model to make predictions on the test data\n",
        "predictions = dt_model.transform(test)\n",
        "\n",
        "# Show predictions\n",
        "predictions.show()"
      ],
      "metadata": {
        "colab": {
          "base_uri": "https://localhost:8080/"
        },
        "id": "6GLw4H_rXg9K",
        "outputId": "50564de6-465c-4181-92ed-e1e06ec6aa78"
      },
      "execution_count": 29,
      "outputs": [
        {
          "output_type": "stream",
          "name": "stdout",
          "text": [
            "+-----+--------------------+--------------+--------------------+----------+\n",
            "|label|            features| rawPrediction|         probability|prediction|\n",
            "+-----+--------------------+--------------+--------------------+----------+\n",
            "|  0.0|[4.40000009536743...|[40.0,0.0,0.0]|       [1.0,0.0,0.0]|       0.0|\n",
            "|  0.0|[4.59999990463256...|[40.0,0.0,0.0]|       [1.0,0.0,0.0]|       0.0|\n",
            "|  0.0|[4.80000019073486...|[40.0,0.0,0.0]|       [1.0,0.0,0.0]|       0.0|\n",
            "|  0.0|[5.0,3.4000000953...|[40.0,0.0,0.0]|       [1.0,0.0,0.0]|       0.0|\n",
            "|  0.0|[5.0,3.4000000953...|[40.0,0.0,0.0]|       [1.0,0.0,0.0]|       0.0|\n",
            "|  0.0|[5.0,3.5,1.600000...|[40.0,0.0,0.0]|       [1.0,0.0,0.0]|       0.0|\n",
            "|  0.0|[5.0,3.5999999046...|[40.0,0.0,0.0]|       [1.0,0.0,0.0]|       0.0|\n",
            "|  0.0|[5.09999990463256...|[40.0,0.0,0.0]|       [1.0,0.0,0.0]|       0.0|\n",
            "|  0.0|[5.19999980926513...|[40.0,0.0,0.0]|       [1.0,0.0,0.0]|       0.0|\n",
            "|  0.0|[5.69999980926513...|[40.0,0.0,0.0]|       [1.0,0.0,0.0]|       0.0|\n",
            "|  1.0|[5.69999980926513...|[0.0,41.0,1.0]|[0.0,0.9761904761...|       1.0|\n",
            "|  1.0|[5.69999980926513...|[0.0,41.0,1.0]|[0.0,0.9761904761...|       1.0|\n",
            "|  1.0|[5.69999980926513...|[0.0,41.0,1.0]|[0.0,0.9761904761...|       1.0|\n",
            "|  1.0|[5.90000009536743...|[0.0,41.0,1.0]|[0.0,0.9761904761...|       1.0|\n",
            "|  1.0|[6.09999990463256...|[0.0,41.0,1.0]|[0.0,0.9761904761...|       1.0|\n",
            "|  1.0|[6.59999990463256...|[0.0,41.0,1.0]|[0.0,0.9761904761...|       1.0|\n",
            "|  1.0|[6.59999990463256...|[0.0,41.0,1.0]|[0.0,0.9761904761...|       1.0|\n",
            "|  2.0|[5.80000019073486...|[0.0,0.0,34.0]|       [0.0,0.0,1.0]|       2.0|\n",
            "|  2.0|[6.19999980926513...|[0.0,0.0,34.0]|       [0.0,0.0,1.0]|       2.0|\n",
            "|  2.0|[6.30000019073486...|[0.0,41.0,1.0]|[0.0,0.9761904761...|       1.0|\n",
            "+-----+--------------------+--------------+--------------------+----------+\n",
            "only showing top 20 rows\n",
            "\n"
          ]
        }
      ]
    },
    {
      "cell_type": "code",
      "source": [
        "from pyspark.ml.evaluation import MulticlassClassificationEvaluator\n",
        "# Evaluate the model using MulticlassClassificationEvaluator\n",
        "evaluator = MulticlassClassificationEvaluator(labelCol=\"label\", predictionCol=\"prediction\")\n",
        "\n",
        "# Calculate accuracy\n",
        "accuracy = evaluator.evaluate(predictions, {evaluator.metricName: \"accuracy\"})\n",
        "print(f\"Accuracy: {accuracy}\")\n",
        "\n",
        "# Calculate precision\n",
        "precision = evaluator.evaluate(predictions, {evaluator.metricName: \"weightedPrecision\"})\n",
        "print(f\"Precision: {precision}\")\n",
        "\n",
        "# Calculate recall\n",
        "recall = evaluator.evaluate(predictions, {evaluator.metricName: \"weightedRecall\"})\n",
        "print(f\"Recall: {recall}\")\n",
        "\n",
        "# Calculate F1 score\n",
        "f1 = evaluator.evaluate(predictions, {evaluator.metricName: \"f1\"})\n",
        "print(f\"F1 Score: {f1}\")\n",
        "\n",
        "# Stop Spark session\n",
        "spark.stop()"
      ],
      "metadata": {
        "colab": {
          "base_uri": "https://localhost:8080/"
        },
        "id": "e9uozcquXm8g",
        "outputId": "45e07ba0-c99d-42a2-de90-c60c3f134cc2"
      },
      "execution_count": 30,
      "outputs": [
        {
          "output_type": "stream",
          "name": "stdout",
          "text": [
            "Accuracy: 0.9629629629629629\n",
            "Precision: 0.9675925925925926\n",
            "Recall: 0.9629629629629629\n",
            "F1 Score: 0.9632228719948018\n"
          ]
        }
      ]
    }
  ]
}