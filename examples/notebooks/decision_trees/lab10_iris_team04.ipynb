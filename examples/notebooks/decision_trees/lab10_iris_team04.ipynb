{
  "cells": [
    {
      "cell_type": "code",
      "source": [
        "from google.colab import drive\n",
        "drive.mount('/content/drive')"
      ],
      "metadata": {
        "id": "R8UUpoxyTZ_w",
        "outputId": "bec65d20-c7eb-4982-bbfd-4cce572faf27",
        "colab": {
          "base_uri": "https://localhost:8080/"
        }
      },
      "execution_count": 1,
      "outputs": [
        {
          "output_type": "stream",
          "name": "stdout",
          "text": [
            "Mounted at /content/drive\n"
          ]
        }
      ]
    },
    {
      "cell_type": "code",
      "source": [
        "!sudo apt update\n",
        "\n",
        "!apt-get install openjdk-8-jdk-headless -qq > /dev/null\n",
        "# Check this site for the latest download link\n",
        "# https://www.apache.org/dyn/closer.lua/spark\n",
        "!wget -q https://dlcdn.apache.org/spark/spark-3.5.2/spark-3.5.2-bin-hadoop3.tgz\n",
        "!tar xf spark-3.5.2-bin-hadoop3.tgz\n",
        "!pip install -q findspark\n",
        "!pip install pyspark\n",
        "!pip install py4j"
      ],
      "metadata": {
        "id": "cJQ8dEO4Ta1a",
        "outputId": "8ec1fbb6-14a4-45df-ebe9-eb917b26eafa",
        "colab": {
          "base_uri": "https://localhost:8080/"
        }
      },
      "execution_count": 2,
      "outputs": [
        {
          "output_type": "stream",
          "name": "stdout",
          "text": [
            "\u001b[33m\r0% [Working]\u001b[0m\r            \rGet:1 https://cloud.r-project.org/bin/linux/ubuntu jammy-cran40/ InRelease [3,626 B]\n",
            "Get:2 https://developer.download.nvidia.com/compute/cuda/repos/ubuntu2204/x86_64  InRelease [1,581 B]\n",
            "Get:3 http://security.ubuntu.com/ubuntu jammy-security InRelease [129 kB]\n",
            "Get:4 https://developer.download.nvidia.com/compute/cuda/repos/ubuntu2204/x86_64  Packages [1,103 kB]\n",
            "Ign:5 https://r2u.stat.illinois.edu/ubuntu jammy InRelease\n",
            "Hit:6 http://archive.ubuntu.com/ubuntu jammy InRelease\n",
            "Get:7 https://r2u.stat.illinois.edu/ubuntu jammy Release [5,713 B]\n",
            "Get:8 https://r2u.stat.illinois.edu/ubuntu jammy Release.gpg [793 B]\n",
            "Get:9 http://archive.ubuntu.com/ubuntu jammy-updates InRelease [128 kB]\n",
            "Hit:10 https://ppa.launchpadcontent.net/deadsnakes/ppa/ubuntu jammy InRelease\n",
            "Get:11 https://r2u.stat.illinois.edu/ubuntu jammy/main amd64 Packages [2,606 kB]\n",
            "Hit:12 https://ppa.launchpadcontent.net/graphics-drivers/ppa/ubuntu jammy InRelease\n",
            "Hit:13 https://ppa.launchpadcontent.net/ubuntugis/ppa/ubuntu jammy InRelease\n",
            "Get:14 http://security.ubuntu.com/ubuntu jammy-security/main amd64 Packages [2,389 kB]\n",
            "Get:15 http://archive.ubuntu.com/ubuntu jammy-backports InRelease [127 kB]\n",
            "Get:16 https://r2u.stat.illinois.edu/ubuntu jammy/main all Packages [8,430 kB]\n",
            "Get:17 http://security.ubuntu.com/ubuntu jammy-security/universe amd64 Packages [1,162 kB]\n",
            "Get:18 http://security.ubuntu.com/ubuntu jammy-security/restricted amd64 Packages [3,227 kB]\n",
            "Get:19 http://archive.ubuntu.com/ubuntu jammy-updates/restricted amd64 Packages [3,305 kB]\n",
            "Get:20 http://archive.ubuntu.com/ubuntu jammy-updates/main amd64 Packages [2,665 kB]\n",
            "Get:21 http://archive.ubuntu.com/ubuntu jammy-updates/universe amd64 Packages [1,450 kB]\n",
            "Fetched 26.7 MB in 4s (7,544 kB/s)\n",
            "Reading package lists... Done\n",
            "Building dependency tree... Done\n",
            "Reading state information... Done\n",
            "51 packages can be upgraded. Run 'apt list --upgradable' to see them.\n",
            "\u001b[1;33mW: \u001b[0mSkipping acquire of configured file 'main/source/Sources' as repository 'https://r2u.stat.illinois.edu/ubuntu jammy InRelease' does not seem to provide it (sources.list entry misspelt?)\u001b[0m\n",
            "tar: spark-3.5.2-bin-hadoop3.tgz: Cannot open: No such file or directory\n",
            "tar: Error is not recoverable: exiting now\n",
            "Requirement already satisfied: pyspark in /usr/local/lib/python3.10/dist-packages (3.5.3)\n",
            "Requirement already satisfied: py4j==0.10.9.7 in /usr/local/lib/python3.10/dist-packages (from pyspark) (0.10.9.7)\n",
            "Requirement already satisfied: py4j in /usr/local/lib/python3.10/dist-packages (0.10.9.7)\n"
          ]
        }
      ]
    },
    {
      "cell_type": "code",
      "source": [
        "from pyspark.sql import SparkSession\n",
        "# Create Spark Session in localhost\n",
        "spark = SparkSession.builder.master(\"local\").\\\n",
        "    appName(\"ITESO-DecisionTree\").\\\n",
        "    getOrCreate()\n",
        "\n",
        "# Set spark context\n",
        "sc = spark.sparkContext\n",
        "sc.setLogLevel(\"ERROR\")\n",
        "\n",
        "iris_df = spark.read.format(\"csv\").\\\n",
        "    option(\"header\", \"true\").\\\n",
        "    option(\"mode\", \"permissive\").\\\n",
        "    option(\"path\", \"/content/drive/MyDrive/Colab Notebooks (1)/datasets/iris_dataset.csv\").\\\n",
        "    load()\n",
        "iris_df.show(n=10, truncate=False)"
      ],
      "metadata": {
        "id": "3p3j0jwwUuS0",
        "outputId": "1b64fa30-dbe7-417b-cb22-9bb33c78b282",
        "colab": {
          "base_uri": "https://localhost:8080/"
        }
      },
      "execution_count": 21,
      "outputs": [
        {
          "output_type": "stream",
          "name": "stdout",
          "text": [
            "+---+-------------+------------+-------------+------------+-----------+\n",
            "|Id |SepalLengthCm|SepalWidthCm|PetalLengthCm|PetalWidthCm|Species    |\n",
            "+---+-------------+------------+-------------+------------+-----------+\n",
            "|1  |5.1          |3.5         |1.4          |0.2         |Iris-setosa|\n",
            "|2  |4.9          |3.0         |1.4          |0.2         |Iris-setosa|\n",
            "|3  |4.7          |3.2         |1.3          |0.2         |Iris-setosa|\n",
            "|4  |4.6          |3.1         |1.5          |0.2         |Iris-setosa|\n",
            "|5  |5.0          |3.6         |1.4          |0.2         |Iris-setosa|\n",
            "|6  |5.4          |3.9         |1.7          |0.4         |Iris-setosa|\n",
            "|7  |4.6          |3.4         |1.4          |0.3         |Iris-setosa|\n",
            "|8  |5.0          |3.4         |1.5          |0.2         |Iris-setosa|\n",
            "|9  |4.4          |2.9         |1.4          |0.2         |Iris-setosa|\n",
            "|10 |4.9          |3.1         |1.5          |0.1         |Iris-setosa|\n",
            "+---+-------------+------------+-------------+------------+-----------+\n",
            "only showing top 10 rows\n",
            "\n"
          ]
        }
      ]
    },
    {
      "cell_type": "code",
      "source": [
        "from pyspark.ml.classification import DecisionTreeClassifier\n",
        "from pyspark.ml.evaluation import MulticlassClassificationEvaluator\n",
        "from pyspark.ml.feature import VectorAssembler\n",
        "from pyspark.ml.feature import StringIndexer\n",
        "from pyspark.sql.functions import col\n",
        "# Create a small dataset as a list of tuples\n",
        "# Format: (label, feature1, feature2)\n",
        "# Create data frame\n",
        "columns = [\"Id\",\"SepalLengthCm\",\"SepalWidthCm\",\"PetalLengthCm\",\"PetalWidthCm\",\"Species\"]\n",
        "# Assemble the features into a single vector column\n",
        "\n",
        "\n",
        "iris_df = iris_df.withColumn(\"SepalLengthCm\", col(\"SepalLengthCm\").cast(\"float\")) \\\n",
        "                 .withColumn(\"SepalWidthCm\", col(\"SepalWidthCm\").cast(\"float\")) \\\n",
        "                 .withColumn(\"PetalLengthCm\", col(\"PetalLengthCm\").cast(\"float\")) \\\n",
        "                 .withColumn(\"PetalWidthCm\", col(\"PetalWidthCm\").cast(\"float\")) \\\n",
        "                 .withColumn(\"Id\", col(\"Id\").cast(\"float\"))\n",
        "\n",
        "#label_indexer = StringIndexer(inputCol= \"Id\", outputCol=\"label\")\n",
        "species_indexer = StringIndexer(inputCol=\"Species\", outputCol=\"SpeciesIndex\")\n",
        "\n",
        "iris_df = species_indexer.fit(iris_df).transform(iris_df)\n",
        "\n",
        "\n",
        "assembler = VectorAssembler(inputCols=[\"Id\",\"SepalLengthCm\", \"SepalWidthCm\", \"PetalLengthCm\", \"PetalWidthCm\"],\n",
        "outputCol=\"features\")\n",
        "data_with_features = assembler.transform(iris_df).select(\"SpeciesIndex\", \"features\")\n",
        "# Split the data: 80% training data and 20% testing data\n",
        "train, test = data_with_features.randomSplit([0.8, 0.2], seed=13)\n",
        "\n",
        "\n",
        "\n",
        "# Initialize and train the Decision Tree model\n",
        "dt = DecisionTreeClassifier(labelCol=\"SpeciesIndex\",\n",
        "featuresCol=\"features\")\n",
        "# ============================\n",
        "# TRAIN\n",
        "# ============================\n",
        "# Train to get the model\n",
        "dt_model = dt.fit(train)\n",
        "# Display model summary\n",
        "print(\"Decision Tree model summary:{0}\".\\\n",
        "format(dt_model.toDebugString))\n",
        "\n",
        "# Use the trained model to make predictions on the test data\n",
        "predictions = dt_model.transform(test)\n",
        "evaluator = MulticlassClassificationEvaluator(labelCol=\"SpeciesIndex\",\n",
        "predictionCol=\"prediction\")\n",
        "accuracy = evaluator.evaluate(predictions,\n",
        "{evaluator.metricName: \"accuracy\"})\n",
        "print(f\"Accuracy: {accuracy}\")\n",
        "precision = evaluator.evaluate(predictions,\n",
        "{evaluator.metricName: \"weightedPrecision\"})\n",
        "print(f\"Precision: {precision}\")\n",
        "recall = evaluator.evaluate(predictions,\n",
        "{evaluator.metricName: \"weightedRecall\"})\n",
        "print(f\"Recall: {recall}\")\n",
        "f1 = evaluator.evaluate(predictions,\n",
        "{evaluator.metricName: \"f1\"})\n",
        "print(f\"F1 Score: {f1}\")\n",
        "\n"
      ],
      "metadata": {
        "id": "OlGdsL0iTxCW",
        "outputId": "0cf7190e-5b30-4f4e-ec04-1e11aa7ff407",
        "colab": {
          "base_uri": "https://localhost:8080/"
        }
      },
      "execution_count": 22,
      "outputs": [
        {
          "output_type": "stream",
          "name": "stdout",
          "text": [
            "Decision Tree model summary:DecisionTreeClassificationModel: uid=DecisionTreeClassifier_c17f8333a5a2, depth=3, numNodes=7, numClasses=3, numFeatures=5\n",
            "  If (feature 3 <= 2.449999988079071)\n",
            "   Predict: 0.0\n",
            "  Else (feature 3 > 2.449999988079071)\n",
            "   If (feature 0 <= 98.5)\n",
            "    Predict: 1.0\n",
            "   Else (feature 0 > 98.5)\n",
            "    If (feature 3 <= 4.25)\n",
            "     Predict: 1.0\n",
            "    Else (feature 3 > 4.25)\n",
            "     Predict: 2.0\n",
            "\n",
            "Accuracy: 1.0\n",
            "Precision: 0.9999999999999999\n",
            "Recall: 0.9999999999999999\n",
            "F1 Score: 0.9999999999999999\n"
          ]
        }
      ]
    },
    {
      "cell_type": "code",
      "source": [],
      "metadata": {
        "id": "5nZDKbSyXYrU"
      },
      "execution_count": null,
      "outputs": []
    }
  ],
  "metadata": {
    "language_info": {
      "name": "python"
    },
    "colab": {
      "provenance": []
    },
    "kernelspec": {
      "name": "python3",
      "display_name": "Python 3"
    }
  },
  "nbformat": 4,
  "nbformat_minor": 0
}
