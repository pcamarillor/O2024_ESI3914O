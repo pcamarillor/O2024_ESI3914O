{
  "nbformat": 4,
  "nbformat_minor": 0,
  "metadata": {
    "colab": {
      "provenance": [],
      "mount_file_id": "1ZyJu_IQlYUO3Pc9-ueE2LRm9UHuWjO4B",
      "authorship_tag": "ABX9TyO+HJ3A3nKl2Qgl27GxyLd2",
      "include_colab_link": true
    },
    "kernelspec": {
      "name": "python3",
      "display_name": "Python 3"
    },
    "language_info": {
      "name": "python"
    }
  },
  "cells": [
    {
      "cell_type": "markdown",
      "metadata": {
        "id": "view-in-github",
        "colab_type": "text"
      },
      "source": [
        "<a href=\"https://colab.research.google.com/github/pcamarillor/O2024_ESI3914O/blob/lab11_team03/Lab11_Equipo03_EntregaFinal.ipynb\" target=\"_parent\"><img src=\"https://colab.research.google.com/assets/colab-badge.svg\" alt=\"Open In Colab\"/></a>"
      ]
    },
    {
      "cell_type": "code",
      "execution_count": 33,
      "metadata": {
        "colab": {
          "base_uri": "https://localhost:8080/"
        },
        "id": "Sgk3kInB8Hcr",
        "outputId": "b4045097-0ff8-447f-c610-d2a010ecd181"
      },
      "outputs": [
        {
          "output_type": "stream",
          "name": "stdout",
          "text": [
            "Drive already mounted at /content/drive; to attempt to forcibly remount, call drive.mount(\"/content/drive\", force_remount=True).\n"
          ]
        }
      ],
      "source": [
        "from google.colab import drive\n",
        "drive.mount('/content/drive')"
      ]
    },
    {
      "cell_type": "code",
      "source": [
        "!sudo apt update\n",
        "!apt-get install openjdk-8-jdk-headless -qq > /dev/null\n",
        "# Check this site for the latest download link\n",
        "# https://www.apache.org/dyn/closer.lua/spark\n",
        "!wget -q https://dlcdn.apache.org/spark/spark-3.5.2/spark-3.5.2-bin-hadoop3.tgz\n",
        "!tar xf spark-3.5.2-bin-hadoop3.tgz\n",
        "!pip install -q findspark\n",
        "!pip install pyspark\n",
        "!pip install py4j"
      ],
      "metadata": {
        "colab": {
          "base_uri": "https://localhost:8080/"
        },
        "id": "KlD6Z5e_BKcK",
        "outputId": "7c759ef2-799a-4fcb-8c02-b120cb1df613"
      },
      "execution_count": 34,
      "outputs": [
        {
          "output_type": "stream",
          "name": "stdout",
          "text": [
            "\u001b[33m\r0% [Working]\u001b[0m\r            \rHit:1 https://cloud.r-project.org/bin/linux/ubuntu jammy-cran40/ InRelease\n",
            "Hit:2 https://developer.download.nvidia.com/compute/cuda/repos/ubuntu2204/x86_64  InRelease\n",
            "Hit:3 https://r2u.stat.illinois.edu/ubuntu jammy InRelease\n",
            "Hit:4 http://archive.ubuntu.com/ubuntu jammy InRelease\n",
            "Hit:5 http://security.ubuntu.com/ubuntu jammy-security InRelease\n",
            "Hit:6 http://archive.ubuntu.com/ubuntu jammy-updates InRelease\n",
            "Hit:7 http://archive.ubuntu.com/ubuntu jammy-backports InRelease\n",
            "Hit:8 https://ppa.launchpadcontent.net/deadsnakes/ppa/ubuntu jammy InRelease\n",
            "Hit:9 https://ppa.launchpadcontent.net/graphics-drivers/ppa/ubuntu jammy InRelease\n",
            "Hit:10 https://ppa.launchpadcontent.net/ubuntugis/ppa/ubuntu jammy InRelease\n",
            "Reading package lists... Done\n",
            "Building dependency tree... Done\n",
            "Reading state information... Done\n",
            "59 packages can be upgraded. Run 'apt list --upgradable' to see them.\n",
            "\u001b[1;33mW: \u001b[0mSkipping acquire of configured file 'main/source/Sources' as repository 'https://r2u.stat.illinois.edu/ubuntu jammy InRelease' does not seem to provide it (sources.list entry misspelt?)\u001b[0m\n",
            "tar: spark-3.5.2-bin-hadoop3.tgz: Cannot open: No such file or directory\n",
            "tar: Error is not recoverable: exiting now\n",
            "Requirement already satisfied: pyspark in /usr/local/lib/python3.10/dist-packages (3.5.3)\n",
            "Requirement already satisfied: py4j==0.10.9.7 in /usr/local/lib/python3.10/dist-packages (from pyspark) (0.10.9.7)\n",
            "Requirement already satisfied: py4j in /usr/local/lib/python3.10/dist-packages (0.10.9.7)\n"
          ]
        }
      ]
    },
    {
      "cell_type": "code",
      "source": [
        "# Import necessary libraries\n",
        "from pyspark.sql import SparkSession\n",
        "from pyspark.ml.linalg import Vectors\n",
        "from pyspark.ml.feature import VectorAssembler\n",
        "from pyspark.ml.classification import LinearSVC, OneVsRest\n",
        "from pyspark.sql.types import StructType, StructField, FloatType, StringType\n",
        "from pyspark.sql import Row\n",
        "from pyspark.ml.evaluation import MulticlassClassificationEvaluator"
      ],
      "metadata": {
        "id": "uHvOU_BqBLQs"
      },
      "execution_count": 35,
      "outputs": []
    },
    {
      "cell_type": "markdown",
      "source": [],
      "metadata": {
        "id": "Xg-ECcqL8IWe"
      }
    },
    {
      "cell_type": "code",
      "source": [
        "# Initialize SparkSession\n",
        "spark = SparkSession.builder \\\n",
        "            .appName(\"CIDwSVM\") \\\n",
        "            .config(\"spark.ui.port\",\"4040\") \\\n",
        "            .getOrCreate()\n",
        "\n",
        "spark.sparkContext.setLogLevel(\"ERROR\")"
      ],
      "metadata": {
        "id": "t2pSp87hBneo"
      },
      "execution_count": 36,
      "outputs": []
    },
    {
      "cell_type": "code",
      "source": [
        "# Define schema for the DataFrame\n",
        "Iris_schema = StructType([\n",
        "    StructField(\"Id\", FloatType(), True),\n",
        "    StructField(\"SepalLengthCm\", FloatType(), True),\n",
        "    StructField(\"SepalWidthCm\", FloatType(), True),\n",
        "    StructField(\"PetalLengthCm\", FloatType(), True),\n",
        "    StructField(\"PetalWidthCm\", FloatType(), True),\n",
        "    StructField(\"Species\", StringType(), True)\n",
        "])"
      ],
      "metadata": {
        "id": "Uur7_TT1DUWK"
      },
      "execution_count": 37,
      "outputs": []
    },
    {
      "cell_type": "code",
      "source": [
        "#Aqui estamos haciendo el schema\n",
        "df = spark.read.format(\"csv\").\\\n",
        "    option(\"header\", \"true\").\\\n",
        "    option(\"mode\", \"permissive\").\\\n",
        "    option(\"path\", \"/content/drive/MyDrive/Iris_Dataset.csv\").\\\n",
        "    schema(Iris_schema).\\\n",
        "    load()\n",
        "df.printSchema()\n",
        "df.show(n=10, truncate=False)"
      ],
      "metadata": {
        "colab": {
          "base_uri": "https://localhost:8080/"
        },
        "id": "F_ichj2EA9i0",
        "outputId": "997cbba9-314a-44bf-bc6b-1ad168127438"
      },
      "execution_count": 38,
      "outputs": [
        {
          "output_type": "stream",
          "name": "stdout",
          "text": [
            "root\n",
            " |-- Id: float (nullable = true)\n",
            " |-- SepalLengthCm: float (nullable = true)\n",
            " |-- SepalWidthCm: float (nullable = true)\n",
            " |-- PetalLengthCm: float (nullable = true)\n",
            " |-- PetalWidthCm: float (nullable = true)\n",
            " |-- Species: string (nullable = true)\n",
            "\n",
            "+----+-------------+------------+-------------+------------+-----------+\n",
            "|Id  |SepalLengthCm|SepalWidthCm|PetalLengthCm|PetalWidthCm|Species    |\n",
            "+----+-------------+------------+-------------+------------+-----------+\n",
            "|1.0 |5.1          |3.5         |1.4          |0.2         |Iris-setosa|\n",
            "|2.0 |4.9          |3.0         |1.4          |0.2         |Iris-setosa|\n",
            "|3.0 |4.7          |3.2         |1.3          |0.2         |Iris-setosa|\n",
            "|4.0 |4.6          |3.1         |1.5          |0.2         |Iris-setosa|\n",
            "|5.0 |5.0          |3.6         |1.4          |0.2         |Iris-setosa|\n",
            "|6.0 |5.4          |3.9         |1.7          |0.4         |Iris-setosa|\n",
            "|7.0 |4.6          |3.4         |1.4          |0.3         |Iris-setosa|\n",
            "|8.0 |5.0          |3.4         |1.5          |0.2         |Iris-setosa|\n",
            "|9.0 |4.4          |2.9         |1.4          |0.2         |Iris-setosa|\n",
            "|10.0|4.9          |3.1         |1.5          |0.1         |Iris-setosa|\n",
            "+----+-------------+------------+-------------+------------+-----------+\n",
            "only showing top 10 rows\n",
            "\n"
          ]
        }
      ]
    },
    {
      "cell_type": "code",
      "source": [
        "# Transform features into a single vector column\n",
        "from pyspark.ml.feature import VectorAssembler\n",
        "feature_cols = [\"SepalLengthCm\", \"SepalWidthCm\", \"PetalLengthCm\", \"PetalWidthCm\"]\n",
        "assembler = VectorAssembler(inputCols=feature_cols, outputCol=\"features\")\n",
        "df = assembler.transform(df)\n",
        "\n",
        "# Muestra el resultado\n",
        "df.select(\"features\", \"Species\").show(10, truncate=False)"
      ],
      "metadata": {
        "colab": {
          "base_uri": "https://localhost:8080/"
        },
        "id": "3w2tNkh7Fiwr",
        "outputId": "18c54c0c-dc9f-460e-f267-4bd1a995ed62"
      },
      "execution_count": 39,
      "outputs": [
        {
          "output_type": "stream",
          "name": "stdout",
          "text": [
            "+----------------------------------------------------------------------------+-----------+\n",
            "|features                                                                    |Species    |\n",
            "+----------------------------------------------------------------------------+-----------+\n",
            "|[5.099999904632568,3.5,1.399999976158142,0.20000000298023224]               |Iris-setosa|\n",
            "|[4.900000095367432,3.0,1.399999976158142,0.20000000298023224]               |Iris-setosa|\n",
            "|[4.699999809265137,3.200000047683716,1.2999999523162842,0.20000000298023224]|Iris-setosa|\n",
            "|[4.599999904632568,3.0999999046325684,1.5,0.20000000298023224]              |Iris-setosa|\n",
            "|[5.0,3.5999999046325684,1.399999976158142,0.20000000298023224]              |Iris-setosa|\n",
            "|[5.400000095367432,3.9000000953674316,1.7000000476837158,0.4000000059604645]|Iris-setosa|\n",
            "|[4.599999904632568,3.4000000953674316,1.399999976158142,0.30000001192092896]|Iris-setosa|\n",
            "|[5.0,3.4000000953674316,1.5,0.20000000298023224]                            |Iris-setosa|\n",
            "|[4.400000095367432,2.9000000953674316,1.399999976158142,0.20000000298023224]|Iris-setosa|\n",
            "|[4.900000095367432,3.0999999046325684,1.5,0.10000000149011612]              |Iris-setosa|\n",
            "+----------------------------------------------------------------------------+-----------+\n",
            "only showing top 10 rows\n",
            "\n"
          ]
        }
      ]
    },
    {
      "cell_type": "code",
      "source": [
        "from pyspark.ml.feature import StringIndexer\n",
        "label_indexer = StringIndexer(inputCol=\"Species\", outputCol=\"label\")\n",
        "df = label_indexer.fit(df).transform(df)\n"
      ],
      "metadata": {
        "id": "DFWHdDosJ_vD"
      },
      "execution_count": 40,
      "outputs": []
    },
    {
      "cell_type": "code",
      "source": [
        "# Initialize the LinearSVC classifier for binary classification\n",
        "lsvc = LinearSVC(maxIter=10, regParam=0.01)\n",
        "\n",
        "# Set up OneVsRest classifier for multi-class classification\n",
        "ovr = OneVsRest(classifier=lsvc)\n",
        "\n",
        "# Train the model\n",
        "ovr_model = ovr.fit(df)\n",
        "\n",
        "# Make predictions on the test set\n",
        "predictions = ovr_model.transform(df)\n",
        "\n",
        "# Show predictions\n",
        "predictions.show()\n",
        "\n",
        "# Evaluate the model\n",
        "evaluator = MulticlassClassificationEvaluator(metricName=\"f1\")\n",
        "f1 = evaluator.evaluate(predictions)\n",
        "print(\"Test F1 Score = \", f1)\n",
        "\n",
        "# Stop the Spark session\n",
        "spark.stop()"
      ],
      "metadata": {
        "colab": {
          "base_uri": "https://localhost:8080/"
        },
        "id": "Y08OVbGyHNMJ",
        "outputId": "595fcea3-f3c1-41d9-fc69-bce97cc65557"
      },
      "execution_count": 41,
      "outputs": [
        {
          "output_type": "stream",
          "name": "stdout",
          "text": [
            "+----+-------------+------------+-------------+------------+-----------+--------------------+-----+--------------------+----------+\n",
            "|  Id|SepalLengthCm|SepalWidthCm|PetalLengthCm|PetalWidthCm|    Species|            features|label|       rawPrediction|prediction|\n",
            "+----+-------------+------------+-------------+------------+-----------+--------------------+-----+--------------------+----------+\n",
            "| 1.0|          5.1|         3.5|          1.4|         0.2|Iris-setosa|[5.09999990463256...|  0.0|[2.08191232093384...|       0.0|\n",
            "| 2.0|          4.9|         3.0|          1.4|         0.2|Iris-setosa|[4.90000009536743...|  0.0|[1.47026651060883...|       0.0|\n",
            "| 3.0|          4.7|         3.2|          1.3|         0.2|Iris-setosa|[4.69999980926513...|  0.0|[1.87015643341117...|       0.0|\n",
            "| 4.0|          4.6|         3.1|          1.5|         0.2|Iris-setosa|[4.59999990463256...|  0.0|[1.68565838961183...|       0.0|\n",
            "| 5.0|          5.0|         3.6|          1.4|         0.2|Iris-setosa|[5.0,3.5999999046...|  0.0|[2.26030773807923...|       0.0|\n",
            "| 6.0|          5.4|         3.9|          1.7|         0.4|Iris-setosa|[5.40000009536743...|  0.0|[2.17447218562193...|       0.0|\n",
            "| 7.0|          4.6|         3.4|          1.4|         0.3|Iris-setosa|[4.59999990463256...|  0.0|[2.03810428546113...|       0.0|\n",
            "| 8.0|          5.0|         3.4|          1.5|         0.2|Iris-setosa|[5.0,3.4000000953...|  0.0|[1.94051317468490...|       0.0|\n",
            "| 9.0|          4.4|         2.9|          1.4|         0.2|Iris-setosa|[4.40000009536743...|  0.0|[1.53215580022223...|       0.0|\n",
            "|10.0|          4.9|         3.1|          1.5|         0.1|Iris-setosa|[4.90000009536743...|  0.0|[1.67121325796290...|       0.0|\n",
            "|11.0|          5.4|         3.7|          1.5|         0.2|Iris-setosa|[5.40000009536743...|  0.0|[2.19536762991032...|       0.0|\n",
            "|12.0|          4.8|         3.4|          1.6|         0.2|Iris-setosa|[4.80000019073486...|  0.0|[1.97750944558135...|       0.0|\n",
            "|13.0|          4.8|         3.0|          1.4|         0.1|Iris-setosa|[4.80000019073486...|  0.0|[1.61601124711948...|       0.0|\n",
            "|14.0|          4.3|         3.0|          1.1|         0.1|Iris-setosa|[4.30000019073486...|  0.0|[1.94554418630946...|       0.0|\n",
            "|15.0|          5.8|         4.0|          1.2|         0.2|Iris-setosa|[5.80000019073486...|  0.0|[2.57951773686654...|       0.0|\n",
            "|16.0|          5.7|         4.4|          1.5|         0.4|Iris-setosa|[5.69999980926513...|  0.0|[2.83226771205285...|       0.0|\n",
            "|17.0|          5.4|         3.9|          1.3|         0.4|Iris-setosa|[5.40000009536743...|  0.0|[2.34686645643297...|       0.0|\n",
            "|18.0|          5.1|         3.5|          1.4|         0.3|Iris-setosa|[5.09999990463256...|  0.0|[1.97621499584773...|       0.0|\n",
            "|19.0|          5.7|         3.8|          1.7|         0.3|Iris-setosa|[5.69999980926513...|  0.0|[2.02167890936567...|       0.0|\n",
            "|20.0|          5.1|         3.8|          1.5|         0.3|Iris-setosa|[5.09999990463256...|  0.0|[2.34816075152997...|       0.0|\n",
            "+----+-------------+------------+-------------+------------+-----------+--------------------+-----+--------------------+----------+\n",
            "only showing top 20 rows\n",
            "\n",
            "Test F1 Score =  0.920045695045695\n"
          ]
        }
      ]
    },
    {
      "cell_type": "code",
      "source": [],
      "metadata": {
        "id": "H8A8nGPCLUSQ"
      },
      "execution_count": null,
      "outputs": []
    }
  ]
}