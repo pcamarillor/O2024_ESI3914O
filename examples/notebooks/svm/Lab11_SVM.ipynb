{
  "nbformat": 4,
  "nbformat_minor": 0,
  "metadata": {
    "colab": {
      "provenance": []
    },
    "kernelspec": {
      "name": "python3",
      "display_name": "Python 3"
    },
    "language_info": {
      "name": "python"
    }
  },
  "cells": [
    {
      "cell_type": "code",
      "execution_count": 1,
      "metadata": {
        "colab": {
          "base_uri": "https://localhost:8080/"
        },
        "id": "_IHZeHIA71L7",
        "outputId": "5c99da84-65c0-4682-f89c-a6adeddcde71"
      },
      "outputs": [
        {
          "output_type": "stream",
          "name": "stdout",
          "text": [
            "\u001b[33m\r0% [Working]\u001b[0m\r            \rHit:1 https://cloud.r-project.org/bin/linux/ubuntu jammy-cran40/ InRelease\n",
            "Hit:2 https://developer.download.nvidia.com/compute/cuda/repos/ubuntu2204/x86_64  InRelease\n",
            "Hit:3 http://security.ubuntu.com/ubuntu jammy-security InRelease\n",
            "Hit:4 https://r2u.stat.illinois.edu/ubuntu jammy InRelease\n",
            "Hit:5 http://archive.ubuntu.com/ubuntu jammy InRelease\n",
            "Hit:6 http://archive.ubuntu.com/ubuntu jammy-updates InRelease\n",
            "Hit:7 http://archive.ubuntu.com/ubuntu jammy-backports InRelease\n",
            "Hit:8 https://ppa.launchpadcontent.net/deadsnakes/ppa/ubuntu jammy InRelease\n",
            "Hit:9 https://ppa.launchpadcontent.net/graphics-drivers/ppa/ubuntu jammy InRelease\n",
            "Hit:10 https://ppa.launchpadcontent.net/ubuntugis/ppa/ubuntu jammy InRelease\n",
            "Reading package lists... Done\n",
            "Building dependency tree... Done\n",
            "Reading state information... Done\n",
            "59 packages can be upgraded. Run 'apt list --upgradable' to see them.\n",
            "\u001b[1;33mW: \u001b[0mSkipping acquire of configured file 'main/source/Sources' as repository 'https://r2u.stat.illinois.edu/ubuntu jammy InRelease' does not seem to provide it (sources.list entry misspelt?)\u001b[0m\n",
            "tar: spark-3.5.2-bin-hadoop3.tgz: Cannot open: No such file or directory\n",
            "tar: Error is not recoverable: exiting now\n",
            "Requirement already satisfied: pyspark in /usr/local/lib/python3.10/dist-packages (3.5.3)\n",
            "Requirement already satisfied: py4j==0.10.9.7 in /usr/local/lib/python3.10/dist-packages (from pyspark) (0.10.9.7)\n",
            "Requirement already satisfied: py4j in /usr/local/lib/python3.10/dist-packages (0.10.9.7)\n"
          ]
        }
      ],
      "source": [
        "!sudo apt update\n",
        "!apt-get install openjdk-8-jdk-headless -qq > /dev/null\n",
        "# Check this site for the latest download link\n",
        "# https://www.apache.org/dyn/closer.lua/spark\n",
        "!wget -q https://dlcdn.apache.org/spark/spark-3.5.2/spark-3.5.2-bin-hadoop3.tgz\n",
        "!tar xf spark-3.5.2-bin-hadoop3.tgz\n",
        "!pip install -q findspark\n",
        "!pip install pyspark\n",
        "!pip install py4j"
      ]
    },
    {
      "cell_type": "code",
      "source": [
        "from pyspark.sql import SparkSession\n",
        "from pyspark.sql.types import StructField, StructType, FloatType, IntegerType, StringType\n",
        "from pyspark.sql.functions import col,isnan, when, count\n",
        "\n",
        "# Create Spark Session in localhost\n",
        "spark = SparkSession.builder.master(\"local\").\\\n",
        "    appName(\"ITESO-LogisticRegression\").\\\n",
        "    getOrCreate()\n",
        "\n",
        "# Set spark context\n",
        "sc = spark.sparkContext\n",
        "sc.setLogLevel(\"ERROR\")\n",
        "\n",
        "\n",
        "iris_prediction_schema = StructType([\n",
        "    StructField(\"Id\", IntegerType(), True),\n",
        "    StructField(\"SepalLengthCm\", FloatType(), True),\n",
        "    StructField(\"SepalWidthCm\", FloatType(), True),\n",
        "    StructField(\"PetalLengthCm\", FloatType(), True),\n",
        "    StructField(\"PetalWidthCm\", FloatType(), True),\n",
        "    StructField(\"Species\", StringType(), True)\n",
        "])\n",
        "\n",
        "\n",
        "df = spark.read.format(\"csv\").\\\n",
        "    option(\"header\", \"true\").\\\n",
        "    option(\"mode\", \"permissive\").\\\n",
        "    option(\"path\", \"/content/sample_data/iris.csv\").\\\n",
        "    schema(iris_prediction_schema).\\\n",
        "    load()\n",
        "df.printSchema()\n",
        "df.show(n=10, truncate=False)\n",
        "\n",
        "# Add a categorical numerical column for Species\n",
        "df = df.withColumn(\n",
        "    \"SpeciesCode\",\n",
        "    when(df[\"Species\"] == \"Iris-setosa\", 1)\n",
        "    .when(df[\"Species\"] == \"Iris-versicolor\", 2)\n",
        "    .when(df[\"Species\"] == \"Iris-virginica\", 3)\n",
        "    .otherwise(None)\n",
        ")\n",
        "\n",
        "df.show()"
      ],
      "metadata": {
        "colab": {
          "base_uri": "https://localhost:8080/"
        },
        "id": "JcbrOwsN8ALy",
        "outputId": "40d6f942-43cb-4e07-b084-5799e7b29b84"
      },
      "execution_count": 7,
      "outputs": [
        {
          "output_type": "stream",
          "name": "stdout",
          "text": [
            "root\n",
            " |-- Id: integer (nullable = true)\n",
            " |-- SepalLengthCm: float (nullable = true)\n",
            " |-- SepalWidthCm: float (nullable = true)\n",
            " |-- PetalLengthCm: float (nullable = true)\n",
            " |-- PetalWidthCm: float (nullable = true)\n",
            " |-- Species: string (nullable = true)\n",
            "\n",
            "+---+-------------+------------+-------------+------------+-----------+\n",
            "|Id |SepalLengthCm|SepalWidthCm|PetalLengthCm|PetalWidthCm|Species    |\n",
            "+---+-------------+------------+-------------+------------+-----------+\n",
            "|1  |5.1          |3.5         |1.4          |0.2         |Iris-setosa|\n",
            "|2  |4.9          |3.0         |1.4          |0.2         |Iris-setosa|\n",
            "|3  |4.7          |3.2         |1.3          |0.2         |Iris-setosa|\n",
            "|4  |4.6          |3.1         |1.5          |0.2         |Iris-setosa|\n",
            "|5  |5.0          |3.6         |1.4          |0.2         |Iris-setosa|\n",
            "|6  |5.4          |3.9         |1.7          |0.4         |Iris-setosa|\n",
            "|7  |4.6          |3.4         |1.4          |0.3         |Iris-setosa|\n",
            "|8  |5.0          |3.4         |1.5          |0.2         |Iris-setosa|\n",
            "|9  |4.4          |2.9         |1.4          |0.2         |Iris-setosa|\n",
            "|10 |4.9          |3.1         |1.5          |0.1         |Iris-setosa|\n",
            "+---+-------------+------------+-------------+------------+-----------+\n",
            "only showing top 10 rows\n",
            "\n",
            "+---+-------------+------------+-------------+------------+-----------+-----------+\n",
            "| Id|SepalLengthCm|SepalWidthCm|PetalLengthCm|PetalWidthCm|    Species|SpeciesCode|\n",
            "+---+-------------+------------+-------------+------------+-----------+-----------+\n",
            "|  1|          5.1|         3.5|          1.4|         0.2|Iris-setosa|          1|\n",
            "|  2|          4.9|         3.0|          1.4|         0.2|Iris-setosa|          1|\n",
            "|  3|          4.7|         3.2|          1.3|         0.2|Iris-setosa|          1|\n",
            "|  4|          4.6|         3.1|          1.5|         0.2|Iris-setosa|          1|\n",
            "|  5|          5.0|         3.6|          1.4|         0.2|Iris-setosa|          1|\n",
            "|  6|          5.4|         3.9|          1.7|         0.4|Iris-setosa|          1|\n",
            "|  7|          4.6|         3.4|          1.4|         0.3|Iris-setosa|          1|\n",
            "|  8|          5.0|         3.4|          1.5|         0.2|Iris-setosa|          1|\n",
            "|  9|          4.4|         2.9|          1.4|         0.2|Iris-setosa|          1|\n",
            "| 10|          4.9|         3.1|          1.5|         0.1|Iris-setosa|          1|\n",
            "| 11|          5.4|         3.7|          1.5|         0.2|Iris-setosa|          1|\n",
            "| 12|          4.8|         3.4|          1.6|         0.2|Iris-setosa|          1|\n",
            "| 13|          4.8|         3.0|          1.4|         0.1|Iris-setosa|          1|\n",
            "| 14|          4.3|         3.0|          1.1|         0.1|Iris-setosa|          1|\n",
            "| 15|          5.8|         4.0|          1.2|         0.2|Iris-setosa|          1|\n",
            "| 16|          5.7|         4.4|          1.5|         0.4|Iris-setosa|          1|\n",
            "| 17|          5.4|         3.9|          1.3|         0.4|Iris-setosa|          1|\n",
            "| 18|          5.1|         3.5|          1.4|         0.3|Iris-setosa|          1|\n",
            "| 19|          5.7|         3.8|          1.7|         0.3|Iris-setosa|          1|\n",
            "| 20|          5.1|         3.8|          1.5|         0.3|Iris-setosa|          1|\n",
            "+---+-------------+------------+-------------+------------+-----------+-----------+\n",
            "only showing top 20 rows\n",
            "\n"
          ]
        }
      ]
    },
    {
      "cell_type": "code",
      "source": [
        "from pyspark.ml.feature import VectorAssembler\n",
        "from pyspark.ml.feature import StringIndexer\n",
        "from pyspark.ml.classification import OneVsRest, LinearSVC\n",
        "from pyspark.ml.evaluation import MulticlassClassificationEvaluator\n",
        "\n",
        "\n",
        "vecAssembler = VectorAssembler(inputCols=[\"SepalLengthCm\", \"SepalWidthCm\", \"PetalLengthCm\", 'PetalWidthCm'], outputCol=\"features\")\n",
        "df = vecAssembler.transform(df)\n",
        "\n",
        "stringIndexer = StringIndexer(inputCol=\"Species\", outputCol=\"label\")\n",
        "si_model = stringIndexer.fit(df)\n",
        "df = si_model.transform(df)\n",
        "\n",
        "svm = LinearSVC()\n",
        "ovr = OneVsRest(classifier=svm)\n",
        "ovrModel = ovr.fit(df)\n",
        "\n",
        "evaluator = MulticlassClassificationEvaluator(metricName=\"f1\")\n",
        "\n",
        "predictions = ovrModel.transform(df)\n",
        "\n",
        "\n",
        "print(\"F1: {}\".format(evaluator.evaluate(predictions)))\n"
      ],
      "metadata": {
        "colab": {
          "base_uri": "https://localhost:8080/"
        },
        "id": "BPa2U9aP8oiK",
        "outputId": "c365edc0-2b7b-48c9-d5ee-59c387a920d6"
      },
      "execution_count": 8,
      "outputs": [
        {
          "output_type": "stream",
          "name": "stdout",
          "text": [
            "F1: 0.9463864753822322\n"
          ]
        }
      ]
    },
    {
      "cell_type": "code",
      "source": [],
      "metadata": {
        "id": "HgCfFXRX9gDP"
      },
      "execution_count": 3,
      "outputs": []
    }
  ]
}