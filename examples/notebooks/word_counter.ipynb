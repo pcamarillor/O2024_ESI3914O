{
 "cells": [
  {
   "cell_type": "markdown",
   "metadata": {
    "colab_type": "text",
    "id": "view-in-github"
   },
   "source": [
    "<a href=\"https://colab.research.google.com/github/pcamarillor/O2024_ESI3914O/blob/pablo_camarillo_add_spark_setup/examples/notebooks/lab01.ipynb\" target=\"_parent\"><img src=\"https://colab.research.google.com/assets/colab-badge.svg\" alt=\"Open In Colab\"/></a>"
   ]
  },
  {
   "cell_type": "code",
   "metadata": {
    "colab": {
     "base_uri": "https://localhost:8080/"
    },
    "id": "lPSQzDhW0nKI",
    "outputId": "6bfe432e-7678-42d6-8232-0a25c3496a2b",
    "ExecuteTime": {
     "end_time": "2024-08-28T03:54:56.836429Z",
     "start_time": "2024-08-28T03:53:43.602519Z"
    }
   },
   "source": [
    "!sudo apt update\n",
    "!apt-get install openjdk-8-jdk-headless -qq > /dev/null\n",
    "# Check this site for the latest download link\n",
    "# https://www.apache.org/dyn/closer.lua/spark\n",
    "!wget -q https://dlcdn.apache.org/spark/spark-3.5.2/spark-3.5.2-bin-hadoop3.tgz\n",
    "!tar xf spark-3.5.2-bin-hadoop3.tgz\n",
    "!pip install -q findspark\n",
    "!pip install pyspark\n",
    "!pip install py4j"
   ],
   "outputs": [
    {
     "name": "stdout",
     "output_type": "stream",
     "text": [
      "/bin/bash: warning: setlocale: LC_ALL: cannot change locale (en_US.UTF-8)\r\n",
      "[sudo] password for parallels: \r\n",
      "/bin/bash: warning: setlocale: LC_ALL: cannot change locale (en_US.UTF-8)\r\n",
      "E: Could not open lock file /var/lib/dpkg/lock-frontend - open (13: Permission denied)\r\n",
      "E: Unable to acquire the dpkg frontend lock (/var/lib/dpkg/lock-frontend), are you root?\r\n",
      "/bin/bash: warning: setlocale: LC_ALL: cannot change locale (en_US.UTF-8)\r\n",
      "/bin/bash: warning: setlocale: LC_ALL: cannot change locale (en_US.UTF-8)\r\n",
      "/bin/bash: warning: setlocale: LC_ALL: cannot change locale (en_US.UTF-8)\r\n",
      "/bin/bash: warning: setlocale: LC_ALL: cannot change locale (en_US.UTF-8)\r\n",
      "Defaulting to user installation because normal site-packages is not writeable\r\n",
      "Requirement already satisfied: pyspark in /home/parallels/.local/lib/python3.10/site-packages (3.5.2)\r\n",
      "Requirement already satisfied: py4j==0.10.9.7 in /home/parallels/.local/lib/python3.10/site-packages (from pyspark) (0.10.9.7)\r\n",
      "/bin/bash: warning: setlocale: LC_ALL: cannot change locale (en_US.UTF-8)\r\n",
      "Defaulting to user installation because normal site-packages is not writeable\r\n",
      "Requirement already satisfied: py4j in /home/parallels/.local/lib/python3.10/site-packages (0.10.9.7)\r\n"
     ]
    }
   ],
   "execution_count": 4
  },
  {
   "cell_type": "code",
   "metadata": {
    "id": "c8RNY4wS0iKl",
    "ExecuteTime": {
     "end_time": "2024-08-29T16:20:26.709134Z",
     "start_time": "2024-08-29T16:20:25.570467Z"
    }
   },
   "source": [
    "from pyspark.sql import SparkSession\n",
    "spark = SparkSession.builder \\\n",
    "  .master(\"local[*]\") \\\n",
    "  .appName(\"ITESO-2024-SparkIntroduction\") \\\n",
    "  .config(\"spark.driver.bindAddress\",\"localhost\") \\\n",
    "  .config(\"spark.ui.port\",\"4040\") \\\n",
    "  .getOrCreate()\n",
    "\n",
    "sc = spark.sparkContext"
   ],
   "outputs": [],
   "execution_count": 2
  },
  {
   "cell_type": "code",
   "metadata": {
    "colab": {
     "base_uri": "https://localhost:8080/"
    },
    "id": "OCFQkD7M0iKm",
    "outputId": "7fe1bad8-4b4a-4c0f-f822-2bd79a4dab84",
    "ExecuteTime": {
     "end_time": "2024-08-29T16:20:33.372232Z",
     "start_time": "2024-08-29T16:20:31.592306Z"
    }
   },
   "source": [
    "# Create an RDD with a list of sentences\n",
    "\n",
    "sentences = [\n",
    "    \"Lorem ipsum dolor sit amet, consectetur adipiscing elit.\",\n",
    "    \"Sed do eiusmod tempor incididunt ut labore et dolore magna aliqua.\",\n",
    "    \"Ut enim ad minim veniam, quis nostrud exercitation ullamco laboris nisi ut aliquip ex ea commodo consequat.\",\n",
    "    \"Duis aute irure dolor in reprehenderit in voluptate velit esse cillum dolore eu fugiat nulla pariatur.\",\n",
    "    \"Excepteur sint occaecat cupidatat non proident, sunt in culpa qui officia deserunt mollit anim id est laborum.\",\n",
    "    \"Curabitur pretium tincidunt lacus. Nulla gravida orci a odio.\",\n",
    "    \"Nullam varius, turpis et commodo pharetra, est eros bibendum elit, nec malesuada elit elit vel lectus.\",\n",
    "    \"Sed ut perspiciatis unde omnis iste natus error sit voluptatem accusantium doloremque laudantium.\",\n",
    "    \"Nemo enim ipsam voluptatem quia voluptas sit aspernatur aut odit aut fugit.\",\n",
    "    \"Sed quia consequuntur magni dolores eos qui ratione voluptatem sequi nesciunt.\",\n",
    "    \"Neque porro quisquam est qui dolorem ipsum quia dolor sit amet, consectetur, adipisci velit.\",\n",
    "    \"Lorem ipsum dolor sit amet, consectetur adipiscing elit. Sed do eiusmod tempor incididunt ut labore et dolore magna aliqua.\",\n",
    "    \"Ut enim ad minim veniam, quis nostrud exercitation ullamco laboris nisi ut aliquip ex ea commodo consequat.\"\n",
    "]\n",
    "sentences_rdd = sc.parallelize(sentences)\n",
    "\n",
    "# Tokenize the sentences into words\n",
    "words_rdd = sentences_rdd.flatMap(lambda line: line.split())\n",
    "\n",
    "print(words_rdd.collect())"
   ],
   "outputs": [
    {
     "name": "stderr",
     "output_type": "stream",
     "text": [
      "[Stage 0:>                                                          (0 + 2) / 2]\r"
     ]
    },
    {
     "name": "stdout",
     "output_type": "stream",
     "text": [
      "['Lorem', 'ipsum', 'dolor', 'sit', 'amet,', 'consectetur', 'adipiscing', 'elit.', 'Sed', 'do', 'eiusmod', 'tempor', 'incididunt', 'ut', 'labore', 'et', 'dolore', 'magna', 'aliqua.', 'Ut', 'enim', 'ad', 'minim', 'veniam,', 'quis', 'nostrud', 'exercitation', 'ullamco', 'laboris', 'nisi', 'ut', 'aliquip', 'ex', 'ea', 'commodo', 'consequat.', 'Duis', 'aute', 'irure', 'dolor', 'in', 'reprehenderit', 'in', 'voluptate', 'velit', 'esse', 'cillum', 'dolore', 'eu', 'fugiat', 'nulla', 'pariatur.', 'Excepteur', 'sint', 'occaecat', 'cupidatat', 'non', 'proident,', 'sunt', 'in', 'culpa', 'qui', 'officia', 'deserunt', 'mollit', 'anim', 'id', 'est', 'laborum.', 'Curabitur', 'pretium', 'tincidunt', 'lacus.', 'Nulla', 'gravida', 'orci', 'a', 'odio.', 'Nullam', 'varius,', 'turpis', 'et', 'commodo', 'pharetra,', 'est', 'eros', 'bibendum', 'elit,', 'nec', 'malesuada', 'elit', 'elit', 'vel', 'lectus.', 'Sed', 'ut', 'perspiciatis', 'unde', 'omnis', 'iste', 'natus', 'error', 'sit', 'voluptatem', 'accusantium', 'doloremque', 'laudantium.', 'Nemo', 'enim', 'ipsam', 'voluptatem', 'quia', 'voluptas', 'sit', 'aspernatur', 'aut', 'odit', 'aut', 'fugit.', 'Sed', 'quia', 'consequuntur', 'magni', 'dolores', 'eos', 'qui', 'ratione', 'voluptatem', 'sequi', 'nesciunt.', 'Neque', 'porro', 'quisquam', 'est', 'qui', 'dolorem', 'ipsum', 'quia', 'dolor', 'sit', 'amet,', 'consectetur,', 'adipisci', 'velit.', 'Lorem', 'ipsum', 'dolor', 'sit', 'amet,', 'consectetur', 'adipiscing', 'elit.', 'Sed', 'do', 'eiusmod', 'tempor', 'incididunt', 'ut', 'labore', 'et', 'dolore', 'magna', 'aliqua.', 'Ut', 'enim', 'ad', 'minim', 'veniam,', 'quis', 'nostrud', 'exercitation', 'ullamco', 'laboris', 'nisi', 'ut', 'aliquip', 'ex', 'ea', 'commodo', 'consequat.']\n"
     ]
    },
    {
     "name": "stderr",
     "output_type": "stream",
     "text": [
      "                                                                                \r"
     ]
    }
   ],
   "execution_count": 3
  },
  {
   "cell_type": "code",
   "metadata": {
    "colab": {
     "base_uri": "https://localhost:8080/"
    },
    "id": "oOU3eBKy1XCh",
    "outputId": "cab1f8ae-d051-453f-c153-6408f373e393",
    "ExecuteTime": {
     "end_time": "2024-08-29T16:20:42.860315Z",
     "start_time": "2024-08-29T16:20:41.847754Z"
    }
   },
   "source": [
    "# Compute the frequency of each word\n",
    "word_counts_rdd = words_rdd.map(lambda word: (word, 1)).reduceByKey(lambda a, b: a + b)\n",
    "print(word_counts_rdd.collect())"
   ],
   "outputs": [
    {
     "name": "stderr",
     "output_type": "stream",
     "text": [
      "[Stage 1:>                                                          (0 + 2) / 2]\r"
     ]
    },
    {
     "name": "stdout",
     "output_type": "stream",
     "text": [
      "[('Lorem', 2), ('ipsum', 3), ('consectetur', 2), ('elit.', 2), ('Sed', 4), ('do', 2), ('labore', 2), ('magna', 2), ('quis', 2), ('exercitation', 2), ('ullamco', 2), ('laboris', 2), ('nisi', 2), ('aliquip', 2), ('ex', 2), ('commodo', 3), ('consequat.', 2), ('Duis', 1), ('aute', 1), ('in', 3), ('reprehenderit', 1), ('voluptate', 1), ('cillum', 1), ('fugiat', 1), ('nulla', 1), ('pariatur.', 1), ('sint', 1), ('sunt', 1), ('officia', 1), ('deserunt', 1), ('anim', 1), ('est', 3), ('laborum.', 1), ('lacus.', 1), ('varius,', 1), ('pharetra,', 1), ('bibendum', 1), ('malesuada', 1), ('unde', 1), ('omnis', 1), ('iste', 1), ('Nemo', 1), ('quia', 3), ('aspernatur', 1), ('fugit.', 1), ('dolores', 1), ('ratione', 1), ('porro', 1), ('dolor', 4), ('sit', 5), ('amet,', 3), ('adipiscing', 2), ('eiusmod', 2), ('tempor', 2), ('incididunt', 2), ('ut', 5), ('et', 3), ('dolore', 3), ('aliqua.', 2), ('Ut', 2), ('enim', 3), ('ad', 2), ('minim', 2), ('veniam,', 2), ('nostrud', 2), ('ea', 2), ('irure', 1), ('velit', 1), ('esse', 1), ('eu', 1), ('Excepteur', 1), ('occaecat', 1), ('cupidatat', 1), ('non', 1), ('proident,', 1), ('culpa', 1), ('qui', 3), ('mollit', 1), ('id', 1), ('Curabitur', 1), ('pretium', 1), ('tincidunt', 1), ('Nulla', 1), ('gravida', 1), ('orci', 1), ('a', 1), ('odio.', 1), ('Nullam', 1), ('turpis', 1), ('eros', 1), ('elit,', 1), ('nec', 1), ('elit', 2), ('vel', 1), ('lectus.', 1), ('perspiciatis', 1), ('natus', 1), ('error', 1), ('voluptatem', 3), ('accusantium', 1), ('doloremque', 1), ('laudantium.', 1), ('ipsam', 1), ('voluptas', 1), ('aut', 2), ('odit', 1), ('consequuntur', 1), ('magni', 1), ('eos', 1), ('sequi', 1), ('nesciunt.', 1), ('Neque', 1), ('quisquam', 1), ('dolorem', 1), ('consectetur,', 1), ('adipisci', 1), ('velit.', 1)]\n"
     ]
    },
    {
     "name": "stderr",
     "output_type": "stream",
     "text": [
      "                                                                                \r"
     ]
    }
   ],
   "execution_count": 4
  },
  {
   "cell_type": "code",
   "metadata": {
    "colab": {
     "base_uri": "https://localhost:8080/"
    },
    "id": "tOvhnPL61g51",
    "outputId": "9aea2f68-7fc9-4546-9394-15395126b3cd",
    "ExecuteTime": {
     "end_time": "2024-08-29T16:20:46.094581Z",
     "start_time": "2024-08-29T16:20:45.931431Z"
    }
   },
   "source": [
    "# Find the most common word\n",
    "most_common_word = word_counts_rdd.takeOrdered(1, key=lambda x: -x[1])\n",
    "print(\"Most common word:\", most_common_word)"
   ],
   "outputs": [
    {
     "name": "stdout",
     "output_type": "stream",
     "text": [
      "Most common word: [('sit', 5)]\n"
     ]
    }
   ],
   "execution_count": 5
  },
  {
   "cell_type": "code",
   "metadata": {
    "colab": {
     "base_uri": "https://localhost:8080/"
    },
    "id": "LCIztSBe1nWp",
    "outputId": "1fc6e3fc-a3d8-4658-8493-e9876e08e9f4",
    "ExecuteTime": {
     "end_time": "2024-08-29T16:20:49.475356Z",
     "start_time": "2024-08-29T16:20:49.156655Z"
    }
   },
   "source": [
    "# Compute the average word length\n",
    "total_length_rdd = words_rdd.map(lambda word: len(word)).reduce(lambda a, b: a + b)\n",
    "total_words = words_rdd.count()\n",
    "average_word_length = total_length_rdd / total_words if total_words > 0 else 0\n",
    "print(\"Average word length:\", average_word_length)"
   ],
   "outputs": [
    {
     "name": "stdout",
     "output_type": "stream",
     "text": [
      "Average word length: 5.605555555555555\n"
     ]
    }
   ],
   "execution_count": 6
  },
  {
   "metadata": {
    "ExecuteTime": {
     "end_time": "2024-08-29T16:22:17.241999Z",
     "start_time": "2024-08-29T16:22:15.496908Z"
    }
   },
   "cell_type": "code",
   "source": [
    "# Sort the RDD by word length in ascending order\n",
    "sorted_words_by_length = words_rdd.sortBy(lambda word: len(word))\n",
    "\n",
    "# Get the shortest word\n",
    "shortest_word = sorted_words_by_length.first()\n",
    "\n",
    "# Get the longest word\n",
    "longest_word = sorted_words_by_length.sortBy(lambda word: len(word), ascending=False).first()\n",
    "\n",
    "# Print the results\n",
    "print(\"Shortest word:\", shortest_word)\n",
    "print(\"Longest word:\", longest_word)\n"
   ],
   "outputs": [
    {
     "name": "stdout",
     "output_type": "stream",
     "text": [
      "reprehenderit\n",
      "Shortest word: a\n",
      "Longest word: reprehenderit\n"
     ]
    }
   ],
   "execution_count": 8
  },
  {
   "metadata": {
    "ExecuteTime": {
     "end_time": "2024-08-29T16:22:55.572642Z",
     "start_time": "2024-08-29T16:22:55.214992Z"
    }
   },
   "cell_type": "code",
   "source": [
    "#Alternative Optimized Solution Using reduce\n",
    "# Find the shortest word\n",
    "shortest_word = words_rdd.reduce(lambda a, b: a if len(a) < len(b) else b)\n",
    "\n",
    "# Find the longest word\n",
    "longest_word = words_rdd.reduce(lambda a, b: a if len(a) > len(b) else b)\n",
    "\n",
    "print(\"Results using reduce\")\n",
    "print(\"Shortest word:\", shortest_word)\n",
    "print(\"Longest word:\", longest_word)\n"
   ],
   "outputs": [
    {
     "name": "stdout",
     "output_type": "stream",
     "text": [
      "Results using reduce\n",
      "Shortest word: a\n",
      "Longest word: reprehenderit\n"
     ]
    }
   ],
   "execution_count": 9
  },
  {
   "cell_type": "code",
   "metadata": {
    "id": "fmbP4gR_1p1q",
    "ExecuteTime": {
     "end_time": "2024-08-29T16:25:42.880015Z",
     "start_time": "2024-08-29T16:25:42.369501Z"
    }
   },
   "source": [
    "# Stop the SparkContext\n",
    "sc.stop()"
   ],
   "outputs": [],
   "execution_count": 10
  }
 ],
 "metadata": {
  "colab": {
   "include_colab_link": true,
   "provenance": []
  },
  "kernelspec": {
   "display_name": "Python 3",
   "language": "python",
   "name": "python3"
  },
  "language_info": {
   "name": "python",
   "version": "3.7.2"
  }
 },
 "nbformat": 4,
 "nbformat_minor": 0
}
