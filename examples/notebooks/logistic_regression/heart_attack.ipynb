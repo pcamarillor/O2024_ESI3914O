{
 "cells": [
  {
   "cell_type": "markdown",
   "id": "221a471b",
   "metadata": {
    "id": "221a471b"
   },
   "source": [
    "<div>\n",
    "<b><br><font face = \"Gill Sans\" size = \"4\"><center>Heart attack prediction with logistic regression</center></font></b>\n",
    "</div>"
   ]
  },
  {
   "cell_type": "code",
   "execution_count": 1,
   "id": "2Jh-BzcZuThT",
   "metadata": {
    "colab": {
     "base_uri": "https://localhost:8080/"
    },
    "id": "2Jh-BzcZuThT",
    "outputId": "a95866c6-2ea7-47f1-b90f-4ed7bd44929c"
   },
   "outputs": [
    {
     "output_type": "stream",
     "name": "stdout",
     "text": [
      "Mounted at /content/drive\n"
     ]
    }
   ],
   "source": [
    "from google.colab import drive\n",
    "lol\n",
    "drive.mount('/content/drive')"
   ]
  },
  {
   "cell_type": "code",
   "execution_count": 2,
   "id": "IOh1Ev_provA",
   "metadata": {
    "colab": {
     "base_uri": "https://localhost:8080/"
    },
    "id": "IOh1Ev_provA",
    "outputId": "54d1a80a-ba4c-4770-d51d-4dc762cbabbf"
   },
   "outputs": [
    {
     "output_type": "stream",
     "name": "stdout",
     "text": [
      "\u001B[33m\r0% [Working]\u001B[0m\r            \rGet:1 https://cloud.r-project.org/bin/linux/ubuntu jammy-cran40/ InRelease [3,626 B]\n",
      "\u001B[33m\r0% [Connecting to archive.ubuntu.com (185.125.190.83)] [Waiting for headers] [1\u001B[0m\u001B[33m\r0% [Connecting to archive.ubuntu.com (185.125.190.83)] [Waiting for headers] [W\u001B[0m\r                                                                               \rGet:2 https://developer.download.nvidia.com/compute/cuda/repos/ubuntu2204/x86_64  InRelease [1,581 B]\n",
      "Get:3 http://security.ubuntu.com/ubuntu jammy-security InRelease [129 kB]\n",
      "Ign:4 https://r2u.stat.illinois.edu/ubuntu jammy InRelease\n",
      "Get:5 https://r2u.stat.illinois.edu/ubuntu jammy Release [5,713 B]\n",
      "Get:6 https://r2u.stat.illinois.edu/ubuntu jammy Release.gpg [793 B]\n",
      "Hit:7 http://archive.ubuntu.com/ubuntu jammy InRelease\n",
      "Get:8 https://developer.download.nvidia.com/compute/cuda/repos/ubuntu2204/x86_64  Packages [1,074 kB]\n",
      "Get:9 http://archive.ubuntu.com/ubuntu jammy-updates InRelease [128 kB]\n",
      "Get:10 https://r2u.stat.illinois.edu/ubuntu jammy/main amd64 Packages [2,605 kB]\n",
      "Hit:11 https://ppa.launchpadcontent.net/deadsnakes/ppa/ubuntu jammy InRelease\n",
      "Get:12 http://security.ubuntu.com/ubuntu jammy-security/restricted amd64 Packages [3,208 kB]\n",
      "Hit:13 https://ppa.launchpadcontent.net/graphics-drivers/ppa/ubuntu jammy InRelease\n",
      "Get:14 https://r2u.stat.illinois.edu/ubuntu jammy/main all Packages [8,431 kB]\n",
      "Hit:15 https://ppa.launchpadcontent.net/ubuntugis/ppa/ubuntu jammy InRelease\n",
      "Get:16 http://security.ubuntu.com/ubuntu jammy-security/main amd64 Packages [2,377 kB]\n",
      "Get:17 http://security.ubuntu.com/ubuntu jammy-security/multiverse amd64 Packages [44.7 kB]\n",
      "Get:18 http://archive.ubuntu.com/ubuntu jammy-backports InRelease [127 kB]\n",
      "Get:19 http://archive.ubuntu.com/ubuntu jammy-updates/restricted amd64 Packages [3,286 kB]\n",
      "Get:20 http://archive.ubuntu.com/ubuntu jammy-updates/universe amd64 Packages [1,450 kB]\n",
      "Get:21 http://archive.ubuntu.com/ubuntu jammy-updates/multiverse amd64 Packages [51.8 kB]\n",
      "Get:22 http://archive.ubuntu.com/ubuntu jammy-updates/main amd64 Packages [2,654 kB]\n",
      "Fetched 25.6 MB in 2s (10.9 MB/s)\n",
      "Reading package lists... Done\n",
      "Building dependency tree... Done\n",
      "Reading state information... Done\n",
      "53 packages can be upgraded. Run 'apt list --upgradable' to see them.\n",
      "\u001B[1;33mW: \u001B[0mSkipping acquire of configured file 'main/source/Sources' as repository 'https://r2u.stat.illinois.edu/ubuntu jammy InRelease' does not seem to provide it (sources.list entry misspelt?)\u001B[0m\n",
      "tar: spark-3.5.2-bin-hadoop3.tgz: Cannot open: No such file or directory\n",
      "tar: Error is not recoverable: exiting now\n",
      "Requirement already satisfied: pyspark in /usr/local/lib/python3.10/dist-packages (3.5.3)\n",
      "Requirement already satisfied: py4j==0.10.9.7 in /usr/local/lib/python3.10/dist-packages (from pyspark) (0.10.9.7)\n",
      "Requirement already satisfied: py4j in /usr/local/lib/python3.10/dist-packages (0.10.9.7)\n"
     ]
    }
   ],
   "source": [
    "!sudo apt update\n",
    "!apt-get install openjdk-8-jdk-headless -qq > /dev/null\n",
    "# Check this site for the latest download link\n",
    "# https://www.apache.org/dyn/closer.lua/spark\n",
    "!wget -q https://dlcdn.apache.org/spark/spark-3.5.2/spark-3.5.2-bin-hadoop3.tgz\n",
    "!tar xf spark-3.5.2-bin-hadoop3.tgz\n",
    "!pip install -q findspark\n",
    "!pip install pyspark\n",
    "!pip install py4j"
   ]
  },
  {
   "cell_type": "markdown",
   "id": "d75f58e4",
   "metadata": {
    "id": "d75f58e4"
   },
   "source": [
    "<span style=\"font-family:Gill Sans\">\n",
    "<h1>Hearth attach prediction with logisic regression</h1></span>\n",
    "\n",
    "Let us use PySpark to predict if a person can suffer a heart attack based on some medical information.\n",
    "\n",
    "Download the dataset from [Kaggle](https://www.kaggle.com/datasets/dileep070/heart-disease-prediction-using-logistic-regression?resource=download)"
   ]
  },
  {
   "cell_type": "code",
   "execution_count": 4,
   "id": "1b156f96",
   "metadata": {
    "colab": {
     "base_uri": "https://localhost:8080/"
    },
    "id": "1b156f96",
    "outputId": "a2141505-851c-4010-efa6-999d00272bc6"
   },
   "outputs": [
    {
     "output_type": "stream",
     "name": "stdout",
     "text": [
      "root\n",
      " |-- male: integer (nullable = true)\n",
      " |-- age: integer (nullable = true)\n",
      " |-- education: integer (nullable = true)\n",
      " |-- currentSmoker: integer (nullable = true)\n",
      " |-- cigsPerDay: integer (nullable = true)\n",
      " |-- BPMeds: integer (nullable = true)\n",
      " |-- prevalentStroke: integer (nullable = true)\n",
      " |-- prevalentHyp: integer (nullable = true)\n",
      " |-- diabetes: integer (nullable = true)\n",
      " |-- totChol: float (nullable = true)\n",
      " |-- sysBP: float (nullable = true)\n",
      " |-- diaBP: float (nullable = true)\n",
      " |-- BMI: float (nullable = true)\n",
      " |-- heartRate: integer (nullable = true)\n",
      " |-- glucose: integer (nullable = true)\n",
      " |-- TenYearCHD: integer (nullable = true)\n",
      "\n",
      "+----+---+---------+-------------+----------+------+---------------+------------+--------+-------+-----+-----+-----+---------+-------+----------+\n",
      "|male|age|education|currentSmoker|cigsPerDay|BPMeds|prevalentStroke|prevalentHyp|diabetes|totChol|sysBP|diaBP|BMI  |heartRate|glucose|TenYearCHD|\n",
      "+----+---+---------+-------------+----------+------+---------------+------------+--------+-------+-----+-----+-----+---------+-------+----------+\n",
      "|1   |39 |4        |0            |0         |0     |0              |0           |0       |195.0  |106.0|70.0 |26.97|80       |77     |0         |\n",
      "|0   |46 |2        |0            |0         |0     |0              |0           |0       |250.0  |121.0|81.0 |28.73|95       |76     |0         |\n",
      "|1   |48 |1        |1            |20        |0     |0              |0           |0       |245.0  |127.5|80.0 |25.34|75       |70     |0         |\n",
      "|0   |61 |3        |1            |30        |0     |0              |1           |0       |225.0  |150.0|95.0 |28.58|65       |103    |1         |\n",
      "|0   |46 |3        |1            |23        |0     |0              |0           |0       |285.0  |130.0|84.0 |23.1 |85       |85     |0         |\n",
      "|0   |43 |2        |0            |0         |0     |0              |1           |0       |228.0  |180.0|110.0|30.3 |77       |99     |0         |\n",
      "|0   |63 |1        |0            |0         |0     |0              |0           |0       |205.0  |138.0|71.0 |33.11|60       |85     |1         |\n",
      "|0   |45 |2        |1            |20        |0     |0              |0           |0       |313.0  |100.0|71.0 |21.68|79       |78     |0         |\n",
      "|1   |52 |1        |0            |0         |0     |0              |1           |0       |260.0  |141.5|89.0 |26.36|76       |79     |0         |\n",
      "|1   |43 |1        |1            |30        |0     |0              |1           |0       |225.0  |162.0|107.0|23.61|93       |88     |0         |\n",
      "+----+---+---------+-------------+----------+------+---------------+------------+--------+-------+-----+-----+-----+---------+-------+----------+\n",
      "only showing top 10 rows\n",
      "\n"
     ]
    }
   ],
   "source": [
    "from pyspark.sql import SparkSession\n",
    "from pyspark.sql.types import StructField, StructType, FloatType, IntegerType\n",
    "\n",
    "# Create Spark Session in localhost\n",
    "spark = SparkSession.builder.master(\"local\").\\\n",
    "    appName(\"ITESO-LogisticRegression\").\\\n",
    "    getOrCreate()\n",
    "\n",
    "# Set spark context\n",
    "sc = spark.sparkContext\n",
    "sc.setLogLevel(\"ERROR\")\n",
    "\n",
    "heart_prediction_schema = StructType([\n",
    "    StructField(\"male\", IntegerType(), True),\n",
    "    StructField(\"age\", IntegerType(), True),\n",
    "    StructField(\"education\", IntegerType(), True),\n",
    "    StructField(\"currentSmoker\", IntegerType(), True),\n",
    "    StructField(\"cigsPerDay\", IntegerType(), True),\n",
    "    StructField(\"BPMeds\", IntegerType(), True),\n",
    "    StructField(\"prevalentStroke\", IntegerType(), True),\n",
    "    StructField(\"prevalentHyp\", IntegerType(), True),\n",
    "    StructField(\"diabetes\", IntegerType(), True),\n",
    "    StructField(\"totChol\", FloatType(), True),\n",
    "    StructField(\"sysBP\", FloatType(), True),\n",
    "    StructField(\"diaBP\", FloatType(), True),\n",
    "    StructField(\"BMI\", FloatType(), True),\n",
    "    StructField(\"heartRate\", IntegerType(), True),\n",
    "    StructField(\"glucose\", IntegerType(), True),\n",
    "    StructField(\"TenYearCHD\", IntegerType(), True)\n",
    "])\n",
    "\n",
    "heart_df = spark.read.format(\"csv\").\\\n",
    "    option(\"header\", \"true\").\\\n",
    "    option(\"mode\", \"permissive\").\\\n",
    "    option(\"path\", \"/content/drive/MyDrive/ColabNotebooks/datasets/heart_attack_prediction.csv\").\\\n",
    "    schema(heart_prediction_schema).\\\n",
    "    load()\n",
    "heart_df.printSchema()\n",
    "heart_df.show(n=10, truncate=False)"
   ]
  },
  {
   "cell_type": "code",
   "execution_count": 5,
   "id": "eeeefc3e",
   "metadata": {
    "colab": {
     "base_uri": "https://localhost:8080/"
    },
    "id": "eeeefc3e",
    "outputId": "501c2918-8319-4138-c15c-12b1d1bc21b7"
   },
   "outputs": [
    {
     "output_type": "stream",
     "name": "stdout",
     "text": [
      "+----+---+---------+-------------+----------+------+---------------+------------+--------+-------+-----+-----+---+---------+-------+----------+\n",
      "|male|age|education|currentSmoker|cigsPerDay|BPMeds|prevalentStroke|prevalentHyp|diabetes|totChol|sysBP|diaBP|BMI|heartRate|glucose|TenYearCHD|\n",
      "+----+---+---------+-------------+----------+------+---------------+------------+--------+-------+-----+-----+---+---------+-------+----------+\n",
      "|   0|  0|      105|            0|        29|    53|              0|           0|       0|     50|    0|    0| 19|        1|    388|         0|\n",
      "+----+---+---------+-------------+----------+------+---------------+------------+--------+-------+-----+-----+---+---------+-------+----------+\n",
      "\n"
     ]
    }
   ],
   "source": [
    "# Find Count of Null, None, NaN of All DataFrame Columns\n",
    "from pyspark.sql.functions import col,isnan, when, count\n",
    "heart_df.select([count(when(isnan(c) | col(c).isNull(), c)).alias(c) for c in heart_df.columns]).show()"
   ]
  },
  {
   "cell_type": "code",
   "execution_count": null,
   "id": "8c777f97",
   "metadata": {
    "id": "8c777f97"
   },
   "outputs": [],
   "source": [
    "# Remove rows with at least one value as null\n"
   ]
  },
  {
   "cell_type": "code",
   "execution_count": null,
   "id": "a239282c",
   "metadata": {
    "colab": {
     "base_uri": "https://localhost:8080/"
    },
    "id": "a239282c",
    "outputId": "09001bcc-cd0f-4dca-a253-7110da5679f0"
   },
   "outputs": [
    {
     "name": "stdout",
     "output_type": "stream",
     "text": [
      "+----+---+---------+-------------+----------+------+---------------+------------+--------+-------+-----+-----+---+---------+-------+----------+\n",
      "|male|age|education|currentSmoker|cigsPerDay|BPMeds|prevalentStroke|prevalentHyp|diabetes|totChol|sysBP|diaBP|BMI|heartRate|glucose|TenYearCHD|\n",
      "+----+---+---------+-------------+----------+------+---------------+------------+--------+-------+-----+-----+---+---------+-------+----------+\n",
      "|   0|  0|        0|            0|         0|     0|              0|           0|       0|      0|    0|    0|  0|        0|      0|         0|\n",
      "+----+---+---------+-------------+----------+------+---------------+------------+--------+-------+-----+-----+---+---------+-------+----------+\n",
      "\n"
     ]
    }
   ],
   "source": [
    "heart_df.select([count(when(isnan(c) | col(c).isNull(), c)).alias(c) for c in heart_df.columns]).show()"
   ]
  },
  {
   "cell_type": "code",
   "execution_count": null,
   "id": "e30ee4a3",
   "metadata": {
    "id": "e30ee4a3"
   },
   "outputs": [],
   "source": [
    "# Assemble the features into a single vector column\n",
    "\n",
    "# Split the data into training and test sets 70% training data and 30% testing data\n",
    "\n",
    "# Create a logistic regression model\n",
    "\n",
    "# Train to get the model\n"
   ]
  },
  {
   "cell_type": "code",
   "execution_count": null,
   "id": "4d71e840",
   "metadata": {
    "colab": {
     "base_uri": "https://localhost:8080/"
    },
    "id": "4d71e840",
    "outputId": "0d0f372e-54c3-4c8a-c87f-0f1b1085b842"
   },
   "outputs": [
    {
     "name": "stdout",
     "output_type": "stream",
     "text": [
      "Coefficients: [0.06464168287662507,0.028948954746943024,0.0018687751872228128,0.01716158392333626,0.00626410609104656,0.011820670673763436,-0.009559295732016686,0.006744772352125628]\n",
      "+--------------------+----------+----------+\n",
      "|            features|TenYearCHD|prediction|\n",
      "+--------------------+----------+----------+\n",
      "|[34.0,0.0,226.0,1...|         0|       0.0|\n",
      "|[34.0,0.0,196.0,1...|         0|       0.0|\n",
      "|[35.0,0.0,170.0,9...|         0|       0.0|\n",
      "|[35.0,5.0,186.0,1...|         0|       0.0|\n",
      "|[35.0,15.0,177.0,...|         0|       0.0|\n",
      "|[35.0,5.0,154.0,1...|         0|       0.0|\n",
      "|[36.0,0.0,200.0,1...|         0|       0.0|\n",
      "|[36.0,5.0,222.0,1...|         0|       0.0|\n",
      "|[36.0,15.0,164.0,...|         0|       0.0|\n",
      "|[36.0,20.0,159.0,...|         0|       0.0|\n",
      "|[37.0,0.0,181.0,1...|         0|       0.0|\n",
      "|[37.0,0.0,184.0,1...|         0|       0.0|\n",
      "|[37.0,10.0,205.0,...|         0|       0.0|\n",
      "|[37.0,15.0,275.0,...|         0|       0.0|\n",
      "|[37.0,20.0,200.0,...|         0|       0.0|\n",
      "|[37.0,0.0,209.0,1...|         0|       0.0|\n",
      "|[37.0,0.0,217.0,1...|         0|       0.0|\n",
      "|[37.0,0.0,249.0,1...|         0|       0.0|\n",
      "|[37.0,20.0,229.0,...|         0|       0.0|\n",
      "|[37.0,0.0,190.0,1...|         0|       0.0|\n",
      "|[37.0,10.0,156.0,...|         0|       0.0|\n",
      "|[37.0,20.0,240.0,...|         0|       0.0|\n",
      "|[38.0,0.0,182.0,1...|         0|       0.0|\n",
      "|[38.0,0.0,196.0,1...|         0|       0.0|\n",
      "|[38.0,5.0,201.0,1...|         0|       0.0|\n",
      "|[38.0,30.0,164.0,...|         0|       0.0|\n",
      "|[38.0,0.0,175.0,1...|         0|       0.0|\n",
      "|[38.0,0.0,239.0,1...|         0|       0.0|\n",
      "|[38.0,0.0,251.0,1...|         0|       0.0|\n",
      "|[38.0,10.0,186.0,...|         0|       0.0|\n",
      "|[38.0,10.0,226.0,...|         0|       0.0|\n",
      "|[38.0,20.0,195.0,...|         0|       0.0|\n",
      "|[38.0,0.0,162.0,1...|         0|       0.0|\n",
      "|[38.0,0.0,171.0,1...|         0|       0.0|\n",
      "|[38.0,0.0,185.0,1...|         0|       0.0|\n",
      "|[38.0,0.0,240.0,1...|         0|       0.0|\n",
      "|[38.0,20.0,167.0,...|         0|       0.0|\n",
      "|[38.0,0.0,220.0,1...|         0|       0.0|\n",
      "|[38.0,15.0,178.0,...|         0|       0.0|\n",
      "|[39.0,0.0,164.0,1...|         0|       0.0|\n",
      "|[39.0,0.0,182.0,1...|         0|       0.0|\n",
      "|[39.0,0.0,205.0,1...|         0|       0.0|\n",
      "|[39.0,0.0,227.0,1...|         0|       0.0|\n",
      "|[39.0,1.0,175.0,1...|         0|       0.0|\n",
      "|[39.0,5.0,170.0,1...|         0|       0.0|\n",
      "|[39.0,5.0,236.0,1...|         0|       0.0|\n",
      "|[39.0,0.0,175.0,1...|         0|       0.0|\n",
      "|[39.0,0.0,190.0,1...|         0|       0.0|\n",
      "|[39.0,0.0,195.0,1...|         0|       0.0|\n",
      "|[39.0,0.0,197.0,1...|         0|       0.0|\n",
      "|[39.0,0.0,250.0,1...|         0|       0.0|\n",
      "|[39.0,0.0,283.0,1...|         0|       0.0|\n",
      "|[39.0,9.0,270.0,1...|         0|       0.0|\n",
      "|[39.0,15.0,284.0,...|         0|       0.0|\n",
      "|[39.0,0.0,152.0,1...|         0|       0.0|\n",
      "|[39.0,0.0,180.0,1...|         0|       0.0|\n",
      "|[39.0,0.0,195.0,9...|         0|       0.0|\n",
      "|[39.0,0.0,240.0,1...|         0|       0.0|\n",
      "|[39.0,3.0,186.0,1...|         0|       0.0|\n",
      "|[39.0,12.0,200.0,...|         0|       0.0|\n",
      "|[39.0,0.0,181.0,1...|         0|       0.0|\n",
      "|[39.0,0.0,241.0,1...|         0|       0.0|\n",
      "|[39.0,0.0,260.0,1...|         0|       0.0|\n",
      "|[39.0,9.0,170.0,1...|         0|       0.0|\n",
      "|[39.0,9.0,191.0,1...|         0|       0.0|\n",
      "|[39.0,15.0,226.0,...|         0|       0.0|\n",
      "|[39.0,25.0,200.0,...|         0|       0.0|\n",
      "|[40.0,0.0,156.0,1...|         0|       0.0|\n",
      "|[40.0,0.0,290.0,1...|         0|       0.0|\n",
      "|[40.0,9.0,239.0,1...|         1|       0.0|\n",
      "|[40.0,15.0,199.0,...|         0|       0.0|\n",
      "|[40.0,20.0,187.0,...|         0|       0.0|\n",
      "|[40.0,0.0,195.0,1...|         0|       0.0|\n",
      "|[40.0,0.0,202.0,1...|         0|       0.0|\n",
      "|[40.0,0.0,208.0,1...|         0|       0.0|\n",
      "|[40.0,0.0,230.0,1...|         0|       0.0|\n",
      "|[40.0,0.0,242.0,1...|         0|       0.0|\n",
      "|[40.0,1.0,178.0,1...|         0|       0.0|\n",
      "|[40.0,5.0,174.0,1...|         0|       0.0|\n",
      "|[40.0,15.0,284.0,...|         0|       0.0|\n",
      "|[40.0,20.0,176.0,...|         0|       0.0|\n",
      "|[40.0,20.0,261.0,...|         0|       0.0|\n",
      "|[40.0,5.0,143.0,1...|         0|       0.0|\n",
      "|[40.0,10.0,210.0,...|         1|       0.0|\n",
      "|[40.0,15.0,155.0,...|         0|       0.0|\n",
      "|[40.0,20.0,182.0,...|         0|       0.0|\n",
      "|[41.0,0.0,179.0,1...|         0|       0.0|\n",
      "|[41.0,0.0,203.0,1...|         0|       0.0|\n",
      "|[41.0,0.0,295.0,1...|         0|       0.0|\n",
      "|[41.0,0.0,229.0,1...|         0|       0.0|\n",
      "|[41.0,15.0,190.0,...|         0|       0.0|\n",
      "|[41.0,15.0,242.0,...|         0|       0.0|\n",
      "|[41.0,20.0,189.0,...|         0|       0.0|\n",
      "|[41.0,43.0,306.0,...|         0|       0.0|\n",
      "|[41.0,0.0,177.0,1...|         0|       0.0|\n",
      "|[41.0,0.0,232.0,1...|         0|       0.0|\n",
      "|[41.0,0.0,235.0,1...|         0|       0.0|\n",
      "|[41.0,3.0,223.0,1...|         0|       0.0|\n",
      "|[41.0,5.0,226.0,1...|         0|       0.0|\n",
      "|[41.0,10.0,169.0,...|         0|       0.0|\n",
      "+--------------------+----------+----------+\n",
      "only showing top 100 rows\n",
      "\n"
     ]
    }
   ],
   "source": [
    "# Print coefficients\n",
    "# Make predictions on the test set"
   ]
  }
 ],
 "metadata": {
  "colab": {
   "provenance": []
  },
  "kernelspec": {
   "display_name": "Python 3 (ipykernel)",
   "language": "python",
   "name": "python3"
  },
  "language_info": {
   "codemirror_mode": {
    "name": "ipython",
    "version": 3
   },
   "file_extension": ".py",
   "mimetype": "text/x-python",
   "name": "python",
   "nbconvert_exporter": "python",
   "pygments_lexer": "ipython3",
   "version": "3.9.7"
  }
 },
 "nbformat": 4,
 "nbformat_minor": 5
}
