{
  "nbformat": 4,
  "nbformat_minor": 0,
  "metadata": {
    "colab": {
      "provenance": []
    },
    "kernelspec": {
      "name": "python3",
      "display_name": "Python 3"
    },
    "language_info": {
      "name": "python"
    }
  },
  "cells": [
    {
      "cell_type": "code",
      "execution_count": 1,
      "metadata": {
        "colab": {
          "base_uri": "https://localhost:8080/"
        },
        "id": "_IHZeHIA71L7",
        "outputId": "5bececbd-d288-4961-b950-4ce64c0969c8"
      },
      "outputs": [
        {
          "output_type": "stream",
          "name": "stdout",
          "text": [
            "\u001b[33m\r0% [Working]\u001b[0m\r            \rGet:1 https://cloud.r-project.org/bin/linux/ubuntu jammy-cran40/ InRelease [3,626 B]\n",
            "\u001b[33m\r0% [Connecting to archive.ubuntu.com (185.125.190.82)] [Waiting for headers] [1\u001b[0m\u001b[33m\r0% [Connecting to archive.ubuntu.com (185.125.190.82)] [Waiting for headers] [C\u001b[0m\r                                                                               \rHit:2 https://developer.download.nvidia.com/compute/cuda/repos/ubuntu2204/x86_64  InRelease\n",
            "\u001b[33m\r0% [Connecting to archive.ubuntu.com (185.125.190.82)] [Waiting for headers] [W\u001b[0m\r                                                                               \rGet:3 http://security.ubuntu.com/ubuntu jammy-security InRelease [129 kB]\n",
            "Get:4 https://r2u.stat.illinois.edu/ubuntu jammy InRelease [6,555 B]\n",
            "Hit:5 http://archive.ubuntu.com/ubuntu jammy InRelease\n",
            "Get:6 http://archive.ubuntu.com/ubuntu jammy-updates InRelease [128 kB]\n",
            "Hit:7 https://ppa.launchpadcontent.net/deadsnakes/ppa/ubuntu jammy InRelease\n",
            "Hit:8 https://ppa.launchpadcontent.net/graphics-drivers/ppa/ubuntu jammy InRelease\n",
            "Get:9 https://r2u.stat.illinois.edu/ubuntu jammy/main all Packages [8,456 kB]\n",
            "Hit:10 https://ppa.launchpadcontent.net/ubuntugis/ppa/ubuntu jammy InRelease\n",
            "Get:11 http://archive.ubuntu.com/ubuntu jammy-backports InRelease [127 kB]\n",
            "Get:12 https://r2u.stat.illinois.edu/ubuntu jammy/main amd64 Packages [2,611 kB]\n",
            "Get:13 http://security.ubuntu.com/ubuntu jammy-security/main amd64 Packages [2,397 kB]\n",
            "Get:14 http://security.ubuntu.com/ubuntu jammy-security/universe amd64 Packages [1,163 kB]\n",
            "Get:15 http://security.ubuntu.com/ubuntu jammy-security/restricted amd64 Packages [3,241 kB]\n",
            "Get:16 http://archive.ubuntu.com/ubuntu jammy-updates/main amd64 Packages [2,672 kB]\n",
            "Get:17 http://archive.ubuntu.com/ubuntu jammy-updates/universe amd64 Packages [1,452 kB]\n",
            "Fetched 22.4 MB in 3s (7,990 kB/s)\n",
            "Reading package lists... Done\n",
            "Building dependency tree... Done\n",
            "Reading state information... Done\n",
            "50 packages can be upgraded. Run 'apt list --upgradable' to see them.\n",
            "\u001b[1;33mW: \u001b[0mSkipping acquire of configured file 'main/source/Sources' as repository 'https://r2u.stat.illinois.edu/ubuntu jammy InRelease' does not seem to provide it (sources.list entry misspelt?)\u001b[0m\n",
            "tar: spark-3.5.2-bin-hadoop3.tgz: Cannot open: No such file or directory\n",
            "tar: Error is not recoverable: exiting now\n",
            "Requirement already satisfied: pyspark in /usr/local/lib/python3.10/dist-packages (3.5.3)\n",
            "Requirement already satisfied: py4j==0.10.9.7 in /usr/local/lib/python3.10/dist-packages (from pyspark) (0.10.9.7)\n",
            "Requirement already satisfied: py4j in /usr/local/lib/python3.10/dist-packages (0.10.9.7)\n"
          ]
        }
      ],
      "source": [
        "!sudo apt update\n",
        "!apt-get install openjdk-8-jdk-headless -qq > /dev/null\n",
        "# Check this site for the latest download link\n",
        "# https://www.apache.org/dyn/closer.lua/spark\n",
        "!wget -q https://dlcdn.apache.org/spark/spark-3.5.2/spark-3.5.2-bin-hadoop3.tgz\n",
        "!tar xf spark-3.5.2-bin-hadoop3.tgz\n",
        "!pip install -q findspark\n",
        "!pip install pyspark\n",
        "!pip install py4j"
      ]
    },
    {
      "cell_type": "code",
      "source": [
        "from pyspark.sql import SparkSession\n",
        "from pyspark.sql.types import StructField, StructType, FloatType, IntegerType, StringType\n",
        "from pyspark.sql.functions import col,isnan, when, count\n",
        "\n",
        "# Create Spark Session in localhost\n",
        "spark = SparkSession.builder.master(\"local\").\\\n",
        "    appName(\"ITESO-ALS\").\\\n",
        "    getOrCreate()\n",
        "\n",
        "# Set spark context\n",
        "sc = spark.sparkContext\n",
        "sc.setLogLevel(\"ERROR\")\n",
        "\n",
        "\n",
        "movies_schema = StructType([\n",
        "    StructField(\"userId\", IntegerType(), True),\n",
        "    StructField(\"movieId\", IntegerType(), True),\n",
        "    StructField(\"rating\", IntegerType(), True),\n",
        "])\n",
        "\n",
        "movies_df = spark.read.format(\"csv\").\\\n",
        "    option(\"delimiter\", \"::\").\\\n",
        "    option(\"mode\", \"permissive\").\\\n",
        "    option(\"path\", \"/content/sample_movielens_ratings.txt\").\\\n",
        "    schema(movies_schema).\\\n",
        "    load()\n",
        "\n",
        "movies_df.printSchema()\n",
        "movies_df.show()"
      ],
      "metadata": {
        "colab": {
          "base_uri": "https://localhost:8080/"
        },
        "id": "JcbrOwsN8ALy",
        "outputId": "3665fa23-9d61-43aa-88be-bb494d379aa5"
      },
      "execution_count": 3,
      "outputs": [
        {
          "output_type": "stream",
          "name": "stdout",
          "text": [
            "root\n",
            " |-- userId: integer (nullable = true)\n",
            " |-- movieId: integer (nullable = true)\n",
            " |-- rating: integer (nullable = true)\n",
            "\n",
            "+------+-------+------+\n",
            "|userId|movieId|rating|\n",
            "+------+-------+------+\n",
            "|     0|      2|     3|\n",
            "|     0|      3|     1|\n",
            "|     0|      5|     2|\n",
            "|     0|      9|     4|\n",
            "|     0|     11|     1|\n",
            "|     0|     12|     2|\n",
            "|     0|     15|     1|\n",
            "|     0|     17|     1|\n",
            "|     0|     19|     1|\n",
            "|     0|     21|     1|\n",
            "|     0|     23|     1|\n",
            "|     0|     26|     3|\n",
            "|     0|     27|     1|\n",
            "|     0|     28|     1|\n",
            "|     0|     29|     1|\n",
            "|     0|     30|     1|\n",
            "|     0|     31|     1|\n",
            "|     0|     34|     1|\n",
            "|     0|     37|     1|\n",
            "|     0|     41|     2|\n",
            "+------+-------+------+\n",
            "only showing top 20 rows\n",
            "\n"
          ]
        }
      ]
    },
    {
      "cell_type": "code",
      "source": [
        "from pyspark.ml.recommendation import ALS\n",
        "\n",
        "# Configure ALS model\n",
        "als = ALS(\n",
        "    userCol=\"userId\",\n",
        "    itemCol=\"movieId\",\n",
        "    ratingCol=\"rating\",\n",
        "    maxIter=10,\n",
        "    regParam=0.1,\n",
        "    rank=5,\n",
        "    coldStartStrategy=\"drop\"\n",
        ")\n",
        "\n",
        "# Train the model\n",
        "model = als.fit(movies_df)\n",
        "\n",
        "# Generate recommendations for each user\n",
        "user_recommendations = model.recommendForAllUsers(numItems=3)\n",
        "user_recommendations.show(truncate=False)"
      ],
      "metadata": {
        "colab": {
          "base_uri": "https://localhost:8080/"
        },
        "id": "BPa2U9aP8oiK",
        "outputId": "39e8a389-4fca-41e3-cf53-7ae9de8021b7"
      },
      "execution_count": 4,
      "outputs": [
        {
          "output_type": "stream",
          "name": "stdout",
          "text": [
            "+------+---------------------------------------------------+\n",
            "|userId|recommendations                                    |\n",
            "+------+---------------------------------------------------+\n",
            "|20    |[{22, 3.4345348}, {51, 3.23853}, {75, 3.02112}]    |\n",
            "|10    |[{93, 2.7857873}, {2, 2.4791286}, {25, 2.4388287}] |\n",
            "|0     |[{93, 2.2207298}, {29, 2.2032633}, {25, 2.1398427}]|\n",
            "|1     |[{22, 2.8081403}, {90, 2.6688783}, {51, 2.4775007}]|\n",
            "|21    |[{52, 4.1361566}, {29, 4.1086993}, {2, 3.5641809}] |\n",
            "|11    |[{32, 5.1655707}, {49, 4.9204955}, {23, 4.6741686}]|\n",
            "|12    |[{46, 5.717836}, {55, 4.7345004}, {90, 4.419613}]  |\n",
            "|22    |[{75, 4.4798894}, {51, 4.458965}, {22, 4.1424575}] |\n",
            "|2     |[{93, 4.215927}, {8, 3.9464414}, {83, 3.833647}]   |\n",
            "|13    |[{93, 2.7292414}, {74, 2.6835606}, {2, 2.659275}]  |\n",
            "|3     |[{51, 3.9032552}, {75, 3.8359852}, {30, 3.7657852}]|\n",
            "|23    |[{46, 5.5694184}, {55, 4.775144}, {90, 4.617609}]  |\n",
            "|4     |[{29, 3.2664168}, {52, 3.2151625}, {2, 3.1123965}] |\n",
            "|24    |[{52, 4.379621}, {29, 4.217588}, {53, 3.8789043}]  |\n",
            "|14    |[{52, 4.509342}, {29, 4.4838057}, {62, 3.7934613}] |\n",
            "|5     |[{46, 4.0285473}, {90, 3.7002497}, {55, 3.3738134}]|\n",
            "|15    |[{46, 3.4565299}, {90, 2.9746718}, {55, 2.687528}] |\n",
            "|25    |[{83, 2.8460848}, {39, 2.7589445}, {46, 2.6264598}]|\n",
            "|26    |[{51, 5.241572}, {75, 4.669145}, {22, 4.5813704}]  |\n",
            "|6     |[{25, 3.0022671}, {29, 2.98055}, {52, 2.8627565}]  |\n",
            "+------+---------------------------------------------------+\n",
            "only showing top 20 rows\n",
            "\n"
          ]
        }
      ]
    },
    {
      "cell_type": "code",
      "source": [
        "from pyspark.ml.evaluation import RegressionEvaluator\n",
        "\n",
        "predictions = model.transform(movies_df)\n",
        "predictions.show(truncate=False)\n",
        "\n",
        "# Set up evaluator to compute RMSE\n",
        "evaluator = RegressionEvaluator(\n",
        "metricName=\"rmse\", labelCol=\"rating\", predictionCol=\"prediction\")\n",
        "\n",
        "# Calculate RMSE\n",
        "rmse = evaluator.evaluate(predictions)\n",
        "print(rmse)\n",
        ""
      ],
      "metadata": {
        "id": "HgCfFXRX9gDP",
        "colab": {
          "base_uri": "https://localhost:8080/"
        },
        "outputId": "5ff672b7-a217-4c72-c9db-5cd7397862fb"
      },
      "execution_count": 5,
      "outputs": [
        {
          "output_type": "stream",
          "name": "stdout",
          "text": [
            "+------+-------+------+----------+\n",
            "|userId|movieId|rating|prediction|\n",
            "+------+-------+------+----------+\n",
            "|28    |0      |3     |2.0495927 |\n",
            "|28    |1      |1     |1.0879441 |\n",
            "|28    |2      |4     |3.208639  |\n",
            "|28    |3      |1     |0.82585263|\n",
            "|28    |6      |1     |0.96035266|\n",
            "|28    |7      |1     |2.007586  |\n",
            "|28    |12     |5     |2.5029192 |\n",
            "|28    |13     |2     |1.8718919 |\n",
            "|28    |14     |1     |1.4563401 |\n",
            "|28    |15     |1     |1.296754  |\n",
            "|28    |17     |1     |1.0391803 |\n",
            "|28    |19     |3     |2.8770504 |\n",
            "|28    |20     |1     |0.78387463|\n",
            "|28    |23     |3     |2.5050588 |\n",
            "|28    |24     |3     |2.1648526 |\n",
            "|28    |27     |1     |1.8152664 |\n",
            "|28    |29     |1     |1.8170805 |\n",
            "|28    |33     |1     |1.8228741 |\n",
            "|28    |34     |1     |2.2528431 |\n",
            "|28    |36     |1     |1.1669419 |\n",
            "+------+-------+------+----------+\n",
            "only showing top 20 rows\n",
            "\n",
            "0.5869116255989768\n"
          ]
        }
      ]
    }
  ]
}