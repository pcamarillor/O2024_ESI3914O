{
  "cells": [
    {
      "cell_type": "code",
      "execution_count": 2,
      "metadata": {
        "colab": {
          "base_uri": "https://localhost:8080/"
        },
        "id": "hQlQkmf6T6JG",
        "outputId": "4595a24c-d4e0-41f9-ffe8-c51aabdf3546"
      },
      "outputs": [
        {
          "output_type": "stream",
          "name": "stdout",
          "text": [
            "Mounted at /content/drive\n"
          ]
        }
      ],
      "source": [
        "from google.colab import drive\n",
        "drive.mount('/content/drive')"
      ]
    },
    {
      "cell_type": "code",
      "execution_count": 3,
      "metadata": {
        "colab": {
          "base_uri": "https://localhost:8080/"
        },
        "id": "Iznmc-hwUOpT",
        "outputId": "388c0d85-889d-4825-a1f9-4b5bf3ac112f"
      },
      "outputs": [
        {
          "output_type": "stream",
          "name": "stdout",
          "text": [
            "\u001b[33m\r0% [Working]\u001b[0m\r            \rGet:1 http://security.ubuntu.com/ubuntu jammy-security InRelease [129 kB]\n",
            "\u001b[33m\r0% [Connecting to archive.ubuntu.com (185.125.190.81)] [1 InRelease 5,484 B/129\u001b[0m\r                                                                               \rGet:2 https://cloud.r-project.org/bin/linux/ubuntu jammy-cran40/ InRelease [3,626 B]\n",
            "\u001b[33m\r0% [Connecting to archive.ubuntu.com (185.125.190.81)] [1 InRelease 48.9 kB/129\u001b[0m\u001b[33m\r0% [Connecting to archive.ubuntu.com (185.125.190.81)] [1 InRelease 77.9 kB/129\u001b[0m\u001b[33m\r0% [Waiting for headers] [Connected to r2u.stat.illinois.edu (192.17.190.167)] \u001b[0m\r                                                                               \rGet:3 https://developer.download.nvidia.com/compute/cuda/repos/ubuntu2204/x86_64  InRelease [1,581 B]\n",
            "\u001b[33m\r0% [Waiting for headers] [Waiting for headers] [3 InRelease 1,581 B/1,581 B 100\u001b[0m\u001b[33m\r0% [Waiting for headers] [Waiting for headers] [Connected to ppa.launchpadconte\u001b[0m\r                                                                               \rHit:4 http://archive.ubuntu.com/ubuntu jammy InRelease\n",
            "\u001b[33m\r0% [Waiting for headers] [Connected to ppa.launchpadcontent.net (185.125.190.80\u001b[0m\r                                                                               \rGet:5 https://r2u.stat.illinois.edu/ubuntu jammy InRelease [6,555 B]\n",
            "Get:6 http://archive.ubuntu.com/ubuntu jammy-updates InRelease [128 kB]\n",
            "Hit:7 https://ppa.launchpadcontent.net/deadsnakes/ppa/ubuntu jammy InRelease\n",
            "Get:8 http://security.ubuntu.com/ubuntu jammy-security/main amd64 Packages [2,424 kB]\n",
            "Hit:9 https://ppa.launchpadcontent.net/graphics-drivers/ppa/ubuntu jammy InRelease\n",
            "Hit:10 https://ppa.launchpadcontent.net/ubuntugis/ppa/ubuntu jammy InRelease\n",
            "Get:11 http://archive.ubuntu.com/ubuntu jammy-backports InRelease [127 kB]\n",
            "Get:12 https://developer.download.nvidia.com/compute/cuda/repos/ubuntu2204/x86_64  Packages [1,107 kB]\n",
            "Get:13 https://r2u.stat.illinois.edu/ubuntu jammy/main all Packages [8,472 kB]\n",
            "Get:14 http://archive.ubuntu.com/ubuntu jammy-updates/main amd64 Packages [2,700 kB]\n",
            "Get:15 https://r2u.stat.illinois.edu/ubuntu jammy/main amd64 Packages [2,612 kB]\n",
            "Get:16 http://archive.ubuntu.com/ubuntu jammy-updates/universe amd64 Packages [1,452 kB]\n",
            "Fetched 19.2 MB in 3s (6,578 kB/s)\n",
            "Reading package lists... Done\n",
            "Building dependency tree... Done\n",
            "Reading state information... Done\n",
            "49 packages can be upgraded. Run 'apt list --upgradable' to see them.\n",
            "\u001b[1;33mW: \u001b[0mSkipping acquire of configured file 'main/source/Sources' as repository 'https://r2u.stat.illinois.edu/ubuntu jammy InRelease' does not seem to provide it (sources.list entry misspelt?)\u001b[0m\n",
            "tar: spark-3.5.2-bin-hadoop3.tgz: Cannot open: No such file or directory\n",
            "tar: Error is not recoverable: exiting now\n",
            "Requirement already satisfied: pyspark in /usr/local/lib/python3.10/dist-packages (3.5.3)\n",
            "Requirement already satisfied: py4j==0.10.9.7 in /usr/local/lib/python3.10/dist-packages (from pyspark) (0.10.9.7)\n",
            "Requirement already satisfied: py4j in /usr/local/lib/python3.10/dist-packages (0.10.9.7)\n"
          ]
        }
      ],
      "source": [
        "!sudo apt update\n",
        "!apt-get install openjdk-8-jdk-headless -qq > /dev/null\n",
        "# Check this site for the latest download link\n",
        "# https://www.apache.org/dyn/closer.lua/spark\n",
        "!wget -q https://dlcdn.apache.org/spark/spark-3.5.2/spark-3.5.2-bin-hadoop3.tgz\n",
        "!tar xf spark-3.5.2-bin-hadoop3.tgz\n",
        "!pip install -q findspark\n",
        "!pip install pyspark\n",
        "!pip install py4j"
      ]
    },
    {
      "cell_type": "code",
      "execution_count": 8,
      "metadata": {
        "colab": {
          "base_uri": "https://localhost:8080/"
        },
        "id": "8B2UDZ4-UXwi",
        "outputId": "3a86f402-7f10-4a6b-ef3f-128ab669b937"
      },
      "outputs": [
        {
          "output_type": "stream",
          "name": "stdout",
          "text": [
            "+------+-------+------+----------+\n",
            "|userId|movieId|rating|timestamp |\n",
            "+------+-------+------+----------+\n",
            "|0     |2      |3     |1424380312|\n",
            "|0     |3      |1     |1424380312|\n",
            "|0     |5      |2     |1424380312|\n",
            "|0     |9      |4     |1424380312|\n",
            "|0     |11     |1     |1424380312|\n",
            "|0     |12     |2     |1424380312|\n",
            "|0     |15     |1     |1424380312|\n",
            "|0     |17     |1     |1424380312|\n",
            "|0     |19     |1     |1424380312|\n",
            "|0     |21     |1     |1424380312|\n",
            "+------+-------+------+----------+\n",
            "only showing top 10 rows\n",
            "\n",
            "root\n",
            " |-- userId: integer (nullable = true)\n",
            " |-- movieId: integer (nullable = true)\n",
            " |-- rating: integer (nullable = true)\n",
            " |-- timestamp: integer (nullable = true)\n",
            "\n",
            "+------+-------+------+----------+\n",
            "|userId|movieId|rating| timestamp|\n",
            "+------+-------+------+----------+\n",
            "|     0|      2|     3|1424380312|\n",
            "|     0|      3|     1|1424380312|\n",
            "|     0|      5|     2|1424380312|\n",
            "|     0|      9|     4|1424380312|\n",
            "|     0|     11|     1|1424380312|\n",
            "+------+-------+------+----------+\n",
            "only showing top 5 rows\n",
            "\n"
          ]
        }
      ],
      "source": [
        "from pyspark.sql import SparkSession\n",
        "\n",
        "spark = SparkSession.builder.master(\"local\").\\\n",
        "    appName(\"ITESO-ALS\").\\\n",
        "    getOrCreate()\n",
        "\n",
        "sc = spark.sparkContext\n",
        "sc.setLogLevel(\"ERROR\")\n",
        "\n",
        "file_path = \"/content/drive/MyDrive/Colab Notebooks/datasets/sample_movielens_ratings.txt\"\n",
        "ratings_df = spark.read.format(\"csv\") \\\n",
        "    .option(\"delimiter\", \"::\") \\\n",
        "    .option(\"inferSchema\", \"true\") \\\n",
        "    .option(\"header\", \"false\") \\\n",
        "    .load(file_path) \\\n",
        "    .toDF(\"userId\", \"movieId\", \"rating\", \"timestamp\")\n",
        "\n",
        "ratings_df.show(n=10, truncate=False)\n",
        "\n",
        "ratings_df.printSchema()\n",
        "ratings_df.show(5)"
      ]
    },
    {
      "cell_type": "code",
      "execution_count": 9,
      "metadata": {
        "id": "9g11PYy9WpiZ"
      },
      "outputs": [],
      "source": [
        "from pyspark.ml.recommendation import ALS\n",
        "\n",
        "als = ALS(\n",
        "    maxIter=10,\n",
        "    regParam=0.1,\n",
        "    userCol=\"userId\",\n",
        "    itemCol=\"movieId\",\n",
        "    ratingCol=\"rating\",\n",
        "    coldStartStrategy=\"drop\"\n",
        ")\n",
        "\n",
        "model = als.fit(ratings_df)"
      ]
    },
    {
      "cell_type": "code",
      "execution_count": 10,
      "metadata": {
        "id": "HWq0pl1Innwh",
        "outputId": "66ca1cee-9bfe-4e84-a1ee-99c97e30534c",
        "colab": {
          "base_uri": "https://localhost:8080/"
        }
      },
      "outputs": [
        {
          "output_type": "stream",
          "name": "stdout",
          "text": [
            "Root-mean-square error (RMSE): 0.397335534604917\n"
          ]
        }
      ],
      "source": [
        "from pyspark.ml.evaluation import RegressionEvaluator\n",
        "\n",
        "predictions = model.transform(ratings_df)\n",
        "\n",
        "evaluator = RegressionEvaluator(\n",
        "    metricName=\"rmse\",\n",
        "    labelCol=\"rating\",\n",
        "    predictionCol=\"prediction\"\n",
        ")\n",
        "rmse = evaluator.evaluate(predictions)\n",
        "print(f\"Root-mean-square error (RMSE): {rmse}\")"
      ]
    },
    {
      "cell_type": "code",
      "execution_count": 11,
      "metadata": {
        "colab": {
          "base_uri": "https://localhost:8080/"
        },
        "id": "tc-qVTVxXbRs",
        "outputId": "370ba71e-b1b9-49fd-f9a7-b245b45538bf"
      },
      "outputs": [
        {
          "output_type": "stream",
          "name": "stdout",
          "text": [
            "+------+-------------------------------------------------------------------------------------+\n",
            "|userId|recommendations                                                                      |\n",
            "+------+-------------------------------------------------------------------------------------+\n",
            "|20    |[{22, 3.669611}, {94, 3.159118}, {68, 3.1273239}, {88, 3.0766838}, {77, 3.0075834}]  |\n",
            "|10    |[{92, 3.3601632}, {2, 3.1238763}, {40, 2.8678107}, {49, 2.7868533}, {12, 2.739804}]  |\n",
            "|0     |[{92, 2.9841022}, {2, 2.7240503}, {62, 2.5989156}, {9, 2.3311102}, {12, 2.3006241}]  |\n",
            "|1     |[{62, 3.050136}, {68, 2.996803}, {22, 2.7656898}, {77, 2.6151948}, {28, 2.3107836}]  |\n",
            "|21    |[{29, 4.321138}, {52, 4.2251186}, {53, 3.9655445}, {63, 3.4733353}, {93, 3.4296377}] |\n",
            "|11    |[{32, 4.8091135}, {30, 4.789024}, {27, 4.6797547}, {18, 4.671916}, {23, 4.4069214}]  |\n",
            "|12    |[{46, 5.6145906}, {55, 4.583866}, {64, 4.1072335}, {17, 4.0981135}, {48, 4.017547}]  |\n",
            "|22    |[{75, 4.6104155}, {74, 4.4301834}, {88, 4.414563}, {22, 4.299154}, {51, 4.241728}]   |\n",
            "|2     |[{93, 4.5376954}, {8, 4.3591633}, {83, 4.300051}, {39, 4.1304913}, {37, 3.7300327}]  |\n",
            "|13    |[{93, 3.0497763}, {53, 2.78148}, {74, 2.6550896}, {29, 2.552479}, {52, 2.5148046}]   |\n",
            "|3     |[{51, 4.2094955}, {30, 3.814735}, {75, 3.804807}, {32, 3.5452268}, {69, 3.5296712}]  |\n",
            "|23    |[{46, 5.1237946}, {32, 4.736978}, {55, 4.6878805}, {90, 4.396251}, {49, 4.3558006}]  |\n",
            "|4     |[{53, 3.4048429}, {2, 3.3138783}, {29, 3.3088183}, {62, 3.2418883}, {52, 3.1778264}] |\n",
            "|24    |[{69, 4.451653}, {52, 4.416983}, {90, 4.2600493}, {30, 4.189743}, {96, 4.153894}]    |\n",
            "|14    |[{52, 4.6091495}, {29, 4.5861607}, {63, 4.061832}, {76, 3.961811}, {85, 3.9401329}]  |\n",
            "|5     |[{46, 3.7147906}, {90, 3.6465826}, {55, 3.6096942}, {49, 3.5034094}, {17, 3.2064426}]|\n",
            "|15    |[{46, 3.7851572}, {64, 2.6284318}, {55, 2.5867233}, {1, 2.5471127}, {90, 2.5251477}] |\n",
            "|25    |[{47, 2.973572}, {71, 2.8671896}, {33, 2.8077264}, {25, 2.6950364}, {46, 2.610244}]  |\n",
            "|26    |[{51, 4.98491}, {22, 4.681231}, {94, 4.4938006}, {88, 4.431213}, {32, 4.3251176}]    |\n",
            "|6     |[{25, 3.767588}, {47, 3.2282903}, {29, 3.097281}, {85, 3.0420344}, {62, 2.8609405}]  |\n",
            "+------+-------------------------------------------------------------------------------------+\n",
            "only showing top 20 rows\n",
            "\n"
          ]
        }
      ],
      "source": [
        "user_recommendations = model.recommendForAllUsers(numItems=5)\n",
        "user_recommendations.show(truncate=False)"
      ]
    }
  ],
  "metadata": {
    "colab": {
      "provenance": []
    },
    "kernelspec": {
      "display_name": "Python 3",
      "name": "python3"
    },
    "language_info": {
      "name": "python"
    }
  },
  "nbformat": 4,
  "nbformat_minor": 0
}