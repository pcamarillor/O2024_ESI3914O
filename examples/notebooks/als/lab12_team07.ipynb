{
 "cells": [
  {
   "cell_type": "code",
   "execution_count": 1,
   "metadata": {
    "colab": {
     "base_uri": "https://localhost:8080/"
    },
    "id": "hQlQkmf6T6JG",
    "outputId": "63fef069-51e9-449a-f041-30e2404b24ff"
   },
   "outputs": [
    {
     "name": "stdout",
     "output_type": "stream",
     "text": [
      "Mounted at /content/drive\n"
     ]
    }
   ],
   "source": [
    "from google.colab import drive\n",
    "drive.mount('/content/drive')"
   ]
  },
  {
   "cell_type": "code",
   "execution_count": 2,
   "metadata": {
    "colab": {
     "base_uri": "https://localhost:8080/"
    },
    "id": "Iznmc-hwUOpT",
    "outputId": "dacca526-0ca5-4ddf-e6e5-6d7a1bee2151"
   },
   "outputs": [
    {
     "name": "stdout",
     "output_type": "stream",
     "text": [
      "\u001b[33m\r0% [Working]\u001b[0m\r            \rGet:1 https://cloud.r-project.org/bin/linux/ubuntu jammy-cran40/ InRelease [3,626 B]\n",
      "\u001b[33m\r0% [Connecting to archive.ubuntu.com (185.125.190.82)] [Connecting to security.\u001b[0m\u001b[33m\r0% [Connecting to archive.ubuntu.com (185.125.190.82)] [Connecting to security.\u001b[0m\r                                                                               \rHit:2 http://archive.ubuntu.com/ubuntu jammy InRelease\n",
      "\u001b[33m\r0% [Waiting for headers] [Waiting for headers] [Waiting for headers] [Connected\u001b[0m\r                                                                               \rGet:3 http://security.ubuntu.com/ubuntu jammy-security InRelease [129 kB]\n",
      "\u001b[33m\r0% [Waiting for headers] [3 InRelease 14.2 kB/129 kB 11%] [Waiting for headers]\u001b[0m\r                                                                               \rHit:4 https://developer.download.nvidia.com/compute/cuda/repos/ubuntu2204/x86_64  InRelease\n",
      "Get:5 https://r2u.stat.illinois.edu/ubuntu jammy InRelease [6,555 B]\n",
      "Get:6 http://archive.ubuntu.com/ubuntu jammy-updates InRelease [128 kB]\n",
      "Hit:7 https://ppa.launchpadcontent.net/deadsnakes/ppa/ubuntu jammy InRelease\n",
      "Hit:8 https://ppa.launchpadcontent.net/graphics-drivers/ppa/ubuntu jammy InRelease\n",
      "Get:9 https://r2u.stat.illinois.edu/ubuntu jammy/main all Packages [8,456 kB]\n",
      "Hit:10 https://ppa.launchpadcontent.net/ubuntugis/ppa/ubuntu jammy InRelease\n",
      "Get:11 http://archive.ubuntu.com/ubuntu jammy-backports InRelease [127 kB]\n",
      "Get:12 http://security.ubuntu.com/ubuntu jammy-security/restricted amd64 Packages [3,241 kB]\n",
      "Get:13 https://r2u.stat.illinois.edu/ubuntu jammy/main amd64 Packages [2,611 kB]\n",
      "Get:14 http://archive.ubuntu.com/ubuntu jammy-updates/universe amd64 Packages [1,452 kB]\n",
      "Get:15 http://security.ubuntu.com/ubuntu jammy-security/universe amd64 Packages [1,163 kB]\n",
      "Get:16 http://security.ubuntu.com/ubuntu jammy-security/main amd64 Packages [2,397 kB]\n",
      "Get:17 http://archive.ubuntu.com/ubuntu jammy-updates/main amd64 Packages [2,672 kB]\n",
      "Fetched 22.4 MB in 2s (9,701 kB/s)\n",
      "Reading package lists... Done\n",
      "Building dependency tree... Done\n",
      "Reading state information... Done\n",
      "50 packages can be upgraded. Run 'apt list --upgradable' to see them.\n",
      "\u001b[1;33mW: \u001b[0mSkipping acquire of configured file 'main/source/Sources' as repository 'https://r2u.stat.illinois.edu/ubuntu jammy InRelease' does not seem to provide it (sources.list entry misspelt?)\u001b[0m\n",
      "tar: spark-3.5.2-bin-hadoop3.tgz: Cannot open: No such file or directory\n",
      "tar: Error is not recoverable: exiting now\n",
      "Requirement already satisfied: pyspark in /usr/local/lib/python3.10/dist-packages (3.5.3)\n",
      "Requirement already satisfied: py4j==0.10.9.7 in /usr/local/lib/python3.10/dist-packages (from pyspark) (0.10.9.7)\n",
      "Requirement already satisfied: py4j in /usr/local/lib/python3.10/dist-packages (0.10.9.7)\n"
     ]
    }
   ],
   "source": [
    "!sudo apt update\n",
    "!apt-get install openjdk-8-jdk-headless -qq > /dev/null\n",
    "# Check this site for the latest download link\n",
    "# https://www.apache.org/dyn/closer.lua/spark\n",
    "!wget -q https://dlcdn.apache.org/spark/spark-3.5.2/spark-3.5.2-bin-hadoop3.tgz\n",
    "!tar xf spark-3.5.2-bin-hadoop3.tgz\n",
    "!pip install -q findspark\n",
    "!pip install pyspark\n",
    "!pip install py4j"
   ]
  },
  {
   "cell_type": "code",
   "execution_count": null,
   "metadata": {
    "colab": {
     "base_uri": "https://localhost:8080/"
    },
    "id": "8B2UDZ4-UXwi",
    "outputId": "9dbff7e4-4eff-4d1f-d955-3f1910a73ce1"
   },
   "outputs": [
    {
     "name": "stdout",
     "output_type": "stream",
     "text": [
      "root\n",
      " |-- userId: integer (nullable = true)\n",
      " |-- movieId: integer (nullable = true)\n",
      " |-- rating: integer (nullable = true)\n",
      "\n",
      "+------+-------+------+\n",
      "|userId|movieId|rating|\n",
      "+------+-------+------+\n",
      "|0     |2      |3     |\n",
      "|0     |3      |1     |\n",
      "|0     |5      |2     |\n",
      "|0     |9      |4     |\n",
      "|0     |11     |1     |\n",
      "|0     |12     |2     |\n",
      "|0     |15     |1     |\n",
      "|0     |17     |1     |\n",
      "|0     |19     |1     |\n",
      "|0     |21     |1     |\n",
      "+------+-------+------+\n",
      "only showing top 10 rows\n",
      "\n"
     ]
    }
   ],
   "source": [
    "from pyspark.sql import SparkSession\n",
    "from pyspark.sql.types import StructType, StructField, FloatType, IntegerType\n",
    "from pyspark.ml.feature import VectorAssembler\n",
    "from pyspark.ml.classification import LogisticRegression\n",
    "\n",
    "# Create Spark Session in localhost\n",
    "spark = SparkSession.builder.master(\"local\").\\\n",
    "    appName(\"ITESO-ALS\").\\\n",
    "    getOrCreate()\n",
    "\n",
    "# Set spark context\n",
    "sc = spark.sparkContext\n",
    "sc.setLogLevel(\"ERROR\")\n",
    "\n",
    "file_path = \"/content/drive/MyDrive/sample_movielens_ratings.txt\"\n",
    "ratings_df = spark.read.format(\"csv\") \\\n",
    "    .option(\"delimiter\", \"::\") \\\n",
    "    .option(\"inferSchema\", \"true\") \\\n",
    "    .option(\"header\", \"false\") \\\n",
    "    .load(file_path) \\\n",
    "    .toDF(\"userId\", \"movieId\", \"rating\", \"timestamp\")\n",
    "\n",
    "ratings_df.show(n=10, truncate=False)\n",
    "\n",
    "ratings_df.printSchema()\n",
    "ratings_df.show(5)"
   ]
  },
  {
   "cell_type": "code",
   "execution_count": null,
   "metadata": {
    "colab": {
     "base_uri": "https://localhost:8080/"
    },
    "id": "9g11PYy9WpiZ",
    "outputId": "b98f97ca-272b-40cf-cc9b-46535fbb82bf"
   },
   "outputs": [
    {
     "name": "stdout",
     "output_type": "stream",
     "text": [
      "+------+---------------------------------------------------+\n",
      "|userId|recommendations                                    |\n",
      "+------+---------------------------------------------------+\n",
      "|20    |[{22, 3.1700583}, {75, 3.0720527}, {77, 3.0376258}]|\n",
      "|10    |[{92, 3.1328428}, {2, 2.9586518}, {49, 2.759566}]  |\n",
      "|0     |[{2, 2.4901946}, {92, 2.362689}, {62, 2.3117182}]  |\n",
      "|1     |[{22, 2.6123614}, {32, 2.5482397}, {90, 2.5390642}]|\n",
      "|21    |[{29, 3.9293365}, {52, 3.860653}, {62, 3.4957798}] |\n",
      "|11    |[{30, 4.499502}, {23, 4.305071}, {32, 4.2971106}]  |\n",
      "|12    |[{46, 5.7581706}, {90, 4.6824193}, {55, 4.6630015}]|\n",
      "|22    |[{75, 4.5056486}, {51, 4.279585}, {30, 4.2458215}] |\n",
      "|2     |[{93, 4.3672304}, {8, 4.147073}, {83, 4.080389}]   |\n",
      "|13    |[{93, 2.7201996}, {74, 2.5777538}, {8, 2.461563}]  |\n",
      "|3     |[{30, 4.131316}, {51, 4.087223}, {69, 3.9870188}]  |\n",
      "|23    |[{46, 5.764672}, {55, 4.7219243}, {90, 4.649307}]  |\n",
      "|4     |[{2, 3.266941}, {29, 3.1258602}, {62, 3.10903}]    |\n",
      "|24    |[{52, 4.3746667}, {69, 4.1343994}, {76, 3.9926577}]|\n",
      "|14    |[{52, 4.57543}, {29, 4.3097024}, {85, 3.9534636}]  |\n",
      "|5     |[{46, 4.0089517}, {32, 3.5481434}, {90, 3.4874241}]|\n",
      "|15    |[{46, 3.3819933}, {90, 3.1161609}, {55, 2.73581}]  |\n",
      "|25    |[{46, 3.22756}, {27, 2.6129014}, {83, 2.6005516}]  |\n",
      "|26    |[{32, 4.9613304}, {30, 4.883637}, {75, 4.7722735}] |\n",
      "|6     |[{52, 3.1057217}, {29, 3.0167758}, {25, 2.9749956}]|\n",
      "+------+---------------------------------------------------+\n",
      "only showing top 20 rows\n",
      "\n"
     ]
    }
   ],
   "source": [
    "from pyspark.ml.recommendation import ALS\n",
    "\n",
    "als = ALS(\n",
    "    maxIter=10,\n",
    "    regParam=0.1,\n",
    "    userCol=\"userId\",\n",
    "    itemCol=\"movieId\",\n",
    "    ratingCol=\"rating\",\n",
    "    coldStartStrategy=\"drop\"\n",
    ")\n",
    "\n",
    "model = als.fit(ratings_df)"
   ]
  },
  {
   "cell_type": "code",
   "execution_count": null,
   "metadata": {},
   "outputs": [],
   "source": [
    "predictions = model.transform(ratings_df)\n",
    "\n",
    "evaluator = RegressionEvaluator(\n",
    "    metricName=\"rmse\",\n",
    "    labelCol=\"rating\",\n",
    "    predictionCol=\"prediction\"\n",
    ")\n",
    "rmse = evaluator.evaluate(predictions)\n",
    "print(f\"Root-mean-square error (RMSE): {rmse}\")"
   ]
  },
  {
   "cell_type": "code",
   "execution_count": null,
   "metadata": {
    "colab": {
     "base_uri": "https://localhost:8080/"
    },
    "id": "tc-qVTVxXbRs",
    "outputId": "879faf63-1ff1-47c8-bd38-40d2d07f6981"
   },
   "outputs": [
    {
     "name": "stdout",
     "output_type": "stream",
     "text": [
      "+------+-------+------+----------+\n",
      "|userId|movieId|rating|prediction|\n",
      "+------+-------+------+----------+\n",
      "|28    |0      |3     |2.4182842 |\n",
      "|28    |1      |1     |0.9200727 |\n",
      "|28    |2      |4     |3.6259902 |\n",
      "|28    |3      |1     |0.7575352 |\n",
      "|28    |6      |1     |0.8285437 |\n",
      "|28    |7      |1     |2.2961988 |\n",
      "|28    |12     |5     |2.5802782 |\n",
      "|28    |13     |2     |2.016483  |\n",
      "|28    |14     |1     |1.6457486 |\n",
      "|28    |15     |1     |1.1707748 |\n",
      "|28    |17     |1     |1.1201245 |\n",
      "|28    |19     |3     |2.3568447 |\n",
      "|28    |20     |1     |0.9272383 |\n",
      "|28    |23     |3     |2.7635028 |\n",
      "|28    |24     |3     |2.186849  |\n",
      "|28    |27     |1     |1.0844305 |\n",
      "|28    |29     |1     |1.5763125 |\n",
      "|28    |33     |1     |1.2678756 |\n",
      "|28    |34     |1     |1.6342938 |\n",
      "|28    |36     |1     |1.4977014 |\n",
      "+------+-------+------+----------+\n",
      "only showing top 20 rows\n",
      "\n",
      "0.5841209737685337\n"
     ]
    }
   ],
   "source": [
    "user_recommendations = model.recommendForAllUsers(numItems=5)\n",
    "user_recommendations.show(truncate=False)"
   ]
  }
 ],
 "metadata": {
  "colab": {
   "provenance": []
  },
  "kernelspec": {
   "display_name": "Python 3",
   "name": "python3"
  },
  "language_info": {
   "name": "python"
  }
 },
 "nbformat": 4,
 "nbformat_minor": 0
}
