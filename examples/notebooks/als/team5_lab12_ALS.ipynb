{
  "nbformat": 4,
  "nbformat_minor": 0,
  "metadata": {
    "colab": {
      "provenance": []
    },
    "kernelspec": {
      "name": "python3",
      "display_name": "Python 3"
    },
    "language_info": {
      "name": "python"
    }
  },
  "cells": [
    {
      "cell_type": "markdown",
      "source": [
        "# **Hacemos import de las librerias & instalamos las dependencias de pyspark**"
      ],
      "metadata": {
        "id": "NRTVZOtWvM-K"
      }
    },
    {
      "cell_type": "code",
      "execution_count": 13,
      "metadata": {
        "id": "WX1NZqHvs1sc"
      },
      "outputs": [],
      "source": [
        "# Import necessary modules\n",
        "from pyspark.sql import SparkSession\n",
        "from pyspark.ml.evaluation import RegressionEvaluator\n",
        "from pyspark.ml.recommendation import ALS\n",
        "from pyspark.sql.functions import split"
      ]
    },
    {
      "cell_type": "code",
      "source": [
        "!sudo apt update\n",
        "!apt-get install openjdk-8-jdk-headless -qq > /dev/null\n",
        "# Check this site for the latest download link\n",
        "# https://www.apache.org/dyn/closer.lua/spark\n",
        "!wget -q https://dlcdn.apache.org/spark/spark-3.5.2/spark-3.5.2-bin-hadoop3.tgz\n",
        "!tar xf spark-3.5.2-bin-hadoop3.tgz\n",
        "!pip install -q findspark\n",
        "!pip install pyspark\n",
        "!pip install py4j"
      ],
      "metadata": {
        "colab": {
          "base_uri": "https://localhost:8080/"
        },
        "id": "tr-PsiCntbrz",
        "outputId": "235ee579-c21a-44e1-aba0-3cb47f39286f"
      },
      "execution_count": 2,
      "outputs": [
        {
          "output_type": "stream",
          "name": "stdout",
          "text": [
            "\u001b[33m\r0% [Working]\u001b[0m\r            \rHit:1 https://developer.download.nvidia.com/compute/cuda/repos/ubuntu2204/x86_64  InRelease\n",
            "\u001b[33m\r0% [Connecting to archive.ubuntu.com (91.189.91.81)] [Waiting for headers] [Wai\u001b[0m\r                                                                               \rGet:2 https://cloud.r-project.org/bin/linux/ubuntu jammy-cran40/ InRelease [3,626 B]\n",
            "Hit:3 http://archive.ubuntu.com/ubuntu jammy InRelease\n",
            "Get:4 http://security.ubuntu.com/ubuntu jammy-security InRelease [129 kB]\n",
            "Get:5 http://archive.ubuntu.com/ubuntu jammy-updates InRelease [128 kB]\n",
            "Get:6 https://r2u.stat.illinois.edu/ubuntu jammy InRelease [6,555 B]\n",
            "Get:7 http://archive.ubuntu.com/ubuntu jammy-backports InRelease [127 kB]\n",
            "Hit:8 https://ppa.launchpadcontent.net/deadsnakes/ppa/ubuntu jammy InRelease\n",
            "Hit:9 https://ppa.launchpadcontent.net/graphics-drivers/ppa/ubuntu jammy InRelease\n",
            "Hit:10 https://ppa.launchpadcontent.net/ubuntugis/ppa/ubuntu jammy InRelease\n",
            "Get:11 https://r2u.stat.illinois.edu/ubuntu jammy/main amd64 Packages [2,611 kB]\n",
            "Get:12 http://archive.ubuntu.com/ubuntu jammy-updates/main amd64 Packages [2,696 kB]\n",
            "Get:13 https://r2u.stat.illinois.edu/ubuntu jammy/main all Packages [8,456 kB]\n",
            "Get:14 http://archive.ubuntu.com/ubuntu jammy-updates/universe amd64 Packages [1,452 kB]\n",
            "Get:15 http://archive.ubuntu.com/ubuntu jammy-updates/restricted amd64 Packages [3,353 kB]\n",
            "Get:16 http://security.ubuntu.com/ubuntu jammy-security/main amd64 Packages [2,397 kB]\n",
            "Get:17 http://security.ubuntu.com/ubuntu jammy-security/restricted amd64 Packages [3,241 kB]\n",
            "Get:18 http://security.ubuntu.com/ubuntu jammy-security/universe amd64 Packages [1,163 kB]\n",
            "Fetched 25.8 MB in 8s (3,402 kB/s)\n",
            "Reading package lists... Done\n",
            "Building dependency tree... Done\n",
            "Reading state information... Done\n",
            "51 packages can be upgraded. Run 'apt list --upgradable' to see them.\n",
            "\u001b[1;33mW: \u001b[0mSkipping acquire of configured file 'main/source/Sources' as repository 'https://r2u.stat.illinois.edu/ubuntu jammy InRelease' does not seem to provide it (sources.list entry misspelt?)\u001b[0m\n",
            "tar: spark-3.5.2-bin-hadoop3.tgz: Cannot open: No such file or directory\n",
            "tar: Error is not recoverable: exiting now\n",
            "Requirement already satisfied: pyspark in /usr/local/lib/python3.10/dist-packages (3.5.3)\n",
            "Requirement already satisfied: py4j==0.10.9.7 in /usr/local/lib/python3.10/dist-packages (from pyspark) (0.10.9.7)\n",
            "Requirement already satisfied: py4j in /usr/local/lib/python3.10/dist-packages (0.10.9.7)\n"
          ]
        }
      ]
    },
    {
      "cell_type": "markdown",
      "source": [
        "# **Inicializamos nuestro SparkSession**"
      ],
      "metadata": {
        "id": "YIWubhZWu_Hn"
      }
    },
    {
      "cell_type": "code",
      "source": [
        "# Initialize SparkSession\n",
        "spark = SparkSession.builder \\\n",
        "            .appName(\"ALS_Example\") \\\n",
        "            .getOrCreate()\n",
        "\n",
        "spark.sparkContext.setLogLevel(\"ERROR\")"
      ],
      "metadata": {
        "id": "Go6MsK-rtgf0"
      },
      "execution_count": 3,
      "outputs": []
    },
    {
      "cell_type": "markdown",
      "source": [
        "# **Cargamos el .txt a un DF**"
      ],
      "metadata": {
        "id": "cD_0LHk1vD1A"
      }
    },
    {
      "cell_type": "code",
      "source": [
        "movies_df = spark.read.text(\"sample_movielens_ratings.txt\")"
      ],
      "metadata": {
        "id": "ByULM_fZuHiS"
      },
      "execution_count": 5,
      "outputs": []
    },
    {
      "cell_type": "code",
      "source": [
        "movies_df.show()"
      ],
      "metadata": {
        "colab": {
          "base_uri": "https://localhost:8080/"
        },
        "id": "Si3ha1OAuWPd",
        "outputId": "8f1bc219-c4bf-44f3-d8b9-ee9ca87cd07a"
      },
      "execution_count": 7,
      "outputs": [
        {
          "output_type": "stream",
          "name": "stdout",
          "text": [
            "+--------------------+\n",
            "|               value|\n",
            "+--------------------+\n",
            "| 0::2::3::1424380312|\n",
            "| 0::3::1::1424380312|\n",
            "| 0::5::2::1424380312|\n",
            "| 0::9::4::1424380312|\n",
            "|0::11::1::1424380312|\n",
            "|0::12::2::1424380312|\n",
            "|0::15::1::1424380312|\n",
            "|0::17::1::1424380312|\n",
            "|0::19::1::1424380312|\n",
            "|0::21::1::1424380312|\n",
            "|0::23::1::1424380312|\n",
            "|0::26::3::1424380312|\n",
            "|0::27::1::1424380312|\n",
            "|0::28::1::1424380312|\n",
            "|0::29::1::1424380312|\n",
            "|0::30::1::1424380312|\n",
            "|0::31::1::1424380312|\n",
            "|0::34::1::1424380312|\n",
            "|0::37::1::1424380312|\n",
            "|0::41::2::1424380312|\n",
            "+--------------------+\n",
            "only showing top 20 rows\n",
            "\n"
          ]
        }
      ]
    },
    {
      "cell_type": "markdown",
      "source": [
        "# **Generamos las nuevas columnas a partir de los datos del txt. Podemos utilizar los \"::\" para separar las columnas**"
      ],
      "metadata": {
        "id": "MriuPGxpvZBZ"
      }
    },
    {
      "cell_type": "code",
      "source": [
        "movies_df = movies_df \\\n",
        ".withColumn(\"userId\", split(movies_df[\"value\"], \"::\").getItem(0)) \\\n",
        ".withColumn(\"movieId\", split(movies_df[\"value\"], \"::\").getItem(1)) \\\n",
        ".withColumn(\"rating\", split(movies_df[\"value\"], \"::\").getItem(2)) \\\n",
        ".withColumn(\"timestamp\", split(movies_df[\"value\"], \"::\").getItem(3))"
      ],
      "metadata": {
        "id": "eOKQEGFLucKA"
      },
      "execution_count": 10,
      "outputs": []
    },
    {
      "cell_type": "markdown",
      "source": [
        "**Podemos eliminar value, ya no se necesita**"
      ],
      "metadata": {
        "id": "pbVLu0cVxlfp"
      }
    },
    {
      "cell_type": "code",
      "source": [
        "movies_df = movies_df.drop(\"value\")"
      ],
      "metadata": {
        "id": "TEwE8ebLxk7K"
      },
      "execution_count": 23,
      "outputs": []
    },
    {
      "cell_type": "code",
      "source": [
        "movies_df.show()"
      ],
      "metadata": {
        "colab": {
          "base_uri": "https://localhost:8080/"
        },
        "id": "lLa-OByYu7kC",
        "outputId": "8d9f87fb-c9ab-4354-a615-11143997a3b0"
      },
      "execution_count": 24,
      "outputs": [
        {
          "output_type": "stream",
          "name": "stdout",
          "text": [
            "+------+-------+------+----------+\n",
            "|userId|movieId|rating| timestamp|\n",
            "+------+-------+------+----------+\n",
            "|     0|      2|     3|1424380312|\n",
            "|     0|      3|     1|1424380312|\n",
            "|     0|      5|     2|1424380312|\n",
            "|     0|      9|     4|1424380312|\n",
            "|     0|     11|     1|1424380312|\n",
            "|     0|     12|     2|1424380312|\n",
            "|     0|     15|     1|1424380312|\n",
            "|     0|     17|     1|1424380312|\n",
            "|     0|     19|     1|1424380312|\n",
            "|     0|     21|     1|1424380312|\n",
            "|     0|     23|     1|1424380312|\n",
            "|     0|     26|     3|1424380312|\n",
            "|     0|     27|     1|1424380312|\n",
            "|     0|     28|     1|1424380312|\n",
            "|     0|     29|     1|1424380312|\n",
            "|     0|     30|     1|1424380312|\n",
            "|     0|     31|     1|1424380312|\n",
            "|     0|     34|     1|1424380312|\n",
            "|     0|     37|     1|1424380312|\n",
            "|     0|     41|     2|1424380312|\n",
            "+------+-------+------+----------+\n",
            "only showing top 20 rows\n",
            "\n"
          ]
        }
      ]
    },
    {
      "cell_type": "markdown",
      "source": [
        "# **Necesitamos castear los valores de las columnas a INT**"
      ],
      "metadata": {
        "id": "yA8EIZX1woo3"
      }
    },
    {
      "cell_type": "code",
      "source": [
        "for col_name in [\"userId\", \"movieId\", \"rating\"]:\n",
        "    movies_df = movies_df.withColumn(col_name, movies_df[col_name].cast(\"int\"))\n",
        "movies_df.show()"
      ],
      "metadata": {
        "colab": {
          "base_uri": "https://localhost:8080/"
        },
        "id": "Yyk3Ci8swXiC",
        "outputId": "79bc3931-7ddf-4b44-cb9a-6d0e1f7f5ae6"
      },
      "execution_count": 25,
      "outputs": [
        {
          "output_type": "stream",
          "name": "stdout",
          "text": [
            "+------+-------+------+----------+\n",
            "|userId|movieId|rating| timestamp|\n",
            "+------+-------+------+----------+\n",
            "|     0|      2|     3|1424380312|\n",
            "|     0|      3|     1|1424380312|\n",
            "|     0|      5|     2|1424380312|\n",
            "|     0|      9|     4|1424380312|\n",
            "|     0|     11|     1|1424380312|\n",
            "|     0|     12|     2|1424380312|\n",
            "|     0|     15|     1|1424380312|\n",
            "|     0|     17|     1|1424380312|\n",
            "|     0|     19|     1|1424380312|\n",
            "|     0|     21|     1|1424380312|\n",
            "|     0|     23|     1|1424380312|\n",
            "|     0|     26|     3|1424380312|\n",
            "|     0|     27|     1|1424380312|\n",
            "|     0|     28|     1|1424380312|\n",
            "|     0|     29|     1|1424380312|\n",
            "|     0|     30|     1|1424380312|\n",
            "|     0|     31|     1|1424380312|\n",
            "|     0|     34|     1|1424380312|\n",
            "|     0|     37|     1|1424380312|\n",
            "|     0|     41|     2|1424380312|\n",
            "+------+-------+------+----------+\n",
            "only showing top 20 rows\n",
            "\n"
          ]
        }
      ]
    },
    {
      "cell_type": "markdown",
      "source": [
        "# **Entrenamos el modelo ALS**"
      ],
      "metadata": {
        "id": "5qZOG_B4xAf1"
      }
    },
    {
      "cell_type": "code",
      "source": [
        "als = ALS(\n",
        "  userCol=\"userId\",\n",
        "  itemCol=\"movieId\",\n",
        "  ratingCol=\"rating\",\n",
        "  maxIter=10,\n",
        "  regParam=0.1,\n",
        "  rank=5, # Controls the dimensionality of the latent vector space for\n",
        "  # users and items.\n",
        "  coldStartStrategy=\"drop\" # Avoids NaN predictions\n",
        ")\n",
        "\n",
        "# Train the model\n",
        "model = als.fit(movies_df)\n",
        "\n",
        "# Generate recommendations for each user\n",
        "user_recommendations = model.recommendForAllUsers(numItems=3)\n",
        "user_recommendations.show()"
      ],
      "metadata": {
        "colab": {
          "base_uri": "https://localhost:8080/"
        },
        "id": "zeyt7Zdsv_au",
        "outputId": "64ad779a-dc83-4313-bac9-8f2234107a89"
      },
      "execution_count": 26,
      "outputs": [
        {
          "output_type": "stream",
          "name": "stdout",
          "text": [
            "+------+--------------------+\n",
            "|userId|     recommendations|\n",
            "+------+--------------------+\n",
            "|    20|[{22, 3.4490774},...|\n",
            "|    10|[{93, 2.8908803},...|\n",
            "|     0|[{92, 2.6682348},...|\n",
            "|     1|[{22, 2.7923386},...|\n",
            "|    21|[{29, 4.2831173},...|\n",
            "|    11|[{32, 4.638387}, ...|\n",
            "|    12|[{46, 5.5808306},...|\n",
            "|    22|[{75, 4.412687}, ...|\n",
            "|     2|[{93, 4.2631207},...|\n",
            "|    13|[{29, 2.5850673},...|\n",
            "|     3|[{51, 3.9958472},...|\n",
            "|    23|[{46, 5.636417}, ...|\n",
            "|     4|[{29, 3.2266839},...|\n",
            "|    24|[{52, 4.3879285},...|\n",
            "|    14|[{29, 4.66413}, {...|\n",
            "|     5|[{46, 4.283429}, ...|\n",
            "|    15|[{46, 3.2000859},...|\n",
            "|    25|[{93, 2.9285555},...|\n",
            "|    26|[{22, 4.9435816},...|\n",
            "|     6|[{93, 3.0702496},...|\n",
            "+------+--------------------+\n",
            "only showing top 20 rows\n",
            "\n"
          ]
        }
      ]
    },
    {
      "cell_type": "code",
      "source": [
        "# Generate predictions on the test set\n",
        "predictions = model.transform(movies_df)\n",
        "predictions.show(truncate=False)\n",
        "# Set up evaluator to compute RMSE\n",
        "evaluator = RegressionEvaluator(\n",
        "metricName=\"rmse\", labelCol=\"rating\", predictionCol=\"prediction\")\n",
        "# Calculate RMSE\n",
        "rmse = evaluator.evaluate(predictions)"
      ],
      "metadata": {
        "colab": {
          "base_uri": "https://localhost:8080/"
        },
        "id": "r2fHNtOZxJIW",
        "outputId": "5966a968-f81f-41d8-bfb6-5fba4b924d4e"
      },
      "execution_count": 28,
      "outputs": [
        {
          "output_type": "stream",
          "name": "stdout",
          "text": [
            "+------+-------+------+----------+----------+\n",
            "|userId|movieId|rating|timestamp |prediction|\n",
            "+------+-------+------+----------+----------+\n",
            "|26    |31     |1     |1424380312|0.50771856|\n",
            "|27    |31     |1     |1424380312|1.2951624 |\n",
            "|12    |31     |4     |1424380312|2.4628594 |\n",
            "|13    |31     |1     |1424380312|1.5726469 |\n",
            "|5     |31     |1     |1424380312|1.559071  |\n",
            "|19    |31     |1     |1424380312|0.7830377 |\n",
            "|4     |31     |1     |1424380312|1.7635086 |\n",
            "|8     |31     |3     |1424380312|2.3926353 |\n",
            "|7     |31     |3     |1424380312|1.9721277 |\n",
            "|25    |31     |2     |1424380312|1.9625527 |\n",
            "|24    |31     |1     |1424380312|1.6316519 |\n",
            "|29    |31     |1     |1424380312|1.5836794 |\n",
            "|14    |31     |3     |1424380312|2.153307  |\n",
            "|0     |31     |1     |1424380312|1.3173116 |\n",
            "|18    |31     |1     |1424380312|0.9731301 |\n",
            "|28    |85     |1     |1424380312|0.96118134|\n",
            "|26    |85     |1     |1424380312|1.7180077 |\n",
            "|12    |85     |1     |1424380312|0.8278136 |\n",
            "|1     |85     |3     |1424380312|1.9655013 |\n",
            "|13    |85     |1     |1424380312|2.1160364 |\n",
            "+------+-------+------+----------+----------+\n",
            "only showing top 20 rows\n",
            "\n"
          ]
        }
      ]
    }
  ]
}