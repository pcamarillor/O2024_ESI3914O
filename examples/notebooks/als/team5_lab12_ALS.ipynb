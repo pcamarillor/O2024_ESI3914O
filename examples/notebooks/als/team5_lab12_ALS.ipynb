{
  "nbformat": 4,
  "nbformat_minor": 0,
  "metadata": {
    "colab": {
      "provenance": []
    },
    "kernelspec": {
      "name": "python3",
      "display_name": "Python 3"
    },
    "language_info": {
      "name": "python"
    }
  },
  "cells": [
    {
      "cell_type": "markdown",
      "source": [
        "# **Hacemos import de las librerias & instalamos las dependencias de pyspark**"
      ],
      "metadata": {
        "id": "NRTVZOtWvM-K"
      }
    },
    {
      "cell_type": "code",
      "execution_count": 3,
      "metadata": {
        "id": "WX1NZqHvs1sc"
      },
      "outputs": [],
      "source": [
        "# Import necessary modules\n",
        "from pyspark.sql import SparkSession\n",
        "from pyspark.ml.evaluation import RegressionEvaluator\n",
        "from pyspark.ml.recommendation import ALS\n",
        "from pyspark.sql.functions import split"
      ]
    },
    {
      "cell_type": "code",
      "source": [
        "!sudo apt update\n",
        "!apt-get install openjdk-8-jdk-headless -qq > /dev/null\n",
        "# Check this site for the latest download link\n",
        "# https://www.apache.org/dyn/closer.lua/spark\n",
        "!wget -q https://dlcdn.apache.org/spark/spark-3.5.2/spark-3.5.2-bin-hadoop3.tgz\n",
        "!tar xf spark-3.5.2-bin-hadoop3.tgz\n",
        "!pip install -q findspark\n",
        "!pip install pyspark\n",
        "!pip install py4j"
      ],
      "metadata": {
        "colab": {
          "base_uri": "https://localhost:8080/"
        },
        "id": "tr-PsiCntbrz",
        "outputId": "d0d22427-b08f-4252-9689-7050b0e887bc"
      },
      "execution_count": 4,
      "outputs": [
        {
          "output_type": "stream",
          "name": "stdout",
          "text": [
            "\u001b[33m\r0% [Working]\u001b[0m\r            \rGet:1 http://security.ubuntu.com/ubuntu jammy-security InRelease [129 kB]\n",
            "\u001b[33m\r0% [Waiting for headers] [1 InRelease 2,586 B/129 kB 2%] [Connected to cloud.r-\u001b[0m\r                                                                               \rHit:2 http://archive.ubuntu.com/ubuntu jammy InRelease\n",
            "\u001b[33m\r0% [1 InRelease 38.8 kB/129 kB 30%] [Connected to cloud.r-project.org (108.139.\u001b[0m\r                                                                               \rGet:3 http://archive.ubuntu.com/ubuntu jammy-updates InRelease [128 kB]\n",
            "\r                                                                               \rGet:4 https://cloud.r-project.org/bin/linux/ubuntu jammy-cran40/ InRelease [3,626 B]\n",
            "\u001b[33m\r0% [3 InRelease 15.6 kB/128 kB 12%] [1 InRelease 38.8 kB/129 kB 30%] [Connected\u001b[0m\r                                                                               \rGet:5 https://developer.download.nvidia.com/compute/cuda/repos/ubuntu2204/x86_64  InRelease [1,581 B]\n",
            "\u001b[33m\r0% [3 InRelease 56.2 kB/128 kB 44%] [1 InRelease 129 kB/129 kB 100%] [Connected\u001b[0m\u001b[33m\r0% [3 InRelease 59.1 kB/128 kB 46%] [Connected to r2u.stat.illinois.edu (192.17\u001b[0m\u001b[33m\r0% [Waiting for headers] [Waiting for headers] [Connected to ppa.launchpadconte\u001b[0m\r                                                                               \rGet:6 http://archive.ubuntu.com/ubuntu jammy-backports InRelease [127 kB]\n",
            "Get:7 https://r2u.stat.illinois.edu/ubuntu jammy InRelease [6,555 B]\n",
            "Hit:8 https://ppa.launchpadcontent.net/deadsnakes/ppa/ubuntu jammy InRelease\n",
            "Get:9 https://developer.download.nvidia.com/compute/cuda/repos/ubuntu2204/x86_64  Packages [1,172 kB]\n",
            "Hit:10 https://ppa.launchpadcontent.net/graphics-drivers/ppa/ubuntu jammy InRelease\n",
            "Get:11 http://security.ubuntu.com/ubuntu jammy-security/restricted amd64 Packages [3,323 kB]\n",
            "Hit:12 https://ppa.launchpadcontent.net/ubuntugis/ppa/ubuntu jammy InRelease\n",
            "Get:13 http://security.ubuntu.com/ubuntu jammy-security/main amd64 Packages [2,452 kB]\n",
            "Get:14 http://security.ubuntu.com/ubuntu jammy-security/universe amd64 Packages [1,223 kB]\n",
            "Get:15 http://archive.ubuntu.com/ubuntu jammy-updates/universe amd64 Packages [1,512 kB]\n",
            "Get:16 http://archive.ubuntu.com/ubuntu jammy-updates/main amd64 Packages [2,734 kB]\n",
            "Get:17 https://r2u.stat.illinois.edu/ubuntu jammy/main all Packages [8,508 kB]\n",
            "Get:18 https://r2u.stat.illinois.edu/ubuntu jammy/main amd64 Packages [2,618 kB]\n",
            "Fetched 23.9 MB in 3s (7,004 kB/s)\n",
            "Reading package lists... Done\n",
            "Building dependency tree... Done\n",
            "Reading state information... Done\n",
            "49 packages can be upgraded. Run 'apt list --upgradable' to see them.\n",
            "\u001b[1;33mW: \u001b[0mSkipping acquire of configured file 'main/source/Sources' as repository 'https://r2u.stat.illinois.edu/ubuntu jammy InRelease' does not seem to provide it (sources.list entry misspelt?)\u001b[0m\n",
            "tar: spark-3.5.2-bin-hadoop3.tgz: Cannot open: No such file or directory\n",
            "tar: Error is not recoverable: exiting now\n",
            "Requirement already satisfied: pyspark in /usr/local/lib/python3.10/dist-packages (3.5.3)\n",
            "Requirement already satisfied: py4j==0.10.9.7 in /usr/local/lib/python3.10/dist-packages (from pyspark) (0.10.9.7)\n",
            "Requirement already satisfied: py4j in /usr/local/lib/python3.10/dist-packages (0.10.9.7)\n"
          ]
        }
      ]
    },
    {
      "cell_type": "markdown",
      "source": [
        "# **Inicializamos nuestro SparkSession**"
      ],
      "metadata": {
        "id": "YIWubhZWu_Hn"
      }
    },
    {
      "cell_type": "code",
      "source": [
        "# Initialize SparkSession\n",
        "spark = SparkSession.builder \\\n",
        "            .appName(\"ALS_Example\") \\\n",
        "            .getOrCreate()\n",
        "\n",
        "spark.sparkContext.setLogLevel(\"ERROR\")"
      ],
      "metadata": {
        "id": "Go6MsK-rtgf0"
      },
      "execution_count": 5,
      "outputs": []
    },
    {
      "cell_type": "markdown",
      "source": [
        "# **Cargamos el .txt a un DF**"
      ],
      "metadata": {
        "id": "cD_0LHk1vD1A"
      }
    },
    {
      "cell_type": "code",
      "source": [
        "movies_df = spark.read.text(\"sample_movielens_ratings.txt\")"
      ],
      "metadata": {
        "id": "ByULM_fZuHiS"
      },
      "execution_count": 7,
      "outputs": []
    },
    {
      "cell_type": "code",
      "source": [
        "movies_df.show()"
      ],
      "metadata": {
        "colab": {
          "base_uri": "https://localhost:8080/"
        },
        "id": "Si3ha1OAuWPd",
        "outputId": "ccfab829-5a31-4f04-c209-c16593afe0f4"
      },
      "execution_count": 8,
      "outputs": [
        {
          "output_type": "stream",
          "name": "stdout",
          "text": [
            "+--------------------+\n",
            "|               value|\n",
            "+--------------------+\n",
            "| 0::2::3::1424380312|\n",
            "| 0::3::1::1424380312|\n",
            "| 0::5::2::1424380312|\n",
            "| 0::9::4::1424380312|\n",
            "|0::11::1::1424380312|\n",
            "|0::12::2::1424380312|\n",
            "|0::15::1::1424380312|\n",
            "|0::17::1::1424380312|\n",
            "|0::19::1::1424380312|\n",
            "|0::21::1::1424380312|\n",
            "|0::23::1::1424380312|\n",
            "|0::26::3::1424380312|\n",
            "|0::27::1::1424380312|\n",
            "|0::28::1::1424380312|\n",
            "|0::29::1::1424380312|\n",
            "|0::30::1::1424380312|\n",
            "|0::31::1::1424380312|\n",
            "|0::34::1::1424380312|\n",
            "|0::37::1::1424380312|\n",
            "|0::41::2::1424380312|\n",
            "+--------------------+\n",
            "only showing top 20 rows\n",
            "\n"
          ]
        }
      ]
    },
    {
      "cell_type": "markdown",
      "source": [
        "# **Generamos las nuevas columnas a partir de los datos del txt. Podemos utilizar los \"::\" para separar las columnas**"
      ],
      "metadata": {
        "id": "MriuPGxpvZBZ"
      }
    },
    {
      "cell_type": "code",
      "source": [
        "movies_df = movies_df \\\n",
        ".withColumn(\"userId\", split(movies_df[\"value\"], \"::\").getItem(0)) \\\n",
        ".withColumn(\"movieId\", split(movies_df[\"value\"], \"::\").getItem(1)) \\\n",
        ".withColumn(\"rating\", split(movies_df[\"value\"], \"::\").getItem(2)) \\\n",
        ".withColumn(\"timestamp\", split(movies_df[\"value\"], \"::\").getItem(3))"
      ],
      "metadata": {
        "id": "eOKQEGFLucKA"
      },
      "execution_count": 9,
      "outputs": []
    },
    {
      "cell_type": "markdown",
      "source": [
        "**Podemos eliminar value, ya no se necesita**"
      ],
      "metadata": {
        "id": "pbVLu0cVxlfp"
      }
    },
    {
      "cell_type": "code",
      "source": [
        "movies_df = movies_df.drop(\"value\")"
      ],
      "metadata": {
        "id": "TEwE8ebLxk7K"
      },
      "execution_count": 10,
      "outputs": []
    },
    {
      "cell_type": "code",
      "source": [
        "movies_df.show()"
      ],
      "metadata": {
        "colab": {
          "base_uri": "https://localhost:8080/"
        },
        "id": "lLa-OByYu7kC",
        "outputId": "cf2f2a72-244f-42e9-d50b-b2bedd9b6272"
      },
      "execution_count": 11,
      "outputs": [
        {
          "output_type": "stream",
          "name": "stdout",
          "text": [
            "+------+-------+------+----------+\n",
            "|userId|movieId|rating| timestamp|\n",
            "+------+-------+------+----------+\n",
            "|     0|      2|     3|1424380312|\n",
            "|     0|      3|     1|1424380312|\n",
            "|     0|      5|     2|1424380312|\n",
            "|     0|      9|     4|1424380312|\n",
            "|     0|     11|     1|1424380312|\n",
            "|     0|     12|     2|1424380312|\n",
            "|     0|     15|     1|1424380312|\n",
            "|     0|     17|     1|1424380312|\n",
            "|     0|     19|     1|1424380312|\n",
            "|     0|     21|     1|1424380312|\n",
            "|     0|     23|     1|1424380312|\n",
            "|     0|     26|     3|1424380312|\n",
            "|     0|     27|     1|1424380312|\n",
            "|     0|     28|     1|1424380312|\n",
            "|     0|     29|     1|1424380312|\n",
            "|     0|     30|     1|1424380312|\n",
            "|     0|     31|     1|1424380312|\n",
            "|     0|     34|     1|1424380312|\n",
            "|     0|     37|     1|1424380312|\n",
            "|     0|     41|     2|1424380312|\n",
            "+------+-------+------+----------+\n",
            "only showing top 20 rows\n",
            "\n"
          ]
        }
      ]
    },
    {
      "cell_type": "markdown",
      "source": [
        "# **Necesitamos castear los valores de las columnas a INT**"
      ],
      "metadata": {
        "id": "yA8EIZX1woo3"
      }
    },
    {
      "cell_type": "code",
      "source": [
        "for col_name in [\"userId\", \"movieId\", \"rating\"]:\n",
        "    movies_df = movies_df.withColumn(col_name, movies_df[col_name].cast(\"int\"))\n",
        "movies_df.show()"
      ],
      "metadata": {
        "colab": {
          "base_uri": "https://localhost:8080/"
        },
        "id": "Yyk3Ci8swXiC",
        "outputId": "634ec325-1e43-497e-80f7-052cc7b0b24b"
      },
      "execution_count": 12,
      "outputs": [
        {
          "output_type": "stream",
          "name": "stdout",
          "text": [
            "+------+-------+------+----------+\n",
            "|userId|movieId|rating| timestamp|\n",
            "+------+-------+------+----------+\n",
            "|     0|      2|     3|1424380312|\n",
            "|     0|      3|     1|1424380312|\n",
            "|     0|      5|     2|1424380312|\n",
            "|     0|      9|     4|1424380312|\n",
            "|     0|     11|     1|1424380312|\n",
            "|     0|     12|     2|1424380312|\n",
            "|     0|     15|     1|1424380312|\n",
            "|     0|     17|     1|1424380312|\n",
            "|     0|     19|     1|1424380312|\n",
            "|     0|     21|     1|1424380312|\n",
            "|     0|     23|     1|1424380312|\n",
            "|     0|     26|     3|1424380312|\n",
            "|     0|     27|     1|1424380312|\n",
            "|     0|     28|     1|1424380312|\n",
            "|     0|     29|     1|1424380312|\n",
            "|     0|     30|     1|1424380312|\n",
            "|     0|     31|     1|1424380312|\n",
            "|     0|     34|     1|1424380312|\n",
            "|     0|     37|     1|1424380312|\n",
            "|     0|     41|     2|1424380312|\n",
            "+------+-------+------+----------+\n",
            "only showing top 20 rows\n",
            "\n"
          ]
        }
      ]
    },
    {
      "cell_type": "markdown",
      "source": [
        "# **Entrenamos el modelo ALS**"
      ],
      "metadata": {
        "id": "5qZOG_B4xAf1"
      }
    },
    {
      "cell_type": "code",
      "source": [
        "als = ALS(\n",
        "  userCol=\"userId\",\n",
        "  itemCol=\"movieId\",\n",
        "  ratingCol=\"rating\",\n",
        "  maxIter=10,\n",
        "  regParam=0.1,\n",
        "  rank=5, # Controls the dimensionality of the latent vector space for\n",
        "  # users and items.\n",
        "  coldStartStrategy=\"drop\" # Avoids NaN predictions\n",
        ")\n",
        "\n",
        "# Train the model\n",
        "model = als.fit(movies_df)\n",
        "\n",
        "# Generate recommendations for each user\n",
        "user_recommendations = model.recommendForAllUsers(numItems=3)\n",
        "user_recommendations.show()"
      ],
      "metadata": {
        "colab": {
          "base_uri": "https://localhost:8080/"
        },
        "id": "zeyt7Zdsv_au",
        "outputId": "c683c413-d024-493e-ec08-501618c66d3e"
      },
      "execution_count": 13,
      "outputs": [
        {
          "output_type": "stream",
          "name": "stdout",
          "text": [
            "+------+--------------------+\n",
            "|userId|     recommendations|\n",
            "+------+--------------------+\n",
            "|    20|[{22, 3.4837117},...|\n",
            "|    10|[{92, 2.8214915},...|\n",
            "|     0|[{92, 2.6260037},...|\n",
            "|     1|[{22, 2.8326561},...|\n",
            "|    21|[{29, 4.2626824},...|\n",
            "|    11|[{32, 4.972262}, ...|\n",
            "|    12|[{46, 5.7948217},...|\n",
            "|    22|[{75, 4.4489026},...|\n",
            "|     2|[{83, 4.2652955},...|\n",
            "|    13|[{93, 2.6517215},...|\n",
            "|     3|[{30, 4.1485295},...|\n",
            "|    23|[{46, 5.5981064},...|\n",
            "|     4|[{29, 3.2051628},...|\n",
            "|    24|[{52, 4.451611}, ...|\n",
            "|    14|[{29, 4.6316557},...|\n",
            "|     5|[{46, 4.2209864},...|\n",
            "|    15|[{46, 3.4676778},...|\n",
            "|    25|[{46, 3.1369336},...|\n",
            "|    26|[{22, 4.7906337},...|\n",
            "|     6|[{29, 3.155407}, ...|\n",
            "+------+--------------------+\n",
            "only showing top 20 rows\n",
            "\n"
          ]
        }
      ]
    },
    {
      "cell_type": "code",
      "source": [
        "# Generate predictions on the test set\n",
        "predictions = model.transform(movies_df)\n",
        "predictions.show(truncate=False)\n",
        "# Set up evaluator to compute RMSE\n",
        "evaluator = RegressionEvaluator(\n",
        "metricName=\"rmse\", labelCol=\"rating\", predictionCol=\"prediction\")\n",
        "# Calculate RMSE\n",
        "rmse = evaluator.evaluate(predictions)"
      ],
      "metadata": {
        "colab": {
          "base_uri": "https://localhost:8080/"
        },
        "id": "r2fHNtOZxJIW",
        "outputId": "183c3da5-87dc-48f4-aadb-abb4eafbca1d"
      },
      "execution_count": 14,
      "outputs": [
        {
          "output_type": "stream",
          "name": "stdout",
          "text": [
            "+------+-------+------+----------+----------+\n",
            "|userId|movieId|rating|timestamp |prediction|\n",
            "+------+-------+------+----------+----------+\n",
            "|28    |0      |3     |1424380312|2.4594305 |\n",
            "|28    |1      |1     |1424380312|1.5545201 |\n",
            "|28    |2      |4     |1424380312|3.4125185 |\n",
            "|28    |3      |1     |1424380312|0.77193713|\n",
            "|28    |6      |1     |1424380312|0.7088782 |\n",
            "|28    |7      |1     |1424380312|1.5160283 |\n",
            "|28    |12     |5     |1424380312|3.1711469 |\n",
            "|28    |13     |2     |1424380312|1.5199196 |\n",
            "|28    |14     |1     |1424380312|1.1682084 |\n",
            "|28    |15     |1     |1424380312|1.2067792 |\n",
            "|28    |17     |1     |1424380312|1.1654925 |\n",
            "|28    |19     |3     |1424380312|2.416662  |\n",
            "|28    |20     |1     |1424380312|1.5896671 |\n",
            "|28    |23     |3     |1424380312|2.2407577 |\n",
            "|28    |24     |3     |1424380312|2.43106   |\n",
            "|28    |27     |1     |1424380312|0.6416116 |\n",
            "|28    |29     |1     |1424380312|1.1929783 |\n",
            "|28    |33     |1     |1424380312|1.5706449 |\n",
            "|28    |34     |1     |1424380312|1.4246547 |\n",
            "|28    |36     |1     |1424380312|1.3820492 |\n",
            "+------+-------+------+----------+----------+\n",
            "only showing top 20 rows\n",
            "\n"
          ]
        }
      ]
    },
    {
      "cell_type": "code",
      "source": [
        "print(rmse)"
      ],
      "metadata": {
        "colab": {
          "base_uri": "https://localhost:8080/"
        },
        "id": "NCiL6TCNHdy-",
        "outputId": "50f11712-5cec-4cba-c5fd-ad89d2ab9d15"
      },
      "execution_count": 15,
      "outputs": [
        {
          "output_type": "stream",
          "name": "stdout",
          "text": [
            "0.5721643414752522\n"
          ]
        }
      ]
    }
  ]
}