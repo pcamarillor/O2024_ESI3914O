{
  "cells": [
    {
      "cell_type": "code",
      "source": [
        "from google.colab import drive\n",
        "drive.mount('/content/drive')"
      ],
      "metadata": {
        "colab": {
          "base_uri": "https://localhost:8080/"
        },
        "id": "PGj9jQjjGG1J",
        "outputId": "cf0f5614-93d3-416a-b772-acd2f0cd4a22"
      },
      "execution_count": 1,
      "outputs": [
        {
          "output_type": "stream",
          "name": "stdout",
          "text": [
            "Mounted at /content/drive\n"
          ]
        }
      ]
    },
    {
      "cell_type": "code",
      "source": [
        "!sudo apt update\n",
        "\n",
        "!apt-get install openjdk-8-jdk-headless -qq > /dev/null\n",
        "# Check this site for the latest download link\n",
        "# https://www.apache.org/dyn/closer.lua/spark\n",
        "!wget -q https://dlcdn.apache.org/spark/spark-3.5.2/spark-3.5.2-bin-hadoop3.tgz\n",
        "!tar xf spark-3.5.2-bin-hadoop3.tgz\n",
        "!pip install -q findspark\n",
        "!pip install pyspark\n",
        "!pip install py4j"
      ],
      "metadata": {
        "colab": {
          "base_uri": "https://localhost:8080/"
        },
        "id": "3YyD72jVGNws",
        "outputId": "cec22e33-27b7-4c5b-fdb7-7b3570e1ec23"
      },
      "execution_count": 2,
      "outputs": [
        {
          "output_type": "stream",
          "name": "stdout",
          "text": [
            "\u001b[33m\r0% [Working]\u001b[0m\r            \rHit:1 http://archive.ubuntu.com/ubuntu jammy InRelease\n",
            "\u001b[33m\r0% [Connecting to security.ubuntu.com (185.125.190.82)] [Waiting for headers] [\u001b[0m\r                                                                               \rGet:2 http://archive.ubuntu.com/ubuntu jammy-updates InRelease [128 kB]\n",
            "\r                                                                               \rGet:3 https://cloud.r-project.org/bin/linux/ubuntu jammy-cran40/ InRelease [3,626 B]\n",
            "\u001b[33m\r0% [2 InRelease 15.6 kB/128 kB 12%] [Waiting for headers] [Waiting for headers]\u001b[0m\u001b[33m\r0% [Waiting for headers] [Waiting for headers] [Waiting for headers] [Connectin\u001b[0m\r                                                                               \rGet:4 http://security.ubuntu.com/ubuntu jammy-security InRelease [129 kB]\n",
            "\u001b[33m\r0% [Waiting for headers] [4 InRelease 14.2 kB/129 kB 11%] [Waiting for headers]\u001b[0m\r                                                                               \rHit:5 https://developer.download.nvidia.com/compute/cuda/repos/ubuntu2204/x86_64  InRelease\n",
            "\u001b[33m\r0% [Waiting for headers] [4 InRelease 14.2 kB/129 kB 11%] [Waiting for headers]\u001b[0m\r                                                                               \rGet:6 http://archive.ubuntu.com/ubuntu jammy-backports InRelease [127 kB]\n",
            "Get:7 https://r2u.stat.illinois.edu/ubuntu jammy InRelease [6,555 B]\n",
            "Hit:8 https://ppa.launchpadcontent.net/deadsnakes/ppa/ubuntu jammy InRelease\n",
            "Get:9 http://archive.ubuntu.com/ubuntu jammy-updates/universe amd64 Packages [1,452 kB]\n",
            "Hit:10 https://ppa.launchpadcontent.net/graphics-drivers/ppa/ubuntu jammy InRelease\n",
            "Hit:11 https://ppa.launchpadcontent.net/ubuntugis/ppa/ubuntu jammy InRelease\n",
            "Get:12 http://archive.ubuntu.com/ubuntu jammy-updates/main amd64 Packages [2,700 kB]\n",
            "Get:13 https://r2u.stat.illinois.edu/ubuntu jammy/main amd64 Packages [2,613 kB]\n",
            "Get:14 http://security.ubuntu.com/ubuntu jammy-security/main amd64 Packages [2,424 kB]\n",
            "Get:15 https://r2u.stat.illinois.edu/ubuntu jammy/main all Packages [8,466 kB]\n",
            "Get:16 http://security.ubuntu.com/ubuntu jammy-security/restricted amd64 Packages [3,275 kB]\n",
            "Get:17 http://security.ubuntu.com/ubuntu jammy-security/universe amd64 Packages [1,164 kB]\n",
            "Fetched 22.5 MB in 4s (5,896 kB/s)\n",
            "Reading package lists... Done\n",
            "Building dependency tree... Done\n",
            "Reading state information... Done\n",
            "51 packages can be upgraded. Run 'apt list --upgradable' to see them.\n",
            "\u001b[1;33mW: \u001b[0mSkipping acquire of configured file 'main/source/Sources' as repository 'https://r2u.stat.illinois.edu/ubuntu jammy InRelease' does not seem to provide it (sources.list entry misspelt?)\u001b[0m\n",
            "tar: spark-3.5.2-bin-hadoop3.tgz: Cannot open: No such file or directory\n",
            "tar: Error is not recoverable: exiting now\n",
            "Requirement already satisfied: pyspark in /usr/local/lib/python3.10/dist-packages (3.5.3)\n",
            "Requirement already satisfied: py4j==0.10.9.7 in /usr/local/lib/python3.10/dist-packages (from pyspark) (0.10.9.7)\n",
            "Requirement already satisfied: py4j in /usr/local/lib/python3.10/dist-packages (0.10.9.7)\n"
          ]
        }
      ]
    },
    {
      "cell_type": "code",
      "source": [
        "from pyspark.sql import SparkSession\n",
        "from pyspark.sql.functions import split\n",
        "# Create Spark Session in localhost\n",
        "spark = SparkSession.builder.master(\"local\").\\\n",
        "    appName(\"ALS-Recommendation\").\\\n",
        "    getOrCreate()\n",
        "\n",
        "# Set spark context\n",
        "sc = spark.sparkContext\n",
        "sc.setLogLevel(\"ERROR\")\n",
        "\n",
        "movies_df = spark.read.text(\"/content/sample_movielens_ratings.txt\")\n",
        "\n",
        "movies_df = movies_df.withColumn(\"userID\", split(movies_df[\"value\"], \"::\").getItem(0)) \\\n",
        ".withColumn(\"movieID\", split(movies_df[\"value\"], \"::\").getItem(1)) \\\n",
        ".withColumn(\"rating\", split(movies_df[\"value\"], \"::\").getItem(2)) \\\n",
        ".withColumn(\"timestamp\", split(movies_df[\"value\"], \"::\").getItem(3))\n",
        "\n",
        "movies_df = movies_df.drop(\"value\")\n",
        "movies_df = movies_df.drop(\"timestamp\")\n",
        "\n",
        "movies_df = movies_df.withColumn(\"userID\", movies_df[\"userID\"].cast(\"int\"))\n",
        "movies_df = movies_df.withColumn(\"movieID\", movies_df[\"movieID\"].cast(\"int\"))\n",
        "movies_df = movies_df.withColumn(\"rating\", movies_df[\"rating\"].cast(\"int\"))\n",
        "\n",
        "movies_df.show(n=10, truncate=False)"
      ],
      "metadata": {
        "colab": {
          "base_uri": "https://localhost:8080/"
        },
        "id": "xTYFcprIGOKc",
        "outputId": "8cf92c9f-dc33-4f71-8d3d-52b173236f36"
      },
      "execution_count": 4,
      "outputs": [
        {
          "output_type": "stream",
          "name": "stdout",
          "text": [
            "+------+-------+------+\n",
            "|userID|movieID|rating|\n",
            "+------+-------+------+\n",
            "|0     |2      |3     |\n",
            "|0     |3      |1     |\n",
            "|0     |5      |2     |\n",
            "|0     |9      |4     |\n",
            "|0     |11     |1     |\n",
            "|0     |12     |2     |\n",
            "|0     |15     |1     |\n",
            "|0     |17     |1     |\n",
            "|0     |19     |1     |\n",
            "|0     |21     |1     |\n",
            "+------+-------+------+\n",
            "only showing top 10 rows\n",
            "\n"
          ]
        }
      ]
    },
    {
      "cell_type": "code",
      "source": [
        "from pyspark.ml.evaluation import RegressionEvaluator\n",
        "from pyspark.ml.recommendation import ALS\n",
        "\n",
        "als = ALS(maxIter=10, regParam=0.01, rank=5, userCol=\"userID\",\n",
        "itemCol=\"movieID\", ratingCol=\"rating\")\n",
        "\n",
        "model = als.fit(movies_df)\n",
        "\n",
        "userRecs = model.recommendForAllUsers(numItems=3)"
      ],
      "metadata": {
        "id": "-U9WIOg8Ivqj"
      },
      "execution_count": 5,
      "outputs": []
    },
    {
      "cell_type": "code",
      "source": [
        "predictions = model.transform(movies_df)\n",
        "predictions.show(truncate=False)\n",
        "\n",
        "evaluator = RegressionEvaluator(metricName=\"rmse\", labelCol=\"rating\", predictionCol=\"prediction\")"
      ],
      "metadata": {
        "colab": {
          "base_uri": "https://localhost:8080/"
        },
        "id": "67iCrTCvGWH1",
        "outputId": "0cfc1cf7-9268-4283-931e-5aad53d1a288"
      },
      "execution_count": 6,
      "outputs": [
        {
          "output_type": "stream",
          "name": "stdout",
          "text": [
            "+------+-------+------+----------+\n",
            "|userID|movieID|rating|prediction|\n",
            "+------+-------+------+----------+\n",
            "|0     |2      |3     |2.7966778 |\n",
            "|0     |3      |1     |0.9393283 |\n",
            "|0     |5      |2     |1.3681284 |\n",
            "|0     |9      |4     |2.0185423 |\n",
            "|0     |11     |1     |1.6565835 |\n",
            "|0     |12     |2     |2.0901403 |\n",
            "|0     |15     |1     |0.86459875|\n",
            "|0     |17     |1     |0.80446655|\n",
            "|0     |19     |1     |1.454981  |\n",
            "|0     |21     |1     |1.4233297 |\n",
            "|0     |23     |1     |1.3722543 |\n",
            "|0     |26     |3     |2.080988  |\n",
            "|0     |27     |1     |0.51804197|\n",
            "|0     |28     |1     |1.7100291 |\n",
            "|0     |29     |1     |1.8323538 |\n",
            "|0     |30     |1     |0.6214356 |\n",
            "|0     |31     |1     |1.3846567 |\n",
            "|0     |34     |1     |0.86154556|\n",
            "|0     |37     |1     |1.4897687 |\n",
            "|0     |41     |2     |2.1819613 |\n",
            "+------+-------+------+----------+\n",
            "only showing top 20 rows\n",
            "\n"
          ]
        }
      ]
    },
    {
      "cell_type": "code",
      "source": [
        "rmse = evaluator.evaluate(predictions)\n",
        "print(rmse)"
      ],
      "metadata": {
        "id": "0HGnWo0XHO1S",
        "outputId": "7b306e95-323f-487e-97d3-658554bef864",
        "colab": {
          "base_uri": "https://localhost:8080/"
        }
      },
      "execution_count": 7,
      "outputs": [
        {
          "output_type": "stream",
          "name": "stdout",
          "text": [
            "0.5183831336575359\n"
          ]
        }
      ]
    }
  ],
  "metadata": {
    "language_info": {
      "name": "python"
    },
    "colab": {
      "provenance": []
    },
    "kernelspec": {
      "name": "python3",
      "display_name": "Python 3"
    }
  },
  "nbformat": 4,
  "nbformat_minor": 0
}