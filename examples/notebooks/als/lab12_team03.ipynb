{
  "nbformat": 4,
  "nbformat_minor": 0,
  "metadata": {
    "colab": {
      "provenance": [],
      "authorship_tag": "ABX9TyML5CT7kooIeZwxFSA3kMb6",
      "include_colab_link": true
    },
    "kernelspec": {
      "name": "python3",
      "display_name": "Python 3"
    },
    "language_info": {
      "name": "python"
    }
  },
  "cells": [
    {
      "cell_type": "markdown",
      "metadata": {
        "id": "view-in-github",
        "colab_type": "text"
      },
      "source": [
        "<a href=\"https://colab.research.google.com/github/pcamarillor/O2024_ESI3914O/blob/lab12_team03/examples/notebooks/als/lab12_team03.ipynb\" target=\"_parent\"><img src=\"https://colab.research.google.com/assets/colab-badge.svg\" alt=\"Open In Colab\"/></a>"
      ]
    },
    {
      "cell_type": "code",
      "execution_count": 6,
      "metadata": {
        "colab": {
          "base_uri": "https://localhost:8080/"
        },
        "id": "Ozb-QiqkRJyl",
        "outputId": "2cfe2b01-1585-4855-ccdf-4b4d0810e712"
      },
      "outputs": [
        {
          "output_type": "stream",
          "name": "stdout",
          "text": [
            "Mounted at /content/drive\n"
          ]
        }
      ],
      "source": [
        "from google.colab import drive\n",
        "drive.mount('/content/drive')"
      ]
    },
    {
      "cell_type": "code",
      "source": [
        "from pyspark.sql import SparkSession\n",
        "from pyspark.ml.recommendation import ALS\n",
        "from pyspark.ml.evaluation import RegressionEvaluator\n",
        "from pyspark.sql.functions import explode\n",
        "\n",
        "spark = SparkSession.builder \\\n",
        "            .appName(\"MovieRecommendationALS\") \\\n",
        "            .config(\"spark.ui.port\", \"4040\") \\\n",
        "            .getOrCreate()\n",
        "\n",
        "spark.sparkContext.setLogLevel(\"ERROR\")\n",
        "\n",
        "file_path = '/content/drive/MyDrive/Colab Notebooks/sample_movielens_ratings.txt'\n",
        "\n",
        "df = spark.read.option(\"delimiter\", \"::\").csv(file_path, header=False, inferSchema=True)\n",
        "df = df.withColumnRenamed(\"_c0\", \"userId\").withColumnRenamed(\"_c1\", \"movieId\") \\\n",
        "       .withColumnRenamed(\"_c2\", \"rating\").withColumnRenamed(\"_c3\", \"timestamp\")\n",
        "\n",
        "df = df.dropDuplicates()\n",
        "\n",
        "print(\"Ratings DF\")\n",
        "df.show(5)\n",
        "\n",
        "als = ALS(\n",
        "    userCol=\"userId\",\n",
        "    itemCol=\"movieId\",\n",
        "    ratingCol=\"rating\",\n",
        "    maxIter=10,\n",
        "    regParam=0.1,\n",
        "    rank=5,\n",
        "    coldStartStrategy=\"drop\"\n",
        ")\n",
        "\n",
        "model = als.fit(df)\n",
        "\n",
        "user_recommendations = model.recommendForAllUsers(numItems=3)\n",
        "\n",
        "user_recommendations.show(truncate=False)\n",
        "\n",
        "recommendations = user_recommendations.select(\"userId\", explode(\"recommendations\").alias(\"rec\"))\n",
        "\n",
        "recommendations = recommendations.join(df, recommendations[\"rec.movieId\"] == df[\"movieId\"]).select(recommendations[\"userId\"], \"rec.movieId\", \"rec.rating\")\n",
        "\n",
        "recommendations.show(truncate=False)\n",
        "\n",
        "predictions = model.transform(df)\n",
        "\n",
        "predictions = predictions.na.drop(subset=[\"prediction\"])\n",
        "\n",
        "predictions.show(truncate=False)\n",
        "\n",
        "evaluator = RegressionEvaluator(\n",
        "    metricName=\"rmse\",\n",
        "    labelCol=\"rating\",\n",
        "    predictionCol=\"prediction\"\n",
        ")\n",
        "\n",
        "rmse = evaluator.evaluate(predictions)\n",
        "print(f\"Root-mean-square error (RMSE) = {rmse}\")\n",
        "\n",
        "spark.stop()\n",
        "\n"
      ],
      "metadata": {
        "colab": {
          "base_uri": "https://localhost:8080/"
        },
        "id": "rP2Ozy7SS2r9",
        "outputId": "0886ed6d-a932-434c-98b6-564d75960398"
      },
      "execution_count": 26,
      "outputs": [
        {
          "output_type": "stream",
          "name": "stdout",
          "text": [
            "Ratings DF\n",
            "+------+-------+------+----------+\n",
            "|userId|movieId|rating| timestamp|\n",
            "+------+-------+------+----------+\n",
            "|     3|      0|     1|1424380312|\n",
            "|     4|     41|     4|1424380312|\n",
            "|     7|     21|     1|1424380312|\n",
            "|     8|      7|     1|1424380312|\n",
            "|     8|     69|     1|1424380312|\n",
            "+------+-------+------+----------+\n",
            "only showing top 5 rows\n",
            "\n",
            "+------+---------------------------------------------------+\n",
            "|userId|recommendations                                    |\n",
            "+------+---------------------------------------------------+\n",
            "|20    |[{22, 3.5402706}, {51, 3.1765382}, {68, 3.0576973}]|\n",
            "|10    |[{25, 2.6328824}, {2, 2.5126235}, {93, 2.502179}]  |\n",
            "|0     |[{92, 2.280962}, {62, 2.1991308}, {25, 2.1892383}] |\n",
            "|1     |[{22, 2.8800159}, {68, 2.5960696}, {90, 2.5139477}]|\n",
            "|21    |[{29, 4.3295336}, {52, 4.2647533}, {63, 3.59393}]  |\n",
            "|11    |[{32, 5.0769415}, {18, 4.726662}, {30, 4.623887}]  |\n",
            "|12    |[{46, 5.6951323}, {55, 4.79084}, {49, 4.584455}]   |\n",
            "|22    |[{51, 4.520794}, {75, 4.4288707}, {22, 4.2133465}] |\n",
            "|2     |[{93, 4.154542}, {83, 4.1038823}, {8, 4.025693}]   |\n",
            "|13    |[{74, 2.735023}, {93, 2.6290867}, {29, 2.5819767}] |\n",
            "|3     |[{30, 3.9730532}, {51, 3.8489623}, {75, 3.8062618}]|\n",
            "|23    |[{46, 5.4432545}, {55, 4.751942}, {32, 4.627009}]  |\n",
            "|4     |[{29, 3.3167167}, {52, 3.1669908}, {2, 2.7811167}] |\n",
            "|24    |[{52, 4.510078}, {29, 4.3504977}, {53, 3.9406087}] |\n",
            "|14    |[{29, 4.596054}, {52, 4.568991}, {63, 3.8110998}]  |\n",
            "|5     |[{46, 4.147742}, {90, 3.5883646}, {55, 3.3838058}] |\n",
            "|15    |[{46, 3.501762}, {49, 2.6851552}, {55, 2.659099}]  |\n",
            "|25    |[{49, 2.8918827}, {46, 2.871817}, {81, 2.4503691}] |\n",
            "|26    |[{51, 5.1525784}, {22, 4.782378}, {75, 4.471637}]  |\n",
            "|6     |[{29, 3.013403}, {25, 3.0119612}, {2, 2.8538942}]  |\n",
            "+------+---------------------------------------------------+\n",
            "only showing top 20 rows\n",
            "\n",
            "+------+-------+---------+\n",
            "|userId|movieId|rating   |\n",
            "+------+-------+---------+\n",
            "|9     |32     |3.5373604|\n",
            "|27    |32     |3.2939763|\n",
            "|23    |32     |4.627009 |\n",
            "|11    |32     |5.0769415|\n",
            "|19    |22     |3.1465714|\n",
            "|16    |22     |3.9873302|\n",
            "|26    |22     |4.782378 |\n",
            "|22    |22     |4.2133465|\n",
            "|1     |22     |2.8800159|\n",
            "|20    |22     |3.5402706|\n",
            "|8     |52     |4.5346045|\n",
            "|14    |52     |4.568991 |\n",
            "|24    |52     |4.510078 |\n",
            "|4     |52     |3.1669908|\n",
            "|21    |52     |4.2647533|\n",
            "|1     |68     |2.5960696|\n",
            "|20    |68     |3.0576973|\n",
            "|11    |18     |4.726662 |\n",
            "|13    |74     |2.735023 |\n",
            "|13    |93     |2.6290867|\n",
            "+------+-------+---------+\n",
            "only showing top 20 rows\n",
            "\n",
            "+------+-------+------+----------+----------+\n",
            "|userId|movieId|rating|timestamp |prediction|\n",
            "+------+-------+------+----------+----------+\n",
            "|28    |59     |1     |1424380312|0.73991203|\n",
            "|28    |1      |1     |1424380312|1.9914207 |\n",
            "|28    |88     |2     |1424380312|1.7402129 |\n",
            "|28    |94     |1     |1424380312|1.4962165 |\n",
            "|28    |78     |1     |1424380312|0.97851384|\n",
            "|28    |63     |1     |1424380312|0.97892225|\n",
            "|28    |56     |1     |1424380312|1.3434678 |\n",
            "|28    |6      |1     |1424380312|0.754796  |\n",
            "|28    |62     |3     |1424380312|2.1900077 |\n",
            "|28    |27     |1     |1424380312|0.93404794|\n",
            "|28    |14     |1     |1424380312|1.1012181 |\n",
            "|28    |75     |1     |1424380312|0.9548757 |\n",
            "|28    |52     |1     |1424380312|0.94931287|\n",
            "|28    |85     |1     |1424380312|1.5583789 |\n",
            "|28    |19     |3     |1424380312|2.6729884 |\n",
            "|28    |39     |2     |1424380312|2.932889  |\n",
            "|28    |49     |4     |1424380312|3.1209674 |\n",
            "|28    |36     |1     |1424380312|1.1313899 |\n",
            "|28    |44     |1     |1424380312|1.9874264 |\n",
            "|28    |24     |3     |1424380312|2.346329  |\n",
            "+------+-------+------+----------+----------+\n",
            "only showing top 20 rows\n",
            "\n",
            "Root-mean-square error (RMSE) = 0.5736798897106579\n"
          ]
        }
      ]
    }
  ]
}