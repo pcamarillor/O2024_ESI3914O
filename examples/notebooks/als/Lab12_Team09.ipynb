{
  "cells": [
    {
      "metadata": {
        "colab": {
          "base_uri": "https://localhost:8080/"
        },
        "id": "21817b5b96b71218",
        "outputId": "b9e0bac1-c63a-4af1-8fc7-4bd52419fc49"
      },
      "cell_type": "code",
      "outputs": [
        {
          "output_type": "stream",
          "name": "stdout",
          "text": [
            "Drive already mounted at /content/drive; to attempt to forcibly remount, call drive.mount(\"/content/drive\", force_remount=True).\n"
          ]
        }
      ],
      "execution_count": 1,
      "source": [
        "from google.colab import drive\n",
        "drive.mount('/content/drive')"
      ],
      "id": "21817b5b96b71218"
    },
    {
      "metadata": {
        "colab": {
          "base_uri": "https://localhost:8080/"
        },
        "id": "3933a97c728452aa",
        "outputId": "75772f27-a910-4d47-d8da-5a0c9bb5aedf"
      },
      "cell_type": "code",
      "outputs": [
        {
          "output_type": "stream",
          "name": "stdout",
          "text": [
            "\r0% [Working]\r            \rHit:1 https://cloud.r-project.org/bin/linux/ubuntu jammy-cran40/ InRelease\n",
            "\r0% [Connecting to archive.ubuntu.com (185.125.190.83)] [Waiting for headers] [W\r                                                                               \rHit:2 http://security.ubuntu.com/ubuntu jammy-security InRelease\n",
            "\r0% [Connecting to archive.ubuntu.com (185.125.190.83)] [Waiting for headers] [W\r                                                                               \rHit:3 https://developer.download.nvidia.com/compute/cuda/repos/ubuntu2204/x86_64  InRelease\n",
            "\r0% [Connecting to archive.ubuntu.com (185.125.190.83)] [Waiting for headers] [C\r                                                                               \rHit:4 https://r2u.stat.illinois.edu/ubuntu jammy InRelease\n",
            "Hit:5 http://archive.ubuntu.com/ubuntu jammy InRelease\n",
            "Hit:6 http://archive.ubuntu.com/ubuntu jammy-updates InRelease\n",
            "Hit:7 http://archive.ubuntu.com/ubuntu jammy-backports InRelease\n",
            "Hit:8 https://ppa.launchpadcontent.net/deadsnakes/ppa/ubuntu jammy InRelease\n",
            "Hit:9 https://ppa.launchpadcontent.net/graphics-drivers/ppa/ubuntu jammy InRelease\n",
            "Hit:10 https://ppa.launchpadcontent.net/ubuntugis/ppa/ubuntu jammy InRelease\n",
            "Reading package lists... Done\n",
            "W: Skipping acquire of configured file 'main/source/Sources' as repository 'https://r2u.stat.illinois.edu/ubuntu jammy InRelease' does not seem to provide it (sources.list entry misspelt?)\n",
            "openjdk version \"11.0.24\" 2024-07-16\n",
            "OpenJDK Runtime Environment (build 11.0.24+8-post-Ubuntu-1ubuntu322.04)\n",
            "OpenJDK 64-Bit Server VM (build 11.0.24+8-post-Ubuntu-1ubuntu322.04, mixed mode, sharing)\n"
          ]
        }
      ],
      "execution_count": 5,
      "source": [
        "!sudo apt-get update\n",
        "!apt-get install openjdk-11-jdk-headless -qq > /dev/null\n",
        "!java -version"
      ],
      "id": "3933a97c728452aa"
    },
    {
      "cell_type": "code",
      "source": [
        "!wget -q https://dlcdn.apache.org/spark/spark-3.4.1/spark-3.4.1-bin-hadoop3.tgz\n",
        "!ls | grep spark-3.4.1-bin-hadoop3.tgz\n",
        "!wget -q https://archive.apache.org/dist/spark/spark-3.4.1/spark-3.4.1-bin-hadoop3.tgz\n",
        "!ls | grep spark-3.4.1-bin-hadoop3.tgz\n",
        "!tar xf spark-3.4.1-bin-hadoop3.tgz\n",
        "!ls"
      ],
      "metadata": {
        "colab": {
          "base_uri": "https://localhost:8080/"
        },
        "id": "zd9yDNVmW44D",
        "outputId": "69b3a54a-9e33-4d36-d56b-632b9673cd7e"
      },
      "id": "zd9yDNVmW44D",
      "execution_count": 6,
      "outputs": [
        {
          "output_type": "stream",
          "name": "stdout",
          "text": [
            "spark-3.4.1-bin-hadoop3.tgz\n",
            "spark-3.4.1-bin-hadoop3.tgz\n",
            "spark-3.4.1-bin-hadoop3.tgz.1\n",
            "drive\t     spark-3.4.1-bin-hadoop3\t  spark-3.4.1-bin-hadoop3.tgz.1\n",
            "sample_data  spark-3.4.1-bin-hadoop3.tgz\n"
          ]
        }
      ]
    },
    {
      "cell_type": "code",
      "source": [
        "!pip install -q findspark\n",
        "!pip install -q pyspark\n",
        "!pip install -q py4j"
      ],
      "metadata": {
        "id": "A2JYhfojXpQ5"
      },
      "id": "A2JYhfojXpQ5",
      "execution_count": 7,
      "outputs": []
    },
    {
      "cell_type": "code",
      "source": [
        "import os\n",
        "import findspark\n",
        "os.environ[\"JAVA_HOME\"] = \"/usr/lib/jvm/java-11-openjdk-amd64\"\n",
        "os.environ[\"SPARK_HOME\"] = \"/content/spark-3.4.1-bin-hadoop3\"\n",
        "findspark.init()\n",
        "\n",
        "from pyspark.sql import SparkSession\n",
        "\n",
        "# Create Spark Session\n",
        "spark = SparkSession.builder \\\n",
        "    .appName(\"Sistema de Recomendación con ALS en Colab\") \\\n",
        "    .config(\"spark.sql.shuffle.partitions\", \"4\") \\\n",
        "    .getOrCreate()\n",
        "\n",
        "spark"
      ],
      "metadata": {
        "colab": {
          "base_uri": "https://localhost:8080/",
          "height": 216
        },
        "id": "lKZQzaiMUYSg",
        "outputId": "72239894-0b1e-4bee-f8b6-207d53a11085"
      },
      "id": "lKZQzaiMUYSg",
      "execution_count": 8,
      "outputs": [
        {
          "output_type": "execute_result",
          "data": {
            "text/plain": [
              "<pyspark.sql.session.SparkSession at 0x793da4008190>"
            ],
            "text/html": [
              "\n",
              "            <div>\n",
              "                <p><b>SparkSession - in-memory</b></p>\n",
              "                \n",
              "        <div>\n",
              "            <p><b>SparkContext</b></p>\n",
              "\n",
              "            <p><a href=\"http://84d1378b92d6:4040\">Spark UI</a></p>\n",
              "\n",
              "            <dl>\n",
              "              <dt>Version</dt>\n",
              "                <dd><code>v3.4.1</code></dd>\n",
              "              <dt>Master</dt>\n",
              "                <dd><code>local[*]</code></dd>\n",
              "              <dt>AppName</dt>\n",
              "                <dd><code>Sistema de Recomendación con ALS en Colab</code></dd>\n",
              "            </dl>\n",
              "        </div>\n",
              "        \n",
              "            </div>\n",
              "        "
            ]
          },
          "metadata": {},
          "execution_count": 8
        }
      ]
    },
    {
      "metadata": {
        "colab": {
          "base_uri": "https://localhost:8080/"
        },
        "id": "ff06b8d831f13385",
        "outputId": "4f4f3136-81ef-4aaa-d0bc-057c55d88f6a"
      },
      "cell_type": "code",
      "outputs": [
        {
          "output_type": "stream",
          "name": "stdout",
          "text": [
            "+------+-------+------+----------+\n",
            "|userId|movieId|rating| timestamp|\n",
            "+------+-------+------+----------+\n",
            "|     0|      2|   3.0|1424380312|\n",
            "|     0|      3|   1.0|1424380312|\n",
            "|     0|      5|   2.0|1424380312|\n",
            "|     0|      9|   4.0|1424380312|\n",
            "|     0|     11|   1.0|1424380312|\n",
            "+------+-------+------+----------+\n",
            "only showing top 5 rows\n",
            "\n",
            "root\n",
            " |-- userId: integer (nullable = true)\n",
            " |-- movieId: integer (nullable = true)\n",
            " |-- rating: float (nullable = true)\n",
            " |-- timestamp: long (nullable = true)\n",
            "\n"
          ]
        }
      ],
      "execution_count": 9,
      "source": [
        "from pyspark.sql.types import StructType, StructField, IntegerType, LongType, FloatType\n",
        "from pyspark.sql.functions import split, col\n",
        "\n",
        "# Path to file in Google Drive\n",
        "data_path = \"/content/drive/MyDrive/ColabNotebooks/datasets/sample_movielens_ratings.txt\"\n",
        "\n",
        "# Read file as text\n",
        "raw_data = spark.read.text(data_path)\n",
        "\n",
        "ratings_split = raw_data.select(\n",
        "    split(col(\"value\"), \"::\").alias(\"fields\")\n",
        ")\n",
        "\n",
        "# Schema definition for df\n",
        "schema = StructType([\n",
        "    StructField(\"userId\", IntegerType(), True),\n",
        "    StructField(\"movieId\", IntegerType(), True),\n",
        "    StructField(\"rating\", FloatType(), True),\n",
        "    StructField(\"timestamp\", LongType(), True)\n",
        "])\n",
        "\n",
        "# df creation\n",
        "ratings_df = ratings_split.select(\n",
        "    col(\"fields\").getItem(0).cast(IntegerType()).alias(\"userId\"),\n",
        "    col(\"fields\").getItem(1).cast(IntegerType()).alias(\"movieId\"),\n",
        "    col(\"fields\").getItem(2).cast(FloatType()).alias(\"rating\"),\n",
        "    col(\"fields\").getItem(3).cast(LongType()).alias(\"timestamp\")\n",
        ")\n",
        "\n",
        "ratings_df.show(5)\n",
        "ratings_df.printSchema()"
      ],
      "id": "ff06b8d831f13385"
    },
    {
      "cell_type": "code",
      "source": [
        "from pyspark.ml.recommendation import ALS\n",
        "\n",
        "(training, test) = ratings_df.randomSplit([0.8, 0.2])\n",
        "\n",
        "# ALS configuration model\n",
        "als = ALS(\n",
        "    userCol=\"userId\",\n",
        "    itemCol=\"movieId\",\n",
        "    ratingCol=\"rating\",\n",
        "    maxIter=10,\n",
        "    regParam=0.1,\n",
        "    rank=5,\n",
        "    coldStartStrategy=\"drop\",\n",
        "    nonnegative=True\n",
        ")\n",
        "\n",
        "# ALS model training\n",
        "model = als.fit(training)"
      ],
      "metadata": {
        "id": "HGB1I-rQPm5F"
      },
      "id": "HGB1I-rQPm5F",
      "execution_count": 10,
      "outputs": []
    },
    {
      "cell_type": "code",
      "source": [
        "from pyspark.ml.evaluation import RegressionEvaluator\n",
        "\n",
        "# Generate recommendations\n",
        "user_recommendations = model.recommendForAllUsers(3)\n",
        "user_recommendations.show(truncate=False)\n",
        "\n",
        "# Generate predictions\n",
        "predictions = model.transform(test)\n",
        "\n",
        "# Show predictions\n",
        "predictions.select(\"userId\", \"movieId\", \"rating\", \"prediction\").show(5)\n",
        "\n",
        "# RMSE value configurator\n",
        "evaluator = RegressionEvaluator(\n",
        "    metricName=\"rmse\",\n",
        "    labelCol=\"rating\",\n",
        "    predictionCol=\"prediction\"\n",
        ")\n",
        "# RMSE calculation\n",
        "rmse = evaluator.evaluate(predictions)\n",
        "print(f\"Root-mean-square error = {rmse}\")"
      ],
      "metadata": {
        "id": "pJDUzteiPqc1",
        "colab": {
          "base_uri": "https://localhost:8080/"
        },
        "outputId": "b38b95aa-fd89-4539-8890-a07063f826e1"
      },
      "id": "pJDUzteiPqc1",
      "execution_count": 11,
      "outputs": [
        {
          "output_type": "stream",
          "name": "stdout",
          "text": [
            "+------+---------------------------------------------------+\n",
            "|userId|recommendations                                    |\n",
            "+------+---------------------------------------------------+\n",
            "|20    |[{90, 3.4165003}, {30, 3.32402}, {75, 3.0366833}]  |\n",
            "|10    |[{92, 3.2579625}, {25, 3.2390852}, {93, 3.0996919}]|\n",
            "|0     |[{25, 2.939826}, {92, 2.8942208}, {2, 2.784425}]   |\n",
            "|1     |[{90, 3.4286823}, {32, 3.089238}, {94, 2.9519753}] |\n",
            "|11    |[{32, 4.4135604}, {23, 4.3380527}, {30, 4.286111}] |\n",
            "|21    |[{29, 3.829727}, {76, 3.786664}, {62, 3.6973033}]  |\n",
            "|12    |[{46, 4.8411913}, {17, 3.9734108}, {90, 3.9050016}]|\n",
            "|2     |[{93, 4.578247}, {47, 4.399918}, {25, 4.1694927}]  |\n",
            "|22    |[{30, 4.9182096}, {69, 4.5331235}, {75, 4.3989725}]|\n",
            "|13    |[{76, 3.0477524}, {93, 2.9302475}, {2, 2.6660068}] |\n",
            "|23    |[{32, 4.9149413}, {90, 4.6317244}, {46, 4.5786777}]|\n",
            "|3     |[{30, 4.398157}, {69, 4.2241826}, {75, 3.7531836}] |\n",
            "|14    |[{29, 3.7284355}, {76, 3.6389103}, {52, 3.5584488}]|\n",
            "|4     |[{92, 3.2126217}, {25, 3.1299124}, {2, 2.972383}]  |\n",
            "|24    |[{52, 4.3165565}, {22, 4.3064117}, {75, 4.272774}] |\n",
            "|25    |[{46, 4.34132}, {47, 3.305631}, {83, 3.2041934}]   |\n",
            "|15    |[{46, 3.9060724}, {55, 2.589489}, {64, 2.5266516}] |\n",
            "|5     |[{46, 3.7774062}, {90, 3.6816144}, {94, 3.4955423}]|\n",
            "|6     |[{25, 3.2566502}, {93, 3.0260859}, {2, 2.9803421}] |\n",
            "|16    |[{22, 4.0837398}, {90, 3.962961}, {30, 3.7494876}] |\n",
            "+------+---------------------------------------------------+\n",
            "only showing top 20 rows\n",
            "\n",
            "+------+-------+------+----------+\n",
            "|userId|movieId|rating|prediction|\n",
            "+------+-------+------+----------+\n",
            "|    12|     25|   1.0| 1.2907197|\n",
            "|    12|     30|   2.0|  2.362734|\n",
            "|    12|     41|   1.0| 1.2693214|\n",
            "|    12|     50|   4.0| 2.8905957|\n",
            "|    12|     72|   1.0| 0.9917119|\n",
            "+------+-------+------+----------+\n",
            "only showing top 5 rows\n",
            "\n",
            "Root-mean-square error = 1.1007168991783027\n"
          ]
        }
      ]
    },
    {
      "cell_type": "code",
      "source": [
        "spark.stop()"
      ],
      "metadata": {
        "id": "eBqMMm5WP2Zq"
      },
      "id": "eBqMMm5WP2Zq",
      "execution_count": 12,
      "outputs": []
    }
  ],
  "metadata": {
    "kernelspec": {
      "display_name": "Python 3",
      "language": "python",
      "name": "python3"
    },
    "language_info": {
      "codemirror_mode": {
        "name": "ipython",
        "version": 2
      },
      "file_extension": ".py",
      "mimetype": "text/x-python",
      "name": "python",
      "nbconvert_exporter": "python",
      "pygments_lexer": "ipython2",
      "version": "2.7.6"
    },
    "colab": {
      "provenance": []
    }
  },
  "nbformat": 4,
  "nbformat_minor": 5
}