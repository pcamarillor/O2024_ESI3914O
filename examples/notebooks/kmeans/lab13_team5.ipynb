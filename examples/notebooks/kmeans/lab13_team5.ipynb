{
  "nbformat": 4,
  "nbformat_minor": 0,
  "metadata": {
    "colab": {
      "provenance": []
    },
    "kernelspec": {
      "name": "python3",
      "display_name": "Python 3"
    },
    "language_info": {
      "name": "python"
    }
  },
  "cells": [
    {
      "cell_type": "markdown",
      "source": [
        "# Solution Lab 13 - Winde Data Clustering with K-means\n",
        "## Pyspark Kmeans\n",
        "\n",
        "### Team Members:\n",
        "\n",
        "\n",
        "*   Marian Sedano\n",
        "*   Luis Fontes\n",
        "* Gabriel Olvera\n",
        "\n"
      ],
      "metadata": {
        "id": "fTD9GZTGEnBN"
      }
    },
    {
      "cell_type": "markdown",
      "source": [
        "## Pyspark Environment"
      ],
      "metadata": {
        "id": "Rc8n9f_XE2Uy"
      }
    },
    {
      "cell_type": "code",
      "execution_count": 1,
      "metadata": {
        "colab": {
          "base_uri": "https://localhost:8080/"
        },
        "id": "r50_qPy6DTTn",
        "outputId": "904c8ca1-c699-4fe0-d437-3ee69e73301c"
      },
      "outputs": [
        {
          "output_type": "stream",
          "name": "stdout",
          "text": [
            "Get:1 https://cloud.r-project.org/bin/linux/ubuntu jammy-cran40/ InRelease [3,626 B]\n",
            "Hit:2 https://developer.download.nvidia.com/compute/cuda/repos/ubuntu2204/x86_64  InRelease\n",
            "Get:3 http://security.ubuntu.com/ubuntu jammy-security InRelease [129 kB]\n",
            "Hit:4 http://archive.ubuntu.com/ubuntu jammy InRelease\n",
            "Get:5 http://archive.ubuntu.com/ubuntu jammy-updates InRelease [128 kB]\n",
            "Get:6 https://r2u.stat.illinois.edu/ubuntu jammy InRelease [6,555 B]\n",
            "Hit:7 https://ppa.launchpadcontent.net/deadsnakes/ppa/ubuntu jammy InRelease\n",
            "Get:8 https://r2u.stat.illinois.edu/ubuntu jammy/main all Packages [8,466 kB]\n",
            "Hit:9 https://ppa.launchpadcontent.net/graphics-drivers/ppa/ubuntu jammy InRelease\n",
            "Hit:10 https://ppa.launchpadcontent.net/ubuntugis/ppa/ubuntu jammy InRelease\n",
            "Get:11 http://security.ubuntu.com/ubuntu jammy-security/main amd64 Packages [2,424 kB]\n",
            "Get:12 http://archive.ubuntu.com/ubuntu jammy-backports InRelease [127 kB]\n",
            "Get:13 http://archive.ubuntu.com/ubuntu jammy-updates/universe amd64 Packages [1,452 kB]\n",
            "Get:14 http://security.ubuntu.com/ubuntu jammy-security/restricted amd64 Packages [3,275 kB]\n",
            "Get:15 http://archive.ubuntu.com/ubuntu jammy-updates/main amd64 Packages [2,700 kB]\n",
            "Get:16 http://security.ubuntu.com/ubuntu jammy-security/universe amd64 Packages [1,164 kB]\n",
            "Get:17 https://r2u.stat.illinois.edu/ubuntu jammy/main amd64 Packages [2,613 kB]\n",
            "Fetched 22.5 MB in 5s (4,696 kB/s)\n",
            "Reading package lists... Done\n",
            "Building dependency tree... Done\n",
            "Reading state information... Done\n",
            "51 packages can be upgraded. Run 'apt list --upgradable' to see them.\n",
            "\u001b[1;33mW: \u001b[0mSkipping acquire of configured file 'main/source/Sources' as repository 'https://r2u.stat.illinois.edu/ubuntu jammy InRelease' does not seem to provide it (sources.list entry misspelt?)\u001b[0m\n",
            "tar: spark-3.5.2-bin-hadoop3.tgz: Cannot open: No such file or directory\n",
            "tar: Error is not recoverable: exiting now\n",
            "Requirement already satisfied: pyspark in /usr/local/lib/python3.10/dist-packages (3.5.3)\n",
            "Requirement already satisfied: py4j==0.10.9.7 in /usr/local/lib/python3.10/dist-packages (from pyspark) (0.10.9.7)\n",
            "Requirement already satisfied: py4j in /usr/local/lib/python3.10/dist-packages (0.10.9.7)\n"
          ]
        }
      ],
      "source": [
        "#Pyspark\n",
        "!sudo apt update\n",
        "!apt-get install openjdk-8-jdk-headless -qq > /dev/null\n",
        "# Check this site for the latest download link\n",
        "# https://www.apache.org/dyn/closer.lua/spark\n",
        "!wget -q https://dlcdn.apache.org/spark/spark-3.5.2/spark-3.5.2-bin-hadoop3.tgz\n",
        "!tar xf spark-3.5.2-bin-hadoop3.tgz\n",
        "!pip install -q findspark\n",
        "!pip install pyspark\n",
        "!pip install py4j"
      ]
    },
    {
      "cell_type": "markdown",
      "source": [
        "## Solution - Kmeans and Silhouette"
      ],
      "metadata": {
        "id": "6weApxe0E7PA"
      }
    },
    {
      "cell_type": "code",
      "source": [
        "#Import\n",
        "from pyspark.ml.clustering import KMeans\n",
        "from pyspark.ml.evaluation import ClusteringEvaluator\n",
        "from pyspark.sql import SparkSession\n",
        "\n",
        "#Initialize\n",
        "spark = SparkSession.builder.appName(\"WineClustering\").getOrCreate()"
      ],
      "metadata": {
        "id": "dV2B5wUGDlxO"
      },
      "execution_count": 6,
      "outputs": []
    },
    {
      "cell_type": "code",
      "source": [
        "!unzip wines.zip -d wines_ds"
      ],
      "metadata": {
        "colab": {
          "base_uri": "https://localhost:8080/"
        },
        "id": "-aHLFqHcFtEn",
        "outputId": "b37b4e14-f0a1-4f5c-d803-2ae90f39e9c3"
      },
      "execution_count": 3,
      "outputs": [
        {
          "output_type": "stream",
          "name": "stdout",
          "text": [
            "Archive:  wines.zip\n",
            "  inflating: wines_ds/wine-clustering.csv  \n"
          ]
        }
      ]
    },
    {
      "cell_type": "code",
      "source": [
        "#Dataset load\n",
        "file_path = \"/content/wines_ds/wine-clustering.csv\"\n",
        "df = spark.read.csv(file_path, header=True, inferSchema=True)\n",
        "\n",
        "# Drop Null\n",
        "df = df.dropna()"
      ],
      "metadata": {
        "id": "dIDEfx7pFzxW"
      },
      "execution_count": 7,
      "outputs": []
    },
    {
      "cell_type": "code",
      "source": [
        "# Vector Assembler\n",
        "from pyspark.ml.feature import VectorAssembler\n",
        "\n",
        "feature_columns = df.columns\n",
        "assembler = VectorAssembler(inputCols=feature_columns, outputCol=\"features\")\n",
        "df = assembler.transform(df)\n",
        "\n",
        "# KMeans Values\n",
        "k_values = [2, 10, 15, 20]\n",
        "results = {}"
      ],
      "metadata": {
        "id": "8aQ45EXCGglV"
      },
      "execution_count": 8,
      "outputs": []
    },
    {
      "cell_type": "code",
      "source": [
        "for k in k_values: #Value 2,10,15,20\n",
        "    kmeans = KMeans().setK(k).setSeed(1).setFeaturesCol(\"features\")\n",
        "    model = kmeans.fit(df)\n",
        "\n",
        "    #Predict\n",
        "    predictions = model.transform(df)\n",
        "\n",
        "    #Evaluete and obtain silhoutte\n",
        "    evaluator = ClusteringEvaluator()\n",
        "    silhouette_score = evaluator.evaluate(predictions)\n",
        "    results[k] = silhouette_score\n",
        "\n",
        "    print(f\"For k = {k}, Silhouette Score = {silhouette_score}\")"
      ],
      "metadata": {
        "colab": {
          "base_uri": "https://localhost:8080/"
        },
        "id": "-m1TFvn2Grpy",
        "outputId": "d0810df7-a8ef-4a66-a7ab-42d91b941e82"
      },
      "execution_count": 9,
      "outputs": [
        {
          "output_type": "stream",
          "name": "stdout",
          "text": [
            "For k = 2, Silhouette Score = 0.8213603513331723\n",
            "For k = 10, Silhouette Score = 0.6810238482437947\n",
            "For k = 15, Silhouette Score = 0.6844672306874956\n",
            "For k = 20, Silhouette Score = 0.6393344257672275\n"
          ]
        }
      ]
    },
    {
      "cell_type": "code",
      "source": [
        "# Stop Spark\n",
        "spark.stop()"
      ],
      "metadata": {
        "id": "Fr0_PJ0ID3bk"
      },
      "execution_count": 10,
      "outputs": []
    }
  ]
}