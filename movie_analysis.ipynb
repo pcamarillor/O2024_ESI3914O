{
  "nbformat": 4,
  "nbformat_minor": 0,
  "metadata": {
    "colab": {
      "provenance": [],
      "authorship_tag": "ABX9TyNdbUkEQY4Sw6/lqae6ZRyB",
      "include_colab_link": true
    },
    "kernelspec": {
      "name": "python3",
      "display_name": "Python 3"
    },
    "language_info": {
      "name": "python"
    }
  },
  "cells": [
    {
      "cell_type": "markdown",
      "metadata": {
        "id": "view-in-github",
        "colab_type": "text"
      },
      "source": [
        "<a href=\"https://colab.research.google.com/github/pcamarillor/O2024_ESI3914O/blob/team4_movie_analysis/movie_analysis.ipynb\" target=\"_parent\"><img src=\"https://colab.research.google.com/assets/colab-badge.svg\" alt=\"Open In Colab\"/></a>"
      ]
    },
    {
      "cell_type": "code",
      "source": [
        "!pip install pyspark"
      ],
      "metadata": {
        "id": "8pEy0uqj9txK"
      },
      "execution_count": null,
      "outputs": []
    },
    {
      "cell_type": "code",
      "execution_count": 52,
      "metadata": {
        "id": "Ic4ibg6b7q_B",
        "colab": {
          "base_uri": "https://localhost:8080/"
        },
        "outputId": "325a3a1e-fa57-4efe-9721-2c1cf5df7fc1"
      },
      "outputs": [
        {
          "output_type": "stream",
          "name": "stdout",
          "text": [
            "+--------------------+-----------------+-----------+-----------+----------+-----------+-----------+-----------------+------------+----------------------+----------------+-------------------+--------------------+------------+--------+---------------+\n",
            "|       Creative_Type|         Director|Distributor|IMDB_Rating|IMDB_Votes|MPAA_Rating|Major_Genre|Production_Budget|Release_Date|Rotten_Tomatoes_Rating|Running_Time_min|             Source|               Title|US_DVD_Sales|US_Gross|Worldwide_Gross|\n",
            "+--------------------+-----------------+-----------+-----------+----------+-----------+-----------+-----------------+------------+----------------------+----------------+-------------------+--------------------+------------+--------+---------------+\n",
            "|                NULL|             NULL|   Gramercy|        6.1|      1071|          R|       NULL|          8000000|   12-Jun-98|                  NULL|            NULL|               NULL|      The Land Girls|        NULL|  146083|         146083|\n",
            "|                NULL|             NULL|     Strand|        6.9|       207|          R|      Drama|           300000|    7-Aug-98|                  NULL|            NULL|               NULL|First Love, Last ...|        NULL|   10876|          10876|\n",
            "|                NULL|             NULL|  Lionsgate|        6.8|       865|       NULL|     Comedy|           250000|   28-Aug-98|                  NULL|            NULL|               NULL|I Married a Stran...|        NULL|  203134|         203134|\n",
            "|                NULL|             NULL|  Fine Line|       NULL|      NULL|       NULL|     Comedy|           300000|   11-Sep-98|                    13|            NULL|               NULL|Let's Talk About Sex|        NULL|  373615|         373615|\n",
            "|Contemporary Fiction|             NULL|    Trimark|        3.4|       165|          R|      Drama|          1000000|    9-Oct-98|                    62|            NULL|Original Screenplay|                Slam|        NULL| 1009819|        1087521|\n",
            "|                NULL|             NULL|        MGM|       NULL|      NULL|       NULL|       NULL|          1600000|   15-Jan-99|                  NULL|            NULL|               NULL| Mississippi Mermaid|        NULL|   24551|        2624551|\n",
            "|                NULL|Christopher Nolan|  Zeitgeist|        7.7|     15133|          R|       NULL|             6000|    4-Apr-99|                  NULL|            NULL|               NULL|           Following|        NULL|   44705|          44705|\n",
            "+--------------------+-----------------+-----------+-----------+----------+-----------+-----------+-----------------+------------+----------------------+----------------+-------------------+--------------------+------------+--------+---------------+\n",
            "only showing top 7 rows\n",
            "\n"
          ]
        }
      ],
      "source": [
        "from pyspark.sql import SparkSession\n",
        "from pyspark.sql.functions import when, to_date, year\n",
        "\n",
        "spark = SparkSession.builder.appName(\"Movies-Activity\").getOrCreate()\n",
        "\n",
        "df_movies = spark.read \\\n",
        "            .option(\"inferSchema\", \"true\") \\\n",
        "            .json(\"./movies.json\")\n",
        "\n",
        "df_movies.show(n=7)\n",
        "\n"
      ]
    },
    {
      "cell_type": "code",
      "source": [
        "# Get Profit margin\n",
        "df_movies = df_movies.withColumn('Profit_Margin', (df_movies.Worldwide_Gross - df_movies.Production_Budget) / df_movies.Production_Budget)\n",
        "\n",
        "df_movies.show(n=7)\n"
      ],
      "metadata": {
        "colab": {
          "base_uri": "https://localhost:8080/"
        },
        "id": "YSC19upw-CrY",
        "outputId": "06df5817-db16-4339-d870-72f3ea60c8d1"
      },
      "execution_count": 23,
      "outputs": [
        {
          "output_type": "stream",
          "name": "stdout",
          "text": [
            "+--------------------+-----------------+-----------+-----------+----------+-----------+-----------+-----------------+------------+----------------------+----------------+-------------------+--------------------+------------+--------+---------------+-------------------+\n",
            "|       Creative_Type|         Director|Distributor|IMDB_Rating|IMDB_Votes|MPAA_Rating|Major_Genre|Production_Budget|Release_Date|Rotten_Tomatoes_Rating|Running_Time_min|             Source|               Title|US_DVD_Sales|US_Gross|Worldwide_Gross|      Profit_Margin|\n",
            "+--------------------+-----------------+-----------+-----------+----------+-----------+-----------+-----------------+------------+----------------------+----------------+-------------------+--------------------+------------+--------+---------------+-------------------+\n",
            "|                NULL|             NULL|   Gramercy|        6.1|      1071|          R|       NULL|          8000000|   12-Jun-98|                  NULL|            NULL|               NULL|      The Land Girls|        NULL|  146083|         146083|       -0.981739625|\n",
            "|                NULL|             NULL|     Strand|        6.9|       207|          R|      Drama|           300000|    7-Aug-98|                  NULL|            NULL|               NULL|First Love, Last ...|        NULL|   10876|          10876|-0.9637466666666666|\n",
            "|                NULL|             NULL|  Lionsgate|        6.8|       865|       NULL|     Comedy|           250000|   28-Aug-98|                  NULL|            NULL|               NULL|I Married a Stran...|        NULL|  203134|         203134|          -0.187464|\n",
            "|                NULL|             NULL|  Fine Line|       NULL|      NULL|       NULL|     Comedy|           300000|   11-Sep-98|                    13|            NULL|               NULL|Let's Talk About Sex|        NULL|  373615|         373615|0.24538333333333334|\n",
            "|Contemporary Fiction|             NULL|    Trimark|        3.4|       165|          R|      Drama|          1000000|    9-Oct-98|                    62|            NULL|Original Screenplay|                Slam|        NULL| 1009819|        1087521|           0.087521|\n",
            "|                NULL|             NULL|        MGM|       NULL|      NULL|       NULL|       NULL|          1600000|   15-Jan-99|                  NULL|            NULL|               NULL| Mississippi Mermaid|        NULL|   24551|        2624551|        0.640344375|\n",
            "|                NULL|Christopher Nolan|  Zeitgeist|        7.7|     15133|          R|       NULL|             6000|    4-Apr-99|                  NULL|            NULL|               NULL|           Following|        NULL|   44705|          44705|  6.450833333333334|\n",
            "+--------------------+-----------------+-----------+-----------+----------+-----------+-----------+-----------------+------------+----------------------+----------------+-------------------+--------------------+------------+--------+---------------+-------------------+\n",
            "only showing top 7 rows\n",
            "\n"
          ]
        }
      ]
    },
    {
      "cell_type": "code",
      "source": [
        "# Movie is hit or not\n",
        "df_movies = df_movies.withColumn('Box_Office_Hit',  when(df_movies.Worldwide_Gross > df_movies.Production_Budget * 2, 'Hit').otherwise('Flop'))\n",
        "\n",
        "df_movies.show(n=7)\n"
      ],
      "metadata": {
        "colab": {
          "base_uri": "https://localhost:8080/"
        },
        "id": "IiJVegZV_SL2",
        "outputId": "fc4b5f57-3988-4dcf-8091-7c3a09b8d256"
      },
      "execution_count": 24,
      "outputs": [
        {
          "output_type": "stream",
          "name": "stdout",
          "text": [
            "+--------------------+-----------------+-----------+-----------+----------+-----------+-----------+-----------------+------------+----------------------+----------------+-------------------+--------------------+------------+--------+---------------+-------------------+--------------+\n",
            "|       Creative_Type|         Director|Distributor|IMDB_Rating|IMDB_Votes|MPAA_Rating|Major_Genre|Production_Budget|Release_Date|Rotten_Tomatoes_Rating|Running_Time_min|             Source|               Title|US_DVD_Sales|US_Gross|Worldwide_Gross|      Profit_Margin|Box_Office_Hit|\n",
            "+--------------------+-----------------+-----------+-----------+----------+-----------+-----------+-----------------+------------+----------------------+----------------+-------------------+--------------------+------------+--------+---------------+-------------------+--------------+\n",
            "|                NULL|             NULL|   Gramercy|        6.1|      1071|          R|       NULL|          8000000|   12-Jun-98|                  NULL|            NULL|               NULL|      The Land Girls|        NULL|  146083|         146083|       -0.981739625|          Flop|\n",
            "|                NULL|             NULL|     Strand|        6.9|       207|          R|      Drama|           300000|    7-Aug-98|                  NULL|            NULL|               NULL|First Love, Last ...|        NULL|   10876|          10876|-0.9637466666666666|          Flop|\n",
            "|                NULL|             NULL|  Lionsgate|        6.8|       865|       NULL|     Comedy|           250000|   28-Aug-98|                  NULL|            NULL|               NULL|I Married a Stran...|        NULL|  203134|         203134|          -0.187464|          Flop|\n",
            "|                NULL|             NULL|  Fine Line|       NULL|      NULL|       NULL|     Comedy|           300000|   11-Sep-98|                    13|            NULL|               NULL|Let's Talk About Sex|        NULL|  373615|         373615|0.24538333333333334|          Flop|\n",
            "|Contemporary Fiction|             NULL|    Trimark|        3.4|       165|          R|      Drama|          1000000|    9-Oct-98|                    62|            NULL|Original Screenplay|                Slam|        NULL| 1009819|        1087521|           0.087521|          Flop|\n",
            "|                NULL|             NULL|        MGM|       NULL|      NULL|       NULL|       NULL|          1600000|   15-Jan-99|                  NULL|            NULL|               NULL| Mississippi Mermaid|        NULL|   24551|        2624551|        0.640344375|          Flop|\n",
            "|                NULL|Christopher Nolan|  Zeitgeist|        7.7|     15133|          R|       NULL|             6000|    4-Apr-99|                  NULL|            NULL|               NULL|           Following|        NULL|   44705|          44705|  6.450833333333334|           Hit|\n",
            "+--------------------+-----------------+-----------+-----------+----------+-----------+-----------+-----------------+------------+----------------------+----------------+-------------------+--------------------+------------+--------+---------------+-------------------+--------------+\n",
            "only showing top 7 rows\n",
            "\n"
          ]
        }
      ]
    },
    {
      "cell_type": "code",
      "source": [
        "df_movies = df_movies.withColumn('Release_Year', year(to_date(df_movies.Release_Date, 'd-MMM-yy')) - 100)\n",
        "\n",
        "df_movies.show(n=10)\n"
      ],
      "metadata": {
        "colab": {
          "base_uri": "https://localhost:8080/"
        },
        "id": "atzdhMxjAJwM",
        "outputId": "637ed9b9-8160-43c4-9270-e5593cd0c7e0"
      },
      "execution_count": 46,
      "outputs": [
        {
          "output_type": "stream",
          "name": "stdout",
          "text": [
            "+--------------------+-----------------+-------------+-----------+----------+-----------+-----------+-----------------+------------+----------------------+----------------+-------------------+--------------------+------------+--------+---------------+------------+\n",
            "|       Creative_Type|         Director|  Distributor|IMDB_Rating|IMDB_Votes|MPAA_Rating|Major_Genre|Production_Budget|Release_Date|Rotten_Tomatoes_Rating|Running_Time_min|             Source|               Title|US_DVD_Sales|US_Gross|Worldwide_Gross|Release_Year|\n",
            "+--------------------+-----------------+-------------+-----------+----------+-----------+-----------+-----------------+------------+----------------------+----------------+-------------------+--------------------+------------+--------+---------------+------------+\n",
            "|                NULL|             NULL|     Gramercy|        6.1|      1071|          R|       NULL|          8000000|   12-Jun-98|                  NULL|            NULL|               NULL|      The Land Girls|        NULL|  146083|         146083|        1998|\n",
            "|                NULL|             NULL|       Strand|        6.9|       207|          R|      Drama|           300000|    7-Aug-98|                  NULL|            NULL|               NULL|First Love, Last ...|        NULL|   10876|          10876|        1998|\n",
            "|                NULL|             NULL|    Lionsgate|        6.8|       865|       NULL|     Comedy|           250000|   28-Aug-98|                  NULL|            NULL|               NULL|I Married a Stran...|        NULL|  203134|         203134|        1998|\n",
            "|Contemporary Fiction|             NULL|      Trimark|        3.4|       165|          R|      Drama|          1000000|    9-Oct-98|                    62|            NULL|Original Screenplay|                Slam|        NULL| 1009819|        1087521|        1998|\n",
            "|                NULL|Christopher Nolan|    Zeitgeist|        7.7|     15133|          R|       NULL|             6000|    4-Apr-99|                  NULL|            NULL|               NULL|           Following|        NULL|   44705|          44705|        1999|\n",
            "|Contemporary Fiction|             NULL|      Artisan|        3.8|       353|          R|     Comedy|          1600000|    9-Apr-99|                  NULL|            NULL|Original Screenplay|             Foolish|        NULL| 6026908|        6026908|        1999|\n",
            "|                NULL|   Roman Polanski|         NULL|        5.8|      3275|          R|       NULL|         40000000|    1-Jul-86|                    25|            NULL|               NULL|             Pirates|        NULL| 1641825|        6341825|        1986|\n",
            "|                NULL|             NULL|         NULL|        7.0|      2906|       NULL|       NULL|          6000000|   31-Dec-46|                    86|            NULL|               NULL|     Duel in the Sun|        NULL|20400000|       20400000|        1946|\n",
            "|                NULL|             NULL|         NULL|        7.0|      4035|       NULL|       NULL|          1000000|    7-Oct-63|                    81|            NULL|               NULL|           Tom Jones|        NULL|37600000|       37600000|        1963|\n",
            "|                NULL|             NULL|Sony Pictures|        7.5|      9111|       NULL|    Musical|         10000000|   11-Dec-68|                    84|            NULL|               NULL|             Oliver!|        NULL|37402877|       37402877|        1968|\n",
            "+--------------------+-----------------+-------------+-----------+----------+-----------+-----------+-----------------+------------+----------------------+----------------+-------------------+--------------------+------------+--------+---------------+------------+\n",
            "only showing top 10 rows\n",
            "\n"
          ]
        }
      ]
    },
    {
      "cell_type": "markdown",
      "source": [],
      "metadata": {
        "id": "VjOII0e2Fu3b"
      }
    },
    {
      "cell_type": "code",
      "source": [
        "df_movies = df_movies.withColumn('IMDB_Rating_Category', when(df_movies.IMDB_Rating >= 7, 'High').when(df_movies.IMDB_Rating >= 5, 'Medium').otherwise('Low'))\n",
        "\n",
        "df_movies.show(n=10)\n"
      ],
      "metadata": {
        "colab": {
          "base_uri": "https://localhost:8080/"
        },
        "id": "D6FOW4F5Fd8w",
        "outputId": "5e665f21-abf3-4fdf-c8bf-0f227fd86b5e"
      },
      "execution_count": 48,
      "outputs": [
        {
          "output_type": "stream",
          "name": "stdout",
          "text": [
            "+--------------------+-----------------+-------------+-----------+----------+-----------+-----------+-----------------+------------+----------------------+----------------+-------------------+--------------------+------------+--------+---------------+------------+--------------------+\n",
            "|       Creative_Type|         Director|  Distributor|IMDB_Rating|IMDB_Votes|MPAA_Rating|Major_Genre|Production_Budget|Release_Date|Rotten_Tomatoes_Rating|Running_Time_min|             Source|               Title|US_DVD_Sales|US_Gross|Worldwide_Gross|Release_Year|IMDB_Rating_Category|\n",
            "+--------------------+-----------------+-------------+-----------+----------+-----------+-----------+-----------------+------------+----------------------+----------------+-------------------+--------------------+------------+--------+---------------+------------+--------------------+\n",
            "|                NULL|             NULL|     Gramercy|        6.1|      1071|          R|       NULL|          8000000|   12-Jun-98|                  NULL|            NULL|               NULL|      The Land Girls|        NULL|  146083|         146083|        1998|              Medium|\n",
            "|                NULL|             NULL|       Strand|        6.9|       207|          R|      Drama|           300000|    7-Aug-98|                  NULL|            NULL|               NULL|First Love, Last ...|        NULL|   10876|          10876|        1998|              Medium|\n",
            "|                NULL|             NULL|    Lionsgate|        6.8|       865|       NULL|     Comedy|           250000|   28-Aug-98|                  NULL|            NULL|               NULL|I Married a Stran...|        NULL|  203134|         203134|        1998|              Medium|\n",
            "|Contemporary Fiction|             NULL|      Trimark|        3.4|       165|          R|      Drama|          1000000|    9-Oct-98|                    62|            NULL|Original Screenplay|                Slam|        NULL| 1009819|        1087521|        1998|                 Low|\n",
            "|                NULL|Christopher Nolan|    Zeitgeist|        7.7|     15133|          R|       NULL|             6000|    4-Apr-99|                  NULL|            NULL|               NULL|           Following|        NULL|   44705|          44705|        1999|                High|\n",
            "|Contemporary Fiction|             NULL|      Artisan|        3.8|       353|          R|     Comedy|          1600000|    9-Apr-99|                  NULL|            NULL|Original Screenplay|             Foolish|        NULL| 6026908|        6026908|        1999|                 Low|\n",
            "|                NULL|   Roman Polanski|         NULL|        5.8|      3275|          R|       NULL|         40000000|    1-Jul-86|                    25|            NULL|               NULL|             Pirates|        NULL| 1641825|        6341825|        1986|              Medium|\n",
            "|                NULL|             NULL|         NULL|        7.0|      2906|       NULL|       NULL|          6000000|   31-Dec-46|                    86|            NULL|               NULL|     Duel in the Sun|        NULL|20400000|       20400000|        1946|                High|\n",
            "|                NULL|             NULL|         NULL|        7.0|      4035|       NULL|       NULL|          1000000|    7-Oct-63|                    81|            NULL|               NULL|           Tom Jones|        NULL|37600000|       37600000|        1963|                High|\n",
            "|                NULL|             NULL|Sony Pictures|        7.5|      9111|       NULL|    Musical|         10000000|   11-Dec-68|                    84|            NULL|               NULL|             Oliver!|        NULL|37402877|       37402877|        1968|                High|\n",
            "+--------------------+-----------------+-------------+-----------+----------+-----------+-----------+-----------------+------------+----------------------+----------------+-------------------+--------------------+------------+--------+---------------+------------+--------------------+\n",
            "only showing top 10 rows\n",
            "\n"
          ]
        }
      ]
    },
    {
      "cell_type": "code",
      "source": [
        "df_movies_new = df_movies.groupBy(df_movies.Distributor).avg('IMDB_Rating')\n",
        "\n",
        "df_movies_new.show(n=10)"
      ],
      "metadata": {
        "colab": {
          "base_uri": "https://localhost:8080/"
        },
        "id": "PQW8_SqRFzTd",
        "outputId": "d157b591-11ce-418c-9f92-e995709cb287"
      },
      "execution_count": 53,
      "outputs": [
        {
          "output_type": "stream",
          "name": "stdout",
          "text": [
            "+--------------------+------------------+\n",
            "|         Distributor|  avg(IMDB_Rating)|\n",
            "+--------------------+------------------+\n",
            "|Oscilloscope Pict...|               6.2|\n",
            "|               Savoy| 6.533333333333334|\n",
            "|             Embassy|              NULL|\n",
            "|         Fader Films|               6.5|\n",
            "|       October Films|               6.4|\n",
            "|              Strand| 6.322222222222223|\n",
            "|             Trimark| 5.085714285714286|\n",
            "|              Matson|               7.3|\n",
            "|      Cinema Service|               7.1|\n",
            "| Weinstein/Dimension|5.7250000000000005|\n",
            "+--------------------+------------------+\n",
            "only showing top 10 rows\n",
            "\n"
          ]
        }
      ]
    },
    {
      "cell_type": "code",
      "source": [
        "spark.stop()"
      ],
      "metadata": {
        "id": "yhYLACsG-A0-"
      },
      "execution_count": 54,
      "outputs": []
    }
  ]
}