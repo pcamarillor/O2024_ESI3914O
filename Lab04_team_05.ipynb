{
  "nbformat": 4,
  "nbformat_minor": 0,
  "metadata": {
    "colab": {
      "provenance": [],
      "authorship_tag": "ABX9TyM6aUHYIgYJLfdBkV2aRWdN",
      "include_colab_link": true
    },
    "kernelspec": {
      "name": "python3",
      "display_name": "Python 3"
    },
    "language_info": {
      "name": "python"
    }
  },
  "cells": [
    {
      "cell_type": "markdown",
      "metadata": {
        "id": "view-in-github",
        "colab_type": "text"
      },
      "source": [
        "<a href=\"https://colab.research.google.com/github/pcamarillor/O2024_ESI3914O/blob/lab04_team5/Lab04.ipynb\" target=\"_parent\"><img src=\"https://colab.research.google.com/assets/colab-badge.svg\" alt=\"Open In Colab\"/></a>"
      ]
    },
    {
      "cell_type": "markdown",
      "source": [
        "# Lab 04: Analysis of Movies Data Frame Part II\n",
        "\n",
        "#### Team 5:\n",
        "##### Luis Miguel Fontes Cardona\n",
        "##### Gabriel Alejandro Olvera González\n",
        "##### Marian Montserrat Sedano Paz\n"
      ],
      "metadata": {
        "id": "F0_lR3gY7-Md"
      }
    },
    {
      "cell_type": "code",
      "source": [
        "!sudo apt update\n",
        "!apt-get install openjdk-8-jdk-headless -qq > /dev/null\n",
        "# Check this site for the latest download link\n",
        "# https://www.apache.org/dyn/closer.lua/spark\n",
        "!wget -q https://dlcdn.apache.org/spark/spark-3.5.2/spark-3.5.2-bin-hadoop3.tgz\n",
        "!tar xf spark-3.5.2-bin-hadoop3.tgz\n",
        "!pip install -q findspark\n",
        "!pip install pyspark\n",
        "!pip install py4j"
      ],
      "metadata": {
        "colab": {
          "base_uri": "https://localhost:8080/"
        },
        "id": "cGS4B1fP78zY",
        "outputId": "5f8d95ff-c676-4979-eb5f-02413613a98e"
      },
      "execution_count": 1,
      "outputs": [
        {
          "output_type": "stream",
          "name": "stdout",
          "text": [
            "\u001b[33m\r0% [Working]\u001b[0m\r            \rGet:1 https://cloud.r-project.org/bin/linux/ubuntu jammy-cran40/ InRelease [3,626 B]\n",
            "Hit:2 https://developer.download.nvidia.com/compute/cuda/repos/ubuntu2204/x86_64  InRelease\n",
            "Get:3 http://security.ubuntu.com/ubuntu jammy-security InRelease [129 kB]\n",
            "Hit:4 http://archive.ubuntu.com/ubuntu jammy InRelease\n",
            "Ign:5 https://r2u.stat.illinois.edu/ubuntu jammy InRelease\n",
            "Get:6 http://archive.ubuntu.com/ubuntu jammy-updates InRelease [128 kB]\n",
            "Get:7 https://r2u.stat.illinois.edu/ubuntu jammy Release [5,713 B]\n",
            "Hit:8 https://ppa.launchpadcontent.net/deadsnakes/ppa/ubuntu jammy InRelease\n",
            "Get:9 https://r2u.stat.illinois.edu/ubuntu jammy Release.gpg [793 B]\n",
            "Hit:10 https://ppa.launchpadcontent.net/graphics-drivers/ppa/ubuntu jammy InRelease\n",
            "Get:11 http://security.ubuntu.com/ubuntu jammy-security/main amd64 Packages [2,267 kB]\n",
            "Hit:12 https://ppa.launchpadcontent.net/ubuntugis/ppa/ubuntu jammy InRelease\n",
            "Get:13 http://archive.ubuntu.com/ubuntu jammy-backports InRelease [127 kB]\n",
            "Get:14 https://r2u.stat.illinois.edu/ubuntu jammy/main amd64 Packages [2,576 kB]\n",
            "Get:15 http://security.ubuntu.com/ubuntu jammy-security/restricted amd64 Packages [3,030 kB]\n",
            "Get:16 http://archive.ubuntu.com/ubuntu jammy-updates/main amd64 Packages [2,541 kB]\n",
            "Get:17 http://security.ubuntu.com/ubuntu jammy-security/universe amd64 Packages [1,150 kB]\n",
            "Get:18 https://r2u.stat.illinois.edu/ubuntu jammy/main all Packages [8,311 kB]\n",
            "Get:19 http://archive.ubuntu.com/ubuntu jammy-updates/restricted amd64 Packages [3,108 kB]\n",
            "Get:20 http://archive.ubuntu.com/ubuntu jammy-updates/universe amd64 Packages [1,439 kB]\n",
            "Get:21 http://archive.ubuntu.com/ubuntu jammy-backports/universe amd64 Packages [33.7 kB]\n",
            "Fetched 24.9 MB in 7s (3,705 kB/s)\n",
            "Reading package lists... Done\n",
            "Building dependency tree... Done\n",
            "Reading state information... Done\n",
            "51 packages can be upgraded. Run 'apt list --upgradable' to see them.\n",
            "\u001b[1;33mW: \u001b[0mSkipping acquire of configured file 'main/source/Sources' as repository 'https://r2u.stat.illinois.edu/ubuntu jammy InRelease' does not seem to provide it (sources.list entry misspelt?)\u001b[0m\n",
            "Collecting pyspark\n",
            "  Downloading pyspark-3.5.2.tar.gz (317.3 MB)\n",
            "\u001b[2K     \u001b[90m━━━━━━━━━━━━━━━━━━━━━━━━━━━━━━━━━━━━━━━━\u001b[0m \u001b[32m317.3/317.3 MB\u001b[0m \u001b[31m4.9 MB/s\u001b[0m eta \u001b[36m0:00:00\u001b[0m\n",
            "\u001b[?25h  Preparing metadata (setup.py) ... \u001b[?25l\u001b[?25hdone\n",
            "Requirement already satisfied: py4j==0.10.9.7 in /usr/local/lib/python3.10/dist-packages (from pyspark) (0.10.9.7)\n",
            "Building wheels for collected packages: pyspark\n",
            "  Building wheel for pyspark (setup.py) ... \u001b[?25l\u001b[?25hdone\n",
            "  Created wheel for pyspark: filename=pyspark-3.5.2-py2.py3-none-any.whl size=317812365 sha256=45ddfad6aa8a0c8a73af7385729c0a1a3538916869ba72abe7d02d186a862d64\n",
            "  Stored in directory: /root/.cache/pip/wheels/34/34/bd/03944534c44b677cd5859f248090daa9fb27b3c8f8e5f49574\n",
            "Successfully built pyspark\n",
            "Installing collected packages: pyspark\n",
            "Successfully installed pyspark-3.5.2\n",
            "Requirement already satisfied: py4j in /usr/local/lib/python3.10/dist-packages (0.10.9.7)\n"
          ]
        }
      ]
    },
    {
      "cell_type": "code",
      "source": [
        "from pyspark.sql import SparkSession\n",
        "\n",
        "spark = SparkSession.builder.appName(\"Movies-Lab04\").getOrCreate()\n",
        "\n",
        "df_movies = spark.read \\\n",
        "            .option(\"inferSchema\", \"true\") \\\n",
        "            .json(\"/content/movies.json\")"
      ],
      "metadata": {
        "id": "3YhB4Den9Bcs"
      },
      "execution_count": 22,
      "outputs": []
    },
    {
      "cell_type": "code",
      "source": [
        "df_movies.printSchema()"
      ],
      "metadata": {
        "colab": {
          "base_uri": "https://localhost:8080/"
        },
        "id": "ipOg9TvfJVLk",
        "outputId": "98faa1af-c990-48d9-8a98-a2425bbe2523"
      },
      "execution_count": 23,
      "outputs": [
        {
          "output_type": "stream",
          "name": "stdout",
          "text": [
            "root\n",
            " |-- Creative_Type: string (nullable = true)\n",
            " |-- Director: string (nullable = true)\n",
            " |-- Distributor: string (nullable = true)\n",
            " |-- IMDB_Rating: double (nullable = true)\n",
            " |-- IMDB_Votes: long (nullable = true)\n",
            " |-- MPAA_Rating: string (nullable = true)\n",
            " |-- Major_Genre: string (nullable = true)\n",
            " |-- Production_Budget: long (nullable = true)\n",
            " |-- Release_Date: string (nullable = true)\n",
            " |-- Rotten_Tomatoes_Rating: long (nullable = true)\n",
            " |-- Running_Time_min: long (nullable = true)\n",
            " |-- Source: string (nullable = true)\n",
            " |-- Title: string (nullable = true)\n",
            " |-- US_DVD_Sales: long (nullable = true)\n",
            " |-- US_Gross: long (nullable = true)\n",
            " |-- Worldwide_Gross: long (nullable = true)\n",
            "\n"
          ]
        }
      ]
    },
    {
      "cell_type": "code",
      "source": [
        "df_movies.show(n=7)"
      ],
      "metadata": {
        "colab": {
          "base_uri": "https://localhost:8080/"
        },
        "id": "DiBN0hcZJWHP",
        "outputId": "7aabf7ab-817a-4616-ab9b-964e636b46b5"
      },
      "execution_count": 24,
      "outputs": [
        {
          "output_type": "stream",
          "name": "stdout",
          "text": [
            "+--------------------+-----------------+-----------+-----------+----------+-----------+-----------+-----------------+------------+----------------------+----------------+-------------------+--------------------+------------+--------+---------------+\n",
            "|       Creative_Type|         Director|Distributor|IMDB_Rating|IMDB_Votes|MPAA_Rating|Major_Genre|Production_Budget|Release_Date|Rotten_Tomatoes_Rating|Running_Time_min|             Source|               Title|US_DVD_Sales|US_Gross|Worldwide_Gross|\n",
            "+--------------------+-----------------+-----------+-----------+----------+-----------+-----------+-----------------+------------+----------------------+----------------+-------------------+--------------------+------------+--------+---------------+\n",
            "|                NULL|             NULL|   Gramercy|        6.1|      1071|          R|       NULL|          8000000|   12-Jun-98|                  NULL|            NULL|               NULL|      The Land Girls|        NULL|  146083|         146083|\n",
            "|                NULL|             NULL|     Strand|        6.9|       207|          R|      Drama|           300000|    7-Aug-98|                  NULL|            NULL|               NULL|First Love, Last ...|        NULL|   10876|          10876|\n",
            "|                NULL|             NULL|  Lionsgate|        6.8|       865|       NULL|     Comedy|           250000|   28-Aug-98|                  NULL|            NULL|               NULL|I Married a Stran...|        NULL|  203134|         203134|\n",
            "|                NULL|             NULL|  Fine Line|       NULL|      NULL|       NULL|     Comedy|           300000|   11-Sep-98|                    13|            NULL|               NULL|Let's Talk About Sex|        NULL|  373615|         373615|\n",
            "|Contemporary Fiction|             NULL|    Trimark|        3.4|       165|          R|      Drama|          1000000|    9-Oct-98|                    62|            NULL|Original Screenplay|                Slam|        NULL| 1009819|        1087521|\n",
            "|                NULL|             NULL|        MGM|       NULL|      NULL|       NULL|       NULL|          1600000|   15-Jan-99|                  NULL|            NULL|               NULL| Mississippi Mermaid|        NULL|   24551|        2624551|\n",
            "|                NULL|Christopher Nolan|  Zeitgeist|        7.7|     15133|          R|       NULL|             6000|    4-Apr-99|                  NULL|            NULL|               NULL|           Following|        NULL|   44705|          44705|\n",
            "+--------------------+-----------------+-----------+-----------+----------+-----------+-----------+-----------------+------------+----------------------+----------------+-------------------+--------------------+------------+--------+---------------+\n",
            "only showing top 7 rows\n",
            "\n"
          ]
        }
      ]
    },
    {
      "cell_type": "markdown",
      "source": [
        "Calculate Profit Margin: Compute the profit margin for each movie\n",
        "by subtracting the Production Budget from the Worldwide Gross\n",
        "and then dividing by the Production Budget\n"
      ],
      "metadata": {
        "id": "5Pu3kk6q9YkP"
      }
    },
    {
      "cell_type": "code",
      "source": [
        "df = df_movies.withColumn('Profit_Margin', (df_movies['Worldwide_Gross'] - df_movies['Production_Budget']) / df_movies['Production_Budget'])\n",
        "\n",
        "df.show(n=7)"
      ],
      "metadata": {
        "colab": {
          "base_uri": "https://localhost:8080/"
        },
        "id": "Zzh9h84L-Uhg",
        "outputId": "2726388c-ee5b-4b03-c1b9-72fc5d3d3fdc"
      },
      "execution_count": 25,
      "outputs": [
        {
          "output_type": "stream",
          "name": "stdout",
          "text": [
            "+--------------------+-----------------+-----------+-----------+----------+-----------+-----------+-----------------+------------+----------------------+----------------+-------------------+--------------------+------------+--------+---------------+-------------------+\n",
            "|       Creative_Type|         Director|Distributor|IMDB_Rating|IMDB_Votes|MPAA_Rating|Major_Genre|Production_Budget|Release_Date|Rotten_Tomatoes_Rating|Running_Time_min|             Source|               Title|US_DVD_Sales|US_Gross|Worldwide_Gross|      Profit_Margin|\n",
            "+--------------------+-----------------+-----------+-----------+----------+-----------+-----------+-----------------+------------+----------------------+----------------+-------------------+--------------------+------------+--------+---------------+-------------------+\n",
            "|                NULL|             NULL|   Gramercy|        6.1|      1071|          R|       NULL|          8000000|   12-Jun-98|                  NULL|            NULL|               NULL|      The Land Girls|        NULL|  146083|         146083|       -0.981739625|\n",
            "|                NULL|             NULL|     Strand|        6.9|       207|          R|      Drama|           300000|    7-Aug-98|                  NULL|            NULL|               NULL|First Love, Last ...|        NULL|   10876|          10876|-0.9637466666666666|\n",
            "|                NULL|             NULL|  Lionsgate|        6.8|       865|       NULL|     Comedy|           250000|   28-Aug-98|                  NULL|            NULL|               NULL|I Married a Stran...|        NULL|  203134|         203134|          -0.187464|\n",
            "|                NULL|             NULL|  Fine Line|       NULL|      NULL|       NULL|     Comedy|           300000|   11-Sep-98|                    13|            NULL|               NULL|Let's Talk About Sex|        NULL|  373615|         373615|0.24538333333333334|\n",
            "|Contemporary Fiction|             NULL|    Trimark|        3.4|       165|          R|      Drama|          1000000|    9-Oct-98|                    62|            NULL|Original Screenplay|                Slam|        NULL| 1009819|        1087521|           0.087521|\n",
            "|                NULL|             NULL|        MGM|       NULL|      NULL|       NULL|       NULL|          1600000|   15-Jan-99|                  NULL|            NULL|               NULL| Mississippi Mermaid|        NULL|   24551|        2624551|        0.640344375|\n",
            "|                NULL|Christopher Nolan|  Zeitgeist|        7.7|     15133|          R|       NULL|             6000|    4-Apr-99|                  NULL|            NULL|               NULL|           Following|        NULL|   44705|          44705|  6.450833333333334|\n",
            "+--------------------+-----------------+-----------+-----------+----------+-----------+-----------+-----------------+------------+----------------------+----------------+-------------------+--------------------+------------+--------+---------------+-------------------+\n",
            "only showing top 7 rows\n",
            "\n"
          ]
        }
      ]
    },
    {
      "cell_type": "code",
      "source": [
        "# new DataFrame\n",
        "df.printSchema()"
      ],
      "metadata": {
        "colab": {
          "base_uri": "https://localhost:8080/"
        },
        "id": "ajf5LZjOBDmn",
        "outputId": "85dc2c6f-d015-4174-fc08-ddeeb35b7a56"
      },
      "execution_count": 26,
      "outputs": [
        {
          "output_type": "stream",
          "name": "stdout",
          "text": [
            "root\n",
            " |-- Creative_Type: string (nullable = true)\n",
            " |-- Director: string (nullable = true)\n",
            " |-- Distributor: string (nullable = true)\n",
            " |-- IMDB_Rating: double (nullable = true)\n",
            " |-- IMDB_Votes: long (nullable = true)\n",
            " |-- MPAA_Rating: string (nullable = true)\n",
            " |-- Major_Genre: string (nullable = true)\n",
            " |-- Production_Budget: long (nullable = true)\n",
            " |-- Release_Date: string (nullable = true)\n",
            " |-- Rotten_Tomatoes_Rating: long (nullable = true)\n",
            " |-- Running_Time_min: long (nullable = true)\n",
            " |-- Source: string (nullable = true)\n",
            " |-- Title: string (nullable = true)\n",
            " |-- US_DVD_Sales: long (nullable = true)\n",
            " |-- US_Gross: long (nullable = true)\n",
            " |-- Worldwide_Gross: long (nullable = true)\n",
            " |-- Profit_Margin: double (nullable = true)\n",
            "\n"
          ]
        }
      ]
    },
    {
      "cell_type": "markdown",
      "source": [
        "Determine if a Movie is a Box Office Hit: Create a column\n",
        "Box Office Hit that categorizes movies as ”Hit” if\n",
        "Worldwide Gross is greater than twice the Production Budget,\n",
        "and ”Flop” otherwise."
      ],
      "metadata": {
        "id": "n7grXgFmA2BI"
      }
    },
    {
      "cell_type": "code",
      "source": [
        "from pyspark.sql.functions import when\n",
        "df = df_movies.withColumn('Box_Office_Hit',\n",
        "                          when(df['Worldwide_Gross'] > (df['Production_Budget'] * 2), \"Hit\").otherwise(\"Flop\"))\n",
        "df.show(n=7)"
      ],
      "metadata": {
        "colab": {
          "base_uri": "https://localhost:8080/"
        },
        "id": "hFjniPgaA67j",
        "outputId": "1cdb4548-ce09-4adc-a72c-d15b274c2970"
      },
      "execution_count": 27,
      "outputs": [
        {
          "output_type": "stream",
          "name": "stdout",
          "text": [
            "+--------------------+-----------------+-----------+-----------+----------+-----------+-----------+-----------------+------------+----------------------+----------------+-------------------+--------------------+------------+--------+---------------+--------------+\n",
            "|       Creative_Type|         Director|Distributor|IMDB_Rating|IMDB_Votes|MPAA_Rating|Major_Genre|Production_Budget|Release_Date|Rotten_Tomatoes_Rating|Running_Time_min|             Source|               Title|US_DVD_Sales|US_Gross|Worldwide_Gross|Box_Office_Hit|\n",
            "+--------------------+-----------------+-----------+-----------+----------+-----------+-----------+-----------------+------------+----------------------+----------------+-------------------+--------------------+------------+--------+---------------+--------------+\n",
            "|                NULL|             NULL|   Gramercy|        6.1|      1071|          R|       NULL|          8000000|   12-Jun-98|                  NULL|            NULL|               NULL|      The Land Girls|        NULL|  146083|         146083|          Flop|\n",
            "|                NULL|             NULL|     Strand|        6.9|       207|          R|      Drama|           300000|    7-Aug-98|                  NULL|            NULL|               NULL|First Love, Last ...|        NULL|   10876|          10876|          Flop|\n",
            "|                NULL|             NULL|  Lionsgate|        6.8|       865|       NULL|     Comedy|           250000|   28-Aug-98|                  NULL|            NULL|               NULL|I Married a Stran...|        NULL|  203134|         203134|          Flop|\n",
            "|                NULL|             NULL|  Fine Line|       NULL|      NULL|       NULL|     Comedy|           300000|   11-Sep-98|                    13|            NULL|               NULL|Let's Talk About Sex|        NULL|  373615|         373615|          Flop|\n",
            "|Contemporary Fiction|             NULL|    Trimark|        3.4|       165|          R|      Drama|          1000000|    9-Oct-98|                    62|            NULL|Original Screenplay|                Slam|        NULL| 1009819|        1087521|          Flop|\n",
            "|                NULL|             NULL|        MGM|       NULL|      NULL|       NULL|       NULL|          1600000|   15-Jan-99|                  NULL|            NULL|               NULL| Mississippi Mermaid|        NULL|   24551|        2624551|          Flop|\n",
            "|                NULL|Christopher Nolan|  Zeitgeist|        7.7|     15133|          R|       NULL|             6000|    4-Apr-99|                  NULL|            NULL|               NULL|           Following|        NULL|   44705|          44705|           Hit|\n",
            "+--------------------+-----------------+-----------+-----------+----------+-----------+-----------+-----------------+------------+----------------------+----------------+-------------------+--------------------+------------+--------+---------------+--------------+\n",
            "only showing top 7 rows\n",
            "\n"
          ]
        }
      ]
    },
    {
      "cell_type": "markdown",
      "source": [
        "Convert Release Date to a Standard Format: Convert the\n",
        "Release Date from DD-MMM-YY to a DateType column and\n",
        "extract the year in a new column.\n"
      ],
      "metadata": {
        "id": "6lC_sFCuCwCV"
      }
    },
    {
      "cell_type": "code",
      "source": [
        "from pyspark.sql.functions import col, to_date, year, when, expr\n",
        "\n",
        "# Convert Release_Date from string to DateType and extract the year\n",
        "df = df_movies.withColumn(\n",
        "    'Release_DateType',\n",
        "    when(col('Release_Date').rlike(\"^\\d{1,2}-[a-zA-Z]{3}-\\d{2}$\"),\n",
        "         to_date(col('Release_Date'), 'd-MMM-yy'))\n",
        "    .otherwise(None)  # Handle unexpected formats with None\n",
        ")\n",
        "\n",
        "# Adjust for years greater than 2023 by subtracting 100 years\n",
        "df = df.withColumn(\n",
        "    'Release_DateType',\n",
        "    when(year(col('Release_DateType')) > 2023,\n",
        "         expr(\"add_months(Release_DateType, -1200)\"))  # Subtract 100 years\n",
        "    .otherwise(col('Release_DateType'))\n",
        ")\n",
        "\n",
        "# Extract the year from the Release_DateType\n",
        "df = df.withColumn('Release_Year', year(col('Release_DateType')))\n",
        "\n",
        "df.show(n=7)"
      ],
      "metadata": {
        "colab": {
          "base_uri": "https://localhost:8080/"
        },
        "id": "E9VLUygnCvHP",
        "outputId": "f05345b5-b76d-41f4-ee12-01078e07452f"
      },
      "execution_count": 29,
      "outputs": [
        {
          "output_type": "stream",
          "name": "stdout",
          "text": [
            "+--------------------+-----------------+-----------+-----------+----------+-----------+-----------+-----------------+------------+----------------------+----------------+-------------------+--------------------+------------+--------+---------------+----------------+------------+\n",
            "|       Creative_Type|         Director|Distributor|IMDB_Rating|IMDB_Votes|MPAA_Rating|Major_Genre|Production_Budget|Release_Date|Rotten_Tomatoes_Rating|Running_Time_min|             Source|               Title|US_DVD_Sales|US_Gross|Worldwide_Gross|Release_DateType|Release_Year|\n",
            "+--------------------+-----------------+-----------+-----------+----------+-----------+-----------+-----------------+------------+----------------------+----------------+-------------------+--------------------+------------+--------+---------------+----------------+------------+\n",
            "|                NULL|             NULL|   Gramercy|        6.1|      1071|          R|       NULL|          8000000|   12-Jun-98|                  NULL|            NULL|               NULL|      The Land Girls|        NULL|  146083|         146083|      1998-06-12|        1998|\n",
            "|                NULL|             NULL|     Strand|        6.9|       207|          R|      Drama|           300000|    7-Aug-98|                  NULL|            NULL|               NULL|First Love, Last ...|        NULL|   10876|          10876|      1998-08-07|        1998|\n",
            "|                NULL|             NULL|  Lionsgate|        6.8|       865|       NULL|     Comedy|           250000|   28-Aug-98|                  NULL|            NULL|               NULL|I Married a Stran...|        NULL|  203134|         203134|      1998-08-28|        1998|\n",
            "|                NULL|             NULL|  Fine Line|       NULL|      NULL|       NULL|     Comedy|           300000|   11-Sep-98|                    13|            NULL|               NULL|Let's Talk About Sex|        NULL|  373615|         373615|      1998-09-11|        1998|\n",
            "|Contemporary Fiction|             NULL|    Trimark|        3.4|       165|          R|      Drama|          1000000|    9-Oct-98|                    62|            NULL|Original Screenplay|                Slam|        NULL| 1009819|        1087521|      1998-10-09|        1998|\n",
            "|                NULL|             NULL|        MGM|       NULL|      NULL|       NULL|       NULL|          1600000|   15-Jan-99|                  NULL|            NULL|               NULL| Mississippi Mermaid|        NULL|   24551|        2624551|      1999-01-15|        1999|\n",
            "|                NULL|Christopher Nolan|  Zeitgeist|        7.7|     15133|          R|       NULL|             6000|    4-Apr-99|                  NULL|            NULL|               NULL|           Following|        NULL|   44705|          44705|      1999-04-04|        1999|\n",
            "+--------------------+-----------------+-----------+-----------+----------+-----------+-----------+-----------------+------------+----------------------+----------------+-------------------+--------------------+------------+--------+---------------+----------------+------------+\n",
            "only showing top 7 rows\n",
            "\n"
          ]
        }
      ]
    },
    {
      "cell_type": "markdown",
      "source": [
        "Create a new column: IMDB Rating Category to categorize movies\n",
        "based on their IMDB Rating: ”High” if the rating is 7.0 or above,\n",
        "”Medium” if between 5.0 and 6.9, and ”Low” if below 5.0."
      ],
      "metadata": {
        "id": "T9F6qN8mDFdL"
      }
    },
    {
      "cell_type": "code",
      "source": [
        "# Create the IMDB_Rating_Category column with the categories according to the IMDB rating.\n",
        "\n",
        "df = df.withColumn('IMDB_Rating_Category',\n",
        "                  when(col('IMDB_Rating') >= 7.0, 'High')\n",
        "                  .when((col('IMDB_Rating') >= 5.0) & (col('IMDB_Rating') < 7.0), 'Medium')\n",
        "                  .otherwise('Low')\n",
        ")\n",
        "\n",
        "df.show(n=7)"
      ],
      "metadata": {
        "id": "4cYAQerADJ2S",
        "colab": {
          "base_uri": "https://localhost:8080/"
        },
        "outputId": "d0530b9d-28af-422a-abdf-f5913e488d2e"
      },
      "execution_count": 30,
      "outputs": [
        {
          "output_type": "stream",
          "name": "stdout",
          "text": [
            "+--------------------+-----------------+-----------+-----------+----------+-----------+-----------+-----------------+------------+----------------------+----------------+-------------------+--------------------+------------+--------+---------------+----------------+------------+--------------------+\n",
            "|       Creative_Type|         Director|Distributor|IMDB_Rating|IMDB_Votes|MPAA_Rating|Major_Genre|Production_Budget|Release_Date|Rotten_Tomatoes_Rating|Running_Time_min|             Source|               Title|US_DVD_Sales|US_Gross|Worldwide_Gross|Release_DateType|Release_Year|IMDB_Rating_Category|\n",
            "+--------------------+-----------------+-----------+-----------+----------+-----------+-----------+-----------------+------------+----------------------+----------------+-------------------+--------------------+------------+--------+---------------+----------------+------------+--------------------+\n",
            "|                NULL|             NULL|   Gramercy|        6.1|      1071|          R|       NULL|          8000000|   12-Jun-98|                  NULL|            NULL|               NULL|      The Land Girls|        NULL|  146083|         146083|      1998-06-12|        1998|              Medium|\n",
            "|                NULL|             NULL|     Strand|        6.9|       207|          R|      Drama|           300000|    7-Aug-98|                  NULL|            NULL|               NULL|First Love, Last ...|        NULL|   10876|          10876|      1998-08-07|        1998|              Medium|\n",
            "|                NULL|             NULL|  Lionsgate|        6.8|       865|       NULL|     Comedy|           250000|   28-Aug-98|                  NULL|            NULL|               NULL|I Married a Stran...|        NULL|  203134|         203134|      1998-08-28|        1998|              Medium|\n",
            "|                NULL|             NULL|  Fine Line|       NULL|      NULL|       NULL|     Comedy|           300000|   11-Sep-98|                    13|            NULL|               NULL|Let's Talk About Sex|        NULL|  373615|         373615|      1998-09-11|        1998|                 Low|\n",
            "|Contemporary Fiction|             NULL|    Trimark|        3.4|       165|          R|      Drama|          1000000|    9-Oct-98|                    62|            NULL|Original Screenplay|                Slam|        NULL| 1009819|        1087521|      1998-10-09|        1998|                 Low|\n",
            "|                NULL|             NULL|        MGM|       NULL|      NULL|       NULL|       NULL|          1600000|   15-Jan-99|                  NULL|            NULL|               NULL| Mississippi Mermaid|        NULL|   24551|        2624551|      1999-01-15|        1999|                 Low|\n",
            "|                NULL|Christopher Nolan|  Zeitgeist|        7.7|     15133|          R|       NULL|             6000|    4-Apr-99|                  NULL|            NULL|               NULL|           Following|        NULL|   44705|          44705|      1999-04-04|        1999|                High|\n",
            "+--------------------+-----------------+-----------+-----------+----------+-----------+-----------+-----------------+------------+----------------------+----------------+-------------------+--------------------+------------+--------+---------------+----------------+------------+--------------------+\n",
            "only showing top 7 rows\n",
            "\n"
          ]
        }
      ]
    },
    {
      "cell_type": "markdown",
      "source": [
        "Calculate Average IMDB Rating for Each Distributor: Calculate the\n",
        "average IMDB Rating for each Distributor and create a new\n",
        "DataFrame with this information."
      ],
      "metadata": {
        "id": "dv8pt4x-KE32"
      }
    },
    {
      "cell_type": "code",
      "source": [
        "from pyspark.sql.functions import avg\n",
        "\n",
        "# Calculate the average IMDB_Rating for each Distributor\n",
        "df_avg_rating = df.groupBy('Distributor') \\\n",
        "                  .agg(avg('IMDB_Rating').alias('Average_IMDB_Rating'))\n",
        "\n",
        "# new DataFrame\n",
        "df_avg_rating.show(n=7)"
      ],
      "metadata": {
        "colab": {
          "base_uri": "https://localhost:8080/"
        },
        "id": "nlcQreVAKGqG",
        "outputId": "c21e47b3-29fe-4a22-9e45-74c509c997bf"
      },
      "execution_count": 31,
      "outputs": [
        {
          "output_type": "stream",
          "name": "stdout",
          "text": [
            "+--------------------+-------------------+\n",
            "|         Distributor|Average_IMDB_Rating|\n",
            "+--------------------+-------------------+\n",
            "|Oscilloscope Pict...|                6.2|\n",
            "|               Savoy|  6.533333333333334|\n",
            "|             Embassy|               NULL|\n",
            "|         Fader Films|                6.5|\n",
            "|       October Films|                6.4|\n",
            "|              Strand|  6.322222222222223|\n",
            "|             Trimark|  5.085714285714286|\n",
            "+--------------------+-------------------+\n",
            "only showing top 7 rows\n",
            "\n"
          ]
        }
      ]
    }
  ]
}
