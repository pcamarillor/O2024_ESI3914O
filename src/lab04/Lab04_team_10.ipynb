{
  "nbformat": 4,
  "nbformat_minor": 0,
  "metadata": {
    "colab": {
      "provenance": [],
      "toc_visible": true
    },
    "kernelspec": {
      "name": "python3",
      "display_name": "Python 3"
    },
    "language_info": {
      "name": "python"
    }
  },
  "cells": [
    {
      "cell_type": "markdown",
      "source": [
        "#Install libraries"
      ],
      "metadata": {
        "id": "ccEPG1oH-ciQ"
      }
    },
    {
      "cell_type": "code",
      "source": [
        "!sudo apt update\n",
        "!apt-get install openjdk-8-jdk-headless -qq > /dev/null\n",
        "# Check this site for the latest download link\n",
        "# https://www.apache.org/dyn/closer.lua/spark\n",
        "!wget -q https://dlcdn.apache.org/spark/spark-3.5.2/spark-3.5.2-bin-hadoop3.tgz\n",
        "!tar xf spark-3.5.2-bin-hadoop3.tgz\n",
        "!pip install -q findspark\n",
        "!pip install pyspark\n",
        "!pip install py4j\n"
      ],
      "metadata": {
        "colab": {
          "base_uri": "https://localhost:8080/"
        },
        "id": "-iEOoQyi9FQO",
        "outputId": "c56258c7-398f-4379-9b11-646c58ed9c85",
        "collapsed": true
      },
      "execution_count": 1,
      "outputs": [
        {
          "output_type": "stream",
          "name": "stdout",
          "text": [
            "\u001b[33m\r0% [Working]\u001b[0m\r            \rGet:1 https://cloud.r-project.org/bin/linux/ubuntu jammy-cran40/ InRelease [3,626 B]\n",
            "\u001b[33m\r0% [Waiting for headers] [Connecting to security.ubuntu.com (185.125.190.83)] [\u001b[0m\u001b[33m\r0% [Waiting for headers] [Connecting to security.ubuntu.com (185.125.190.83)] [\u001b[0m\r                                                                               \rHit:2 http://archive.ubuntu.com/ubuntu jammy InRelease\n",
            "\u001b[33m\r0% [Waiting for headers] [Waiting for headers] [Connected to r2u.stat.illinois.\u001b[0m\r                                                                               \rHit:3 https://developer.download.nvidia.com/compute/cuda/repos/ubuntu2204/x86_64  InRelease\n",
            "Get:4 http://archive.ubuntu.com/ubuntu jammy-updates InRelease [128 kB]\n",
            "Get:5 http://security.ubuntu.com/ubuntu jammy-security InRelease [129 kB]\n",
            "Ign:6 https://r2u.stat.illinois.edu/ubuntu jammy InRelease\n",
            "Get:7 https://r2u.stat.illinois.edu/ubuntu jammy Release [5,713 B]\n",
            "Get:8 https://r2u.stat.illinois.edu/ubuntu jammy Release.gpg [793 B]\n",
            "Hit:9 http://archive.ubuntu.com/ubuntu jammy-backports InRelease\n",
            "Hit:10 https://ppa.launchpadcontent.net/deadsnakes/ppa/ubuntu jammy InRelease\n",
            "Hit:11 https://ppa.launchpadcontent.net/graphics-drivers/ppa/ubuntu jammy InRelease\n",
            "Hit:12 https://ppa.launchpadcontent.net/ubuntugis/ppa/ubuntu jammy InRelease\n",
            "Get:13 http://archive.ubuntu.com/ubuntu jammy-updates/restricted amd64 Packages [3,186 kB]\n",
            "Get:14 https://r2u.stat.illinois.edu/ubuntu jammy/main amd64 Packages [2,582 kB]\n",
            "Get:15 http://archive.ubuntu.com/ubuntu jammy-updates/universe amd64 Packages [1,440 kB]\n",
            "Get:16 http://archive.ubuntu.com/ubuntu jammy-updates/main amd64 Packages [2,590 kB]\n",
            "Get:17 https://r2u.stat.illinois.edu/ubuntu jammy/main all Packages [8,336 kB]\n",
            "Get:18 http://security.ubuntu.com/ubuntu jammy-security/universe amd64 Packages [1,153 kB]\n",
            "Get:19 http://security.ubuntu.com/ubuntu jammy-security/main amd64 Packages [2,308 kB]\n",
            "Fetched 21.9 MB in 7s (3,219 kB/s)\n",
            "Reading package lists... Done\n",
            "Building dependency tree... Done\n",
            "Reading state information... Done\n",
            "55 packages can be upgraded. Run 'apt list --upgradable' to see them.\n",
            "\u001b[1;33mW: \u001b[0mSkipping acquire of configured file 'main/source/Sources' as repository 'https://r2u.stat.illinois.edu/ubuntu jammy InRelease' does not seem to provide it (sources.list entry misspelt?)\u001b[0m\n",
            "Collecting pyspark\n",
            "  Downloading pyspark-3.5.2.tar.gz (317.3 MB)\n",
            "\u001b[2K     \u001b[90m━━━━━━━━━━━━━━━━━━━━━━━━━━━━━━━━━━━━━━━━\u001b[0m \u001b[32m317.3/317.3 MB\u001b[0m \u001b[31m1.4 MB/s\u001b[0m eta \u001b[36m0:00:00\u001b[0m\n",
            "\u001b[?25h  Preparing metadata (setup.py) ... \u001b[?25l\u001b[?25hdone\n",
            "Requirement already satisfied: py4j==0.10.9.7 in /usr/local/lib/python3.10/dist-packages (from pyspark) (0.10.9.7)\n",
            "Building wheels for collected packages: pyspark\n",
            "  Building wheel for pyspark (setup.py) ... \u001b[?25l\u001b[?25hdone\n",
            "  Created wheel for pyspark: filename=pyspark-3.5.2-py2.py3-none-any.whl size=317812365 sha256=21aaec1373b1d439d32e89172fcfcde20766626069e3cf724e2a8c87b7fe88ee\n",
            "  Stored in directory: /root/.cache/pip/wheels/34/34/bd/03944534c44b677cd5859f248090daa9fb27b3c8f8e5f49574\n",
            "Successfully built pyspark\n",
            "Installing collected packages: pyspark\n",
            "Successfully installed pyspark-3.5.2\n",
            "Requirement already satisfied: py4j in /usr/local/lib/python3.10/dist-packages (0.10.9.7)\n"
          ]
        }
      ]
    },
    {
      "cell_type": "markdown",
      "source": [
        "# Pyspark imports and context setup\n"
      ],
      "metadata": {
        "id": "G4nAhB739Kki"
      }
    },
    {
      "cell_type": "code",
      "source": [
        "from pyspark.sql import SparkSession\n",
        "from pyspark.sql.functions import col, when, to_date, year, expr"
      ],
      "metadata": {
        "id": "wJ0GlFw79aBU"
      },
      "execution_count": 5,
      "outputs": []
    },
    {
      "cell_type": "code",
      "source": [
        "# Create spark session\n",
        "spark = SparkSession.builder.appName(\"Movies-Activity\").getOrCreate()\n",
        "\n",
        "# Read json file\n",
        "df_movies = spark.read.option(\"inferSchema\", \"true\").json(\"/content/movies.json\")\n",
        "df_movies.printSchema()"
      ],
      "metadata": {
        "id": "K813Ffy99dSe",
        "outputId": "37c6d97b-a2a7-47eb-ca46-3ab936ec42d6",
        "colab": {
          "base_uri": "https://localhost:8080/"
        }
      },
      "execution_count": 6,
      "outputs": [
        {
          "output_type": "stream",
          "name": "stdout",
          "text": [
            "root\n",
            " |-- Creative_Type: string (nullable = true)\n",
            " |-- Director: string (nullable = true)\n",
            " |-- Distributor: string (nullable = true)\n",
            " |-- IMDB_Rating: double (nullable = true)\n",
            " |-- IMDB_Votes: long (nullable = true)\n",
            " |-- MPAA_Rating: string (nullable = true)\n",
            " |-- Major_Genre: string (nullable = true)\n",
            " |-- Production_Budget: long (nullable = true)\n",
            " |-- Release_Date: string (nullable = true)\n",
            " |-- Rotten_Tomatoes_Rating: long (nullable = true)\n",
            " |-- Running_Time_min: long (nullable = true)\n",
            " |-- Source: string (nullable = true)\n",
            " |-- Title: string (nullable = true)\n",
            " |-- US_DVD_Sales: long (nullable = true)\n",
            " |-- US_Gross: long (nullable = true)\n",
            " |-- Worldwide_Gross: long (nullable = true)\n",
            "\n"
          ]
        }
      ]
    },
    {
      "cell_type": "markdown",
      "source": [
        "# Profit Margin"
      ],
      "metadata": {
        "id": "F43CzNyA7W69"
      }
    },
    {
      "cell_type": "code",
      "source": [
        "df_ProfitMargin = df_movies.select(\"Title\", \"Worldwide_Gross\", \"Production_Budget\")\n",
        "df_ProfitMargin = df_ProfitMargin.withColumn('Profit Margin', ((df_movies['Worldwide_Gross'] - df_movies['Production_Budget']) / df_movies['Production_Budget']))\n",
        "df_ProfitMargin.show(n=10)"
      ],
      "metadata": {
        "id": "s6QGQqyk86zW",
        "outputId": "6de054ae-7adf-4e6f-e3fa-f9dec5432231",
        "colab": {
          "base_uri": "https://localhost:8080/"
        }
      },
      "execution_count": 10,
      "outputs": [
        {
          "output_type": "stream",
          "name": "stdout",
          "text": [
            "+--------------------+---------------+-----------------+-------------------+\n",
            "|               Title|Worldwide_Gross|Production_Budget|      Profit Margin|\n",
            "+--------------------+---------------+-----------------+-------------------+\n",
            "|      The Land Girls|         146083|          8000000|       -0.981739625|\n",
            "|First Love, Last ...|          10876|           300000|-0.9637466666666666|\n",
            "|I Married a Stran...|         203134|           250000|          -0.187464|\n",
            "|Let's Talk About Sex|         373615|           300000|0.24538333333333334|\n",
            "|                Slam|        1087521|          1000000|           0.087521|\n",
            "| Mississippi Mermaid|        2624551|          1600000|        0.640344375|\n",
            "|           Following|          44705|             6000|  6.450833333333334|\n",
            "|             Foolish|        6026908|          1600000|          2.7668175|\n",
            "|             Pirates|        6341825|         40000000|       -0.841454375|\n",
            "|     Duel in the Sun|       20400000|          6000000|                2.4|\n",
            "+--------------------+---------------+-----------------+-------------------+\n",
            "only showing top 10 rows\n",
            "\n"
          ]
        }
      ]
    },
    {
      "cell_type": "markdown",
      "source": [
        "#Determine if a Movie is a Box Office Hit"
      ],
      "metadata": {
        "id": "tm26nkPY9yLR"
      }
    },
    {
      "cell_type": "code",
      "source": [
        "df_BoxOfficeHit = df_movies.select(\"Title\", \"Worldwide_Gross\", \"Production_Budget\")\n",
        "df_BoxOfficeHit = df_BoxOfficeHit.withColumn('Box_Office_hit',when(df_movies['Worldwide_Gross'] > (2 * df_movies['Production_Budget']), \"Hit\").otherwise(\"Flop\"))\n",
        "df_BoxOfficeHit.show(n=10)"
      ],
      "metadata": {
        "id": "G29p5wXi929H",
        "outputId": "966e9bb8-5b53-4b40-874e-de6343fcbfae",
        "colab": {
          "base_uri": "https://localhost:8080/"
        }
      },
      "execution_count": 12,
      "outputs": [
        {
          "output_type": "stream",
          "name": "stdout",
          "text": [
            "+--------------------+---------------+-----------------+---------------+\n",
            "|               Title|Worldwide_Gross|Production_Budget|Box_Office_hit?|\n",
            "+--------------------+---------------+-----------------+---------------+\n",
            "|      The Land Girls|         146083|          8000000|           Flop|\n",
            "|First Love, Last ...|          10876|           300000|           Flop|\n",
            "|I Married a Stran...|         203134|           250000|           Flop|\n",
            "|Let's Talk About Sex|         373615|           300000|           Flop|\n",
            "|                Slam|        1087521|          1000000|           Flop|\n",
            "| Mississippi Mermaid|        2624551|          1600000|           Flop|\n",
            "|           Following|          44705|             6000|            Hit|\n",
            "|             Foolish|        6026908|          1600000|            Hit|\n",
            "|             Pirates|        6341825|         40000000|           Flop|\n",
            "|     Duel in the Sun|       20400000|          6000000|            Hit|\n",
            "+--------------------+---------------+-----------------+---------------+\n",
            "only showing top 10 rows\n",
            "\n"
          ]
        }
      ]
    },
    {
      "cell_type": "markdown",
      "source": [
        "#Convert Release Date to a Standard Format"
      ],
      "metadata": {
        "id": "_DGKj0ai98Cn"
      }
    },
    {
      "cell_type": "code",
      "source": [
        "df_date = df_movies.select(\"Title\", \"Release_Date\")\n",
        "df_date = df_date.withColumn(\n",
        "    \"Release_Date\",\n",
        "    when(df_movies[\"Release_Date\"].rlike(\"^\\d{1,2}-[A-Za-z]{3}-\\d{2}$\"), to_date(df_movies[\"Release_Date\"], \"d-MMM-yy\"))\n",
        "    .when(df_movies[\"Release_Date\"].rlike(\"^\\d{4}-\\d{2}-\\d{2}$\"), to_date(df_movies[\"Release_Date\"], \"yyyy-MM-dd\"))\n",
        "    .when(df_movies[\"Release_Date\"].rlike(\"^[A-Za-z]+, \\d{4}$\"), to_date(df_movies[\"Release_Date\"], \"MMMM, yyyy\"))\n",
        "    .otherwise(None)\n",
        ")\n",
        "df_date = df_date.withColumn(\"Release_Year\", year(df_date[\"Release_Date\"]))\n",
        "df_date.show(n=10)"
      ],
      "metadata": {
        "id": "skH74kHq9-uf",
        "outputId": "4f2db2a9-63d0-4dd2-d19f-bb9323fde8e5",
        "colab": {
          "base_uri": "https://localhost:8080/"
        }
      },
      "execution_count": 14,
      "outputs": [
        {
          "output_type": "stream",
          "name": "stdout",
          "text": [
            "+--------------------+------------+------------+\n",
            "|               Title|Release_Date|Release_Year|\n",
            "+--------------------+------------+------------+\n",
            "|      The Land Girls|  2098-06-12|        2098|\n",
            "|First Love, Last ...|  2098-08-07|        2098|\n",
            "|I Married a Stran...|  2098-08-28|        2098|\n",
            "|Let's Talk About Sex|  2098-09-11|        2098|\n",
            "|                Slam|  2098-10-09|        2098|\n",
            "| Mississippi Mermaid|  2099-01-15|        2099|\n",
            "|           Following|  2099-04-04|        2099|\n",
            "|             Foolish|  2099-04-09|        2099|\n",
            "|             Pirates|  2086-07-01|        2086|\n",
            "|     Duel in the Sun|  2046-12-31|        2046|\n",
            "+--------------------+------------+------------+\n",
            "only showing top 10 rows\n",
            "\n"
          ]
        }
      ]
    },
    {
      "cell_type": "markdown",
      "source": [
        "#Create a new column: IMDB Rating Category"
      ],
      "metadata": {
        "id": "7KGeKhqf-D9U"
      }
    },
    {
      "cell_type": "code",
      "source": [
        "df_IMDB = df_movies.select(\"Title\", \"IMDB_Rating\")\n",
        "df_IMDB = df_IMDB.withColumn('IMDB_Simple_Rating', when(df_movies['IMDB_Rating'] >= 7.0 , \"High\").when(df_movies['IMDB_Rating'] >= 5.0 , \"Medium\").otherwise(\"Low\"))\n",
        "df_IMDB.show(n=10)\n"
      ],
      "metadata": {
        "id": "e7csCoew-Hv5",
        "outputId": "f670ff2f-6cb0-45df-b843-154c0b428df4",
        "colab": {
          "base_uri": "https://localhost:8080/"
        }
      },
      "execution_count": 15,
      "outputs": [
        {
          "output_type": "stream",
          "name": "stdout",
          "text": [
            "+--------------------+-----------+------------------+\n",
            "|               Title|IMDB_Rating|IMDB_Simple_Rating|\n",
            "+--------------------+-----------+------------------+\n",
            "|      The Land Girls|        6.1|            Medium|\n",
            "|First Love, Last ...|        6.9|            Medium|\n",
            "|I Married a Stran...|        6.8|            Medium|\n",
            "|Let's Talk About Sex|       NULL|               Low|\n",
            "|                Slam|        3.4|               Low|\n",
            "| Mississippi Mermaid|       NULL|               Low|\n",
            "|           Following|        7.7|              High|\n",
            "|             Foolish|        3.8|               Low|\n",
            "|             Pirates|        5.8|            Medium|\n",
            "|     Duel in the Sun|        7.0|              High|\n",
            "+--------------------+-----------+------------------+\n",
            "only showing top 10 rows\n",
            "\n"
          ]
        }
      ]
    },
    {
      "cell_type": "markdown",
      "source": [
        "#Calculate Average IMDB Rating for Each Distributor"
      ],
      "metadata": {
        "id": "stK_vsv6-KOW"
      }
    },
    {
      "cell_type": "code",
      "source": [
        "df_Distibutor = df_movies.select(\"Title\", \"IMDB_Rating\", \"Distributor\")\n",
        "df_Distibutor = df_Distibutor.groupby('Distributor').agg(avg(col('IMDB_Rating')).alias('IMDB_AVG_Rating'))\n",
        "df_Distibutor.show(n=10)"
      ],
      "metadata": {
        "id": "rKSRpWp6-NKK",
        "outputId": "1e40aaee-62e9-4982-e5c9-3f4edd5ce76f",
        "colab": {
          "base_uri": "https://localhost:8080/"
        }
      },
      "execution_count": 18,
      "outputs": [
        {
          "output_type": "stream",
          "name": "stdout",
          "text": [
            "+--------------------+------------------+\n",
            "|         Distributor|   IMDB_AVG_Rating|\n",
            "+--------------------+------------------+\n",
            "|Oscilloscope Pict...|               6.2|\n",
            "|               Savoy| 6.533333333333334|\n",
            "|             Embassy|              NULL|\n",
            "|         Fader Films|               6.5|\n",
            "|       October Films|               6.4|\n",
            "|              Strand| 6.322222222222223|\n",
            "|             Trimark| 5.085714285714286|\n",
            "|              Matson|               7.3|\n",
            "|      Cinema Service|               7.1|\n",
            "| Weinstein/Dimension|5.7250000000000005|\n",
            "+--------------------+------------------+\n",
            "only showing top 10 rows\n",
            "\n"
          ]
        }
      ]
    },
    {
      "cell_type": "markdown",
      "source": [
        "#Stop spark"
      ],
      "metadata": {
        "id": "kekkOCfa-WV6"
      }
    },
    {
      "cell_type": "code",
      "source": [
        "spark.stop()"
      ],
      "metadata": {
        "id": "P-6k6gUJ-Xrk"
      },
      "execution_count": 19,
      "outputs": []
    }
  ]
}