{
  "cells": [
    {
      "cell_type": "markdown",
      "metadata": {
        "id": "view-in-github",
        "colab_type": "text"
      },
      "source": [
        "<a href=\"https://colab.research.google.com/github/pcamarillor/O2024_ESI3914O/blob/Lab10_Team6/Copia_de_trees.ipynb\" target=\"_parent\"><img src=\"https://colab.research.google.com/assets/colab-badge.svg\" alt=\"Open In Colab\"/></a>"
      ]
    },
    {
      "cell_type": "code",
      "execution_count": 9,
      "metadata": {
        "id": "o_HOIjKbSbdd",
        "outputId": "65e56c8d-3be7-412c-eec5-23487666331f",
        "colab": {
          "base_uri": "https://localhost:8080/"
        }
      },
      "outputs": [
        {
          "output_type": "stream",
          "name": "stdout",
          "text": [
            "Mounted at /content/drive\n"
          ]
        }
      ],
      "source": [
        "from google.colab import drive\n",
        "drive.mount('/content/drive')"
      ]
    },
    {
      "cell_type": "code",
      "source": [
        "!sudo apt update\n",
        "!apt-get install openjdk-8-jdk-headless -qq > /dev/null\n",
        "# Check this site for the latest download link\n",
        "# https://www.apache.org/dyn/closer.lua/spark\n",
        "!wget -q https://dlcdn.apache.org/spark/spark-3.5.2/spark-3.5.2-bin-hadoop3.tgz\n",
        "!tar xf spark-3.5.2-bin-hadoop3.tgz\n",
        "!pip install -q findspark\n",
        "!pip install pyspark\n",
        "!pip install py4j"
      ],
      "metadata": {
        "id": "-XD33tTpSwIy",
        "outputId": "d499e6e4-f87f-4cb2-9200-d30c94dcaec3",
        "colab": {
          "base_uri": "https://localhost:8080/"
        }
      },
      "execution_count": 10,
      "outputs": [
        {
          "output_type": "stream",
          "name": "stdout",
          "text": [
            "Get:1 https://cloud.r-project.org/bin/linux/ubuntu jammy-cran40/ InRelease [3,626 B]\n",
            "Get:2 https://developer.download.nvidia.com/compute/cuda/repos/ubuntu2204/x86_64  InRelease [1,581 B]\n",
            "Get:3 http://security.ubuntu.com/ubuntu jammy-security InRelease [129 kB]\n",
            "Ign:4 https://r2u.stat.illinois.edu/ubuntu jammy InRelease\n",
            "Get:5 https://r2u.stat.illinois.edu/ubuntu jammy Release [5,713 B]\n",
            "Hit:6 http://archive.ubuntu.com/ubuntu jammy InRelease\n",
            "Get:7 https://developer.download.nvidia.com/compute/cuda/repos/ubuntu2204/x86_64  Packages [1,103 kB]\n",
            "Get:8 https://r2u.stat.illinois.edu/ubuntu jammy Release.gpg [793 B]\n",
            "Get:9 http://archive.ubuntu.com/ubuntu jammy-updates InRelease [128 kB]\n",
            "Get:10 http://security.ubuntu.com/ubuntu jammy-security/restricted amd64 Packages [3,227 kB]\n",
            "Hit:11 https://ppa.launchpadcontent.net/deadsnakes/ppa/ubuntu jammy InRelease\n",
            "Hit:12 https://ppa.launchpadcontent.net/graphics-drivers/ppa/ubuntu jammy InRelease\n",
            "Get:13 https://r2u.stat.illinois.edu/ubuntu jammy/main amd64 Packages [2,606 kB]\n",
            "Hit:14 https://ppa.launchpadcontent.net/ubuntugis/ppa/ubuntu jammy InRelease\n",
            "Get:15 http://archive.ubuntu.com/ubuntu jammy-backports InRelease [127 kB]\n",
            "Get:16 http://security.ubuntu.com/ubuntu jammy-security/main amd64 Packages [2,389 kB]\n",
            "Get:17 http://security.ubuntu.com/ubuntu jammy-security/universe amd64 Packages [1,162 kB]\n",
            "Get:18 https://r2u.stat.illinois.edu/ubuntu jammy/main all Packages [8,430 kB]\n",
            "Get:19 http://archive.ubuntu.com/ubuntu jammy-updates/main amd64 Packages [2,665 kB]\n",
            "Get:20 http://archive.ubuntu.com/ubuntu jammy-updates/universe amd64 Packages [1,450 kB]\n",
            "Get:21 http://archive.ubuntu.com/ubuntu jammy-updates/restricted amd64 Packages [3,305 kB]\n",
            "Fetched 26.7 MB in 3s (8,445 kB/s)\n",
            "Reading package lists... Done\n",
            "Building dependency tree... Done\n",
            "Reading state information... Done\n",
            "51 packages can be upgraded. Run 'apt list --upgradable' to see them.\n",
            "\u001b[1;33mW: \u001b[0mSkipping acquire of configured file 'main/source/Sources' as repository 'https://r2u.stat.illinois.edu/ubuntu jammy InRelease' does not seem to provide it (sources.list entry misspelt?)\u001b[0m\n",
            "tar: spark-3.5.2-bin-hadoop3.tgz: Cannot open: No such file or directory\n",
            "tar: Error is not recoverable: exiting now\n",
            "Requirement already satisfied: pyspark in /usr/local/lib/python3.10/dist-packages (3.5.3)\n",
            "Requirement already satisfied: py4j==0.10.9.7 in /usr/local/lib/python3.10/dist-packages (from pyspark) (0.10.9.7)\n",
            "Requirement already satisfied: py4j in /usr/local/lib/python3.10/dist-packages (0.10.9.7)\n"
          ]
        }
      ]
    },
    {
      "cell_type": "code",
      "source": [
        "from pyspark.sql import SparkSession\n",
        "from pyspark.sql.types import StructType, StructField, FloatType, StringType, IntegerType\n",
        "from pyspark.ml.feature import VectorAssembler\n",
        "from pyspark.ml.classification import LogisticRegression\n",
        "\n",
        "# Create Spark Session in localhost\n",
        "spark = SparkSession.builder.master(\"local\").\\\n",
        "    appName(\"ITESO-LogisticRegression\").\\\n",
        "    getOrCreate()\n",
        "\n",
        "# Set spark context\n",
        "sc = spark.sparkContext\n",
        "sc.setLogLevel(\"ERROR\")\n",
        "\n",
        "iris_schema = StructType([\n",
        "    StructField(\"Id\", IntegerType(), True),\n",
        "    StructField(\"SepalLengthCm\", FloatType(), True),\n",
        "    StructField(\"SepalWidthCm\", FloatType(), True),\n",
        "    StructField(\"PetalLengthCm\", FloatType(), True),\n",
        "    StructField(\"PetalWidthCm\", FloatType(), True),\n",
        "    StructField(\"Species\", StringType(), True)\n",
        "])\n",
        "\n",
        "\n",
        "\n",
        "iris_df = spark.read.format(\"csv\").\\\n",
        "    option(\"header\", \"true\").\\\n",
        "    option(\"mode\", \"permissive\").\\\n",
        "    option(\"path\", \"/content/drive/MyDrive/Iris.csv\").\\\n",
        "    schema(iris_schema).\\\n",
        "    load()\n",
        "iris_df.printSchema()\n",
        "\n",
        "iris_df.show(n=10, truncate=False)"
      ],
      "metadata": {
        "id": "4jLvx82LS38t",
        "outputId": "302b9e89-0043-436f-e520-c51d2c782254",
        "colab": {
          "base_uri": "https://localhost:8080/"
        }
      },
      "execution_count": 11,
      "outputs": [
        {
          "output_type": "stream",
          "name": "stdout",
          "text": [
            "root\n",
            " |-- Id: integer (nullable = true)\n",
            " |-- SepalLengthCm: float (nullable = true)\n",
            " |-- SepalWidthCm: float (nullable = true)\n",
            " |-- PetalLengthCm: float (nullable = true)\n",
            " |-- PetalWidthCm: float (nullable = true)\n",
            " |-- Species: string (nullable = true)\n",
            "\n",
            "+---+-------------+------------+-------------+------------+-----------+\n",
            "|Id |SepalLengthCm|SepalWidthCm|PetalLengthCm|PetalWidthCm|Species    |\n",
            "+---+-------------+------------+-------------+------------+-----------+\n",
            "|1  |5.1          |3.5         |1.4          |0.2         |Iris-setosa|\n",
            "|2  |4.9          |3.0         |1.4          |0.2         |Iris-setosa|\n",
            "|3  |4.7          |3.2         |1.3          |0.2         |Iris-setosa|\n",
            "|4  |4.6          |3.1         |1.5          |0.2         |Iris-setosa|\n",
            "|5  |5.0          |3.6         |1.4          |0.2         |Iris-setosa|\n",
            "|6  |5.4          |3.9         |1.7          |0.4         |Iris-setosa|\n",
            "|7  |4.6          |3.4         |1.4          |0.3         |Iris-setosa|\n",
            "|8  |5.0          |3.4         |1.5          |0.2         |Iris-setosa|\n",
            "|9  |4.4          |2.9         |1.4          |0.2         |Iris-setosa|\n",
            "|10 |4.9          |3.1         |1.5          |0.1         |Iris-setosa|\n",
            "+---+-------------+------------+-------------+------------+-----------+\n",
            "only showing top 10 rows\n",
            "\n"
          ]
        }
      ]
    },
    {
      "cell_type": "code",
      "source": [
        "from pyspark.ml.feature import StringIndexer\n",
        "\n",
        "label_indexer = StringIndexer(inputCol=\"Species\", outputCol=\"label\")\n",
        "data = label_indexer.fit(iris_df).transform(iris_df)\n",
        "\n",
        "data.printSchema()"
      ],
      "metadata": {
        "id": "vFMM3u0gX_ec",
        "outputId": "6e54f943-6dcb-4a18-b508-549c5f0bf6a1",
        "colab": {
          "base_uri": "https://localhost:8080/"
        }
      },
      "execution_count": 21,
      "outputs": [
        {
          "output_type": "stream",
          "name": "stdout",
          "text": [
            "root\n",
            " |-- Id: integer (nullable = true)\n",
            " |-- SepalLengthCm: float (nullable = true)\n",
            " |-- SepalWidthCm: float (nullable = true)\n",
            " |-- PetalLengthCm: float (nullable = true)\n",
            " |-- PetalWidthCm: float (nullable = true)\n",
            " |-- Species: string (nullable = true)\n",
            " |-- label: double (nullable = false)\n",
            "\n"
          ]
        }
      ]
    },
    {
      "cell_type": "code",
      "source": [
        "# Assemble the features into a single vector column\n",
        "columns = [\"SepalLengthCm\", \"SepalWidthCm\", \"PetalLengthCm\", \"PetalWidthCm\"]\n",
        "assembler = VectorAssembler(inputCols=columns, outputCol=\"features\")\n",
        "\n",
        "data_with_features = assembler.transform(data).select(\"label\", \"features\")\n",
        "\n",
        "# Split the data: 80% training data and 20% testing data\n",
        "train, test = data_with_features.randomSplit([0.8, 0.2], seed=13)"
      ],
      "metadata": {
        "id": "wzVDa_vHVH7R"
      },
      "execution_count": 28,
      "outputs": []
    },
    {
      "cell_type": "code",
      "source": [
        "from pyspark.ml.classification import DecisionTreeClassifier\n",
        "dt = DecisionTreeClassifier(labelCol=\"label\", featuresCol=\"features\")"
      ],
      "metadata": {
        "id": "-WuxnLz1ZvVn"
      },
      "execution_count": 29,
      "outputs": []
    },
    {
      "cell_type": "code",
      "source": [
        "from pyspark.ml.evaluation import MulticlassClassificationEvaluator\n",
        "\n",
        "dt_model = dt.fit(train)\n",
        "\n",
        "predictions = dt_model.transform(test)\n",
        "\n",
        "evaluator = MulticlassClassificationEvaluator(labelCol=\"label\", predictionCol=\"prediction\")\n",
        "\n",
        "accuracy = evaluator.evaluate(predictions, {evaluator.metricName: \"accuracy\"})\n",
        "print(f\"Accuracy: {accuracy}\")\n",
        "precision = evaluator.evaluate(predictions,\n",
        "{evaluator.metricName: \"weightedPrecision\"})\n",
        "print(f\"Precision: {precision}\")\n",
        "recall = evaluator.evaluate(predictions,\n",
        "{evaluator.metricName: \"weightedRecall\"})\n",
        "print(f\"Recall: {recall}\")\n",
        "f1 = evaluator.evaluate(predictions,\n",
        "{evaluator.metricName: \"f1\"})\n",
        "print(f\"F1 Score: {f1}\")\n"
      ],
      "metadata": {
        "id": "-cUmLFijVPhJ",
        "outputId": "28c2488a-6e83-46e3-9e92-66cdbaaaedc4",
        "colab": {
          "base_uri": "https://localhost:8080/"
        }
      },
      "execution_count": 30,
      "outputs": [
        {
          "output_type": "stream",
          "name": "stdout",
          "text": [
            "Accuracy: 0.9629629629629629\n",
            "Precision: 0.9675925925925926\n",
            "Recall: 0.9629629629629629\n",
            "F1 Score: 0.9632228719948018\n"
          ]
        }
      ]
    },
    {
      "cell_type": "code",
      "source": [
        "from pyspark.ml.classification import DecisionTreeClassifier\n",
        "\n",
        "dt_model = dt.fit(train)\n",
        "# Display model summary\n",
        "print(\"Decision Tree model summary:{0}\".\\\n",
        "format(dt_model.toDebugString))\n"
      ],
      "metadata": {
        "colab": {
          "base_uri": "https://localhost:8080/"
        },
        "id": "uOSTPI9B48Ac",
        "outputId": "55df5531-b1bd-448f-e29a-ab276fae5fb8"
      },
      "execution_count": 31,
      "outputs": [
        {
          "output_type": "stream",
          "name": "stdout",
          "text": [
            "Decision Tree model summary:DecisionTreeClassificationModel: uid=DecisionTreeClassifier_906370e65fcc, depth=5, numNodes=15, numClasses=3, numFeatures=4\n",
            "  If (feature 2 <= 2.449999988079071)\n",
            "   Predict: 0.0\n",
            "  Else (feature 2 > 2.449999988079071)\n",
            "   If (feature 3 <= 1.75)\n",
            "    If (feature 2 <= 5.1499998569488525)\n",
            "     If (feature 3 <= 1.6500000357627869)\n",
            "      Predict: 1.0\n",
            "     Else (feature 3 > 1.6500000357627869)\n",
            "      If (feature 0 <= 4.950000047683716)\n",
            "       Predict: 2.0\n",
            "      Else (feature 0 > 4.950000047683716)\n",
            "       Predict: 1.0\n",
            "    Else (feature 2 > 5.1499998569488525)\n",
            "     Predict: 2.0\n",
            "   Else (feature 3 > 1.75)\n",
            "    If (feature 2 <= 4.8500001430511475)\n",
            "     If (feature 0 <= 5.950000047683716)\n",
            "      Predict: 1.0\n",
            "     Else (feature 0 > 5.950000047683716)\n",
            "      Predict: 2.0\n",
            "    Else (feature 2 > 4.8500001430511475)\n",
            "     Predict: 2.0\n",
            "\n"
          ]
        }
      ]
    }
  ],
  "metadata": {
    "language_info": {
      "name": "python"
    },
    "colab": {
      "provenance": [],
      "include_colab_link": true
    },
    "kernelspec": {
      "name": "python3",
      "display_name": "Python 3"
    }
  },
  "nbformat": 4,
  "nbformat_minor": 0
}