{
  "nbformat": 4,
  "nbformat_minor": 0,
  "metadata": {
    "colab": {
      "provenance": [],
      "authorship_tag": "ABX9TyM/5iEDnpFGfnT0aLpYZEXb",
      "include_colab_link": true
    },
    "kernelspec": {
      "name": "python3",
      "display_name": "Python 3"
    },
    "language_info": {
      "name": "python"
    }
  },
  "cells": [
    {
      "cell_type": "markdown",
      "metadata": {
        "id": "view-in-github",
        "colab_type": "text"
      },
      "source": [
        "<a href=\"https://colab.research.google.com/github/pcamarillor/O2024_ESI3914O/blob/Lab12_Team08/Lab12.ipynb\" target=\"_parent\"><img src=\"https://colab.research.google.com/assets/colab-badge.svg\" alt=\"Open In Colab\"/></a>"
      ]
    },
    {
      "cell_type": "code",
      "execution_count": 1,
      "metadata": {
        "id": "I5zho3uwUui3"
      },
      "outputs": [],
      "source": [
        "from pyspark.sql import SparkSession, functions as F\n",
        "from pyspark.sql.types import StructType, StructField, IntegerType\n",
        "from pyspark.ml.recommendation import ALS\n",
        "from pyspark.ml.evaluation import RegressionEvaluator\n",
        "\n",
        "spark = SparkSession.builder.appName(\"MovieRecommendationALS\").getOrCreate()\n",
        "\n",
        "schema = StructType([\n",
        "    StructField(\"userId\", IntegerType(), True),\n",
        "    StructField(\"movieId\", IntegerType(), True),\n",
        "    StructField(\"rating\", IntegerType(), True),\n",
        "    StructField(\"timestamp\", IntegerType(), True)\n",
        "])\n",
        "\n",
        "file_path = \"/content/sample_data/sample_movielens_ratings.txt\"\n",
        "data = spark.read.csv(file_path, sep=\"::\", schema=schema)\n",
        "\n",
        "data = data.drop(\"timestamp\")\n",
        "\n",
        "users = data.select(\"userId\").distinct()\n",
        "movies = data.select(\"movieId\").distinct()"
      ]
    },
    {
      "cell_type": "code",
      "source": [
        "rating_count = data.filter(data.rating.isNotNull()).count()\n",
        "print(\"rating count:\", rating_count)"
      ],
      "metadata": {
        "colab": {
          "base_uri": "https://localhost:8080/"
        },
        "id": "jH5Vdb1zU2Vw",
        "outputId": "fc960dd4-4605-4d0d-9be1-70004f6fa7d2"
      },
      "execution_count": 2,
      "outputs": [
        {
          "output_type": "stream",
          "name": "stdout",
          "text": [
            "rating count: 1501\n"
          ]
        }
      ]
    },
    {
      "cell_type": "code",
      "source": [
        "missing_elements = (users.count()*movies.count()) - rating_count"
      ],
      "metadata": {
        "id": "BpiTqyz7U6_W"
      },
      "execution_count": 3,
      "outputs": []
    },
    {
      "cell_type": "code",
      "source": [
        "# Build ALS model\n",
        "als = ALS(\n",
        "  userCol=\"userId\",\n",
        "  itemCol=\"movieId\",\n",
        "  ratingCol=\"rating\",\n",
        "  maxIter=10,\n",
        "  regParam=0.1,\n",
        "  rank=5, # Controls the dimensionality of the latent vector space for # users and items.\n",
        "  coldStartStrategy=\"drop\" # Avoids NaN predictions\n",
        ")\n",
        "model = als.fit(data)\n",
        "user_recommendations = model.recommendForAllUsers(numItems=missing_elements)"
      ],
      "metadata": {
        "id": "1S5lajo-U82A"
      },
      "execution_count": 4,
      "outputs": []
    },
    {
      "cell_type": "code",
      "source": [
        "# Generate predictions on the test set\n",
        "predictions = model.transform(data)\n",
        "predictions.show(truncate=False)\n",
        "# Set up evaluator to compute RMSE\n",
        "evaluator = RegressionEvaluator(metricName=\"rmse\", labelCol=\"rating\", predictionCol=\"prediction\")\n",
        "# Calculate RMSE\n",
        "rmse = evaluator.evaluate(predictions)"
      ],
      "metadata": {
        "colab": {
          "base_uri": "https://localhost:8080/"
        },
        "id": "kI6dmn2CU-HO",
        "outputId": "7630f4ff-fbc1-4c33-e37f-8e7fb80b8dd8"
      },
      "execution_count": 5,
      "outputs": [
        {
          "output_type": "stream",
          "name": "stdout",
          "text": [
            "+------+-------+------+----------+\n",
            "|userId|movieId|rating|prediction|\n",
            "+------+-------+------+----------+\n",
            "|28    |0      |3     |2.32634   |\n",
            "|28    |1      |1     |1.0017017 |\n",
            "|28    |2      |4     |3.6121683 |\n",
            "|28    |3      |1     |0.9337988 |\n",
            "|28    |6      |1     |1.05962   |\n",
            "|28    |7      |1     |1.7147777 |\n",
            "|28    |12     |5     |2.9297867 |\n",
            "|28    |13     |2     |1.7533139 |\n",
            "|28    |14     |1     |1.3806543 |\n",
            "|28    |15     |1     |0.97168183|\n",
            "|28    |17     |1     |1.2037045 |\n",
            "|28    |19     |3     |2.4436297 |\n",
            "|28    |20     |1     |1.4833806 |\n",
            "|28    |23     |3     |2.6713645 |\n",
            "|28    |24     |3     |2.3909693 |\n",
            "|28    |27     |1     |0.90194   |\n",
            "|28    |29     |1     |1.1212653 |\n",
            "|28    |33     |1     |1.1912075 |\n",
            "|28    |34     |1     |1.4464692 |\n",
            "|28    |36     |1     |1.5517595 |\n",
            "+------+-------+------+----------+\n",
            "only showing top 20 rows\n",
            "\n"
          ]
        }
      ]
    },
    {
      "cell_type": "code",
      "source": [
        "print(f\"Root-mean-square error = {rmse}\")"
      ],
      "metadata": {
        "colab": {
          "base_uri": "https://localhost:8080/"
        },
        "id": "BwNeYr5sVCok",
        "outputId": "a20d55dc-f62c-42fa-cfee-b71bf26a3109"
      },
      "execution_count": 6,
      "outputs": [
        {
          "output_type": "stream",
          "name": "stdout",
          "text": [
            "Root-mean-square error = 0.6011524942030569\n"
          ]
        }
      ]
    }
  ]
}