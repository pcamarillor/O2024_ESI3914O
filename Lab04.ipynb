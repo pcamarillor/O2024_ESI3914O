{
  "cells": [
    {
      "cell_type": "markdown",
      "metadata": {
        "colab_type": "text",
        "id": "view-in-github"
      },
      "source": [
        "<a href=\"https://colab.research.google.com/github/pcamarillor/O2024_ESI3914O/blob/team8_lab04/Lab04.ipynb\" target=\"_parent\"><img src=\"https://colab.research.google.com/assets/colab-badge.svg\" alt=\"Open In Colab\"/></a>"
      ]
    },
    {
      "cell_type": "code",
      "execution_count": 1,
      "metadata": {
        "id": "7lg7-jdS8l2S"
      },
      "outputs": [],
      "source": [
        "from pyspark.sql import SparkSession"
      ]
    },
    {
      "cell_type": "code",
      "execution_count": 4,
      "metadata": {},
      "outputs": [
        {
          "name": "stderr",
          "output_type": "stream",
          "text": [
            "                                                                                \r"
          ]
        }
      ],
      "source": [
        "spark = SparkSession.builder.appName(\"Movies-Activity\").getOrCreate()\n",
        "\n",
        "df_movies = spark.read \\\n",
        "            .option(\"inferSchema\", \"true\") \\\n",
        "            .json(\"datasets/movies.json\")"
      ]
    },
    {
      "cell_type": "code",
      "execution_count": 5,
      "metadata": {},
      "outputs": [
        {
          "name": "stdout",
          "output_type": "stream",
          "text": [
            "+--------------------+-----------------+--------------+-----------+----------+-----------+-----------+-----------------+------------+----------------------+----------------+-------------------+--------------------+------------+--------+---------------+\n",
            "|       Creative_Type|         Director|   Distributor|IMDB_Rating|IMDB_Votes|MPAA_Rating|Major_Genre|Production_Budget|Release_Date|Rotten_Tomatoes_Rating|Running_Time_min|             Source|               Title|US_DVD_Sales|US_Gross|Worldwide_Gross|\n",
            "+--------------------+-----------------+--------------+-----------+----------+-----------+-----------+-----------------+------------+----------------------+----------------+-------------------+--------------------+------------+--------+---------------+\n",
            "|                NULL|             NULL|      Gramercy|        6.1|      1071|          R|       NULL|          8000000|   12-Jun-98|                  NULL|            NULL|               NULL|      The Land Girls|        NULL|  146083|         146083|\n",
            "|                NULL|             NULL|        Strand|        6.9|       207|          R|      Drama|           300000|    7-Aug-98|                  NULL|            NULL|               NULL|First Love, Last ...|        NULL|   10876|          10876|\n",
            "|                NULL|             NULL|     Lionsgate|        6.8|       865|       NULL|     Comedy|           250000|   28-Aug-98|                  NULL|            NULL|               NULL|I Married a Stran...|        NULL|  203134|         203134|\n",
            "|                NULL|             NULL|     Fine Line|       NULL|      NULL|       NULL|     Comedy|           300000|   11-Sep-98|                    13|            NULL|               NULL|Let's Talk About Sex|        NULL|  373615|         373615|\n",
            "|Contemporary Fiction|             NULL|       Trimark|        3.4|       165|          R|      Drama|          1000000|    9-Oct-98|                    62|            NULL|Original Screenplay|                Slam|        NULL| 1009819|        1087521|\n",
            "|                NULL|             NULL|           MGM|       NULL|      NULL|       NULL|       NULL|          1600000|   15-Jan-99|                  NULL|            NULL|               NULL| Mississippi Mermaid|        NULL|   24551|        2624551|\n",
            "|                NULL|Christopher Nolan|     Zeitgeist|        7.7|     15133|          R|       NULL|             6000|    4-Apr-99|                  NULL|            NULL|               NULL|           Following|        NULL|   44705|          44705|\n",
            "|Contemporary Fiction|             NULL|       Artisan|        3.8|       353|          R|     Comedy|          1600000|    9-Apr-99|                  NULL|            NULL|Original Screenplay|             Foolish|        NULL| 6026908|        6026908|\n",
            "|                NULL|   Roman Polanski|          NULL|        5.8|      3275|          R|       NULL|         40000000|    1-Jul-86|                    25|            NULL|               NULL|             Pirates|        NULL| 1641825|        6341825|\n",
            "|                NULL|             NULL|          NULL|        7.0|      2906|       NULL|       NULL|          6000000|   31-Dec-46|                    86|            NULL|               NULL|     Duel in the Sun|        NULL|20400000|       20400000|\n",
            "|                NULL|             NULL|          NULL|        7.0|      4035|       NULL|       NULL|          1000000|    7-Oct-63|                    81|            NULL|               NULL|           Tom Jones|        NULL|37600000|       37600000|\n",
            "|                NULL|             NULL| Sony Pictures|        7.5|      9111|       NULL|    Musical|         10000000|   11-Dec-68|                    84|            NULL|               NULL|             Oliver!|        NULL|37402877|       37402877|\n",
            "|                NULL|             NULL|     Universal|        8.4|     82786|       NULL|       NULL|          2000000|   25-Dec-62|                    97|            NULL|               NULL|To Kill A Mocking...|        NULL|13129846|       13129846|\n",
            "|                NULL|Richard Fleischer|          NULL|       NULL|      NULL|       NULL|       NULL|         25000000|   23-Sep-70|                  NULL|            NULL|               NULL|    Tora, Tora, Tora|        NULL|29548291|       29548291|\n",
            "|                NULL|             NULL|          NULL|        6.8|      1532|       NULL|       NULL|           100000|    1-Mar-87|                    87|            NULL|               NULL|   Hollywood Shuffle|        NULL| 5228617|        5228617|\n",
            "|                NULL|             NULL|          NULL|       NULL|      NULL|       NULL|       NULL|           100000|   17-Sep-20|                  NULL|            NULL|               NULL|Over the Hill to ...|        NULL| 3000000|        3000000|\n",
            "|                NULL|             NULL|          NULL|        7.0|       451|       NULL|       NULL|          5200000|    1-Aug-44|                  NULL|            NULL|               NULL|              Wilson|        NULL| 2000000|        2000000|\n",
            "|                NULL|    Blake Edwards|          NULL|        6.1|       858|       NULL|       NULL|         22000000|    1-Jan-70|                  NULL|            NULL|               NULL|        Darling Lili|        NULL| 5000000|        5000000|\n",
            "|                NULL|             NULL|          NULL|        2.5|      1677|       NULL|       NULL|         13500000|    5-Oct-56|                    90|            NULL|               NULL|The Ten Commandments|        NULL|80000000|       80000000|\n",
            "|                NULL|     Sidney Lumet|United Artists|        8.9|    119101|       NULL|      Drama|           340000|   13-Apr-57|                  NULL|            NULL|Original Screenplay|        12 Angry Men|        NULL|       0|              0|\n",
            "+--------------------+-----------------+--------------+-----------+----------+-----------+-----------+-----------------+------------+----------------------+----------------+-------------------+--------------------+------------+--------+---------------+\n",
            "only showing top 20 rows\n",
            "\n"
          ]
        }
      ],
      "source": [
        "df_movies.show()"
      ]
    },
    {
      "cell_type": "code",
      "execution_count": 6,
      "metadata": {},
      "outputs": [],
      "source": [
        "df_solution_1 = df_movies.withColumn('ProfitMargin',\n",
        " (df_movies['Worldwide_Gross']-df_movies['Production_Budget']) / df_movies['Production_Budget'])"
      ]
    },
    {
      "cell_type": "code",
      "execution_count": 7,
      "metadata": {},
      "outputs": [
        {
          "name": "stdout",
          "output_type": "stream",
          "text": [
            "+--------------------+-----------------+--------------+-----------+----------+-----------+-----------+-----------------+------------+----------------------+----------------+-------------------+--------------------+------------+--------+---------------+-------------------+\n",
            "|       Creative_Type|         Director|   Distributor|IMDB_Rating|IMDB_Votes|MPAA_Rating|Major_Genre|Production_Budget|Release_Date|Rotten_Tomatoes_Rating|Running_Time_min|             Source|               Title|US_DVD_Sales|US_Gross|Worldwide_Gross|       ProfitMargin|\n",
            "+--------------------+-----------------+--------------+-----------+----------+-----------+-----------+-----------------+------------+----------------------+----------------+-------------------+--------------------+------------+--------+---------------+-------------------+\n",
            "|                NULL|             NULL|      Gramercy|        6.1|      1071|          R|       NULL|          8000000|   12-Jun-98|                  NULL|            NULL|               NULL|      The Land Girls|        NULL|  146083|         146083|       -0.981739625|\n",
            "|                NULL|             NULL|        Strand|        6.9|       207|          R|      Drama|           300000|    7-Aug-98|                  NULL|            NULL|               NULL|First Love, Last ...|        NULL|   10876|          10876|-0.9637466666666666|\n",
            "|                NULL|             NULL|     Lionsgate|        6.8|       865|       NULL|     Comedy|           250000|   28-Aug-98|                  NULL|            NULL|               NULL|I Married a Stran...|        NULL|  203134|         203134|          -0.187464|\n",
            "|                NULL|             NULL|     Fine Line|       NULL|      NULL|       NULL|     Comedy|           300000|   11-Sep-98|                    13|            NULL|               NULL|Let's Talk About Sex|        NULL|  373615|         373615|0.24538333333333334|\n",
            "|Contemporary Fiction|             NULL|       Trimark|        3.4|       165|          R|      Drama|          1000000|    9-Oct-98|                    62|            NULL|Original Screenplay|                Slam|        NULL| 1009819|        1087521|           0.087521|\n",
            "|                NULL|             NULL|           MGM|       NULL|      NULL|       NULL|       NULL|          1600000|   15-Jan-99|                  NULL|            NULL|               NULL| Mississippi Mermaid|        NULL|   24551|        2624551|        0.640344375|\n",
            "|                NULL|Christopher Nolan|     Zeitgeist|        7.7|     15133|          R|       NULL|             6000|    4-Apr-99|                  NULL|            NULL|               NULL|           Following|        NULL|   44705|          44705|  6.450833333333334|\n",
            "|Contemporary Fiction|             NULL|       Artisan|        3.8|       353|          R|     Comedy|          1600000|    9-Apr-99|                  NULL|            NULL|Original Screenplay|             Foolish|        NULL| 6026908|        6026908|          2.7668175|\n",
            "|                NULL|   Roman Polanski|          NULL|        5.8|      3275|          R|       NULL|         40000000|    1-Jul-86|                    25|            NULL|               NULL|             Pirates|        NULL| 1641825|        6341825|       -0.841454375|\n",
            "|                NULL|             NULL|          NULL|        7.0|      2906|       NULL|       NULL|          6000000|   31-Dec-46|                    86|            NULL|               NULL|     Duel in the Sun|        NULL|20400000|       20400000|                2.4|\n",
            "|                NULL|             NULL|          NULL|        7.0|      4035|       NULL|       NULL|          1000000|    7-Oct-63|                    81|            NULL|               NULL|           Tom Jones|        NULL|37600000|       37600000|               36.6|\n",
            "|                NULL|             NULL| Sony Pictures|        7.5|      9111|       NULL|    Musical|         10000000|   11-Dec-68|                    84|            NULL|               NULL|             Oliver!|        NULL|37402877|       37402877|          2.7402877|\n",
            "|                NULL|             NULL|     Universal|        8.4|     82786|       NULL|       NULL|          2000000|   25-Dec-62|                    97|            NULL|               NULL|To Kill A Mocking...|        NULL|13129846|       13129846|           5.564923|\n",
            "|                NULL|Richard Fleischer|          NULL|       NULL|      NULL|       NULL|       NULL|         25000000|   23-Sep-70|                  NULL|            NULL|               NULL|    Tora, Tora, Tora|        NULL|29548291|       29548291|         0.18193164|\n",
            "|                NULL|             NULL|          NULL|        6.8|      1532|       NULL|       NULL|           100000|    1-Mar-87|                    87|            NULL|               NULL|   Hollywood Shuffle|        NULL| 5228617|        5228617|           51.28617|\n",
            "|                NULL|             NULL|          NULL|       NULL|      NULL|       NULL|       NULL|           100000|   17-Sep-20|                  NULL|            NULL|               NULL|Over the Hill to ...|        NULL| 3000000|        3000000|               29.0|\n",
            "|                NULL|             NULL|          NULL|        7.0|       451|       NULL|       NULL|          5200000|    1-Aug-44|                  NULL|            NULL|               NULL|              Wilson|        NULL| 2000000|        2000000|-0.6153846153846154|\n",
            "|                NULL|    Blake Edwards|          NULL|        6.1|       858|       NULL|       NULL|         22000000|    1-Jan-70|                  NULL|            NULL|               NULL|        Darling Lili|        NULL| 5000000|        5000000|-0.7727272727272727|\n",
            "|                NULL|             NULL|          NULL|        2.5|      1677|       NULL|       NULL|         13500000|    5-Oct-56|                    90|            NULL|               NULL|The Ten Commandments|        NULL|80000000|       80000000|  4.925925925925926|\n",
            "|                NULL|     Sidney Lumet|United Artists|        8.9|    119101|       NULL|      Drama|           340000|   13-Apr-57|                  NULL|            NULL|Original Screenplay|        12 Angry Men|        NULL|       0|              0|               -1.0|\n",
            "+--------------------+-----------------+--------------+-----------+----------+-----------+-----------+-----------------+------------+----------------------+----------------+-------------------+--------------------+------------+--------+---------------+-------------------+\n",
            "only showing top 20 rows\n",
            "\n"
          ]
        }
      ],
      "source": [
        "df_solution_1.show()"
      ]
    },
    {
      "cell_type": "code",
      "execution_count": 8,
      "metadata": {},
      "outputs": [],
      "source": [
        "from pyspark.sql.functions import when\n",
        "df_solution_2 = df_movies.withColumn('Box_Office_Hit', when(df_movies['Worldwide_Gross'] > 2 * df_movies['Production_Budget'], \"Hit\").otherwise(\"Flop\"))"
      ]
    },
    {
      "cell_type": "code",
      "execution_count": 9,
      "metadata": {},
      "outputs": [
        {
          "name": "stdout",
          "output_type": "stream",
          "text": [
            "+--------------------+-----------------+--------------+-----------+----------+-----------+-----------+-----------------+------------+----------------------+----------------+-------------------+--------------------+------------+--------+---------------+--------------+\n",
            "|       Creative_Type|         Director|   Distributor|IMDB_Rating|IMDB_Votes|MPAA_Rating|Major_Genre|Production_Budget|Release_Date|Rotten_Tomatoes_Rating|Running_Time_min|             Source|               Title|US_DVD_Sales|US_Gross|Worldwide_Gross|Box_Office_Hit|\n",
            "+--------------------+-----------------+--------------+-----------+----------+-----------+-----------+-----------------+------------+----------------------+----------------+-------------------+--------------------+------------+--------+---------------+--------------+\n",
            "|                NULL|             NULL|      Gramercy|        6.1|      1071|          R|       NULL|          8000000|   12-Jun-98|                  NULL|            NULL|               NULL|      The Land Girls|        NULL|  146083|         146083|          Flop|\n",
            "|                NULL|             NULL|        Strand|        6.9|       207|          R|      Drama|           300000|    7-Aug-98|                  NULL|            NULL|               NULL|First Love, Last ...|        NULL|   10876|          10876|          Flop|\n",
            "|                NULL|             NULL|     Lionsgate|        6.8|       865|       NULL|     Comedy|           250000|   28-Aug-98|                  NULL|            NULL|               NULL|I Married a Stran...|        NULL|  203134|         203134|          Flop|\n",
            "|                NULL|             NULL|     Fine Line|       NULL|      NULL|       NULL|     Comedy|           300000|   11-Sep-98|                    13|            NULL|               NULL|Let's Talk About Sex|        NULL|  373615|         373615|          Flop|\n",
            "|Contemporary Fiction|             NULL|       Trimark|        3.4|       165|          R|      Drama|          1000000|    9-Oct-98|                    62|            NULL|Original Screenplay|                Slam|        NULL| 1009819|        1087521|          Flop|\n",
            "|                NULL|             NULL|           MGM|       NULL|      NULL|       NULL|       NULL|          1600000|   15-Jan-99|                  NULL|            NULL|               NULL| Mississippi Mermaid|        NULL|   24551|        2624551|          Flop|\n",
            "|                NULL|Christopher Nolan|     Zeitgeist|        7.7|     15133|          R|       NULL|             6000|    4-Apr-99|                  NULL|            NULL|               NULL|           Following|        NULL|   44705|          44705|           Hit|\n",
            "|Contemporary Fiction|             NULL|       Artisan|        3.8|       353|          R|     Comedy|          1600000|    9-Apr-99|                  NULL|            NULL|Original Screenplay|             Foolish|        NULL| 6026908|        6026908|           Hit|\n",
            "|                NULL|   Roman Polanski|          NULL|        5.8|      3275|          R|       NULL|         40000000|    1-Jul-86|                    25|            NULL|               NULL|             Pirates|        NULL| 1641825|        6341825|          Flop|\n",
            "|                NULL|             NULL|          NULL|        7.0|      2906|       NULL|       NULL|          6000000|   31-Dec-46|                    86|            NULL|               NULL|     Duel in the Sun|        NULL|20400000|       20400000|           Hit|\n",
            "|                NULL|             NULL|          NULL|        7.0|      4035|       NULL|       NULL|          1000000|    7-Oct-63|                    81|            NULL|               NULL|           Tom Jones|        NULL|37600000|       37600000|           Hit|\n",
            "|                NULL|             NULL| Sony Pictures|        7.5|      9111|       NULL|    Musical|         10000000|   11-Dec-68|                    84|            NULL|               NULL|             Oliver!|        NULL|37402877|       37402877|           Hit|\n",
            "|                NULL|             NULL|     Universal|        8.4|     82786|       NULL|       NULL|          2000000|   25-Dec-62|                    97|            NULL|               NULL|To Kill A Mocking...|        NULL|13129846|       13129846|           Hit|\n",
            "|                NULL|Richard Fleischer|          NULL|       NULL|      NULL|       NULL|       NULL|         25000000|   23-Sep-70|                  NULL|            NULL|               NULL|    Tora, Tora, Tora|        NULL|29548291|       29548291|          Flop|\n",
            "|                NULL|             NULL|          NULL|        6.8|      1532|       NULL|       NULL|           100000|    1-Mar-87|                    87|            NULL|               NULL|   Hollywood Shuffle|        NULL| 5228617|        5228617|           Hit|\n",
            "|                NULL|             NULL|          NULL|       NULL|      NULL|       NULL|       NULL|           100000|   17-Sep-20|                  NULL|            NULL|               NULL|Over the Hill to ...|        NULL| 3000000|        3000000|           Hit|\n",
            "|                NULL|             NULL|          NULL|        7.0|       451|       NULL|       NULL|          5200000|    1-Aug-44|                  NULL|            NULL|               NULL|              Wilson|        NULL| 2000000|        2000000|          Flop|\n",
            "|                NULL|    Blake Edwards|          NULL|        6.1|       858|       NULL|       NULL|         22000000|    1-Jan-70|                  NULL|            NULL|               NULL|        Darling Lili|        NULL| 5000000|        5000000|          Flop|\n",
            "|                NULL|             NULL|          NULL|        2.5|      1677|       NULL|       NULL|         13500000|    5-Oct-56|                    90|            NULL|               NULL|The Ten Commandments|        NULL|80000000|       80000000|           Hit|\n",
            "|                NULL|     Sidney Lumet|United Artists|        8.9|    119101|       NULL|      Drama|           340000|   13-Apr-57|                  NULL|            NULL|Original Screenplay|        12 Angry Men|        NULL|       0|              0|          Flop|\n",
            "+--------------------+-----------------+--------------+-----------+----------+-----------+-----------+-----------------+------------+----------------------+----------------+-------------------+--------------------+------------+--------+---------------+--------------+\n",
            "only showing top 20 rows\n",
            "\n"
          ]
        }
      ],
      "source": [
        "df_solution_2.show()"
      ]
    },
    {
      "cell_type": "code",
      "execution_count": 10,
      "metadata": {},
      "outputs": [
        {
          "name": "stdout",
          "output_type": "stream",
          "text": [
            "+------------------------------+------------+----------------------+------------+\n",
            "|Title                         |Release_Date|Release_Date_Formatted|Release_Year|\n",
            "+------------------------------+------------+----------------------+------------+\n",
            "|The Land Girls                |12-Jun-98   |2098-06-12            |1998        |\n",
            "|First Love, Last Rites        |7-Aug-98    |2098-08-07            |1998        |\n",
            "|I Married a Strange Person    |28-Aug-98   |2098-08-28            |1998        |\n",
            "|Let's Talk About Sex          |11-Sep-98   |2098-09-11            |1998        |\n",
            "|Slam                          |9-Oct-98    |2098-10-09            |1998        |\n",
            "|Mississippi Mermaid           |15-Jan-99   |2099-01-15            |1999        |\n",
            "|Following                     |4-Apr-99    |2099-04-04            |1999        |\n",
            "|Foolish                       |9-Apr-99    |2099-04-09            |1999        |\n",
            "|Pirates                       |1-Jul-86    |2086-07-01            |1986        |\n",
            "|Duel in the Sun               |31-Dec-46   |2046-12-31            |1946        |\n",
            "|Tom Jones                     |7-Oct-63    |2063-10-07            |1963        |\n",
            "|Oliver!                       |11-Dec-68   |2068-12-11            |1968        |\n",
            "|To Kill A Mockingbird         |25-Dec-62   |2062-12-25            |1962        |\n",
            "|Tora, Tora, Tora              |23-Sep-70   |2070-09-23            |1970        |\n",
            "|Hollywood Shuffle             |1-Mar-87    |2087-03-01            |1987        |\n",
            "|Over the Hill to the Poorhouse|17-Sep-20   |2020-09-17            |1920        |\n",
            "|Wilson                        |1-Aug-44    |2044-08-01            |1944        |\n",
            "|Darling Lili                  |1-Jan-70    |2070-01-01            |1970        |\n",
            "|The Ten Commandments          |5-Oct-56    |2056-10-05            |1956        |\n",
            "|12 Angry Men                  |13-Apr-57   |2057-04-13            |1957        |\n",
            "+------------------------------+------------+----------------------+------------+\n",
            "only showing top 20 rows\n",
            "\n"
          ]
        }
      ],
      "source": [
        "from pyspark.sql.functions import when, col, to_date, year\n",
        "df_movies = df_movies.withColumn(\"Release_Date_Formatted\", \n",
        "    when(col(\"Release_Date\").rlike(r'^[0-9]{2}-[A-Za-z]{3}-[0-9]{2}$'), to_date(col(\"Release_Date\"), \"dd-MMM-yy\"))\n",
        "    .when(col(\"Release_Date\").rlike(r'^[0-9]{1}-[A-Za-z]{3}-[0-9]{2}$'), to_date(col(\"Release_Date\"), \"d-MMM-yy\"))\n",
        "    .when(col(\"Release_Date\").rlike(r'^\\d{4}-\\d{2}-\\d{2}$'), to_date(col(\"Release_Date\"), \"yyyy-MM-dd\"))\n",
        "    .when(col(\"Release_Date\").rlike(r'^\\d{2}/\\d{2}/\\d{2}$'), to_date(col(\"Release_Date\"), \"MM/dd/yy\"))\n",
        "    .otherwise(None)\n",
        ")\n",
        "\n",
        "df_movies = df_movies.withColumn(\"Release_Year\", \n",
        "    when(year(col(\"Release_Date_Formatted\")) > 2000, year(col(\"Release_Date_Formatted\")) - 100)\n",
        "    .otherwise(year(col(\"Release_Date_Formatted\")))\n",
        ")\n",
        "\n",
        "df_movies.select(\"Title\", \"Release_Date\", \"Release_Date_Formatted\", \"Release_Year\").show(truncate=False)"
      ]
    },
    {
      "cell_type": "code",
      "execution_count": 11,
      "metadata": {},
      "outputs": [
        {
          "name": "stdout",
          "output_type": "stream",
          "text": [
            "+--------------------+-----------------+--------------+-----------+----------+-----------+-----------+-----------------+------------+----------------------+----------------+-------------------+--------------------+------------+--------+---------------+----------------------+------------+--------------------+\n",
            "|       Creative_Type|         Director|   Distributor|IMDB_Rating|IMDB_Votes|MPAA_Rating|Major_Genre|Production_Budget|Release_Date|Rotten_Tomatoes_Rating|Running_Time_min|             Source|               Title|US_DVD_Sales|US_Gross|Worldwide_Gross|Release_Date_Formatted|Release_Year|IMDB_Rating_Category|\n",
            "+--------------------+-----------------+--------------+-----------+----------+-----------+-----------+-----------------+------------+----------------------+----------------+-------------------+--------------------+------------+--------+---------------+----------------------+------------+--------------------+\n",
            "|                NULL|             NULL|      Gramercy|        6.1|      1071|          R|       NULL|          8000000|   12-Jun-98|                  NULL|            NULL|               NULL|      The Land Girls|        NULL|  146083|         146083|            2098-06-12|        1998|              Medium|\n",
            "|                NULL|             NULL|        Strand|        6.9|       207|          R|      Drama|           300000|    7-Aug-98|                  NULL|            NULL|               NULL|First Love, Last ...|        NULL|   10876|          10876|            2098-08-07|        1998|              Medium|\n",
            "|                NULL|             NULL|     Lionsgate|        6.8|       865|       NULL|     Comedy|           250000|   28-Aug-98|                  NULL|            NULL|               NULL|I Married a Stran...|        NULL|  203134|         203134|            2098-08-28|        1998|              Medium|\n",
            "|                NULL|             NULL|     Fine Line|       NULL|      NULL|       NULL|     Comedy|           300000|   11-Sep-98|                    13|            NULL|               NULL|Let's Talk About Sex|        NULL|  373615|         373615|            2098-09-11|        1998|              Medium|\n",
            "|Contemporary Fiction|             NULL|       Trimark|        3.4|       165|          R|      Drama|          1000000|    9-Oct-98|                    62|            NULL|Original Screenplay|                Slam|        NULL| 1009819|        1087521|            2098-10-09|        1998|                 Low|\n",
            "|                NULL|             NULL|           MGM|       NULL|      NULL|       NULL|       NULL|          1600000|   15-Jan-99|                  NULL|            NULL|               NULL| Mississippi Mermaid|        NULL|   24551|        2624551|            2099-01-15|        1999|              Medium|\n",
            "|                NULL|Christopher Nolan|     Zeitgeist|        7.7|     15133|          R|       NULL|             6000|    4-Apr-99|                  NULL|            NULL|               NULL|           Following|        NULL|   44705|          44705|            2099-04-04|        1999|                High|\n",
            "|Contemporary Fiction|             NULL|       Artisan|        3.8|       353|          R|     Comedy|          1600000|    9-Apr-99|                  NULL|            NULL|Original Screenplay|             Foolish|        NULL| 6026908|        6026908|            2099-04-09|        1999|                 Low|\n",
            "|                NULL|   Roman Polanski|          NULL|        5.8|      3275|          R|       NULL|         40000000|    1-Jul-86|                    25|            NULL|               NULL|             Pirates|        NULL| 1641825|        6341825|            2086-07-01|        1986|              Medium|\n",
            "|                NULL|             NULL|          NULL|        7.0|      2906|       NULL|       NULL|          6000000|   31-Dec-46|                    86|            NULL|               NULL|     Duel in the Sun|        NULL|20400000|       20400000|            2046-12-31|        1946|                High|\n",
            "|                NULL|             NULL|          NULL|        7.0|      4035|       NULL|       NULL|          1000000|    7-Oct-63|                    81|            NULL|               NULL|           Tom Jones|        NULL|37600000|       37600000|            2063-10-07|        1963|                High|\n",
            "|                NULL|             NULL| Sony Pictures|        7.5|      9111|       NULL|    Musical|         10000000|   11-Dec-68|                    84|            NULL|               NULL|             Oliver!|        NULL|37402877|       37402877|            2068-12-11|        1968|                High|\n",
            "|                NULL|             NULL|     Universal|        8.4|     82786|       NULL|       NULL|          2000000|   25-Dec-62|                    97|            NULL|               NULL|To Kill A Mocking...|        NULL|13129846|       13129846|            2062-12-25|        1962|                High|\n",
            "|                NULL|Richard Fleischer|          NULL|       NULL|      NULL|       NULL|       NULL|         25000000|   23-Sep-70|                  NULL|            NULL|               NULL|    Tora, Tora, Tora|        NULL|29548291|       29548291|            2070-09-23|        1970|              Medium|\n",
            "|                NULL|             NULL|          NULL|        6.8|      1532|       NULL|       NULL|           100000|    1-Mar-87|                    87|            NULL|               NULL|   Hollywood Shuffle|        NULL| 5228617|        5228617|            2087-03-01|        1987|              Medium|\n",
            "|                NULL|             NULL|          NULL|       NULL|      NULL|       NULL|       NULL|           100000|   17-Sep-20|                  NULL|            NULL|               NULL|Over the Hill to ...|        NULL| 3000000|        3000000|            2020-09-17|        1920|              Medium|\n",
            "|                NULL|             NULL|          NULL|        7.0|       451|       NULL|       NULL|          5200000|    1-Aug-44|                  NULL|            NULL|               NULL|              Wilson|        NULL| 2000000|        2000000|            2044-08-01|        1944|                High|\n",
            "|                NULL|    Blake Edwards|          NULL|        6.1|       858|       NULL|       NULL|         22000000|    1-Jan-70|                  NULL|            NULL|               NULL|        Darling Lili|        NULL| 5000000|        5000000|            2070-01-01|        1970|              Medium|\n",
            "|                NULL|             NULL|          NULL|        2.5|      1677|       NULL|       NULL|         13500000|    5-Oct-56|                    90|            NULL|               NULL|The Ten Commandments|        NULL|80000000|       80000000|            2056-10-05|        1956|                 Low|\n",
            "|                NULL|     Sidney Lumet|United Artists|        8.9|    119101|       NULL|      Drama|           340000|   13-Apr-57|                  NULL|            NULL|Original Screenplay|        12 Angry Men|        NULL|       0|              0|            2057-04-13|        1957|                High|\n",
            "+--------------------+-----------------+--------------+-----------+----------+-----------+-----------+-----------------+------------+----------------------+----------------+-------------------+--------------------+------------+--------+---------------+----------------------+------------+--------------------+\n",
            "only showing top 20 rows\n",
            "\n"
          ]
        }
      ],
      "source": [
        "from pyspark.sql.functions import when\n",
        "import pyspark.sql.functions as F \n",
        "# Number 4\n",
        "df_4 = df_movies.withColumn(\"IMDB_Rating_Category\",\n",
        "                            when(df_movies[\"IMDB_Rating\"] >= 7.0, \"High\")\\\n",
        "                            .when(df_movies[\"IMDB_Rating\"] < 5.0, \"Low\")\\\n",
        "                            .otherwise(\"Medium\"))\n",
        "\n",
        "df_4.show()"
      ]
    },
    {
      "cell_type": "code",
      "execution_count": 13,
      "metadata": {},
      "outputs": [
        {
          "name": "stdout",
          "output_type": "stream",
          "text": [
            "+--------------------+------------------+\n",
            "|         Distributor|  avg(IMDB_Rating)|\n",
            "+--------------------+------------------+\n",
            "|Oscilloscope Pict...|               6.2|\n",
            "|               Savoy| 6.533333333333334|\n",
            "|             Embassy|              NULL|\n",
            "|         Fader Films|               6.5|\n",
            "|       October Films|               6.4|\n",
            "|              Strand| 6.322222222222223|\n",
            "|             Trimark| 5.085714285714286|\n",
            "|              Matson|               7.3|\n",
            "|      Cinema Service|               7.1|\n",
            "| Weinstein/Dimension|5.7250000000000005|\n",
            "|Providence Entert...|               3.3|\n",
            "|      Big Fat Movies|               3.2|\n",
            "|     Newmarket Films|7.4142857142857155|\n",
            "|    First Run/Icarus|              NULL|\n",
            "|  Cloud Ten Pictures|               5.0|\n",
            "|   Outrider Pictures|               7.0|\n",
            "|     Slowhand Cinema|               5.3|\n",
            "|   Paramount Vantage|               7.2|\n",
            "|   Magnolia Pictures|            6.4625|\n",
            "|  Kino International|6.0200000000000005|\n",
            "+--------------------+------------------+\n",
            "only showing top 20 rows\n",
            "\n"
          ]
        }
      ],
      "source": [
        "import pyspark.sql.functions as F \n",
        "# Number 5\n",
        "df_5 = df_movies.groupBy(\"Distributor\").agg(F.avg(\"IMDB_Rating\"))\n",
        "\n",
        "df_5.show()"
      ]
    }
  ],
  "metadata": {
    "colab": {
      "authorship_tag": "ABX9TyPj6lKwFPXnCwck6OXI+6Dw",
      "include_colab_link": true,
      "provenance": []
    },
    "kernelspec": {
      "display_name": "Python 3",
      "name": "python3"
    },
    "language_info": {
      "codemirror_mode": {
        "name": "ipython",
        "version": 3
      },
      "file_extension": ".py",
      "mimetype": "text/x-python",
      "name": "python",
      "nbconvert_exporter": "python",
      "pygments_lexer": "ipython3",
      "version": "3.10.12"
    }
  },
  "nbformat": 4,
  "nbformat_minor": 0
}
