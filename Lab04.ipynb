{
  "nbformat": 4,
  "nbformat_minor": 0,
  "metadata": {
    "colab": {
      "provenance": [],
      "authorship_tag": "ABX9TyOqAKzDzetkw1fSFviitryP",
      "include_colab_link": true
    },
    "kernelspec": {
      "name": "python3",
      "display_name": "Python 3"
    },
    "language_info": {
      "name": "python"
    }
  },
  "cells": [
    {
      "cell_type": "markdown",
      "metadata": {
        "id": "view-in-github",
        "colab_type": "text"
      },
      "source": [
        "<a href=\"https://colab.research.google.com/github/pcamarillor/O2024_ESI3914O/blob/FranciscoFlores_Ramon_Alvarez_Lab04/Lab04.ipynb\" target=\"_parent\"><img src=\"https://colab.research.google.com/assets/colab-badge.svg\" alt=\"Open In Colab\"/></a>"
      ]
    },
    {
      "cell_type": "code",
      "execution_count": 1,
      "metadata": {
        "colab": {
          "base_uri": "https://localhost:8080/"
        },
        "id": "-4q7EP2754JN",
        "outputId": "8c76a8b7-a1e7-4eaa-ac62-ead737118a6a"
      },
      "outputs": [
        {
          "output_type": "stream",
          "name": "stdout",
          "text": [
            "\u001b[33m\r0% [Working]\u001b[0m\r            \rGet:1 https://cloud.r-project.org/bin/linux/ubuntu jammy-cran40/ InRelease [3,626 B]\n",
            "\u001b[33m\r0% [Waiting for headers] [Waiting for headers] [1 InRelease 3,626 B/3,626 B 100\u001b[0m\u001b[33m\r0% [Waiting for headers] [Waiting for headers] [Connected to r2u.stat.illinois.\u001b[0m\r                                                                               \rGet:2 https://developer.download.nvidia.com/compute/cuda/repos/ubuntu2204/x86_64  InRelease [1,581 B]\n",
            "\u001b[33m\r0% [Waiting for headers] [Waiting for headers] [Waiting for headers] [Connected\u001b[0m\r                                                                               \rHit:3 http://archive.ubuntu.com/ubuntu jammy InRelease\n",
            "Get:4 http://security.ubuntu.com/ubuntu jammy-security InRelease [129 kB]\n",
            "Ign:5 https://r2u.stat.illinois.edu/ubuntu jammy InRelease\n",
            "Get:6 https://r2u.stat.illinois.edu/ubuntu jammy Release [5,713 B]\n",
            "Get:7 https://r2u.stat.illinois.edu/ubuntu jammy Release.gpg [793 B]\n",
            "Get:8 http://archive.ubuntu.com/ubuntu jammy-updates InRelease [128 kB]\n",
            "Get:9 https://developer.download.nvidia.com/compute/cuda/repos/ubuntu2204/x86_64  Packages [999 kB]\n",
            "Hit:10 https://ppa.launchpadcontent.net/deadsnakes/ppa/ubuntu jammy InRelease\n",
            "Hit:11 https://ppa.launchpadcontent.net/graphics-drivers/ppa/ubuntu jammy InRelease\n",
            "Hit:12 https://ppa.launchpadcontent.net/ubuntugis/ppa/ubuntu jammy InRelease\n",
            "Hit:13 http://archive.ubuntu.com/ubuntu jammy-backports InRelease\n",
            "Get:14 https://r2u.stat.illinois.edu/ubuntu jammy/main all Packages [8,309 kB]\n",
            "Get:15 https://r2u.stat.illinois.edu/ubuntu jammy/main amd64 Packages [2,573 kB]\n",
            "Get:16 http://security.ubuntu.com/ubuntu jammy-security/restricted amd64 Packages [3,030 kB]\n",
            "Get:17 http://security.ubuntu.com/ubuntu jammy-security/main amd64 Packages [2,265 kB]\n",
            "Get:18 http://security.ubuntu.com/ubuntu jammy-security/universe amd64 Packages [1,150 kB]\n",
            "Get:19 http://archive.ubuntu.com/ubuntu jammy-updates/main amd64 Packages [2,541 kB]\n",
            "Get:20 http://archive.ubuntu.com/ubuntu jammy-updates/restricted amd64 Packages [3,108 kB]\n",
            "Get:21 http://archive.ubuntu.com/ubuntu jammy-updates/universe amd64 Packages [1,439 kB]\n",
            "Fetched 25.7 MB in 5s (5,150 kB/s)\n",
            "Reading package lists... Done\n",
            "Building dependency tree... Done\n",
            "Reading state information... Done\n",
            "52 packages can be upgraded. Run 'apt list --upgradable' to see them.\n",
            "\u001b[1;33mW: \u001b[0mSkipping acquire of configured file 'main/source/Sources' as repository 'https://r2u.stat.illinois.edu/ubuntu jammy InRelease' does not seem to provide it (sources.list entry misspelt?)\u001b[0m\n",
            "Collecting pyspark\n",
            "  Downloading pyspark-3.5.2.tar.gz (317.3 MB)\n",
            "\u001b[2K     \u001b[90m━━━━━━━━━━━━━━━━━━━━━━━━━━━━━━━━━━━━━━━━\u001b[0m \u001b[32m317.3/317.3 MB\u001b[0m \u001b[31m3.9 MB/s\u001b[0m eta \u001b[36m0:00:00\u001b[0m\n",
            "\u001b[?25h  Preparing metadata (setup.py) ... \u001b[?25l\u001b[?25hdone\n",
            "Requirement already satisfied: py4j==0.10.9.7 in /usr/local/lib/python3.10/dist-packages (from pyspark) (0.10.9.7)\n",
            "Building wheels for collected packages: pyspark\n",
            "  Building wheel for pyspark (setup.py) ... \u001b[?25l\u001b[?25hdone\n",
            "  Created wheel for pyspark: filename=pyspark-3.5.2-py2.py3-none-any.whl size=317812365 sha256=a701240d272ac2d6f9b2815274219ca86df685d93340245fce034d90bfa8c44a\n",
            "  Stored in directory: /root/.cache/pip/wheels/34/34/bd/03944534c44b677cd5859f248090daa9fb27b3c8f8e5f49574\n",
            "Successfully built pyspark\n",
            "Installing collected packages: pyspark\n",
            "Successfully installed pyspark-3.5.2\n",
            "Requirement already satisfied: py4j in /usr/local/lib/python3.10/dist-packages (0.10.9.7)\n"
          ]
        }
      ],
      "source": [
        "!sudo apt update\n",
        "!apt-get install openjdk-8-jdk-headless -qq > /dev/null\n",
        "# Check this site for the latest download link\n",
        "# https://www.apache.org/dyn/closer.lua/spark\n",
        "!wget -q https://dlcdn.apache.org/spark/spark-3.5.2/spark-3.5.2-bin-hadoop3.tgz\n",
        "!tar xf spark-3.5.2-bin-hadoop3.tgz\n",
        "!pip install -q findspark\n",
        "!pip install pyspark\n",
        "!pip install py4j"
      ]
    },
    {
      "cell_type": "code",
      "source": [
        "from pyspark.sql import SparkSession\n",
        "from pyspark.sql.functions import sum, col, when, to_date, year\n",
        "\n",
        "#spark = SparkSession.builder.appName(\"Movies-Activity\").getOrCreate()\n",
        "spark = SparkSession.builder \\\n",
        "    .appName(\"Movies-Activity\") \\\n",
        "    .config(\"spark.driver.bindAddress\", \"127.0.0.1\") \\\n",
        "    .config(\"spark.sql.legacy.timeParserPolicy\", \"LEGACY\") \\\n",
        "    .getOrCreate()\n",
        "\n",
        "df_movies = spark.read \\\n",
        "            .option(\"inferSchema\", \"true\") \\\n",
        "            .json(\"/datasets/movies.json\")\n",
        "\n",
        "#Replace null values\n",
        "df_movies = df_movies.na.fill({\n",
        "    \"Production_Budget\": 0,\n",
        "    \"Worldwide_Gross\": 0,\n",
        "    \"IMDB_Rating\": 5.0,\n",
        "    \"Distributor\": \"Unknown\",\n",
        "    \"Release_Date\": \"01-Jan-00\"\n",
        "})\n",
        "\n",
        "#Print Schema\n",
        "df_movies.printSchema()"
      ],
      "metadata": {
        "colab": {
          "base_uri": "https://localhost:8080/"
        },
        "id": "dfYM678X6c7S",
        "outputId": "3d91e196-7688-42f4-fd47-f38b473e4812"
      },
      "execution_count": 21,
      "outputs": [
        {
          "output_type": "stream",
          "name": "stdout",
          "text": [
            "root\n",
            " |-- Creative_Type: string (nullable = true)\n",
            " |-- Director: string (nullable = true)\n",
            " |-- Distributor: string (nullable = false)\n",
            " |-- IMDB_Rating: double (nullable = false)\n",
            " |-- IMDB_Votes: long (nullable = true)\n",
            " |-- MPAA_Rating: string (nullable = true)\n",
            " |-- Major_Genre: string (nullable = true)\n",
            " |-- Production_Budget: long (nullable = false)\n",
            " |-- Release_Date: string (nullable = false)\n",
            " |-- Rotten_Tomatoes_Rating: long (nullable = true)\n",
            " |-- Running_Time_min: long (nullable = true)\n",
            " |-- Source: string (nullable = true)\n",
            " |-- Title: string (nullable = true)\n",
            " |-- US_DVD_Sales: long (nullable = true)\n",
            " |-- US_Gross: long (nullable = true)\n",
            " |-- Worldwide_Gross: long (nullable = false)\n",
            "\n"
          ]
        }
      ]
    },
    {
      "cell_type": "code",
      "source": [
        "# 1. Calculate the Profit Margin\n",
        "def calculate_profit_margin(df):\n",
        "    return df.withColumn(\"Profit_Margin\",\n",
        "                         (df[\"Worldwide_Gross\"] - df[\"Production_Budget\"]) / df[\"Production_Budget\"])\n",
        "\n",
        "# 2. Function to determine Box Office Hit\"\n",
        "def determine_box_office_hit(df):\n",
        "    return df.withColumn(\"Box_Office_Hit\",\n",
        "                         when(df[\"Worldwide_Gross\"] > 2 * df[\"Production_Budget\"], \"Hit\")\n",
        "                         .otherwise(\"Flop\"))\n",
        "\n",
        "# 3. Function to convert the release date and extract the year\n",
        "def convert_release_date_and_extract_year(df):\n",
        "    df = df.withColumn(\"Release_Date_Formatted\", to_date(df[\"Release_Date\"], \"dd-MMM-yy\"))\n",
        "    return df.withColumn(\"Release_Year\", year(df[\"Release_Date_Formatted\"]))\n",
        "\n",
        "# 4. Function to create the IMDB rating category\n",
        "def create_imdb_rating_category(df):\n",
        "    return df.withColumn(\"IMDB_Rating_Category\",\n",
        "                         when(df[\"IMDB_Rating\"] >= 7.0, \"High\")\n",
        "                         .when((df[\"IMDB_Rating\"] >= 5.0) & (df[\"IMDB_Rating\"] < 7.0), \"Medium\")\n",
        "                         .otherwise(\"Low\"))\n",
        "\n",
        "# 5. Function to calculate the average IMDB rating by distributor\n",
        "def calculate_avg_imdb_rating_by_distributor(df):\n",
        "    return df.groupBy(\"Distributor\") \\\n",
        "             .agg({\"IMDB_Rating\": \"avg\"}) \\\n",
        "             .withColumnRenamed(\"avg(IMDB_Rating)\", \"Average_IMDB_Rating\")"
      ],
      "metadata": {
        "id": "lvYbU0SR6zL_"
      },
      "execution_count": 22,
      "outputs": []
    },
    {
      "cell_type": "code",
      "source": [
        "# Apply functions\n",
        "df_movies = calculate_profit_margin(df_movies)\n",
        "df_movies = determine_box_office_hit(df_movies)\n",
        "df_movies = convert_release_date_and_extract_year(df_movies)\n",
        "df_movies = create_imdb_rating_category(df_movies)\n",
        "\n",
        "#Calculate the average IMDB rating by distributor\n",
        "df_avg_rating_by_distributor = calculate_avg_imdb_rating_by_distributor(df_movies)\n",
        "\n",
        "# Show results\n",
        "df_movies.show()\n",
        "df_avg_rating_by_distributor.show()"
      ],
      "metadata": {
        "colab": {
          "base_uri": "https://localhost:8080/"
        },
        "id": "GVNoixat64DJ",
        "outputId": "80e9beff-1a58-4fab-a837-3b2301547085"
      },
      "execution_count": 23,
      "outputs": [
        {
          "output_type": "stream",
          "name": "stdout",
          "text": [
            "+--------------------+-----------------+--------------+-----------+----------+-----------+-----------+-----------------+------------+----------------------+----------------+-------------------+--------------------+------------+--------+---------------+-------------------+--------------+----------------------+------------+--------------------+\n",
            "|       Creative_Type|         Director|   Distributor|IMDB_Rating|IMDB_Votes|MPAA_Rating|Major_Genre|Production_Budget|Release_Date|Rotten_Tomatoes_Rating|Running_Time_min|             Source|               Title|US_DVD_Sales|US_Gross|Worldwide_Gross|      Profit_Margin|Box_Office_Hit|Release_Date_Formatted|Release_Year|IMDB_Rating_Category|\n",
            "+--------------------+-----------------+--------------+-----------+----------+-----------+-----------+-----------------+------------+----------------------+----------------+-------------------+--------------------+------------+--------+---------------+-------------------+--------------+----------------------+------------+--------------------+\n",
            "|                NULL|             NULL|      Gramercy|        6.1|      1071|          R|       NULL|          8000000|   12-Jun-98|                  NULL|            NULL|               NULL|      The Land Girls|        NULL|  146083|         146083|       -0.981739625|          Flop|            1998-06-12|        1998|              Medium|\n",
            "|                NULL|             NULL|        Strand|        6.9|       207|          R|      Drama|           300000|    7-Aug-98|                  NULL|            NULL|               NULL|First Love, Last ...|        NULL|   10876|          10876|-0.9637466666666666|          Flop|            1998-08-07|        1998|              Medium|\n",
            "|                NULL|             NULL|     Lionsgate|        6.8|       865|       NULL|     Comedy|           250000|   28-Aug-98|                  NULL|            NULL|               NULL|I Married a Stran...|        NULL|  203134|         203134|          -0.187464|          Flop|            1998-08-28|        1998|              Medium|\n",
            "|                NULL|             NULL|     Fine Line|        5.0|      NULL|       NULL|     Comedy|           300000|   11-Sep-98|                    13|            NULL|               NULL|Let's Talk About Sex|        NULL|  373615|         373615|0.24538333333333334|          Flop|            1998-09-11|        1998|              Medium|\n",
            "|Contemporary Fiction|             NULL|       Trimark|        3.4|       165|          R|      Drama|          1000000|    9-Oct-98|                    62|            NULL|Original Screenplay|                Slam|        NULL| 1009819|        1087521|           0.087521|          Flop|            1998-10-09|        1998|                 Low|\n",
            "|                NULL|             NULL|           MGM|        5.0|      NULL|       NULL|       NULL|          1600000|   15-Jan-99|                  NULL|            NULL|               NULL| Mississippi Mermaid|        NULL|   24551|        2624551|        0.640344375|          Flop|            1999-01-15|        1999|              Medium|\n",
            "|                NULL|Christopher Nolan|     Zeitgeist|        7.7|     15133|          R|       NULL|             6000|    4-Apr-99|                  NULL|            NULL|               NULL|           Following|        NULL|   44705|          44705|  6.450833333333334|           Hit|            1999-04-04|        1999|                High|\n",
            "|Contemporary Fiction|             NULL|       Artisan|        3.8|       353|          R|     Comedy|          1600000|    9-Apr-99|                  NULL|            NULL|Original Screenplay|             Foolish|        NULL| 6026908|        6026908|          2.7668175|           Hit|            1999-04-09|        1999|                 Low|\n",
            "|                NULL|   Roman Polanski|       Unknown|        5.8|      3275|          R|       NULL|         40000000|    1-Jul-86|                    25|            NULL|               NULL|             Pirates|        NULL| 1641825|        6341825|       -0.841454375|          Flop|            1986-07-01|        1986|              Medium|\n",
            "|                NULL|             NULL|       Unknown|        7.0|      2906|       NULL|       NULL|          6000000|   31-Dec-46|                    86|            NULL|               NULL|     Duel in the Sun|        NULL|20400000|       20400000|                2.4|           Hit|            1946-12-31|        1946|                High|\n",
            "|                NULL|             NULL|       Unknown|        7.0|      4035|       NULL|       NULL|          1000000|    7-Oct-63|                    81|            NULL|               NULL|           Tom Jones|        NULL|37600000|       37600000|               36.6|           Hit|            1963-10-07|        1963|                High|\n",
            "|                NULL|             NULL| Sony Pictures|        7.5|      9111|       NULL|    Musical|         10000000|   11-Dec-68|                    84|            NULL|               NULL|             Oliver!|        NULL|37402877|       37402877|          2.7402877|           Hit|            1968-12-11|        1968|                High|\n",
            "|                NULL|             NULL|     Universal|        8.4|     82786|       NULL|       NULL|          2000000|   25-Dec-62|                    97|            NULL|               NULL|To Kill A Mocking...|        NULL|13129846|       13129846|           5.564923|           Hit|            1962-12-25|        1962|                High|\n",
            "|                NULL|Richard Fleischer|       Unknown|        5.0|      NULL|       NULL|       NULL|         25000000|   23-Sep-70|                  NULL|            NULL|               NULL|    Tora, Tora, Tora|        NULL|29548291|       29548291|         0.18193164|          Flop|            1970-09-23|        1970|              Medium|\n",
            "|                NULL|             NULL|       Unknown|        6.8|      1532|       NULL|       NULL|           100000|    1-Mar-87|                    87|            NULL|               NULL|   Hollywood Shuffle|        NULL| 5228617|        5228617|           51.28617|           Hit|            1987-03-01|        1987|              Medium|\n",
            "|                NULL|             NULL|       Unknown|        5.0|      NULL|       NULL|       NULL|           100000|   17-Sep-20|                  NULL|            NULL|               NULL|Over the Hill to ...|        NULL| 3000000|        3000000|               29.0|           Hit|            2020-09-17|        2020|              Medium|\n",
            "|                NULL|             NULL|       Unknown|        7.0|       451|       NULL|       NULL|          5200000|    1-Aug-44|                  NULL|            NULL|               NULL|              Wilson|        NULL| 2000000|        2000000|-0.6153846153846154|          Flop|            2044-08-01|        2044|                High|\n",
            "|                NULL|    Blake Edwards|       Unknown|        6.1|       858|       NULL|       NULL|         22000000|    1-Jan-70|                  NULL|            NULL|               NULL|        Darling Lili|        NULL| 5000000|        5000000|-0.7727272727272727|          Flop|            1970-01-01|        1970|              Medium|\n",
            "|                NULL|             NULL|       Unknown|        2.5|      1677|       NULL|       NULL|         13500000|    5-Oct-56|                    90|            NULL|               NULL|The Ten Commandments|        NULL|80000000|       80000000|  4.925925925925926|           Hit|            1956-10-05|        1956|                 Low|\n",
            "|                NULL|     Sidney Lumet|United Artists|        8.9|    119101|       NULL|      Drama|           340000|   13-Apr-57|                  NULL|            NULL|Original Screenplay|        12 Angry Men|        NULL|       0|              0|               -1.0|          Flop|            1957-04-13|        1957|                High|\n",
            "+--------------------+-----------------+--------------+-----------+----------+-----------+-----------+-----------------+------------+----------------------+----------------+-------------------+--------------------+------------+--------+---------------+-------------------+--------------+----------------------+------------+--------------------+\n",
            "only showing top 20 rows\n",
            "\n",
            "+--------------------+-------------------+\n",
            "|         Distributor|Average_IMDB_Rating|\n",
            "+--------------------+-------------------+\n",
            "|Oscilloscope Pict...|                6.2|\n",
            "|               Savoy|  6.533333333333334|\n",
            "|             Embassy|                5.0|\n",
            "|         Fader Films|                6.5|\n",
            "|       October Films|                6.4|\n",
            "|              Strand|               6.19|\n",
            "|             Trimark|              5.075|\n",
            "|              Matson|                7.3|\n",
            "|      Cinema Service|                7.1|\n",
            "| Weinstein/Dimension| 5.7250000000000005|\n",
            "|Providence Entert...|                3.3|\n",
            "|      Big Fat Movies|                3.2|\n",
            "|     Newmarket Films| 7.4142857142857155|\n",
            "|    First Run/Icarus|                5.0|\n",
            "|  Cloud Ten Pictures|                5.0|\n",
            "|   Outrider Pictures|                7.0|\n",
            "|     Slowhand Cinema|                5.3|\n",
            "|   Paramount Vantage|  6.833333333333333|\n",
            "|   Magnolia Pictures|  6.231578947368421|\n",
            "|  Kino International| 6.0200000000000005|\n",
            "+--------------------+-------------------+\n",
            "only showing top 20 rows\n",
            "\n"
          ]
        }
      ]
    },
    {
      "cell_type": "code",
      "source": [
        "spark.stop()"
      ],
      "metadata": {
        "id": "iHFfYPXN66mO"
      },
      "execution_count": 24,
      "outputs": []
    }
  ]
}