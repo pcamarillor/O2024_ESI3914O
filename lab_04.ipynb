{
  "nbformat": 4,
  "nbformat_minor": 0,
  "metadata": {
    "colab": {
      "provenance": [],
      "authorship_tag": "ABX9TyOqgYRWm7OUv+puEqjXYSx2",
      "include_colab_link": true
    },
    "kernelspec": {
      "name": "python3",
      "display_name": "Python 3"
    },
    "language_info": {
      "name": "python"
    }
  },
  "cells": [
    {
      "cell_type": "markdown",
      "metadata": {
        "id": "view-in-github",
        "colab_type": "text"
      },
      "source": [
        "<a href=\"https://colab.research.google.com/github/pcamarillor/O2024_ESI3914O/blob/team_7_lab04/lab_04.ipynb\" target=\"_parent\"><img src=\"https://colab.research.google.com/assets/colab-badge.svg\" alt=\"Open In Colab\"/></a>"
      ]
    },
    {
      "cell_type": "code",
      "source": [
        "!sudo apt update\n",
        "!apt-get install openjdk-8-jdk-headless -qq > /dev/null\n",
        "# Check this site for the latest download link\n",
        "# https://www.apache.org/dyn/closer.lua/spark\n",
        "!wget -q https://dlcdn.apache.org/spark/spark-3.5.2/spark-3.5.2-bin-hadoop3.tgz\n",
        "!tar xf spark-3.5.2-bin-hadoop3.tgz\n",
        "!pip install -q findspark\n",
        "!pip install pyspark\n",
        "!pip install py4j"
      ],
      "metadata": {
        "colab": {
          "base_uri": "https://localhost:8080/"
        },
        "id": "48cjB8OQ7YHb",
        "outputId": "605431bf-5360-4ba3-b593-906ef400fd56"
      },
      "execution_count": 71,
      "outputs": [
        {
          "output_type": "stream",
          "name": "stdout",
          "text": [
            "\u001b[33m\r0% [Working]\u001b[0m\r            \rHit:1 https://cloud.r-project.org/bin/linux/ubuntu jammy-cran40/ InRelease\n",
            "\u001b[33m\r0% [Connecting to archive.ubuntu.com (185.125.190.81)] [Connecting to security.\u001b[0m\r                                                                               \rHit:2 https://developer.download.nvidia.com/compute/cuda/repos/ubuntu2204/x86_64  InRelease\n",
            "\u001b[33m\r0% [Waiting for headers] [Waiting for headers] [Waiting for headers] [Connected\u001b[0m\r                                                                               \rIgn:3 https://r2u.stat.illinois.edu/ubuntu jammy InRelease\n",
            "\u001b[33m\r0% [Waiting for headers] [Waiting for headers] [Connected to ppa.launchpadconte\u001b[0m\r                                                                               \rHit:4 http://archive.ubuntu.com/ubuntu jammy InRelease\n",
            "\r                                                                               \rGet:5 http://security.ubuntu.com/ubuntu jammy-security InRelease [129 kB]\n",
            "Hit:6 https://r2u.stat.illinois.edu/ubuntu jammy Release\n",
            "Hit:7 http://archive.ubuntu.com/ubuntu jammy-updates InRelease\n",
            "Hit:8 http://archive.ubuntu.com/ubuntu jammy-backports InRelease\n",
            "Hit:9 https://ppa.launchpadcontent.net/deadsnakes/ppa/ubuntu jammy InRelease\n",
            "Hit:10 https://ppa.launchpadcontent.net/graphics-drivers/ppa/ubuntu jammy InRelease\n",
            "Hit:12 https://ppa.launchpadcontent.net/ubuntugis/ppa/ubuntu jammy InRelease\n",
            "Fetched 129 kB in 1s (94.4 kB/s)\n",
            "Reading package lists... Done\n",
            "Building dependency tree... Done\n",
            "Reading state information... Done\n",
            "53 packages can be upgraded. Run 'apt list --upgradable' to see them.\n",
            "\u001b[1;33mW: \u001b[0mSkipping acquire of configured file 'main/source/Sources' as repository 'https://r2u.stat.illinois.edu/ubuntu jammy InRelease' does not seem to provide it (sources.list entry misspelt?)\u001b[0m\n",
            "Requirement already satisfied: pyspark in /usr/local/lib/python3.10/dist-packages (3.5.2)\n",
            "Requirement already satisfied: py4j==0.10.9.7 in /usr/local/lib/python3.10/dist-packages (from pyspark) (0.10.9.7)\n",
            "Requirement already satisfied: py4j in /usr/local/lib/python3.10/dist-packages (0.10.9.7)\n"
          ]
        }
      ]
    },
    {
      "cell_type": "code",
      "source": [
        "from pyspark.sql import SparkSession\n",
        "from pyspark.sql.functions import col, when, to_date, year, expr"
      ],
      "metadata": {
        "id": "uXORSyEbCxq1"
      },
      "execution_count": 72,
      "outputs": []
    },
    {
      "cell_type": "code",
      "execution_count": 73,
      "metadata": {
        "id": "eskhx_VaDOmv"
      },
      "outputs": [],
      "source": [
        "# Crear la sesión de Spark\n",
        "spark = SparkSession.builder.appName(\"Movies-Activity\").getOrCreate()"
      ]
    },
    {
      "cell_type": "code",
      "source": [
        "# Leer el archivo JSON\n",
        "df_movies = spark.read.option(\"inferSchema\", \"true\").json(\"movies.json\")"
      ],
      "metadata": {
        "id": "HvkAvkDdC3xz"
      },
      "execution_count": 74,
      "outputs": []
    },
    {
      "cell_type": "code",
      "source": [
        "# 1. Calcular margen de beneficio (Profit Margin)\n",
        "df_movies = df_movies.withColumn(\"Profit_Margin\",(col(\"Worldwide_Gross\") - col(\"Production_Budget\")) / col(\"Production_Budget\"))\n",
        "\n",
        "df_movies.select(\"Title\", \"Profit_Margin\").show()"
      ],
      "metadata": {
        "colab": {
          "base_uri": "https://localhost:8080/"
        },
        "id": "2lpQYkVo7ig7",
        "outputId": "5516cca8-900c-43be-dce9-053f1a4e3646"
      },
      "execution_count": 75,
      "outputs": [
        {
          "output_type": "stream",
          "name": "stdout",
          "text": [
            "+--------------------+-------------------+\n",
            "|               Title|      Profit_Margin|\n",
            "+--------------------+-------------------+\n",
            "|      The Land Girls|       -0.981739625|\n",
            "|First Love, Last ...|-0.9637466666666666|\n",
            "|I Married a Stran...|          -0.187464|\n",
            "|Let's Talk About Sex|0.24538333333333334|\n",
            "|                Slam|           0.087521|\n",
            "| Mississippi Mermaid|        0.640344375|\n",
            "|           Following|  6.450833333333334|\n",
            "|             Foolish|          2.7668175|\n",
            "|             Pirates|       -0.841454375|\n",
            "|     Duel in the Sun|                2.4|\n",
            "|           Tom Jones|               36.6|\n",
            "|             Oliver!|          2.7402877|\n",
            "|To Kill A Mocking...|           5.564923|\n",
            "|    Tora, Tora, Tora|         0.18193164|\n",
            "|   Hollywood Shuffle|           51.28617|\n",
            "|Over the Hill to ...|               29.0|\n",
            "|              Wilson|-0.6153846153846154|\n",
            "|        Darling Lili|-0.7727272727272727|\n",
            "|The Ten Commandments|  4.925925925925926|\n",
            "|        12 Angry Men|               -1.0|\n",
            "+--------------------+-------------------+\n",
            "only showing top 20 rows\n",
            "\n"
          ]
        }
      ]
    },
    {
      "cell_type": "code",
      "source": [
        "# 2. Determinar si es un éxito de taquilla (Box Office Hit)\n",
        "df_movies = df_movies.withColumn(\"Box_Office_Hit\",when(col(\"Worldwide_Gross\") > 2 * col(\"Production_Budget\"), \"Hit\").otherwise(\"Flop\"))\n",
        "\n",
        "df_movies.select(\"Title\", \"Box_Office_Hit\").show()"
      ],
      "metadata": {
        "colab": {
          "base_uri": "https://localhost:8080/"
        },
        "id": "y_pyWkXF7mxV",
        "outputId": "cc32bd73-381d-4b32-b92a-e860947d63cf"
      },
      "execution_count": 76,
      "outputs": [
        {
          "output_type": "stream",
          "name": "stdout",
          "text": [
            "+--------------------+--------------+\n",
            "|               Title|Box_Office_Hit|\n",
            "+--------------------+--------------+\n",
            "|      The Land Girls|          Flop|\n",
            "|First Love, Last ...|          Flop|\n",
            "|I Married a Stran...|          Flop|\n",
            "|Let's Talk About Sex|          Flop|\n",
            "|                Slam|          Flop|\n",
            "| Mississippi Mermaid|          Flop|\n",
            "|           Following|           Hit|\n",
            "|             Foolish|           Hit|\n",
            "|             Pirates|          Flop|\n",
            "|     Duel in the Sun|           Hit|\n",
            "|           Tom Jones|           Hit|\n",
            "|             Oliver!|           Hit|\n",
            "|To Kill A Mocking...|           Hit|\n",
            "|    Tora, Tora, Tora|          Flop|\n",
            "|   Hollywood Shuffle|           Hit|\n",
            "|Over the Hill to ...|           Hit|\n",
            "|              Wilson|          Flop|\n",
            "|        Darling Lili|          Flop|\n",
            "|The Ten Commandments|           Hit|\n",
            "|        12 Angry Men|          Flop|\n",
            "+--------------------+--------------+\n",
            "only showing top 20 rows\n",
            "\n"
          ]
        }
      ]
    },
    {
      "cell_type": "code",
      "source": [
        "# 3. Convertir Release Date a un formato estándar y extraer el año\n",
        "df_movies = df_movies.withColumn(\n",
        "    \"Release_Date_Formatted\",\n",
        "    when(col(\"Release_Date\").rlike(\"^\\d{2}-[A-Za-z]{3}-\\d{2}$\"), to_date(col(\"Release_Date\"), \"dd-MMM-yy\"))\n",
        "    .when(col(\"Release_Date\").rlike(\"^\\d{4}-\\d{2}-\\d{2}$\"), to_date(col(\"Release_Date\"), \"yyyy-MM-dd\"))\n",
        ")\n",
        "\n",
        "df_movies = df_movies.withColumn(\n",
        "    \"Release_Date\",\n",
        "    when(year(col(\"Release_Date_Formatted\")) > 2024, expr(\"add_months(Release_Date_Formatted, -1200)\"))  # Restar 100 años (1200 meses)\n",
        "    .otherwise(col(\"Release_Date_Formatted\"))\n",
        ")\n",
        "\n",
        "df_movies = df_movies.withColumn(\"Release_Year\", year(col(\"Release_Date\")))\n",
        "\n",
        "df_movies.select(\"Title\", \"Release_Date\", \"Release_Year\").show()"
      ],
      "metadata": {
        "colab": {
          "base_uri": "https://localhost:8080/"
        },
        "id": "VtPWZhq47ohK",
        "outputId": "6b960061-f373-455f-88ac-2f769e1c4879"
      },
      "execution_count": 77,
      "outputs": [
        {
          "output_type": "stream",
          "name": "stdout",
          "text": [
            "+--------------------+------------+------------+\n",
            "|               Title|Release_Date|Release_Year|\n",
            "+--------------------+------------+------------+\n",
            "|      The Land Girls|  1998-06-12|        1998|\n",
            "|First Love, Last ...|        NULL|        NULL|\n",
            "|I Married a Stran...|  1998-08-28|        1998|\n",
            "|Let's Talk About Sex|  1998-09-11|        1998|\n",
            "|                Slam|        NULL|        NULL|\n",
            "| Mississippi Mermaid|  1999-01-15|        1999|\n",
            "|           Following|        NULL|        NULL|\n",
            "|             Foolish|        NULL|        NULL|\n",
            "|             Pirates|        NULL|        NULL|\n",
            "|     Duel in the Sun|  1946-12-31|        1946|\n",
            "|           Tom Jones|        NULL|        NULL|\n",
            "|             Oliver!|  1968-12-11|        1968|\n",
            "|To Kill A Mocking...|  1962-12-25|        1962|\n",
            "|    Tora, Tora, Tora|  1970-09-23|        1970|\n",
            "|   Hollywood Shuffle|        NULL|        NULL|\n",
            "|Over the Hill to ...|  2020-09-17|        2020|\n",
            "|              Wilson|        NULL|        NULL|\n",
            "|        Darling Lili|        NULL|        NULL|\n",
            "|The Ten Commandments|        NULL|        NULL|\n",
            "|        12 Angry Men|  1957-04-13|        1957|\n",
            "+--------------------+------------+------------+\n",
            "only showing top 20 rows\n",
            "\n"
          ]
        }
      ]
    },
    {
      "cell_type": "code",
      "source": [
        "# 4. Categorizar calificaciones de IMDB (IMDB_Rating_Category)\n",
        "df_movies = df_movies.withColumn(\n",
        "    \"IMDB_Rating_Category\",\n",
        "    when(col(\"IMDB_Rating\") >= 7.0, \"High\")\n",
        "    .when((col(\"IMDB_Rating\") >= 5.0) & (col(\"IMDB_Rating\") < 7.0), \"Medium\")\n",
        "    .otherwise(\"Low\")\n",
        ")\n",
        "\n",
        "df_movies.select(\"Title\", \"IMDB_Rating\", \"IMDB_Rating_Category\").show()"
      ],
      "metadata": {
        "id": "6kAj2ph4Ekn1",
        "outputId": "44aa9b6d-5840-4741-8623-d999575697f4",
        "colab": {
          "base_uri": "https://localhost:8080/"
        }
      },
      "execution_count": 78,
      "outputs": [
        {
          "output_type": "stream",
          "name": "stdout",
          "text": [
            "+--------------------+-----------+--------------------+\n",
            "|               Title|IMDB_Rating|IMDB_Rating_Category|\n",
            "+--------------------+-----------+--------------------+\n",
            "|      The Land Girls|        6.1|              Medium|\n",
            "|First Love, Last ...|        6.9|              Medium|\n",
            "|I Married a Stran...|        6.8|              Medium|\n",
            "|Let's Talk About Sex|       NULL|                 Low|\n",
            "|                Slam|        3.4|                 Low|\n",
            "| Mississippi Mermaid|       NULL|                 Low|\n",
            "|           Following|        7.7|                High|\n",
            "|             Foolish|        3.8|                 Low|\n",
            "|             Pirates|        5.8|              Medium|\n",
            "|     Duel in the Sun|        7.0|                High|\n",
            "|           Tom Jones|        7.0|                High|\n",
            "|             Oliver!|        7.5|                High|\n",
            "|To Kill A Mocking...|        8.4|                High|\n",
            "|    Tora, Tora, Tora|       NULL|                 Low|\n",
            "|   Hollywood Shuffle|        6.8|              Medium|\n",
            "|Over the Hill to ...|       NULL|                 Low|\n",
            "|              Wilson|        7.0|                High|\n",
            "|        Darling Lili|        6.1|              Medium|\n",
            "|The Ten Commandments|        2.5|                 Low|\n",
            "|        12 Angry Men|        8.9|                High|\n",
            "+--------------------+-----------+--------------------+\n",
            "only showing top 20 rows\n",
            "\n"
          ]
        }
      ]
    },
    {
      "cell_type": "code",
      "source": [
        "# 5. Calcular el promedio de calificación de IMDB por distribuidor\n",
        "df_movies = df_movies.withColumn(\n",
        "    \"IMDB_Rating_Category\",\n",
        "    when(col(\"IMDB_Rating\") >= 7.0, \"High\")\n",
        "    .when((col(\"IMDB_Rating\") >= 5.0) & (col(\"IMDB_Rating\") < 7.0), \"Medium\")\n",
        "    .otherwise(\"Low\")\n",
        ")\n",
        "\n",
        "df_movies.select(\"Title\", \"IMDB_Rating\", \"IMDB_Rating_Category\").show()"
      ],
      "metadata": {
        "colab": {
          "base_uri": "https://localhost:8080/"
        },
        "id": "hw1WnReZ7qh8",
        "outputId": "719c29e6-2675-4e6c-f02b-9a57b1fc272a"
      },
      "execution_count": 79,
      "outputs": [
        {
          "output_type": "stream",
          "name": "stdout",
          "text": [
            "+--------------------+-----------+--------------------+\n",
            "|               Title|IMDB_Rating|IMDB_Rating_Category|\n",
            "+--------------------+-----------+--------------------+\n",
            "|      The Land Girls|        6.1|              Medium|\n",
            "|First Love, Last ...|        6.9|              Medium|\n",
            "|I Married a Stran...|        6.8|              Medium|\n",
            "|Let's Talk About Sex|       NULL|                 Low|\n",
            "|                Slam|        3.4|                 Low|\n",
            "| Mississippi Mermaid|       NULL|                 Low|\n",
            "|           Following|        7.7|                High|\n",
            "|             Foolish|        3.8|                 Low|\n",
            "|             Pirates|        5.8|              Medium|\n",
            "|     Duel in the Sun|        7.0|                High|\n",
            "|           Tom Jones|        7.0|                High|\n",
            "|             Oliver!|        7.5|                High|\n",
            "|To Kill A Mocking...|        8.4|                High|\n",
            "|    Tora, Tora, Tora|       NULL|                 Low|\n",
            "|   Hollywood Shuffle|        6.8|              Medium|\n",
            "|Over the Hill to ...|       NULL|                 Low|\n",
            "|              Wilson|        7.0|                High|\n",
            "|        Darling Lili|        6.1|              Medium|\n",
            "|The Ten Commandments|        2.5|                 Low|\n",
            "|        12 Angry Men|        8.9|                High|\n",
            "+--------------------+-----------+--------------------+\n",
            "only showing top 20 rows\n",
            "\n"
          ]
        }
      ]
    },
    {
      "cell_type": "code",
      "source": [
        "spark.stop()"
      ],
      "metadata": {
        "id": "TYk-j2t07azl"
      },
      "execution_count": 80,
      "outputs": []
    }
  ]
}